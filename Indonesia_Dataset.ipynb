{
 "cells": [
  {
   "cell_type": "code",
   "execution_count": 9,
   "id": "57271caf-05ca-44ca-8d22-490332d30628",
   "metadata": {},
   "outputs": [],
   "source": [
    "import pandas as pd"
   ]
  },
  {
   "cell_type": "code",
   "execution_count": 11,
   "id": "c1aa3408-78c6-4ab2-9849-adaa8341df19",
   "metadata": {},
   "outputs": [],
   "source": [
    "indo_df=pd.read_csv(\"C:/Users/jsuri/Downloads/Datasets/heart_attack_indonesia.csv\")"
   ]
  },
  {
   "cell_type": "code",
   "execution_count": 14,
   "id": "6a4b1002-10bc-480b-b047-743d19de1d82",
   "metadata": {},
   "outputs": [
    {
     "data": {
      "text/html": [
       "<div>\n",
       "<style scoped>\n",
       "    .dataframe tbody tr th:only-of-type {\n",
       "        vertical-align: middle;\n",
       "    }\n",
       "\n",
       "    .dataframe tbody tr th {\n",
       "        vertical-align: top;\n",
       "    }\n",
       "\n",
       "    .dataframe thead th {\n",
       "        text-align: right;\n",
       "    }\n",
       "</style>\n",
       "<table border=\"1\" class=\"dataframe\">\n",
       "  <thead>\n",
       "    <tr style=\"text-align: right;\">\n",
       "      <th></th>\n",
       "      <th>ID</th>\n",
       "      <th>State</th>\n",
       "      <th>Age</th>\n",
       "      <th>HeartAttack</th>\n",
       "      <th>Gender</th>\n",
       "      <th>Cholesterol</th>\n",
       "      <th>SmokingHabits</th>\n",
       "      <th>PhysicalActivity</th>\n",
       "      <th>BMI</th>\n",
       "      <th>Hypertension</th>\n",
       "      <th>...</th>\n",
       "      <th>EducationLevel</th>\n",
       "      <th>MaritalStatus</th>\n",
       "      <th>FamilyHistoryHeartDisease</th>\n",
       "      <th>IncomeLevel</th>\n",
       "      <th>HealthcareAccess</th>\n",
       "      <th>SleepHours</th>\n",
       "      <th>UrbanOrRural</th>\n",
       "      <th>AirQualityIndex</th>\n",
       "      <th>PollutionLevel</th>\n",
       "      <th>EmploymentStatus</th>\n",
       "    </tr>\n",
       "  </thead>\n",
       "  <tbody>\n",
       "    <tr>\n",
       "      <th>0</th>\n",
       "      <td>1</td>\n",
       "      <td>Pekanbaru</td>\n",
       "      <td>32</td>\n",
       "      <td>No</td>\n",
       "      <td>Male</td>\n",
       "      <td>179</td>\n",
       "      <td>Smoker</td>\n",
       "      <td>High</td>\n",
       "      <td>19.1</td>\n",
       "      <td>Yes</td>\n",
       "      <td>...</td>\n",
       "      <td>Secondary</td>\n",
       "      <td>Single</td>\n",
       "      <td>No</td>\n",
       "      <td>Middle</td>\n",
       "      <td>Good</td>\n",
       "      <td>7.9</td>\n",
       "      <td>Urban</td>\n",
       "      <td>73</td>\n",
       "      <td>High</td>\n",
       "      <td>Unemployed</td>\n",
       "    </tr>\n",
       "    <tr>\n",
       "      <th>1</th>\n",
       "      <td>2</td>\n",
       "      <td>Makassar</td>\n",
       "      <td>15</td>\n",
       "      <td>Yes</td>\n",
       "      <td>Female</td>\n",
       "      <td>201</td>\n",
       "      <td>Non-smoker</td>\n",
       "      <td>High</td>\n",
       "      <td>26.9</td>\n",
       "      <td>No</td>\n",
       "      <td>...</td>\n",
       "      <td>Secondary</td>\n",
       "      <td>Married</td>\n",
       "      <td>No</td>\n",
       "      <td>Middle</td>\n",
       "      <td>Average</td>\n",
       "      <td>8.5</td>\n",
       "      <td>Urban</td>\n",
       "      <td>266</td>\n",
       "      <td>Moderate</td>\n",
       "      <td>Unemployed</td>\n",
       "    </tr>\n",
       "    <tr>\n",
       "      <th>2</th>\n",
       "      <td>3</td>\n",
       "      <td>Surabaya</td>\n",
       "      <td>41</td>\n",
       "      <td>No</td>\n",
       "      <td>Female</td>\n",
       "      <td>167</td>\n",
       "      <td>Non-smoker</td>\n",
       "      <td>Moderate</td>\n",
       "      <td>29.6</td>\n",
       "      <td>Yes</td>\n",
       "      <td>...</td>\n",
       "      <td>Primary</td>\n",
       "      <td>Single</td>\n",
       "      <td>No</td>\n",
       "      <td>Middle</td>\n",
       "      <td>Poor</td>\n",
       "      <td>7.3</td>\n",
       "      <td>Urban</td>\n",
       "      <td>132</td>\n",
       "      <td>Moderate</td>\n",
       "      <td>Employed</td>\n",
       "    </tr>\n",
       "    <tr>\n",
       "      <th>3</th>\n",
       "      <td>4</td>\n",
       "      <td>Malang</td>\n",
       "      <td>31</td>\n",
       "      <td>No</td>\n",
       "      <td>Male</td>\n",
       "      <td>287</td>\n",
       "      <td>Smoker</td>\n",
       "      <td>Moderate</td>\n",
       "      <td>19.4</td>\n",
       "      <td>No</td>\n",
       "      <td>...</td>\n",
       "      <td>Higher</td>\n",
       "      <td>Single</td>\n",
       "      <td>Yes</td>\n",
       "      <td>Middle</td>\n",
       "      <td>Good</td>\n",
       "      <td>4.8</td>\n",
       "      <td>Rural</td>\n",
       "      <td>64</td>\n",
       "      <td>High</td>\n",
       "      <td>Unemployed</td>\n",
       "    </tr>\n",
       "    <tr>\n",
       "      <th>4</th>\n",
       "      <td>5</td>\n",
       "      <td>Bali</td>\n",
       "      <td>19</td>\n",
       "      <td>No</td>\n",
       "      <td>Male</td>\n",
       "      <td>239</td>\n",
       "      <td>Smoker</td>\n",
       "      <td>High</td>\n",
       "      <td>18.5</td>\n",
       "      <td>No</td>\n",
       "      <td>...</td>\n",
       "      <td>Secondary</td>\n",
       "      <td>Married</td>\n",
       "      <td>No</td>\n",
       "      <td>Low</td>\n",
       "      <td>Poor</td>\n",
       "      <td>6.0</td>\n",
       "      <td>Urban</td>\n",
       "      <td>155</td>\n",
       "      <td>Moderate</td>\n",
       "      <td>Unemployed</td>\n",
       "    </tr>\n",
       "    <tr>\n",
       "      <th>...</th>\n",
       "      <td>...</td>\n",
       "      <td>...</td>\n",
       "      <td>...</td>\n",
       "      <td>...</td>\n",
       "      <td>...</td>\n",
       "      <td>...</td>\n",
       "      <td>...</td>\n",
       "      <td>...</td>\n",
       "      <td>...</td>\n",
       "      <td>...</td>\n",
       "      <td>...</td>\n",
       "      <td>...</td>\n",
       "      <td>...</td>\n",
       "      <td>...</td>\n",
       "      <td>...</td>\n",
       "      <td>...</td>\n",
       "      <td>...</td>\n",
       "      <td>...</td>\n",
       "      <td>...</td>\n",
       "      <td>...</td>\n",
       "      <td>...</td>\n",
       "    </tr>\n",
       "    <tr>\n",
       "      <th>170496</th>\n",
       "      <td>170497</td>\n",
       "      <td>Semarang</td>\n",
       "      <td>23</td>\n",
       "      <td>No</td>\n",
       "      <td>Male</td>\n",
       "      <td>295</td>\n",
       "      <td>Smoker</td>\n",
       "      <td>High</td>\n",
       "      <td>33.6</td>\n",
       "      <td>No</td>\n",
       "      <td>...</td>\n",
       "      <td>Higher</td>\n",
       "      <td>Married</td>\n",
       "      <td>Yes</td>\n",
       "      <td>High</td>\n",
       "      <td>Good</td>\n",
       "      <td>7.6</td>\n",
       "      <td>Rural</td>\n",
       "      <td>52</td>\n",
       "      <td>Moderate</td>\n",
       "      <td>Employed</td>\n",
       "    </tr>\n",
       "    <tr>\n",
       "      <th>170497</th>\n",
       "      <td>170498</td>\n",
       "      <td>Malang</td>\n",
       "      <td>25</td>\n",
       "      <td>Yes</td>\n",
       "      <td>Male</td>\n",
       "      <td>172</td>\n",
       "      <td>Non-smoker</td>\n",
       "      <td>Moderate</td>\n",
       "      <td>20.1</td>\n",
       "      <td>Yes</td>\n",
       "      <td>...</td>\n",
       "      <td>Higher</td>\n",
       "      <td>Married</td>\n",
       "      <td>No</td>\n",
       "      <td>High</td>\n",
       "      <td>Poor</td>\n",
       "      <td>4.5</td>\n",
       "      <td>Rural</td>\n",
       "      <td>248</td>\n",
       "      <td>Low</td>\n",
       "      <td>Employed</td>\n",
       "    </tr>\n",
       "    <tr>\n",
       "      <th>170498</th>\n",
       "      <td>170499</td>\n",
       "      <td>Pekanbaru</td>\n",
       "      <td>64</td>\n",
       "      <td>No</td>\n",
       "      <td>Male</td>\n",
       "      <td>209</td>\n",
       "      <td>Smoker</td>\n",
       "      <td>Moderate</td>\n",
       "      <td>19.4</td>\n",
       "      <td>No</td>\n",
       "      <td>...</td>\n",
       "      <td>Primary</td>\n",
       "      <td>Married</td>\n",
       "      <td>No</td>\n",
       "      <td>Middle</td>\n",
       "      <td>Good</td>\n",
       "      <td>9.0</td>\n",
       "      <td>Rural</td>\n",
       "      <td>273</td>\n",
       "      <td>Moderate</td>\n",
       "      <td>Employed</td>\n",
       "    </tr>\n",
       "    <tr>\n",
       "      <th>170499</th>\n",
       "      <td>170500</td>\n",
       "      <td>Bandung</td>\n",
       "      <td>57</td>\n",
       "      <td>No</td>\n",
       "      <td>Male</td>\n",
       "      <td>150</td>\n",
       "      <td>Smoker</td>\n",
       "      <td>High</td>\n",
       "      <td>29.4</td>\n",
       "      <td>No</td>\n",
       "      <td>...</td>\n",
       "      <td>Primary</td>\n",
       "      <td>Single</td>\n",
       "      <td>No</td>\n",
       "      <td>Low</td>\n",
       "      <td>Average</td>\n",
       "      <td>6.4</td>\n",
       "      <td>Rural</td>\n",
       "      <td>207</td>\n",
       "      <td>Low</td>\n",
       "      <td>Employed</td>\n",
       "    </tr>\n",
       "    <tr>\n",
       "      <th>170500</th>\n",
       "      <td>170501</td>\n",
       "      <td>Malang</td>\n",
       "      <td>29</td>\n",
       "      <td>Yes</td>\n",
       "      <td>Male</td>\n",
       "      <td>230</td>\n",
       "      <td>Smoker</td>\n",
       "      <td>Moderate</td>\n",
       "      <td>27.9</td>\n",
       "      <td>No</td>\n",
       "      <td>...</td>\n",
       "      <td>Secondary</td>\n",
       "      <td>Single</td>\n",
       "      <td>No</td>\n",
       "      <td>Middle</td>\n",
       "      <td>Poor</td>\n",
       "      <td>8.7</td>\n",
       "      <td>Urban</td>\n",
       "      <td>93</td>\n",
       "      <td>Moderate</td>\n",
       "      <td>Unemployed</td>\n",
       "    </tr>\n",
       "  </tbody>\n",
       "</table>\n",
       "<p>170501 rows × 25 columns</p>\n",
       "</div>"
      ],
      "text/plain": [
       "            ID      State  Age HeartAttack  Gender  Cholesterol SmokingHabits  \\\n",
       "0            1  Pekanbaru   32          No    Male          179        Smoker   \n",
       "1            2   Makassar   15         Yes  Female          201    Non-smoker   \n",
       "2            3   Surabaya   41          No  Female          167    Non-smoker   \n",
       "3            4     Malang   31          No    Male          287        Smoker   \n",
       "4            5       Bali   19          No    Male          239        Smoker   \n",
       "...        ...        ...  ...         ...     ...          ...           ...   \n",
       "170496  170497   Semarang   23          No    Male          295        Smoker   \n",
       "170497  170498     Malang   25         Yes    Male          172    Non-smoker   \n",
       "170498  170499  Pekanbaru   64          No    Male          209        Smoker   \n",
       "170499  170500    Bandung   57          No    Male          150        Smoker   \n",
       "170500  170501     Malang   29         Yes    Male          230        Smoker   \n",
       "\n",
       "       PhysicalActivity   BMI Hypertension  ... EducationLevel MaritalStatus  \\\n",
       "0                  High  19.1          Yes  ...      Secondary        Single   \n",
       "1                  High  26.9           No  ...      Secondary       Married   \n",
       "2              Moderate  29.6          Yes  ...        Primary        Single   \n",
       "3              Moderate  19.4           No  ...         Higher        Single   \n",
       "4                  High  18.5           No  ...      Secondary       Married   \n",
       "...                 ...   ...          ...  ...            ...           ...   \n",
       "170496             High  33.6           No  ...         Higher       Married   \n",
       "170497         Moderate  20.1          Yes  ...         Higher       Married   \n",
       "170498         Moderate  19.4           No  ...        Primary       Married   \n",
       "170499             High  29.4           No  ...        Primary        Single   \n",
       "170500         Moderate  27.9           No  ...      Secondary        Single   \n",
       "\n",
       "       FamilyHistoryHeartDisease IncomeLevel HealthcareAccess SleepHours  \\\n",
       "0                             No      Middle             Good        7.9   \n",
       "1                             No      Middle          Average        8.5   \n",
       "2                             No      Middle             Poor        7.3   \n",
       "3                            Yes      Middle             Good        4.8   \n",
       "4                             No         Low             Poor        6.0   \n",
       "...                          ...         ...              ...        ...   \n",
       "170496                       Yes        High             Good        7.6   \n",
       "170497                        No        High             Poor        4.5   \n",
       "170498                        No      Middle             Good        9.0   \n",
       "170499                        No         Low          Average        6.4   \n",
       "170500                        No      Middle             Poor        8.7   \n",
       "\n",
       "       UrbanOrRural AirQualityIndex PollutionLevel EmploymentStatus  \n",
       "0             Urban              73           High       Unemployed  \n",
       "1             Urban             266       Moderate       Unemployed  \n",
       "2             Urban             132       Moderate         Employed  \n",
       "3             Rural              64           High       Unemployed  \n",
       "4             Urban             155       Moderate       Unemployed  \n",
       "...             ...             ...            ...              ...  \n",
       "170496        Rural              52       Moderate         Employed  \n",
       "170497        Rural             248            Low         Employed  \n",
       "170498        Rural             273       Moderate         Employed  \n",
       "170499        Rural             207            Low         Employed  \n",
       "170500        Urban              93       Moderate       Unemployed  \n",
       "\n",
       "[170501 rows x 25 columns]"
      ]
     },
     "execution_count": 14,
     "metadata": {},
     "output_type": "execute_result"
    }
   ],
   "source": [
    "indo_df"
   ]
  },
  {
   "cell_type": "code",
   "execution_count": 16,
   "id": "f0aedbba-e989-4e58-a822-db74b2b5989b",
   "metadata": {},
   "outputs": [
    {
     "name": "stdout",
     "output_type": "stream",
     "text": [
      "<class 'pandas.core.frame.DataFrame'>\n",
      "RangeIndex: 170501 entries, 0 to 170500\n",
      "Data columns (total 25 columns):\n",
      " #   Column                     Non-Null Count   Dtype  \n",
      "---  ------                     --------------   -----  \n",
      " 0   ID                         170501 non-null  int64  \n",
      " 1   State                      170501 non-null  object \n",
      " 2   Age                        170501 non-null  int64  \n",
      " 3   HeartAttack                170501 non-null  object \n",
      " 4   Gender                     170501 non-null  object \n",
      " 5   Cholesterol                170501 non-null  int64  \n",
      " 6   SmokingHabits              170501 non-null  object \n",
      " 7   PhysicalActivity           170501 non-null  object \n",
      " 8   BMI                        170501 non-null  float64\n",
      " 9   Hypertension               170501 non-null  object \n",
      " 10  Diabetes                   170501 non-null  object \n",
      " 11  AlcoholConsumption         113873 non-null  object \n",
      " 12  DietType                   170501 non-null  object \n",
      " 13  OccupationType             170501 non-null  object \n",
      " 14  StressLevel                170501 non-null  object \n",
      " 15  EducationLevel             170501 non-null  object \n",
      " 16  MaritalStatus              170501 non-null  object \n",
      " 17  FamilyHistoryHeartDisease  170501 non-null  object \n",
      " 18  IncomeLevel                170501 non-null  object \n",
      " 19  HealthcareAccess           170501 non-null  object \n",
      " 20  SleepHours                 170501 non-null  float64\n",
      " 21  UrbanOrRural               170501 non-null  object \n",
      " 22  AirQualityIndex            170501 non-null  int64  \n",
      " 23  PollutionLevel             170501 non-null  object \n",
      " 24  EmploymentStatus           170501 non-null  object \n",
      "dtypes: float64(2), int64(4), object(19)\n",
      "memory usage: 32.5+ MB\n"
     ]
    }
   ],
   "source": [
    "indo_df.info()"
   ]
  },
  {
   "cell_type": "code",
   "execution_count": 18,
   "id": "c041e327-3a34-4150-8a64-1a9ab44aaac5",
   "metadata": {},
   "outputs": [
    {
     "data": {
      "text/plain": [
       "State\n",
       "Pekanbaru     11563\n",
       "Medan         11560\n",
       "Semarang      11482\n",
       "Jakarta       11419\n",
       "Makassar      11410\n",
       "Denpasar      11407\n",
       "Bandung       11378\n",
       "Yogyakarta    11363\n",
       "Pontianak     11350\n",
       "Surabaya      11333\n",
       "Balikpapan    11317\n",
       "Bali          11275\n",
       "Batam         11231\n",
       "Palembang     11214\n",
       "Malang        11199\n",
       "Name: count, dtype: int64"
      ]
     },
     "execution_count": 18,
     "metadata": {},
     "output_type": "execute_result"
    }
   ],
   "source": [
    "indo_df['State'].value_counts()"
   ]
  },
  {
   "cell_type": "code",
   "execution_count": 20,
   "id": "69345416-49fd-4137-b88a-a098cde265d9",
   "metadata": {},
   "outputs": [
    {
     "data": {
      "text/plain": [
       "HeartAttack\n",
       "No     127826\n",
       "Yes     42675\n",
       "Name: count, dtype: int64"
      ]
     },
     "execution_count": 20,
     "metadata": {},
     "output_type": "execute_result"
    }
   ],
   "source": [
    "indo_df['HeartAttack'].value_counts()"
   ]
  },
  {
   "cell_type": "code",
   "execution_count": 22,
   "id": "e497c926-c844-4ef2-8a8b-1cdf503d84ae",
   "metadata": {},
   "outputs": [],
   "source": [
    "indo_df.rename(columns = {'HeartAttack':'Heart_Attack'},inplace = True)"
   ]
  },
  {
   "cell_type": "code",
   "execution_count": 24,
   "id": "d62cbebc-ff06-4f8c-82c5-eef84c166c50",
   "metadata": {},
   "outputs": [
    {
     "data": {
      "text/plain": [
       "Heart_Attack\n",
       "No     127826\n",
       "Yes     42675\n",
       "Name: count, dtype: int64"
      ]
     },
     "execution_count": 24,
     "metadata": {},
     "output_type": "execute_result"
    }
   ],
   "source": [
    "indo_df['Heart_Attack'].value_counts()"
   ]
  },
  {
   "cell_type": "code",
   "execution_count": 26,
   "id": "ac59bf83-c2ed-4a8d-89e6-79c4855067a0",
   "metadata": {},
   "outputs": [
    {
     "data": {
      "text/plain": [
       "Gender\n",
       "Female    85853\n",
       "Male      84648\n",
       "Name: count, dtype: int64"
      ]
     },
     "execution_count": 26,
     "metadata": {},
     "output_type": "execute_result"
    }
   ],
   "source": [
    "indo_df['Gender'].value_counts()"
   ]
  },
  {
   "cell_type": "code",
   "execution_count": 28,
   "id": "a17aa134-bc64-4365-b895-736a78a2fddf",
   "metadata": {},
   "outputs": [
    {
     "data": {
      "text/plain": [
       "Cholesterol\n",
       "184    1221\n",
       "221    1207\n",
       "261    1206\n",
       "161    1197\n",
       "222    1194\n",
       "       ... \n",
       "186    1066\n",
       "289    1065\n",
       "217    1065\n",
       "174    1052\n",
       "173    1051\n",
       "Name: count, Length: 150, dtype: int64"
      ]
     },
     "execution_count": 28,
     "metadata": {},
     "output_type": "execute_result"
    }
   ],
   "source": [
    "indo_df['Cholesterol'].value_counts()"
   ]
  },
  {
   "cell_type": "code",
   "execution_count": 30,
   "id": "5a5a90e9-d162-49d9-9550-eae2cdb1cf26",
   "metadata": {},
   "outputs": [],
   "source": [
    "indo_df.rename(columns = {'Cholesterol':'Cholesterol_Level'},inplace = True)"
   ]
  },
  {
   "cell_type": "code",
   "execution_count": 32,
   "id": "1828e6f0-613f-4bc8-8398-420a7b864a96",
   "metadata": {},
   "outputs": [
    {
     "data": {
      "text/plain": [
       "Cholesterol_Level\n",
       "184    1221\n",
       "221    1207\n",
       "261    1206\n",
       "161    1197\n",
       "222    1194\n",
       "       ... \n",
       "186    1066\n",
       "289    1065\n",
       "217    1065\n",
       "174    1052\n",
       "173    1051\n",
       "Name: count, Length: 150, dtype: int64"
      ]
     },
     "execution_count": 32,
     "metadata": {},
     "output_type": "execute_result"
    }
   ],
   "source": [
    "indo_df['Cholesterol_Level'].value_counts()"
   ]
  },
  {
   "cell_type": "code",
   "execution_count": 34,
   "id": "3c0e7923-dc58-4888-a139-c727aa11fd46",
   "metadata": {},
   "outputs": [],
   "source": [
    "indo_df.rename(columns = {'SmokingHabits':'Smoking_Status'},inplace = True)"
   ]
  },
  {
   "cell_type": "code",
   "execution_count": 36,
   "id": "4ea568b7-1bdd-4f1b-96cd-78977d076032",
   "metadata": {},
   "outputs": [
    {
     "data": {
      "text/plain": [
       "Smoking_Status\n",
       "Smoker        85374\n",
       "Non-smoker    85127\n",
       "Name: count, dtype: int64"
      ]
     },
     "execution_count": 36,
     "metadata": {},
     "output_type": "execute_result"
    }
   ],
   "source": [
    "indo_df['Smoking_Status'].value_counts()"
   ]
  },
  {
   "cell_type": "code",
   "execution_count": 38,
   "id": "aeb80325-524d-43dd-9a60-28ce41a81c23",
   "metadata": {},
   "outputs": [],
   "source": [
    "indo_df.rename(columns = {'PhysicalActivity':'Physical_Activity'},inplace = True)"
   ]
  },
  {
   "cell_type": "code",
   "execution_count": 40,
   "id": "cc06e0f8-9b7c-4f7e-83e3-4a2fecdf549b",
   "metadata": {},
   "outputs": [
    {
     "data": {
      "text/plain": [
       "Physical_Activity\n",
       "Moderate    57060\n",
       "High        56752\n",
       "Low         56689\n",
       "Name: count, dtype: int64"
      ]
     },
     "execution_count": 40,
     "metadata": {},
     "output_type": "execute_result"
    }
   ],
   "source": [
    "indo_df['Physical_Activity'].value_counts()"
   ]
  },
  {
   "cell_type": "code",
   "execution_count": 42,
   "id": "7d74f9e1-e56d-4ce7-bd5c-fb153991691b",
   "metadata": {},
   "outputs": [
    {
     "data": {
      "text/plain": [
       "BMI\n",
       "26.8    1093\n",
       "25.9    1089\n",
       "24.2    1087\n",
       "22.9    1086\n",
       "25.6    1085\n",
       "        ... \n",
       "28.1     944\n",
       "22.3     935\n",
       "25.8     933\n",
       "35.0     534\n",
       "18.0     514\n",
       "Name: count, Length: 171, dtype: int64"
      ]
     },
     "execution_count": 42,
     "metadata": {},
     "output_type": "execute_result"
    }
   ],
   "source": [
    "indo_df['BMI'].value_counts()"
   ]
  },
  {
   "cell_type": "code",
   "execution_count": 44,
   "id": "e2267f3f-a812-4e7d-a560-e5148da4b18e",
   "metadata": {},
   "outputs": [
    {
     "data": {
      "text/plain": [
       "Hypertension\n",
       "No     119409\n",
       "Yes     51092\n",
       "Name: count, dtype: int64"
      ]
     },
     "execution_count": 44,
     "metadata": {},
     "output_type": "execute_result"
    }
   ],
   "source": [
    "indo_df['Hypertension'].value_counts()"
   ]
  },
  {
   "cell_type": "code",
   "execution_count": 46,
   "id": "6674957a-26b5-4f9a-a9fc-f4c5b9cd2990",
   "metadata": {},
   "outputs": [
    {
     "data": {
      "text/plain": [
       "Diabetes\n",
       "No     144837\n",
       "Yes     25664\n",
       "Name: count, dtype: int64"
      ]
     },
     "execution_count": 46,
     "metadata": {},
     "output_type": "execute_result"
    }
   ],
   "source": [
    "indo_df['Diabetes'].value_counts()"
   ]
  },
  {
   "cell_type": "code",
   "execution_count": 50,
   "id": "8bd2ac25-753b-4145-bea2-e62d6084268f",
   "metadata": {},
   "outputs": [
    {
     "data": {
      "text/plain": [
       "AlcoholConsumption\n",
       "Often     57170\n",
       "Rarely    56703\n",
       "Name: count, dtype: int64"
      ]
     },
     "execution_count": 50,
     "metadata": {},
     "output_type": "execute_result"
    }
   ],
   "source": [
    "indo_df['AlcoholConsumption'].value_counts()"
   ]
  },
  {
   "cell_type": "code",
   "execution_count": 52,
   "id": "d2b2f29e-4658-4cc6-b6bf-3bbc1c792ec1",
   "metadata": {},
   "outputs": [
    {
     "data": {
      "text/plain": [
       "56628"
      ]
     },
     "execution_count": 52,
     "metadata": {},
     "output_type": "execute_result"
    }
   ],
   "source": [
    "indo_df['AlcoholConsumption'].isnull().sum()"
   ]
  },
  {
   "cell_type": "code",
   "execution_count": 56,
   "id": "98243880-ebc0-41fd-9467-210d9f11986f",
   "metadata": {},
   "outputs": [],
   "source": [
    "import numpy as np\n",
    "\n",
    "# Step 1: Count existing values\n",
    "often_count = (indo_df['AlcoholConsumption'] == 'Often').sum()\n",
    "rarely_count = (indo_df['AlcoholConsumption'] == 'Rarely').sum()\n",
    "total_count = often_count + rarely_count  # Total non-null value"
   ]
  },
  {
   "cell_type": "code",
   "execution_count": 73,
   "id": "c3167a26-2ffb-4578-a8f6-8458d45c9dc6",
   "metadata": {},
   "outputs": [],
   "source": [
    "# Step 2: Compute proportions (avoid division by zero)\n",
    "if total_count > 0:\n",
    "    often_ratio = often_count / total_count\n",
    "    rarely_ratio = rarely_count / total_count\n",
    "\n",
    "    # Step 3: Fill NaN values proportionally\n",
    "    np.random.seed(42)  # Ensuring reproducibility\n",
    "    indo_df.loc[indo_df['AlcoholConsumption'].isnull(), 'AlcoholConsumption'] = np.random.choice(\n",
    "        ['Often', 'Rarely'],\n",
    "        size=indo_df['AlcoholConsumption'].isnull().sum(),\n",
    "        p=[often_ratio, rarely_ratio]  # Assign probabilities based on existing distribution\n",
    "    )\n",
    "else:\n",
    "    print(\"Warning: No valid values found in 'AlcoholConsumption' before filling NaNs!\")"
   ]
  },
  {
   "cell_type": "code",
   "execution_count": 77,
   "id": "106327ef-9b9c-4f2a-8421-36df9e96d2fd",
   "metadata": {},
   "outputs": [
    {
     "data": {
      "text/plain": [
       "170501"
      ]
     },
     "execution_count": 77,
     "metadata": {},
     "output_type": "execute_result"
    }
   ],
   "source": [
    "indo_df['AlcoholConsumption'].value_counts().sum()"
   ]
  },
  {
   "cell_type": "code",
   "execution_count": 79,
   "id": "5b87b0de-6482-4dc8-ba40-29e0255bf904",
   "metadata": {},
   "outputs": [],
   "source": [
    "indo_df.rename(columns = {'AlcoholConsumption':'Alcohol_Consumption'},inplace = True)"
   ]
  },
  {
   "cell_type": "code",
   "execution_count": 81,
   "id": "956e5e10-8733-4b00-a0a7-7298e4c34133",
   "metadata": {},
   "outputs": [
    {
     "data": {
      "text/plain": [
       "Alcohol_Consumption\n",
       "Often     85588\n",
       "Rarely    84913\n",
       "Name: count, dtype: int64"
      ]
     },
     "execution_count": 81,
     "metadata": {},
     "output_type": "execute_result"
    }
   ],
   "source": [
    "indo_df['Alcohol_Consumption'].value_counts()"
   ]
  },
  {
   "cell_type": "code",
   "execution_count": 83,
   "id": "094c670f-c8e0-4a9c-82e1-c1a91d3620e0",
   "metadata": {},
   "outputs": [
    {
     "name": "stdout",
     "output_type": "stream",
     "text": [
      "object\n"
     ]
    }
   ],
   "source": [
    "print(indo_df['Alcohol_Consumption'].dtype)"
   ]
  },
  {
   "cell_type": "code",
   "execution_count": 87,
   "id": "4ee20966-8339-4434-9657-6507b89d96ab",
   "metadata": {},
   "outputs": [],
   "source": [
    "# Replace 'Rarely' with 'Good' and 'Often' with 'Moderate'\n",
    "indo_df['Alcohol_Consumption'] = indo_df['Alcohol_Consumption'].replace({'Rarely': 'Good', 'Often': 'Moderate'})\n"
   ]
  },
  {
   "cell_type": "code",
   "execution_count": 89,
   "id": "f866b3e0-3bca-4a10-b342-68b8a1848a27",
   "metadata": {},
   "outputs": [
    {
     "data": {
      "text/plain": [
       "Alcohol_Consumption\n",
       "Moderate    85588\n",
       "Good        84913\n",
       "Name: count, dtype: int64"
      ]
     },
     "execution_count": 89,
     "metadata": {},
     "output_type": "execute_result"
    }
   ],
   "source": [
    "indo_df['Alcohol_Consumption'].value_counts()"
   ]
  },
  {
   "cell_type": "code",
   "execution_count": 91,
   "id": "d4f3bbda-08d9-4b0c-bf8a-6185075a624a",
   "metadata": {},
   "outputs": [
    {
     "name": "stdout",
     "output_type": "stream",
     "text": [
      "<class 'pandas.core.frame.DataFrame'>\n",
      "RangeIndex: 170501 entries, 0 to 170500\n",
      "Data columns (total 25 columns):\n",
      " #   Column                     Non-Null Count   Dtype  \n",
      "---  ------                     --------------   -----  \n",
      " 0   ID                         170501 non-null  int64  \n",
      " 1   State                      170501 non-null  object \n",
      " 2   Age                        170501 non-null  int64  \n",
      " 3   Heart_Attack               170501 non-null  object \n",
      " 4   Gender                     170501 non-null  object \n",
      " 5   Cholesterol_Level          170501 non-null  int64  \n",
      " 6   Smoking_Status             170501 non-null  object \n",
      " 7   Physical_Activity          170501 non-null  object \n",
      " 8   BMI                        170501 non-null  float64\n",
      " 9   Hypertension               170501 non-null  object \n",
      " 10  Diabetes                   170501 non-null  object \n",
      " 11  Alcohol_Consumption        170501 non-null  object \n",
      " 12  DietType                   170501 non-null  object \n",
      " 13  OccupationType             170501 non-null  object \n",
      " 14  StressLevel                170501 non-null  object \n",
      " 15  EducationLevel             170501 non-null  object \n",
      " 16  MaritalStatus              170501 non-null  object \n",
      " 17  FamilyHistoryHeartDisease  170501 non-null  object \n",
      " 18  IncomeLevel                170501 non-null  object \n",
      " 19  HealthcareAccess           170501 non-null  object \n",
      " 20  SleepHours                 170501 non-null  float64\n",
      " 21  UrbanOrRural               170501 non-null  object \n",
      " 22  AirQualityIndex            170501 non-null  int64  \n",
      " 23  PollutionLevel             170501 non-null  object \n",
      " 24  EmploymentStatus           170501 non-null  object \n",
      "dtypes: float64(2), int64(4), object(19)\n",
      "memory usage: 32.5+ MB\n"
     ]
    }
   ],
   "source": [
    "indo_df.info()"
   ]
  },
  {
   "cell_type": "code",
   "execution_count": 93,
   "id": "a26bc446-16dc-491c-9481-e83ae5f8897c",
   "metadata": {},
   "outputs": [
    {
     "data": {
      "text/plain": [
       "DietType\n",
       "Balanced     85549\n",
       "Unhealthy    84952\n",
       "Name: count, dtype: int64"
      ]
     },
     "execution_count": 93,
     "metadata": {},
     "output_type": "execute_result"
    }
   ],
   "source": [
    "indo_df['DietType'].value_counts()"
   ]
  },
  {
   "cell_type": "code",
   "execution_count": 95,
   "id": "bd3053c5-c139-49aa-a1be-d2908348d589",
   "metadata": {},
   "outputs": [],
   "source": [
    "indo_df.rename(columns = {'DietType':'Diet_Quality'},inplace = True)"
   ]
  },
  {
   "cell_type": "code",
   "execution_count": 97,
   "id": "08559bec-1e50-49ea-95ac-0b42a931dada",
   "metadata": {},
   "outputs": [
    {
     "data": {
      "text/plain": [
       "Diet_Quality\n",
       "Balanced     85549\n",
       "Unhealthy    84952\n",
       "Name: count, dtype: int64"
      ]
     },
     "execution_count": 97,
     "metadata": {},
     "output_type": "execute_result"
    }
   ],
   "source": [
    "indo_df['Diet_Quality'].value_counts()"
   ]
  },
  {
   "cell_type": "code",
   "execution_count": 99,
   "id": "d44d74b4-1c01-4895-92ac-c431dd3b84bf",
   "metadata": {},
   "outputs": [
    {
     "data": {
      "text/plain": [
       "OccupationType\n",
       "Active       85462\n",
       "Sedentary    85039\n",
       "Name: count, dtype: int64"
      ]
     },
     "execution_count": 99,
     "metadata": {},
     "output_type": "execute_result"
    }
   ],
   "source": [
    "indo_df['OccupationType'].value_counts()"
   ]
  },
  {
   "cell_type": "code",
   "execution_count": 101,
   "id": "8a8cd0e4-cdc7-4ec2-9c6c-ed78262cfbaa",
   "metadata": {},
   "outputs": [],
   "source": [
    "indo_df.rename(columns = {'OccupationType':'Occupation_Type'},inplace = True)"
   ]
  },
  {
   "cell_type": "code",
   "execution_count": 103,
   "id": "bba7793e-105a-43d6-8e34-7432c8dc7216",
   "metadata": {},
   "outputs": [
    {
     "data": {
      "text/plain": [
       "Occupation_Type\n",
       "Active       85462\n",
       "Sedentary    85039\n",
       "Name: count, dtype: int64"
      ]
     },
     "execution_count": 103,
     "metadata": {},
     "output_type": "execute_result"
    }
   ],
   "source": [
    "indo_df['Occupation_Type'].value_counts()"
   ]
  },
  {
   "cell_type": "code",
   "execution_count": 105,
   "id": "3ae3b8e5-3fc4-4b4e-8d8e-d4bc7dead474",
   "metadata": {},
   "outputs": [
    {
     "data": {
      "text/plain": [
       "StressLevel\n",
       "Moderate    57223\n",
       "High        56769\n",
       "Low         56509\n",
       "Name: count, dtype: int64"
      ]
     },
     "execution_count": 105,
     "metadata": {},
     "output_type": "execute_result"
    }
   ],
   "source": [
    "indo_df['StressLevel'].value_counts()"
   ]
  },
  {
   "cell_type": "code",
   "execution_count": 107,
   "id": "91d1003e-851a-4428-a182-985032d94e85",
   "metadata": {},
   "outputs": [],
   "source": [
    "indo_df.rename(columns = {'StressLevel':'Stress_Level'},inplace = True)"
   ]
  },
  {
   "cell_type": "code",
   "execution_count": 109,
   "id": "e81202f8-ee4d-4ea6-8375-fb7fa837a6d9",
   "metadata": {},
   "outputs": [
    {
     "data": {
      "text/plain": [
       "Stress_Level\n",
       "Moderate    57223\n",
       "High        56769\n",
       "Low         56509\n",
       "Name: count, dtype: int64"
      ]
     },
     "execution_count": 109,
     "metadata": {},
     "output_type": "execute_result"
    }
   ],
   "source": [
    "indo_df['Stress_Level'].value_counts()"
   ]
  },
  {
   "cell_type": "code",
   "execution_count": 111,
   "id": "5685b886-3139-4a28-ab14-72ab5fff50b1",
   "metadata": {},
   "outputs": [
    {
     "data": {
      "text/plain": [
       "EducationLevel\n",
       "Secondary    57083\n",
       "Higher       56904\n",
       "Primary      56514\n",
       "Name: count, dtype: int64"
      ]
     },
     "execution_count": 111,
     "metadata": {},
     "output_type": "execute_result"
    }
   ],
   "source": [
    "indo_df['EducationLevel'].value_counts()"
   ]
  },
  {
   "cell_type": "code",
   "execution_count": 113,
   "id": "30164b2d-7d18-421b-9360-6bc4f4574cb0",
   "metadata": {},
   "outputs": [],
   "source": [
    "indo_df.rename(columns = {'EducationLevel':'Education_Level'},inplace = True)"
   ]
  },
  {
   "cell_type": "code",
   "execution_count": 115,
   "id": "3a7a1e21-d16b-47b0-9626-9ac9f2096a32",
   "metadata": {},
   "outputs": [
    {
     "data": {
      "text/plain": [
       "Education_Level\n",
       "Secondary    57083\n",
       "Higher       56904\n",
       "Primary      56514\n",
       "Name: count, dtype: int64"
      ]
     },
     "execution_count": 115,
     "metadata": {},
     "output_type": "execute_result"
    }
   ],
   "source": [
    "indo_df['Education_Level'].value_counts()\n"
   ]
  },
  {
   "cell_type": "code",
   "execution_count": 117,
   "id": "61155aa5-4842-4649-8b1f-f6aa2a3bc372",
   "metadata": {},
   "outputs": [
    {
     "data": {
      "text/plain": [
       "MaritalStatus\n",
       "Married    85367\n",
       "Single     85134\n",
       "Name: count, dtype: int64"
      ]
     },
     "execution_count": 117,
     "metadata": {},
     "output_type": "execute_result"
    }
   ],
   "source": [
    "indo_df['MaritalStatus'].value_counts()"
   ]
  },
  {
   "cell_type": "code",
   "execution_count": 119,
   "id": "ad973cc4-c839-4364-b0af-8e7cd3d1f744",
   "metadata": {},
   "outputs": [],
   "source": [
    "indo_df.rename(columns = {'MaritalStatus':'Marital_Status'},inplace = True)"
   ]
  },
  {
   "cell_type": "code",
   "execution_count": 121,
   "id": "62b81fad-9969-45ce-bb53-ac02c81e9ba5",
   "metadata": {},
   "outputs": [
    {
     "data": {
      "text/plain": [
       "Marital_Status\n",
       "Married    85367\n",
       "Single     85134\n",
       "Name: count, dtype: int64"
      ]
     },
     "execution_count": 121,
     "metadata": {},
     "output_type": "execute_result"
    }
   ],
   "source": [
    "indo_df['Marital_Status'].value_counts()"
   ]
  },
  {
   "cell_type": "code",
   "execution_count": 123,
   "id": "1957929e-22e3-49d4-89f8-8716e72638e7",
   "metadata": {},
   "outputs": [],
   "source": [
    "indo_df.rename(columns = {'State':'Region_Category'},inplace = True)"
   ]
  },
  {
   "cell_type": "code",
   "execution_count": 127,
   "id": "7c285c9f-3d6b-45dd-b19c-468132f41b15",
   "metadata": {},
   "outputs": [
    {
     "data": {
      "text/plain": [
       "Region_Category\n",
       "Pekanbaru     11563\n",
       "Medan         11560\n",
       "Semarang      11482\n",
       "Jakarta       11419\n",
       "Makassar      11410\n",
       "Denpasar      11407\n",
       "Bandung       11378\n",
       "Yogyakarta    11363\n",
       "Pontianak     11350\n",
       "Surabaya      11333\n",
       "Balikpapan    11317\n",
       "Bali          11275\n",
       "Batam         11231\n",
       "Palembang     11214\n",
       "Malang        11199\n",
       "Name: count, dtype: int64"
      ]
     },
     "execution_count": 127,
     "metadata": {},
     "output_type": "execute_result"
    }
   ],
   "source": [
    "indo_df['Region_Category'].value_counts()"
   ]
  },
  {
   "cell_type": "code",
   "execution_count": 129,
   "id": "f81006c4-b622-4e9a-995a-5ad70c0b5d21",
   "metadata": {},
   "outputs": [],
   "source": [
    "indo_df.rename(columns = {'FamilyHistoryHeartDisease':'Family_History'},inplace = True)"
   ]
  },
  {
   "cell_type": "code",
   "execution_count": 131,
   "id": "df6c0a8e-1136-4d34-baa4-5c5de7d2f41a",
   "metadata": {},
   "outputs": [
    {
     "data": {
      "text/plain": [
       "Family_History\n",
       "No     102208\n",
       "Yes     68293\n",
       "Name: count, dtype: int64"
      ]
     },
     "execution_count": 131,
     "metadata": {},
     "output_type": "execute_result"
    }
   ],
   "source": [
    "indo_df['Family_History'].value_counts()"
   ]
  },
  {
   "cell_type": "code",
   "execution_count": 133,
   "id": "e99f5478-ba51-4039-888f-e9e685e1e7c8",
   "metadata": {},
   "outputs": [],
   "source": [
    "indo_df.rename(columns = {'IncomeLevel':'Income_Level'},inplace = True)"
   ]
  },
  {
   "cell_type": "code",
   "execution_count": 135,
   "id": "f131d26c-944a-4377-8a4c-11684ad2cbca",
   "metadata": {},
   "outputs": [
    {
     "data": {
      "text/plain": [
       "Income_Level\n",
       "High      56929\n",
       "Middle    56815\n",
       "Low       56757\n",
       "Name: count, dtype: int64"
      ]
     },
     "execution_count": 135,
     "metadata": {},
     "output_type": "execute_result"
    }
   ],
   "source": [
    "indo_df['Income_Level'].value_counts()"
   ]
  },
  {
   "cell_type": "code",
   "execution_count": 139,
   "id": "b8396353-4ab5-473e-9eb1-19b16f6f2422",
   "metadata": {},
   "outputs": [
    {
     "data": {
      "text/plain": [
       "HealthcareAccess\n",
       "Average    57020\n",
       "Good       56997\n",
       "Poor       56484\n",
       "Name: count, dtype: int64"
      ]
     },
     "execution_count": 139,
     "metadata": {},
     "output_type": "execute_result"
    }
   ],
   "source": [
    "indo_df['HealthcareAccess'].value_counts()"
   ]
  },
  {
   "cell_type": "code",
   "execution_count": 141,
   "id": "078feca1-2d64-4eeb-b49a-5c75b8650f7c",
   "metadata": {},
   "outputs": [],
   "source": [
    "indo_df.rename(columns = {'HealthcareAccess':'Healthcare_Access'},inplace = True)"
   ]
  },
  {
   "cell_type": "code",
   "execution_count": 143,
   "id": "25135569-790a-40f8-be5d-eb685e3ab75f",
   "metadata": {},
   "outputs": [
    {
     "data": {
      "text/plain": [
       "Healthcare_Access\n",
       "Average    57020\n",
       "Good       56997\n",
       "Poor       56484\n",
       "Name: count, dtype: int64"
      ]
     },
     "execution_count": 143,
     "metadata": {},
     "output_type": "execute_result"
    }
   ],
   "source": [
    "indo_df['Healthcare_Access'].value_counts()"
   ]
  },
  {
   "cell_type": "code",
   "execution_count": 145,
   "id": "305d9367-5165-4ede-bf9b-d6fa2f0ba316",
   "metadata": {},
   "outputs": [
    {
     "name": "stdout",
     "output_type": "stream",
     "text": [
      "<class 'pandas.core.frame.DataFrame'>\n",
      "RangeIndex: 170501 entries, 0 to 170500\n",
      "Data columns (total 25 columns):\n",
      " #   Column               Non-Null Count   Dtype  \n",
      "---  ------               --------------   -----  \n",
      " 0   ID                   170501 non-null  int64  \n",
      " 1   Region_Category      170501 non-null  object \n",
      " 2   Age                  170501 non-null  int64  \n",
      " 3   Heart_Attack         170501 non-null  object \n",
      " 4   Gender               170501 non-null  object \n",
      " 5   Cholesterol_Level    170501 non-null  int64  \n",
      " 6   Smoking_Status       170501 non-null  object \n",
      " 7   Physical_Activity    170501 non-null  object \n",
      " 8   BMI                  170501 non-null  float64\n",
      " 9   Hypertension         170501 non-null  object \n",
      " 10  Diabetes             170501 non-null  object \n",
      " 11  Alcohol_Consumption  170501 non-null  object \n",
      " 12  Diet_Quality         170501 non-null  object \n",
      " 13  Occupation_Type      170501 non-null  object \n",
      " 14  Stress_Level         170501 non-null  object \n",
      " 15  Education_Level      170501 non-null  object \n",
      " 16  Marital_Status       170501 non-null  object \n",
      " 17  Family_History       170501 non-null  object \n",
      " 18  Income_Level         170501 non-null  object \n",
      " 19  Healthcare_Access    170501 non-null  object \n",
      " 20  SleepHours           170501 non-null  float64\n",
      " 21  UrbanOrRural         170501 non-null  object \n",
      " 22  AirQualityIndex      170501 non-null  int64  \n",
      " 23  PollutionLevel       170501 non-null  object \n",
      " 24  EmploymentStatus     170501 non-null  object \n",
      "dtypes: float64(2), int64(4), object(19)\n",
      "memory usage: 32.5+ MB\n"
     ]
    }
   ],
   "source": [
    "indo_df.info()"
   ]
  },
  {
   "cell_type": "code",
   "execution_count": 147,
   "id": "be14e9a8-9801-4b1c-8156-a9ab9b9f4b38",
   "metadata": {},
   "outputs": [],
   "source": [
    "indo_df.rename(columns = {'SleepHours':'Sleep_Hours'},inplace = True)"
   ]
  },
  {
   "cell_type": "code",
   "execution_count": 151,
   "id": "41d337b9-7433-40cb-b9d3-1e92c23d15f0",
   "metadata": {},
   "outputs": [
    {
     "data": {
      "text/plain": [
       "170501"
      ]
     },
     "execution_count": 151,
     "metadata": {},
     "output_type": "execute_result"
    }
   ],
   "source": [
    "indo_df['Sleep_Hours'].value_counts().sum()"
   ]
  },
  {
   "cell_type": "code",
   "execution_count": 155,
   "id": "7bf17b10-d5be-4e08-805c-6cd3c40214e8",
   "metadata": {},
   "outputs": [
    {
     "data": {
      "text/plain": [
       "UrbanOrRural\n",
       "Urban    85467\n",
       "Rural    85034\n",
       "Name: count, dtype: int64"
      ]
     },
     "execution_count": 155,
     "metadata": {},
     "output_type": "execute_result"
    }
   ],
   "source": [
    "indo_df['UrbanOrRural'].value_counts()"
   ]
  },
  {
   "cell_type": "code",
   "execution_count": 157,
   "id": "e46b3aab-aa16-4783-8079-3aa54edc2663",
   "metadata": {},
   "outputs": [],
   "source": [
    "indo_df.rename(columns = {'UrbanOrRural':'Location_Type'},inplace = True)"
   ]
  },
  {
   "cell_type": "code",
   "execution_count": 159,
   "id": "6d61864d-1d21-43fc-8b8a-09870e750afc",
   "metadata": {},
   "outputs": [
    {
     "data": {
      "text/plain": [
       "Location_Type\n",
       "Urban    85467\n",
       "Rural    85034\n",
       "Name: count, dtype: int64"
      ]
     },
     "execution_count": 159,
     "metadata": {},
     "output_type": "execute_result"
    }
   ],
   "source": [
    "indo_df['Location_Type'].value_counts()"
   ]
  },
  {
   "cell_type": "code",
   "execution_count": 161,
   "id": "1d63969e-4f37-4297-9e3d-5ebecf69b573",
   "metadata": {},
   "outputs": [
    {
     "data": {
      "text/plain": [
       "AirQualityIndex\n",
       "293    771\n",
       "230    758\n",
       "174    748\n",
       "110    742\n",
       "91     740\n",
       "      ... \n",
       "152    621\n",
       "117    621\n",
       "90     610\n",
       "137    610\n",
       "192    607\n",
       "Name: count, Length: 250, dtype: int64"
      ]
     },
     "execution_count": 161,
     "metadata": {},
     "output_type": "execute_result"
    }
   ],
   "source": [
    "indo_df['AirQualityIndex'].value_counts()"
   ]
  },
  {
   "cell_type": "code",
   "execution_count": 163,
   "id": "d4109a28-b8d5-4271-8921-1a2fc6feeccd",
   "metadata": {},
   "outputs": [],
   "source": [
    "# Define function to categorize AQI values\n",
    "def categorize_air_quality(aqi):\n",
    "    if aqi <= 50:\n",
    "        return \"Good\"\n",
    "    elif aqi <= 100:\n",
    "        return \"Moderate\"\n",
    "    elif aqi <= 150:\n",
    "        return \"Unhealthy for Sensitive Groups\"\n",
    "    elif aqi <= 200:\n",
    "        return \"Unhealthy\"\n",
    "    elif aqi <= 300:\n",
    "        return \"Very Unhealthy\"\n",
    "    else:\n",
    "        return \"Hazardous\""
   ]
  },
  {
   "cell_type": "code",
   "execution_count": 165,
   "id": "d402762b-3a98-4df9-8217-0e8391233bf0",
   "metadata": {},
   "outputs": [],
   "source": [
    "indo_df[\"AirQualityIndex\"] = indo_df[\"AirQualityIndex\"].apply(categorize_air_quality)\n"
   ]
  },
  {
   "cell_type": "code",
   "execution_count": 167,
   "id": "9083ed98-9015-4c1a-b7ae-0941df5cec11",
   "metadata": {},
   "outputs": [],
   "source": [
    "indo_df[\"AirQualityIndex\"] = indo_df[\"AirQualityIndex\"].astype(\"object\")"
   ]
  },
  {
   "cell_type": "code",
   "execution_count": 169,
   "id": "382f0811-ee03-4a92-a5c0-35f4acd61510",
   "metadata": {},
   "outputs": [
    {
     "data": {
      "text/plain": [
       "AirQualityIndex\n",
       "Very Unhealthy                    67783\n",
       "Unhealthy                         34140\n",
       "Unhealthy for Sensitive Groups    34136\n",
       "Moderate                          33762\n",
       "Good                                680\n",
       "Name: count, dtype: int64"
      ]
     },
     "execution_count": 169,
     "metadata": {},
     "output_type": "execute_result"
    }
   ],
   "source": [
    "indo_df[\"AirQualityIndex\"].value_counts()"
   ]
  },
  {
   "cell_type": "code",
   "execution_count": 171,
   "id": "fc03ad1c-694e-4eba-a7a8-95d506785d11",
   "metadata": {},
   "outputs": [
    {
     "name": "stdout",
     "output_type": "stream",
     "text": [
      "object\n"
     ]
    }
   ],
   "source": [
    "print(indo_df[\"AirQualityIndex\"].dtype)"
   ]
  },
  {
   "cell_type": "code",
   "execution_count": 173,
   "id": "33157d77-7222-48c0-9f93-32c74957ee3d",
   "metadata": {},
   "outputs": [],
   "source": [
    "indo_df.rename(columns = {'AirQualityIndex':'Air_Quality_Index'},inplace = True)"
   ]
  },
  {
   "cell_type": "code",
   "execution_count": 179,
   "id": "b40b966c-8fa5-4ede-9809-09cab8c66b5c",
   "metadata": {},
   "outputs": [
    {
     "data": {
      "text/plain": [
       "Air_Quality_Index\n",
       "Very Unhealthy                    67783\n",
       "Unhealthy                         34140\n",
       "Unhealthy for Sensitive Groups    34136\n",
       "Moderate                          33762\n",
       "Good                                680\n",
       "Name: count, dtype: int64"
      ]
     },
     "execution_count": 179,
     "metadata": {},
     "output_type": "execute_result"
    }
   ],
   "source": [
    "indo_df['Air_Quality_Index'].value_counts()"
   ]
  },
  {
   "cell_type": "code",
   "execution_count": 181,
   "id": "6ab27b3b-4877-4dc6-81eb-adf7275aff61",
   "metadata": {},
   "outputs": [
    {
     "data": {
      "text/plain": [
       "PollutionLevel\n",
       "High        56984\n",
       "Low         56768\n",
       "Moderate    56749\n",
       "Name: count, dtype: int64"
      ]
     },
     "execution_count": 181,
     "metadata": {},
     "output_type": "execute_result"
    }
   ],
   "source": [
    "indo_df['PollutionLevel'].value_counts()"
   ]
  },
  {
   "cell_type": "code",
   "execution_count": 187,
   "id": "ae10c056-1dba-4299-848f-82ce5252468c",
   "metadata": {},
   "outputs": [],
   "source": [
    "indo_df.rename(columns = {'PollutionLevel':'Pollution_Level'},inplace = True)"
   ]
  },
  {
   "cell_type": "code",
   "execution_count": 189,
   "id": "73245b7c-b4fd-4f4c-b829-488398ef380f",
   "metadata": {},
   "outputs": [
    {
     "data": {
      "text/plain": [
       "Pollution_Level\n",
       "High        56984\n",
       "Low         56768\n",
       "Moderate    56749\n",
       "Name: count, dtype: int64"
      ]
     },
     "execution_count": 189,
     "metadata": {},
     "output_type": "execute_result"
    }
   ],
   "source": [
    "indo_df['Pollution_Level'].value_counts()"
   ]
  },
  {
   "cell_type": "code",
   "execution_count": 191,
   "id": "17748d38-2512-4d6e-8823-4cb8a5c37423",
   "metadata": {},
   "outputs": [],
   "source": [
    "indo_df.rename(columns = {'EmploymentStatus':'Employment_Status'},inplace = True)"
   ]
  },
  {
   "cell_type": "code",
   "execution_count": 193,
   "id": "0e4ffbb9-5e8a-4b80-b7be-19a9f6c7730c",
   "metadata": {},
   "outputs": [
    {
     "data": {
      "text/plain": [
       "Employment_Status\n",
       "Unemployed    85542\n",
       "Employed      84959\n",
       "Name: count, dtype: int64"
      ]
     },
     "execution_count": 193,
     "metadata": {},
     "output_type": "execute_result"
    }
   ],
   "source": [
    "\n",
    "indo_df['Employment_Status'].value_counts()"
   ]
  },
  {
   "cell_type": "code",
   "execution_count": 195,
   "id": "ebdf15f1-9b0b-4f0e-a582-20b86c958171",
   "metadata": {},
   "outputs": [
    {
     "name": "stdout",
     "output_type": "stream",
     "text": [
      "<class 'pandas.core.frame.DataFrame'>\n",
      "RangeIndex: 170501 entries, 0 to 170500\n",
      "Data columns (total 25 columns):\n",
      " #   Column               Non-Null Count   Dtype  \n",
      "---  ------               --------------   -----  \n",
      " 0   ID                   170501 non-null  int64  \n",
      " 1   Region_Category      170501 non-null  object \n",
      " 2   Age                  170501 non-null  int64  \n",
      " 3   Heart_Attack         170501 non-null  object \n",
      " 4   Gender               170501 non-null  object \n",
      " 5   Cholesterol_Level    170501 non-null  int64  \n",
      " 6   Smoking_Status       170501 non-null  object \n",
      " 7   Physical_Activity    170501 non-null  object \n",
      " 8   BMI                  170501 non-null  float64\n",
      " 9   Hypertension         170501 non-null  object \n",
      " 10  Diabetes             170501 non-null  object \n",
      " 11  Alcohol_Consumption  170501 non-null  object \n",
      " 12  Diet_Quality         170501 non-null  object \n",
      " 13  Occupation_Type      170501 non-null  object \n",
      " 14  Stress_Level         170501 non-null  object \n",
      " 15  Education_Level      170501 non-null  object \n",
      " 16  Marital_Status       170501 non-null  object \n",
      " 17  Family_History       170501 non-null  object \n",
      " 18  Income_Level         170501 non-null  object \n",
      " 19  Healthcare_Access    170501 non-null  object \n",
      " 20  Sleep_Hours          170501 non-null  float64\n",
      " 21  Location_Type        170501 non-null  object \n",
      " 22  Air_Quality_Index    170501 non-null  object \n",
      " 23  Pollution_Level      170501 non-null  object \n",
      " 24  Employment_Status    170501 non-null  object \n",
      "dtypes: float64(2), int64(3), object(20)\n",
      "memory usage: 32.5+ MB\n"
     ]
    }
   ],
   "source": [
    "indo_df.info()"
   ]
  },
  {
   "cell_type": "code",
   "execution_count": 201,
   "id": "193017d9-9d00-44de-961f-6091c4fc3b64",
   "metadata": {},
   "outputs": [],
   "source": [
    "indo_df.to_csv('cleaned_Indonesia_dataset.csv', index=False)"
   ]
  },
  {
   "cell_type": "code",
   "execution_count": 202,
   "id": "a192c94b-955b-4558-8bc0-e6e7988b19e6",
   "metadata": {},
   "outputs": [],
   "source": [
    "loaded_df = pd.read_csv('cleaned_Indonesia_dataset.csv')"
   ]
  },
  {
   "cell_type": "code",
   "execution_count": 207,
   "id": "9fa55582-bd70-463f-9058-c7f69e95ef72",
   "metadata": {},
   "outputs": [
    {
     "data": {
      "text/html": [
       "<div>\n",
       "<style scoped>\n",
       "    .dataframe tbody tr th:only-of-type {\n",
       "        vertical-align: middle;\n",
       "    }\n",
       "\n",
       "    .dataframe tbody tr th {\n",
       "        vertical-align: top;\n",
       "    }\n",
       "\n",
       "    .dataframe thead th {\n",
       "        text-align: right;\n",
       "    }\n",
       "</style>\n",
       "<table border=\"1\" class=\"dataframe\">\n",
       "  <thead>\n",
       "    <tr style=\"text-align: right;\">\n",
       "      <th></th>\n",
       "      <th>ID</th>\n",
       "      <th>Region_Category</th>\n",
       "      <th>Age</th>\n",
       "      <th>Heart_Attack</th>\n",
       "      <th>Gender</th>\n",
       "      <th>Cholesterol_Level</th>\n",
       "      <th>Smoking_Status</th>\n",
       "      <th>Physical_Activity</th>\n",
       "      <th>BMI</th>\n",
       "      <th>Hypertension</th>\n",
       "      <th>...</th>\n",
       "      <th>Education_Level</th>\n",
       "      <th>Marital_Status</th>\n",
       "      <th>Family_History</th>\n",
       "      <th>Income_Level</th>\n",
       "      <th>Healthcare_Access</th>\n",
       "      <th>Sleep_Hours</th>\n",
       "      <th>Location_Type</th>\n",
       "      <th>Air_Quality_Index</th>\n",
       "      <th>Pollution_Level</th>\n",
       "      <th>Employment_Status</th>\n",
       "    </tr>\n",
       "  </thead>\n",
       "  <tbody>\n",
       "    <tr>\n",
       "      <th>0</th>\n",
       "      <td>1</td>\n",
       "      <td>Pekanbaru</td>\n",
       "      <td>32</td>\n",
       "      <td>No</td>\n",
       "      <td>Male</td>\n",
       "      <td>179</td>\n",
       "      <td>Smoker</td>\n",
       "      <td>High</td>\n",
       "      <td>19.1</td>\n",
       "      <td>Yes</td>\n",
       "      <td>...</td>\n",
       "      <td>Secondary</td>\n",
       "      <td>Single</td>\n",
       "      <td>No</td>\n",
       "      <td>Middle</td>\n",
       "      <td>Good</td>\n",
       "      <td>7.9</td>\n",
       "      <td>Urban</td>\n",
       "      <td>Moderate</td>\n",
       "      <td>High</td>\n",
       "      <td>Unemployed</td>\n",
       "    </tr>\n",
       "    <tr>\n",
       "      <th>1</th>\n",
       "      <td>2</td>\n",
       "      <td>Makassar</td>\n",
       "      <td>15</td>\n",
       "      <td>Yes</td>\n",
       "      <td>Female</td>\n",
       "      <td>201</td>\n",
       "      <td>Non-smoker</td>\n",
       "      <td>High</td>\n",
       "      <td>26.9</td>\n",
       "      <td>No</td>\n",
       "      <td>...</td>\n",
       "      <td>Secondary</td>\n",
       "      <td>Married</td>\n",
       "      <td>No</td>\n",
       "      <td>Middle</td>\n",
       "      <td>Average</td>\n",
       "      <td>8.5</td>\n",
       "      <td>Urban</td>\n",
       "      <td>Very Unhealthy</td>\n",
       "      <td>Moderate</td>\n",
       "      <td>Unemployed</td>\n",
       "    </tr>\n",
       "    <tr>\n",
       "      <th>2</th>\n",
       "      <td>3</td>\n",
       "      <td>Surabaya</td>\n",
       "      <td>41</td>\n",
       "      <td>No</td>\n",
       "      <td>Female</td>\n",
       "      <td>167</td>\n",
       "      <td>Non-smoker</td>\n",
       "      <td>Moderate</td>\n",
       "      <td>29.6</td>\n",
       "      <td>Yes</td>\n",
       "      <td>...</td>\n",
       "      <td>Primary</td>\n",
       "      <td>Single</td>\n",
       "      <td>No</td>\n",
       "      <td>Middle</td>\n",
       "      <td>Poor</td>\n",
       "      <td>7.3</td>\n",
       "      <td>Urban</td>\n",
       "      <td>Unhealthy for Sensitive Groups</td>\n",
       "      <td>Moderate</td>\n",
       "      <td>Employed</td>\n",
       "    </tr>\n",
       "    <tr>\n",
       "      <th>3</th>\n",
       "      <td>4</td>\n",
       "      <td>Malang</td>\n",
       "      <td>31</td>\n",
       "      <td>No</td>\n",
       "      <td>Male</td>\n",
       "      <td>287</td>\n",
       "      <td>Smoker</td>\n",
       "      <td>Moderate</td>\n",
       "      <td>19.4</td>\n",
       "      <td>No</td>\n",
       "      <td>...</td>\n",
       "      <td>Higher</td>\n",
       "      <td>Single</td>\n",
       "      <td>Yes</td>\n",
       "      <td>Middle</td>\n",
       "      <td>Good</td>\n",
       "      <td>4.8</td>\n",
       "      <td>Rural</td>\n",
       "      <td>Moderate</td>\n",
       "      <td>High</td>\n",
       "      <td>Unemployed</td>\n",
       "    </tr>\n",
       "    <tr>\n",
       "      <th>4</th>\n",
       "      <td>5</td>\n",
       "      <td>Bali</td>\n",
       "      <td>19</td>\n",
       "      <td>No</td>\n",
       "      <td>Male</td>\n",
       "      <td>239</td>\n",
       "      <td>Smoker</td>\n",
       "      <td>High</td>\n",
       "      <td>18.5</td>\n",
       "      <td>No</td>\n",
       "      <td>...</td>\n",
       "      <td>Secondary</td>\n",
       "      <td>Married</td>\n",
       "      <td>No</td>\n",
       "      <td>Low</td>\n",
       "      <td>Poor</td>\n",
       "      <td>6.0</td>\n",
       "      <td>Urban</td>\n",
       "      <td>Unhealthy</td>\n",
       "      <td>Moderate</td>\n",
       "      <td>Unemployed</td>\n",
       "    </tr>\n",
       "    <tr>\n",
       "      <th>...</th>\n",
       "      <td>...</td>\n",
       "      <td>...</td>\n",
       "      <td>...</td>\n",
       "      <td>...</td>\n",
       "      <td>...</td>\n",
       "      <td>...</td>\n",
       "      <td>...</td>\n",
       "      <td>...</td>\n",
       "      <td>...</td>\n",
       "      <td>...</td>\n",
       "      <td>...</td>\n",
       "      <td>...</td>\n",
       "      <td>...</td>\n",
       "      <td>...</td>\n",
       "      <td>...</td>\n",
       "      <td>...</td>\n",
       "      <td>...</td>\n",
       "      <td>...</td>\n",
       "      <td>...</td>\n",
       "      <td>...</td>\n",
       "      <td>...</td>\n",
       "    </tr>\n",
       "    <tr>\n",
       "      <th>170496</th>\n",
       "      <td>170497</td>\n",
       "      <td>Semarang</td>\n",
       "      <td>23</td>\n",
       "      <td>No</td>\n",
       "      <td>Male</td>\n",
       "      <td>295</td>\n",
       "      <td>Smoker</td>\n",
       "      <td>High</td>\n",
       "      <td>33.6</td>\n",
       "      <td>No</td>\n",
       "      <td>...</td>\n",
       "      <td>Higher</td>\n",
       "      <td>Married</td>\n",
       "      <td>Yes</td>\n",
       "      <td>High</td>\n",
       "      <td>Good</td>\n",
       "      <td>7.6</td>\n",
       "      <td>Rural</td>\n",
       "      <td>Moderate</td>\n",
       "      <td>Moderate</td>\n",
       "      <td>Employed</td>\n",
       "    </tr>\n",
       "    <tr>\n",
       "      <th>170497</th>\n",
       "      <td>170498</td>\n",
       "      <td>Malang</td>\n",
       "      <td>25</td>\n",
       "      <td>Yes</td>\n",
       "      <td>Male</td>\n",
       "      <td>172</td>\n",
       "      <td>Non-smoker</td>\n",
       "      <td>Moderate</td>\n",
       "      <td>20.1</td>\n",
       "      <td>Yes</td>\n",
       "      <td>...</td>\n",
       "      <td>Higher</td>\n",
       "      <td>Married</td>\n",
       "      <td>No</td>\n",
       "      <td>High</td>\n",
       "      <td>Poor</td>\n",
       "      <td>4.5</td>\n",
       "      <td>Rural</td>\n",
       "      <td>Very Unhealthy</td>\n",
       "      <td>Low</td>\n",
       "      <td>Employed</td>\n",
       "    </tr>\n",
       "    <tr>\n",
       "      <th>170498</th>\n",
       "      <td>170499</td>\n",
       "      <td>Pekanbaru</td>\n",
       "      <td>64</td>\n",
       "      <td>No</td>\n",
       "      <td>Male</td>\n",
       "      <td>209</td>\n",
       "      <td>Smoker</td>\n",
       "      <td>Moderate</td>\n",
       "      <td>19.4</td>\n",
       "      <td>No</td>\n",
       "      <td>...</td>\n",
       "      <td>Primary</td>\n",
       "      <td>Married</td>\n",
       "      <td>No</td>\n",
       "      <td>Middle</td>\n",
       "      <td>Good</td>\n",
       "      <td>9.0</td>\n",
       "      <td>Rural</td>\n",
       "      <td>Very Unhealthy</td>\n",
       "      <td>Moderate</td>\n",
       "      <td>Employed</td>\n",
       "    </tr>\n",
       "    <tr>\n",
       "      <th>170499</th>\n",
       "      <td>170500</td>\n",
       "      <td>Bandung</td>\n",
       "      <td>57</td>\n",
       "      <td>No</td>\n",
       "      <td>Male</td>\n",
       "      <td>150</td>\n",
       "      <td>Smoker</td>\n",
       "      <td>High</td>\n",
       "      <td>29.4</td>\n",
       "      <td>No</td>\n",
       "      <td>...</td>\n",
       "      <td>Primary</td>\n",
       "      <td>Single</td>\n",
       "      <td>No</td>\n",
       "      <td>Low</td>\n",
       "      <td>Average</td>\n",
       "      <td>6.4</td>\n",
       "      <td>Rural</td>\n",
       "      <td>Very Unhealthy</td>\n",
       "      <td>Low</td>\n",
       "      <td>Employed</td>\n",
       "    </tr>\n",
       "    <tr>\n",
       "      <th>170500</th>\n",
       "      <td>170501</td>\n",
       "      <td>Malang</td>\n",
       "      <td>29</td>\n",
       "      <td>Yes</td>\n",
       "      <td>Male</td>\n",
       "      <td>230</td>\n",
       "      <td>Smoker</td>\n",
       "      <td>Moderate</td>\n",
       "      <td>27.9</td>\n",
       "      <td>No</td>\n",
       "      <td>...</td>\n",
       "      <td>Secondary</td>\n",
       "      <td>Single</td>\n",
       "      <td>No</td>\n",
       "      <td>Middle</td>\n",
       "      <td>Poor</td>\n",
       "      <td>8.7</td>\n",
       "      <td>Urban</td>\n",
       "      <td>Moderate</td>\n",
       "      <td>Moderate</td>\n",
       "      <td>Unemployed</td>\n",
       "    </tr>\n",
       "  </tbody>\n",
       "</table>\n",
       "<p>170501 rows × 25 columns</p>\n",
       "</div>"
      ],
      "text/plain": [
       "            ID Region_Category  Age Heart_Attack  Gender  Cholesterol_Level  \\\n",
       "0            1       Pekanbaru   32           No    Male                179   \n",
       "1            2        Makassar   15          Yes  Female                201   \n",
       "2            3        Surabaya   41           No  Female                167   \n",
       "3            4          Malang   31           No    Male                287   \n",
       "4            5            Bali   19           No    Male                239   \n",
       "...        ...             ...  ...          ...     ...                ...   \n",
       "170496  170497        Semarang   23           No    Male                295   \n",
       "170497  170498          Malang   25          Yes    Male                172   \n",
       "170498  170499       Pekanbaru   64           No    Male                209   \n",
       "170499  170500         Bandung   57           No    Male                150   \n",
       "170500  170501          Malang   29          Yes    Male                230   \n",
       "\n",
       "       Smoking_Status Physical_Activity   BMI Hypertension  ...  \\\n",
       "0              Smoker              High  19.1          Yes  ...   \n",
       "1          Non-smoker              High  26.9           No  ...   \n",
       "2          Non-smoker          Moderate  29.6          Yes  ...   \n",
       "3              Smoker          Moderate  19.4           No  ...   \n",
       "4              Smoker              High  18.5           No  ...   \n",
       "...               ...               ...   ...          ...  ...   \n",
       "170496         Smoker              High  33.6           No  ...   \n",
       "170497     Non-smoker          Moderate  20.1          Yes  ...   \n",
       "170498         Smoker          Moderate  19.4           No  ...   \n",
       "170499         Smoker              High  29.4           No  ...   \n",
       "170500         Smoker          Moderate  27.9           No  ...   \n",
       "\n",
       "       Education_Level Marital_Status Family_History Income_Level  \\\n",
       "0            Secondary         Single             No       Middle   \n",
       "1            Secondary        Married             No       Middle   \n",
       "2              Primary         Single             No       Middle   \n",
       "3               Higher         Single            Yes       Middle   \n",
       "4            Secondary        Married             No          Low   \n",
       "...                ...            ...            ...          ...   \n",
       "170496          Higher        Married            Yes         High   \n",
       "170497          Higher        Married             No         High   \n",
       "170498         Primary        Married             No       Middle   \n",
       "170499         Primary         Single             No          Low   \n",
       "170500       Secondary         Single             No       Middle   \n",
       "\n",
       "       Healthcare_Access Sleep_Hours Location_Type  \\\n",
       "0                   Good         7.9         Urban   \n",
       "1                Average         8.5         Urban   \n",
       "2                   Poor         7.3         Urban   \n",
       "3                   Good         4.8         Rural   \n",
       "4                   Poor         6.0         Urban   \n",
       "...                  ...         ...           ...   \n",
       "170496              Good         7.6         Rural   \n",
       "170497              Poor         4.5         Rural   \n",
       "170498              Good         9.0         Rural   \n",
       "170499           Average         6.4         Rural   \n",
       "170500              Poor         8.7         Urban   \n",
       "\n",
       "                     Air_Quality_Index Pollution_Level Employment_Status  \n",
       "0                             Moderate            High        Unemployed  \n",
       "1                       Very Unhealthy        Moderate        Unemployed  \n",
       "2       Unhealthy for Sensitive Groups        Moderate          Employed  \n",
       "3                             Moderate            High        Unemployed  \n",
       "4                            Unhealthy        Moderate        Unemployed  \n",
       "...                                ...             ...               ...  \n",
       "170496                        Moderate        Moderate          Employed  \n",
       "170497                  Very Unhealthy             Low          Employed  \n",
       "170498                  Very Unhealthy        Moderate          Employed  \n",
       "170499                  Very Unhealthy             Low          Employed  \n",
       "170500                        Moderate        Moderate        Unemployed  \n",
       "\n",
       "[170501 rows x 25 columns]"
      ]
     },
     "execution_count": 207,
     "metadata": {},
     "output_type": "execute_result"
    }
   ],
   "source": [
    "loaded_df"
   ]
  },
  {
   "cell_type": "code",
   "execution_count": 209,
   "id": "b5e42ab7-ce71-45c4-93af-4dcb724e4330",
   "metadata": {},
   "outputs": [
    {
     "name": "stdout",
     "output_type": "stream",
     "text": [
      "<class 'pandas.core.frame.DataFrame'>\n",
      "RangeIndex: 170501 entries, 0 to 170500\n",
      "Data columns (total 25 columns):\n",
      " #   Column               Non-Null Count   Dtype  \n",
      "---  ------               --------------   -----  \n",
      " 0   ID                   170501 non-null  int64  \n",
      " 1   Region_Category      170501 non-null  object \n",
      " 2   Age                  170501 non-null  int64  \n",
      " 3   Heart_Attack         170501 non-null  object \n",
      " 4   Gender               170501 non-null  object \n",
      " 5   Cholesterol_Level    170501 non-null  int64  \n",
      " 6   Smoking_Status       170501 non-null  object \n",
      " 7   Physical_Activity    170501 non-null  object \n",
      " 8   BMI                  170501 non-null  float64\n",
      " 9   Hypertension         170501 non-null  object \n",
      " 10  Diabetes             170501 non-null  object \n",
      " 11  Alcohol_Consumption  170501 non-null  object \n",
      " 12  Diet_Quality         170501 non-null  object \n",
      " 13  Occupation_Type      170501 non-null  object \n",
      " 14  Stress_Level         170501 non-null  object \n",
      " 15  Education_Level      170501 non-null  object \n",
      " 16  Marital_Status       170501 non-null  object \n",
      " 17  Family_History       170501 non-null  object \n",
      " 18  Income_Level         170501 non-null  object \n",
      " 19  Healthcare_Access    170501 non-null  object \n",
      " 20  Sleep_Hours          170501 non-null  float64\n",
      " 21  Location_Type        170501 non-null  object \n",
      " 22  Air_Quality_Index    170501 non-null  object \n",
      " 23  Pollution_Level      170501 non-null  object \n",
      " 24  Employment_Status    170501 non-null  object \n",
      "dtypes: float64(2), int64(3), object(20)\n",
      "memory usage: 32.5+ MB\n"
     ]
    }
   ],
   "source": [
    "loaded_df.info()"
   ]
  },
  {
   "cell_type": "code",
   "execution_count": null,
   "id": "f6e1f691-dec9-4939-8ad5-fed58c2e1d9b",
   "metadata": {},
   "outputs": [],
   "source": []
  }
 ],
 "metadata": {
  "kernelspec": {
   "display_name": "Python 3 (ipykernel)",
   "language": "python",
   "name": "python3"
  },
  "language_info": {
   "codemirror_mode": {
    "name": "ipython",
    "version": 3
   },
   "file_extension": ".py",
   "mimetype": "text/x-python",
   "name": "python",
   "nbconvert_exporter": "python",
   "pygments_lexer": "ipython3",
   "version": "3.12.4"
  }
 },
 "nbformat": 4,
 "nbformat_minor": 5
}
