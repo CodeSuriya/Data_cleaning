{
 "cells": [
  {
   "cell_type": "code",
   "execution_count": 1,
   "id": "a3a05dd9-199f-414d-884f-3970d271422c",
   "metadata": {},
   "outputs": [],
   "source": [
    "import pandas as pd"
   ]
  },
  {
   "cell_type": "code",
   "execution_count": 2,
   "id": "84036302-e313-41d7-bb9f-0addb37d4fb7",
   "metadata": {},
   "outputs": [],
   "source": [
    "china_df = pd.read_csv(\"C:/Users/jsuri/Downloads/Datasets/china_dataset.csv\")"
   ]
  },
  {
   "cell_type": "code",
   "execution_count": 4,
   "id": "d3d28a99-ed1e-40bf-b8b1-6e6d025d6490",
   "metadata": {},
   "outputs": [
    {
     "data": {
      "text/html": [
       "<div>\n",
       "<style scoped>\n",
       "    .dataframe tbody tr th:only-of-type {\n",
       "        vertical-align: middle;\n",
       "    }\n",
       "\n",
       "    .dataframe tbody tr th {\n",
       "        vertical-align: top;\n",
       "    }\n",
       "\n",
       "    .dataframe thead th {\n",
       "        text-align: right;\n",
       "    }\n",
       "</style>\n",
       "<table border=\"1\" class=\"dataframe\">\n",
       "  <thead>\n",
       "    <tr style=\"text-align: right;\">\n",
       "      <th></th>\n",
       "      <th>ID</th>\n",
       "      <th>Age</th>\n",
       "      <th>Gender</th>\n",
       "      <th>Heart_Attack</th>\n",
       "      <th>Blood_Pressure</th>\n",
       "      <th>Cholesterol</th>\n",
       "      <th>Diabetes</th>\n",
       "      <th>Smoking</th>\n",
       "      <th>Alcohol_Consumption</th>\n",
       "      <th>Exercise_Level</th>\n",
       "      <th>...</th>\n",
       "      <th>Medication</th>\n",
       "      <th>Hypertension</th>\n",
       "      <th>Heart_Rate</th>\n",
       "      <th>Physical_Activity_Hours</th>\n",
       "      <th>Dietary_Fiber_Intake</th>\n",
       "      <th>Sodium_Intake</th>\n",
       "      <th>Cultural_Background</th>\n",
       "      <th>Genetic_Risk_Score</th>\n",
       "      <th>Age_Group</th>\n",
       "      <th>Screen_Time</th>\n",
       "    </tr>\n",
       "  </thead>\n",
       "  <tbody>\n",
       "    <tr>\n",
       "      <th>0</th>\n",
       "      <td>1</td>\n",
       "      <td>50</td>\n",
       "      <td>Female</td>\n",
       "      <td>No</td>\n",
       "      <td>147.978602</td>\n",
       "      <td>215.563010</td>\n",
       "      <td>No</td>\n",
       "      <td>No</td>\n",
       "      <td>Moderate</td>\n",
       "      <td>Low</td>\n",
       "      <td>...</td>\n",
       "      <td>No</td>\n",
       "      <td>No</td>\n",
       "      <td>59.022408</td>\n",
       "      <td>0.566953</td>\n",
       "      <td>37.073115</td>\n",
       "      <td>2278.711795</td>\n",
       "      <td>Han</td>\n",
       "      <td>0.874595</td>\n",
       "      <td>Adult</td>\n",
       "      <td>8.294082</td>\n",
       "    </tr>\n",
       "    <tr>\n",
       "      <th>1</th>\n",
       "      <td>2</td>\n",
       "      <td>40</td>\n",
       "      <td>Female</td>\n",
       "      <td>No</td>\n",
       "      <td>119.558478</td>\n",
       "      <td>210.308676</td>\n",
       "      <td>No</td>\n",
       "      <td>Yes</td>\n",
       "      <td>NaN</td>\n",
       "      <td>Low</td>\n",
       "      <td>...</td>\n",
       "      <td>No</td>\n",
       "      <td>No</td>\n",
       "      <td>76.564803</td>\n",
       "      <td>1.384155</td>\n",
       "      <td>35.724646</td>\n",
       "      <td>2284.789866</td>\n",
       "      <td>Han</td>\n",
       "      <td>0.643054</td>\n",
       "      <td>Adult</td>\n",
       "      <td>4.593150</td>\n",
       "    </tr>\n",
       "    <tr>\n",
       "      <th>2</th>\n",
       "      <td>3</td>\n",
       "      <td>26</td>\n",
       "      <td>Female</td>\n",
       "      <td>No</td>\n",
       "      <td>102.617993</td>\n",
       "      <td>241.415264</td>\n",
       "      <td>No</td>\n",
       "      <td>No</td>\n",
       "      <td>Heavy</td>\n",
       "      <td>Low</td>\n",
       "      <td>...</td>\n",
       "      <td>No</td>\n",
       "      <td>No</td>\n",
       "      <td>88.519388</td>\n",
       "      <td>0.279997</td>\n",
       "      <td>20.102873</td>\n",
       "      <td>2179.251493</td>\n",
       "      <td>Other</td>\n",
       "      <td>0.715595</td>\n",
       "      <td>Adult</td>\n",
       "      <td>5.310293</td>\n",
       "    </tr>\n",
       "    <tr>\n",
       "      <th>3</th>\n",
       "      <td>4</td>\n",
       "      <td>54</td>\n",
       "      <td>Male</td>\n",
       "      <td>No</td>\n",
       "      <td>121.465827</td>\n",
       "      <td>252.900145</td>\n",
       "      <td>No</td>\n",
       "      <td>No</td>\n",
       "      <td>Moderate</td>\n",
       "      <td>High</td>\n",
       "      <td>...</td>\n",
       "      <td>No</td>\n",
       "      <td>Yes</td>\n",
       "      <td>68.676712</td>\n",
       "      <td>1.841346</td>\n",
       "      <td>32.476741</td>\n",
       "      <td>3022.112596</td>\n",
       "      <td>Han</td>\n",
       "      <td>0.658501</td>\n",
       "      <td>Adult</td>\n",
       "      <td>4.087884</td>\n",
       "    </tr>\n",
       "    <tr>\n",
       "      <th>4</th>\n",
       "      <td>5</td>\n",
       "      <td>19</td>\n",
       "      <td>Female</td>\n",
       "      <td>No</td>\n",
       "      <td>130.216946</td>\n",
       "      <td>164.222684</td>\n",
       "      <td>No</td>\n",
       "      <td>Yes</td>\n",
       "      <td>Heavy</td>\n",
       "      <td>Low</td>\n",
       "      <td>...</td>\n",
       "      <td>No</td>\n",
       "      <td>No</td>\n",
       "      <td>62.504824</td>\n",
       "      <td>1.088681</td>\n",
       "      <td>22.075720</td>\n",
       "      <td>3634.690298</td>\n",
       "      <td>Han</td>\n",
       "      <td>0.102311</td>\n",
       "      <td>Adult</td>\n",
       "      <td>6.533303</td>\n",
       "    </tr>\n",
       "    <tr>\n",
       "      <th>...</th>\n",
       "      <td>...</td>\n",
       "      <td>...</td>\n",
       "      <td>...</td>\n",
       "      <td>...</td>\n",
       "      <td>...</td>\n",
       "      <td>...</td>\n",
       "      <td>...</td>\n",
       "      <td>...</td>\n",
       "      <td>...</td>\n",
       "      <td>...</td>\n",
       "      <td>...</td>\n",
       "      <td>...</td>\n",
       "      <td>...</td>\n",
       "      <td>...</td>\n",
       "      <td>...</td>\n",
       "      <td>...</td>\n",
       "      <td>...</td>\n",
       "      <td>...</td>\n",
       "      <td>...</td>\n",
       "      <td>...</td>\n",
       "      <td>...</td>\n",
       "    </tr>\n",
       "    <tr>\n",
       "      <th>269995</th>\n",
       "      <td>269996</td>\n",
       "      <td>41</td>\n",
       "      <td>Male</td>\n",
       "      <td>No</td>\n",
       "      <td>148.398926</td>\n",
       "      <td>186.232933</td>\n",
       "      <td>No</td>\n",
       "      <td>No</td>\n",
       "      <td>NaN</td>\n",
       "      <td>High</td>\n",
       "      <td>...</td>\n",
       "      <td>No</td>\n",
       "      <td>No</td>\n",
       "      <td>84.897992</td>\n",
       "      <td>0.632633</td>\n",
       "      <td>16.931930</td>\n",
       "      <td>4168.914541</td>\n",
       "      <td>Han</td>\n",
       "      <td>0.137251</td>\n",
       "      <td>Adult</td>\n",
       "      <td>3.677198</td>\n",
       "    </tr>\n",
       "    <tr>\n",
       "      <th>269996</th>\n",
       "      <td>269997</td>\n",
       "      <td>46</td>\n",
       "      <td>Female</td>\n",
       "      <td>No</td>\n",
       "      <td>103.403428</td>\n",
       "      <td>160.020688</td>\n",
       "      <td>No</td>\n",
       "      <td>No</td>\n",
       "      <td>NaN</td>\n",
       "      <td>High</td>\n",
       "      <td>...</td>\n",
       "      <td>No</td>\n",
       "      <td>Yes</td>\n",
       "      <td>73.743029</td>\n",
       "      <td>0.722035</td>\n",
       "      <td>32.002433</td>\n",
       "      <td>3627.521819</td>\n",
       "      <td>Han</td>\n",
       "      <td>0.456690</td>\n",
       "      <td>Adult</td>\n",
       "      <td>5.237106</td>\n",
       "    </tr>\n",
       "    <tr>\n",
       "      <th>269997</th>\n",
       "      <td>269998</td>\n",
       "      <td>52</td>\n",
       "      <td>Female</td>\n",
       "      <td>No</td>\n",
       "      <td>132.890349</td>\n",
       "      <td>170.471393</td>\n",
       "      <td>No</td>\n",
       "      <td>No</td>\n",
       "      <td>NaN</td>\n",
       "      <td>Low</td>\n",
       "      <td>...</td>\n",
       "      <td>No</td>\n",
       "      <td>Yes</td>\n",
       "      <td>63.949635</td>\n",
       "      <td>0.303158</td>\n",
       "      <td>35.830543</td>\n",
       "      <td>3621.064617</td>\n",
       "      <td>Han</td>\n",
       "      <td>0.366006</td>\n",
       "      <td>Youth</td>\n",
       "      <td>8.898041</td>\n",
       "    </tr>\n",
       "    <tr>\n",
       "      <th>269998</th>\n",
       "      <td>269999</td>\n",
       "      <td>38</td>\n",
       "      <td>Male</td>\n",
       "      <td>No</td>\n",
       "      <td>111.634605</td>\n",
       "      <td>163.131882</td>\n",
       "      <td>No</td>\n",
       "      <td>No</td>\n",
       "      <td>NaN</td>\n",
       "      <td>Moderate</td>\n",
       "      <td>...</td>\n",
       "      <td>Yes</td>\n",
       "      <td>Yes</td>\n",
       "      <td>68.427358</td>\n",
       "      <td>0.012365</td>\n",
       "      <td>23.296970</td>\n",
       "      <td>3492.826147</td>\n",
       "      <td>Han</td>\n",
       "      <td>0.036352</td>\n",
       "      <td>Adult</td>\n",
       "      <td>7.463617</td>\n",
       "    </tr>\n",
       "    <tr>\n",
       "      <th>269999</th>\n",
       "      <td>270000</td>\n",
       "      <td>41</td>\n",
       "      <td>Female</td>\n",
       "      <td>No</td>\n",
       "      <td>121.856712</td>\n",
       "      <td>173.656131</td>\n",
       "      <td>Yes</td>\n",
       "      <td>No</td>\n",
       "      <td>NaN</td>\n",
       "      <td>Low</td>\n",
       "      <td>...</td>\n",
       "      <td>No</td>\n",
       "      <td>No</td>\n",
       "      <td>54.609019</td>\n",
       "      <td>1.353325</td>\n",
       "      <td>27.977116</td>\n",
       "      <td>3721.228816</td>\n",
       "      <td>Han</td>\n",
       "      <td>0.110363</td>\n",
       "      <td>Youth</td>\n",
       "      <td>3.617393</td>\n",
       "    </tr>\n",
       "  </tbody>\n",
       "</table>\n",
       "<p>270000 rows × 30 columns</p>\n",
       "</div>"
      ],
      "text/plain": [
       "            ID  Age  Gender Heart_Attack  Blood_Pressure  Cholesterol  \\\n",
       "0            1   50  Female           No      147.978602   215.563010   \n",
       "1            2   40  Female           No      119.558478   210.308676   \n",
       "2            3   26  Female           No      102.617993   241.415264   \n",
       "3            4   54    Male           No      121.465827   252.900145   \n",
       "4            5   19  Female           No      130.216946   164.222684   \n",
       "...        ...  ...     ...          ...             ...          ...   \n",
       "269995  269996   41    Male           No      148.398926   186.232933   \n",
       "269996  269997   46  Female           No      103.403428   160.020688   \n",
       "269997  269998   52  Female           No      132.890349   170.471393   \n",
       "269998  269999   38    Male           No      111.634605   163.131882   \n",
       "269999  270000   41  Female           No      121.856712   173.656131   \n",
       "\n",
       "       Diabetes Smoking Alcohol_Consumption Exercise_Level  ...  Medication  \\\n",
       "0            No      No            Moderate            Low  ...          No   \n",
       "1            No     Yes                 NaN            Low  ...          No   \n",
       "2            No      No               Heavy            Low  ...          No   \n",
       "3            No      No            Moderate           High  ...          No   \n",
       "4            No     Yes               Heavy            Low  ...          No   \n",
       "...         ...     ...                 ...            ...  ...         ...   \n",
       "269995       No      No                 NaN           High  ...          No   \n",
       "269996       No      No                 NaN           High  ...          No   \n",
       "269997       No      No                 NaN            Low  ...          No   \n",
       "269998       No      No                 NaN       Moderate  ...         Yes   \n",
       "269999      Yes      No                 NaN            Low  ...          No   \n",
       "\n",
       "       Hypertension Heart_Rate  Physical_Activity_Hours Dietary_Fiber_Intake  \\\n",
       "0                No  59.022408                 0.566953            37.073115   \n",
       "1                No  76.564803                 1.384155            35.724646   \n",
       "2                No  88.519388                 0.279997            20.102873   \n",
       "3               Yes  68.676712                 1.841346            32.476741   \n",
       "4                No  62.504824                 1.088681            22.075720   \n",
       "...             ...        ...                      ...                  ...   \n",
       "269995           No  84.897992                 0.632633            16.931930   \n",
       "269996          Yes  73.743029                 0.722035            32.002433   \n",
       "269997          Yes  63.949635                 0.303158            35.830543   \n",
       "269998          Yes  68.427358                 0.012365            23.296970   \n",
       "269999           No  54.609019                 1.353325            27.977116   \n",
       "\n",
       "       Sodium_Intake Cultural_Background  Genetic_Risk_Score Age_Group  \\\n",
       "0        2278.711795                 Han            0.874595     Adult   \n",
       "1        2284.789866                 Han            0.643054     Adult   \n",
       "2        2179.251493               Other            0.715595     Adult   \n",
       "3        3022.112596                 Han            0.658501     Adult   \n",
       "4        3634.690298                 Han            0.102311     Adult   \n",
       "...              ...                 ...                 ...       ...   \n",
       "269995   4168.914541                 Han            0.137251     Adult   \n",
       "269996   3627.521819                 Han            0.456690     Adult   \n",
       "269997   3621.064617                 Han            0.366006     Youth   \n",
       "269998   3492.826147                 Han            0.036352     Adult   \n",
       "269999   3721.228816                 Han            0.110363     Youth   \n",
       "\n",
       "        Screen_Time  \n",
       "0          8.294082  \n",
       "1          4.593150  \n",
       "2          5.310293  \n",
       "3          4.087884  \n",
       "4          6.533303  \n",
       "...             ...  \n",
       "269995     3.677198  \n",
       "269996     5.237106  \n",
       "269997     8.898041  \n",
       "269998     7.463617  \n",
       "269999     3.617393  \n",
       "\n",
       "[270000 rows x 30 columns]"
      ]
     },
     "execution_count": 4,
     "metadata": {},
     "output_type": "execute_result"
    }
   ],
   "source": [
    "china_df"
   ]
  },
  {
   "cell_type": "code",
   "execution_count": 5,
   "id": "68cc6570-df64-4152-bc00-3b4813253da8",
   "metadata": {},
   "outputs": [
    {
     "data": {
      "text/html": [
       "<div>\n",
       "<style scoped>\n",
       "    .dataframe tbody tr th:only-of-type {\n",
       "        vertical-align: middle;\n",
       "    }\n",
       "\n",
       "    .dataframe tbody tr th {\n",
       "        vertical-align: top;\n",
       "    }\n",
       "\n",
       "    .dataframe thead th {\n",
       "        text-align: right;\n",
       "    }\n",
       "</style>\n",
       "<table border=\"1\" class=\"dataframe\">\n",
       "  <thead>\n",
       "    <tr style=\"text-align: right;\">\n",
       "      <th></th>\n",
       "      <th>ID</th>\n",
       "      <th>Age</th>\n",
       "      <th>Gender</th>\n",
       "      <th>Heart_Attack</th>\n",
       "      <th>Blood_Pressure</th>\n",
       "      <th>Cholesterol</th>\n",
       "      <th>Diabetes</th>\n",
       "      <th>Smoking</th>\n",
       "      <th>Alcohol_Consumption</th>\n",
       "      <th>Exercise_Level</th>\n",
       "      <th>...</th>\n",
       "      <th>Medication</th>\n",
       "      <th>Hypertension</th>\n",
       "      <th>Heart_Rate</th>\n",
       "      <th>Physical_Activity_Hours</th>\n",
       "      <th>Dietary_Fiber_Intake</th>\n",
       "      <th>Sodium_Intake</th>\n",
       "      <th>Cultural_Background</th>\n",
       "      <th>Genetic_Risk_Score</th>\n",
       "      <th>Age_Group</th>\n",
       "      <th>Screen_Time</th>\n",
       "    </tr>\n",
       "  </thead>\n",
       "  <tbody>\n",
       "    <tr>\n",
       "      <th>0</th>\n",
       "      <td>1</td>\n",
       "      <td>50</td>\n",
       "      <td>Female</td>\n",
       "      <td>No</td>\n",
       "      <td>147.978602</td>\n",
       "      <td>215.563010</td>\n",
       "      <td>No</td>\n",
       "      <td>No</td>\n",
       "      <td>Moderate</td>\n",
       "      <td>Low</td>\n",
       "      <td>...</td>\n",
       "      <td>No</td>\n",
       "      <td>No</td>\n",
       "      <td>59.022408</td>\n",
       "      <td>0.566953</td>\n",
       "      <td>37.073115</td>\n",
       "      <td>2278.711795</td>\n",
       "      <td>Han</td>\n",
       "      <td>0.874595</td>\n",
       "      <td>Adult</td>\n",
       "      <td>8.294082</td>\n",
       "    </tr>\n",
       "    <tr>\n",
       "      <th>1</th>\n",
       "      <td>2</td>\n",
       "      <td>40</td>\n",
       "      <td>Female</td>\n",
       "      <td>No</td>\n",
       "      <td>119.558478</td>\n",
       "      <td>210.308676</td>\n",
       "      <td>No</td>\n",
       "      <td>Yes</td>\n",
       "      <td>NaN</td>\n",
       "      <td>Low</td>\n",
       "      <td>...</td>\n",
       "      <td>No</td>\n",
       "      <td>No</td>\n",
       "      <td>76.564803</td>\n",
       "      <td>1.384155</td>\n",
       "      <td>35.724646</td>\n",
       "      <td>2284.789866</td>\n",
       "      <td>Han</td>\n",
       "      <td>0.643054</td>\n",
       "      <td>Adult</td>\n",
       "      <td>4.593150</td>\n",
       "    </tr>\n",
       "    <tr>\n",
       "      <th>2</th>\n",
       "      <td>3</td>\n",
       "      <td>26</td>\n",
       "      <td>Female</td>\n",
       "      <td>No</td>\n",
       "      <td>102.617993</td>\n",
       "      <td>241.415264</td>\n",
       "      <td>No</td>\n",
       "      <td>No</td>\n",
       "      <td>Heavy</td>\n",
       "      <td>Low</td>\n",
       "      <td>...</td>\n",
       "      <td>No</td>\n",
       "      <td>No</td>\n",
       "      <td>88.519388</td>\n",
       "      <td>0.279997</td>\n",
       "      <td>20.102873</td>\n",
       "      <td>2179.251493</td>\n",
       "      <td>Other</td>\n",
       "      <td>0.715595</td>\n",
       "      <td>Adult</td>\n",
       "      <td>5.310293</td>\n",
       "    </tr>\n",
       "    <tr>\n",
       "      <th>3</th>\n",
       "      <td>4</td>\n",
       "      <td>54</td>\n",
       "      <td>Male</td>\n",
       "      <td>No</td>\n",
       "      <td>121.465827</td>\n",
       "      <td>252.900145</td>\n",
       "      <td>No</td>\n",
       "      <td>No</td>\n",
       "      <td>Moderate</td>\n",
       "      <td>High</td>\n",
       "      <td>...</td>\n",
       "      <td>No</td>\n",
       "      <td>Yes</td>\n",
       "      <td>68.676712</td>\n",
       "      <td>1.841346</td>\n",
       "      <td>32.476741</td>\n",
       "      <td>3022.112596</td>\n",
       "      <td>Han</td>\n",
       "      <td>0.658501</td>\n",
       "      <td>Adult</td>\n",
       "      <td>4.087884</td>\n",
       "    </tr>\n",
       "  </tbody>\n",
       "</table>\n",
       "<p>4 rows × 30 columns</p>\n",
       "</div>"
      ],
      "text/plain": [
       "   ID  Age  Gender Heart_Attack  Blood_Pressure  Cholesterol Diabetes Smoking  \\\n",
       "0   1   50  Female           No      147.978602   215.563010       No      No   \n",
       "1   2   40  Female           No      119.558478   210.308676       No     Yes   \n",
       "2   3   26  Female           No      102.617993   241.415264       No      No   \n",
       "3   4   54    Male           No      121.465827   252.900145       No      No   \n",
       "\n",
       "  Alcohol_Consumption Exercise_Level  ...  Medication Hypertension Heart_Rate  \\\n",
       "0            Moderate            Low  ...          No           No  59.022408   \n",
       "1                 NaN            Low  ...          No           No  76.564803   \n",
       "2               Heavy            Low  ...          No           No  88.519388   \n",
       "3            Moderate           High  ...          No          Yes  68.676712   \n",
       "\n",
       "   Physical_Activity_Hours Dietary_Fiber_Intake Sodium_Intake  \\\n",
       "0                 0.566953            37.073115   2278.711795   \n",
       "1                 1.384155            35.724646   2284.789866   \n",
       "2                 0.279997            20.102873   2179.251493   \n",
       "3                 1.841346            32.476741   3022.112596   \n",
       "\n",
       "  Cultural_Background  Genetic_Risk_Score Age_Group  Screen_Time  \n",
       "0                 Han            0.874595     Adult     8.294082  \n",
       "1                 Han            0.643054     Adult     4.593150  \n",
       "2               Other            0.715595     Adult     5.310293  \n",
       "3                 Han            0.658501     Adult     4.087884  \n",
       "\n",
       "[4 rows x 30 columns]"
      ]
     },
     "execution_count": 5,
     "metadata": {},
     "output_type": "execute_result"
    }
   ],
   "source": [
    "china_df.head(4)"
   ]
  },
  {
   "cell_type": "code",
   "execution_count": 12,
   "id": "18fb04b2-2052-4a62-b967-821dde5cb146",
   "metadata": {},
   "outputs": [
    {
     "data": {
      "text/plain": [
       "270000"
      ]
     },
     "execution_count": 12,
     "metadata": {},
     "output_type": "execute_result"
    }
   ],
   "source": [
    "china_df['ID'].value_counts().sum()"
   ]
  },
  {
   "cell_type": "code",
   "execution_count": 18,
   "id": "f9aebecb-14a7-43bf-b1e7-a985fab74483",
   "metadata": {},
   "outputs": [
    {
     "data": {
      "text/plain": [
       "270000"
      ]
     },
     "execution_count": 18,
     "metadata": {},
     "output_type": "execute_result"
    }
   ],
   "source": [
    "china_df['Age'].value_counts().sum()"
   ]
  },
  {
   "cell_type": "code",
   "execution_count": 20,
   "id": "da8b4d4e-4a1c-4594-9b47-d421034a3456",
   "metadata": {},
   "outputs": [
    {
     "data": {
      "text/plain": [
       "0"
      ]
     },
     "execution_count": 20,
     "metadata": {},
     "output_type": "execute_result"
    }
   ],
   "source": [
    "china_df['Age'].isnull().sum()"
   ]
  },
  {
   "cell_type": "code",
   "execution_count": 22,
   "id": "7bc780d9-c198-4cc7-b4fd-f8c69f7cdb35",
   "metadata": {},
   "outputs": [
    {
     "data": {
      "text/plain": [
       "Gender\n",
       "Female    129591\n",
       "Male      129581\n",
       "Other      10828\n",
       "Name: count, dtype: int64"
      ]
     },
     "execution_count": 22,
     "metadata": {},
     "output_type": "execute_result"
    }
   ],
   "source": [
    "china_df['Gender'].value_counts()"
   ]
  },
  {
   "cell_type": "code",
   "execution_count": 24,
   "id": "b96ebc5a-f250-44cf-abb5-74cdb698c285",
   "metadata": {},
   "outputs": [
    {
     "data": {
      "text/plain": [
       "Heart_Attack\n",
       "No     238041\n",
       "Yes     31959\n",
       "Name: count, dtype: int64"
      ]
     },
     "execution_count": 24,
     "metadata": {},
     "output_type": "execute_result"
    }
   ],
   "source": [
    "china_df['Heart_Attack'].value_counts()"
   ]
  },
  {
   "cell_type": "code",
   "execution_count": 26,
   "id": "cb19ad74-e5ca-4921-a5c6-9827c9534a4a",
   "metadata": {},
   "outputs": [
    {
     "data": {
      "text/plain": [
       "0"
      ]
     },
     "execution_count": 26,
     "metadata": {},
     "output_type": "execute_result"
    }
   ],
   "source": [
    "china_df['Heart_Attack'].isnull().sum()"
   ]
  },
  {
   "cell_type": "code",
   "execution_count": 28,
   "id": "d4b39779-dcef-4aa8-93fe-6b0993be74b3",
   "metadata": {},
   "outputs": [
    {
     "name": "stdout",
     "output_type": "stream",
     "text": [
      "<class 'pandas.core.frame.DataFrame'>\n",
      "RangeIndex: 270000 entries, 0 to 269999\n",
      "Data columns (total 30 columns):\n",
      " #   Column                   Non-Null Count   Dtype  \n",
      "---  ------                   --------------   -----  \n",
      " 0   ID                       270000 non-null  int64  \n",
      " 1   Age                      270000 non-null  int64  \n",
      " 2   Gender                   270000 non-null  object \n",
      " 3   Heart_Attack             270000 non-null  object \n",
      " 4   Blood_Pressure           270000 non-null  float64\n",
      " 5   Cholesterol              270000 non-null  float64\n",
      " 6   Diabetes                 270000 non-null  object \n",
      " 7   Smoking                  270000 non-null  object \n",
      " 8   Alcohol_Consumption      135118 non-null  object \n",
      " 9   Exercise_Level           270000 non-null  object \n",
      " 10  BMI                      270000 non-null  float64\n",
      " 11  Family_History           270000 non-null  object \n",
      " 12  Diet_Type                270000 non-null  object \n",
      " 13  Stress_Level             270000 non-null  float64\n",
      " 14  Residence                270000 non-null  object \n",
      " 15  Education_Level          270000 non-null  object \n",
      " 16  Employment_Status        270000 non-null  object \n",
      " 17  Income_Level             270000 non-null  float64\n",
      " 18  Marital_Status           270000 non-null  object \n",
      " 19  Sleep_Hours              270000 non-null  float64\n",
      " 20  Medication               270000 non-null  object \n",
      " 21  Hypertension             270000 non-null  object \n",
      " 22  Heart_Rate               270000 non-null  float64\n",
      " 23  Physical_Activity_Hours  270000 non-null  float64\n",
      " 24  Dietary_Fiber_Intake     270000 non-null  float64\n",
      " 25  Sodium_Intake            270000 non-null  float64\n",
      " 26  Cultural_Background      270000 non-null  object \n",
      " 27  Genetic_Risk_Score       270000 non-null  float64\n",
      " 28  Age_Group                270000 non-null  object \n",
      " 29  Screen_Time              270000 non-null  float64\n",
      "dtypes: float64(12), int64(2), object(16)\n",
      "memory usage: 61.8+ MB\n"
     ]
    }
   ],
   "source": [
    "china_df.info()"
   ]
  },
  {
   "cell_type": "code",
   "execution_count": 32,
   "id": "ed90d0ed-27eb-428d-a3cb-d141c562c56d",
   "metadata": {},
   "outputs": [],
   "source": [
    "china_df['Blood_Pressure'] = china_df['Blood_Pressure'].astype(int)"
   ]
  },
  {
   "cell_type": "code",
   "execution_count": 38,
   "id": "ccfc6a0b-b4d1-44ee-851e-33adadd677a9",
   "metadata": {},
   "outputs": [
    {
     "data": {
      "text/plain": [
       "270000"
      ]
     },
     "execution_count": 38,
     "metadata": {},
     "output_type": "execute_result"
    }
   ],
   "source": [
    "china_df['Blood_Pressure'].value_counts().sum()"
   ]
  },
  {
   "cell_type": "code",
   "execution_count": 40,
   "id": "ebe9cfb1-42d2-4dc8-813a-8b2d95cd15f4",
   "metadata": {},
   "outputs": [
    {
     "name": "stdout",
     "output_type": "stream",
     "text": [
      "<class 'pandas.core.frame.DataFrame'>\n",
      "RangeIndex: 270000 entries, 0 to 269999\n",
      "Data columns (total 30 columns):\n",
      " #   Column                   Non-Null Count   Dtype  \n",
      "---  ------                   --------------   -----  \n",
      " 0   ID                       270000 non-null  int64  \n",
      " 1   Age                      270000 non-null  int64  \n",
      " 2   Gender                   270000 non-null  object \n",
      " 3   Heart_Attack             270000 non-null  object \n",
      " 4   Blood_Pressure           270000 non-null  int32  \n",
      " 5   Cholesterol              270000 non-null  float64\n",
      " 6   Diabetes                 270000 non-null  object \n",
      " 7   Smoking                  270000 non-null  object \n",
      " 8   Alcohol_Consumption      135118 non-null  object \n",
      " 9   Exercise_Level           270000 non-null  object \n",
      " 10  BMI                      270000 non-null  float64\n",
      " 11  Family_History           270000 non-null  object \n",
      " 12  Diet_Type                270000 non-null  object \n",
      " 13  Stress_Level             270000 non-null  float64\n",
      " 14  Residence                270000 non-null  object \n",
      " 15  Education_Level          270000 non-null  object \n",
      " 16  Employment_Status        270000 non-null  object \n",
      " 17  Income_Level             270000 non-null  float64\n",
      " 18  Marital_Status           270000 non-null  object \n",
      " 19  Sleep_Hours              270000 non-null  float64\n",
      " 20  Medication               270000 non-null  object \n",
      " 21  Hypertension             270000 non-null  object \n",
      " 22  Heart_Rate               270000 non-null  float64\n",
      " 23  Physical_Activity_Hours  270000 non-null  float64\n",
      " 24  Dietary_Fiber_Intake     270000 non-null  float64\n",
      " 25  Sodium_Intake            270000 non-null  float64\n",
      " 26  Cultural_Background      270000 non-null  object \n",
      " 27  Genetic_Risk_Score       270000 non-null  float64\n",
      " 28  Age_Group                270000 non-null  object \n",
      " 29  Screen_Time              270000 non-null  float64\n",
      "dtypes: float64(11), int32(1), int64(2), object(16)\n",
      "memory usage: 60.8+ MB\n"
     ]
    }
   ],
   "source": [
    "china_df.info()"
   ]
  },
  {
   "cell_type": "code",
   "execution_count": 44,
   "id": "ce499a32-67f9-40c1-b41d-47a53a310b77",
   "metadata": {},
   "outputs": [
    {
     "data": {
      "text/html": [
       "<div>\n",
       "<style scoped>\n",
       "    .dataframe tbody tr th:only-of-type {\n",
       "        vertical-align: middle;\n",
       "    }\n",
       "\n",
       "    .dataframe tbody tr th {\n",
       "        vertical-align: top;\n",
       "    }\n",
       "\n",
       "    .dataframe thead th {\n",
       "        text-align: right;\n",
       "    }\n",
       "</style>\n",
       "<table border=\"1\" class=\"dataframe\">\n",
       "  <thead>\n",
       "    <tr style=\"text-align: right;\">\n",
       "      <th></th>\n",
       "      <th>ID</th>\n",
       "      <th>Age</th>\n",
       "      <th>Gender</th>\n",
       "      <th>Heart_Attack</th>\n",
       "      <th>Blood_Pressure</th>\n",
       "      <th>Cholesterol</th>\n",
       "      <th>Diabetes</th>\n",
       "      <th>Smoking</th>\n",
       "      <th>Alcohol_Consumption</th>\n",
       "      <th>Exercise_Level</th>\n",
       "      <th>...</th>\n",
       "      <th>Medication</th>\n",
       "      <th>Hypertension</th>\n",
       "      <th>Heart_Rate</th>\n",
       "      <th>Physical_Activity_Hours</th>\n",
       "      <th>Dietary_Fiber_Intake</th>\n",
       "      <th>Sodium_Intake</th>\n",
       "      <th>Cultural_Background</th>\n",
       "      <th>Genetic_Risk_Score</th>\n",
       "      <th>Age_Group</th>\n",
       "      <th>Screen_Time</th>\n",
       "    </tr>\n",
       "  </thead>\n",
       "  <tbody>\n",
       "    <tr>\n",
       "      <th>0</th>\n",
       "      <td>1</td>\n",
       "      <td>50</td>\n",
       "      <td>Female</td>\n",
       "      <td>No</td>\n",
       "      <td>147</td>\n",
       "      <td>215.563010</td>\n",
       "      <td>No</td>\n",
       "      <td>No</td>\n",
       "      <td>Moderate</td>\n",
       "      <td>Low</td>\n",
       "      <td>...</td>\n",
       "      <td>No</td>\n",
       "      <td>No</td>\n",
       "      <td>59.022408</td>\n",
       "      <td>0.566953</td>\n",
       "      <td>37.073115</td>\n",
       "      <td>2278.711795</td>\n",
       "      <td>Han</td>\n",
       "      <td>0.874595</td>\n",
       "      <td>Adult</td>\n",
       "      <td>8.294082</td>\n",
       "    </tr>\n",
       "    <tr>\n",
       "      <th>1</th>\n",
       "      <td>2</td>\n",
       "      <td>40</td>\n",
       "      <td>Female</td>\n",
       "      <td>No</td>\n",
       "      <td>119</td>\n",
       "      <td>210.308676</td>\n",
       "      <td>No</td>\n",
       "      <td>Yes</td>\n",
       "      <td>NaN</td>\n",
       "      <td>Low</td>\n",
       "      <td>...</td>\n",
       "      <td>No</td>\n",
       "      <td>No</td>\n",
       "      <td>76.564803</td>\n",
       "      <td>1.384155</td>\n",
       "      <td>35.724646</td>\n",
       "      <td>2284.789866</td>\n",
       "      <td>Han</td>\n",
       "      <td>0.643054</td>\n",
       "      <td>Adult</td>\n",
       "      <td>4.593150</td>\n",
       "    </tr>\n",
       "    <tr>\n",
       "      <th>2</th>\n",
       "      <td>3</td>\n",
       "      <td>26</td>\n",
       "      <td>Female</td>\n",
       "      <td>No</td>\n",
       "      <td>102</td>\n",
       "      <td>241.415264</td>\n",
       "      <td>No</td>\n",
       "      <td>No</td>\n",
       "      <td>Heavy</td>\n",
       "      <td>Low</td>\n",
       "      <td>...</td>\n",
       "      <td>No</td>\n",
       "      <td>No</td>\n",
       "      <td>88.519388</td>\n",
       "      <td>0.279997</td>\n",
       "      <td>20.102873</td>\n",
       "      <td>2179.251493</td>\n",
       "      <td>Other</td>\n",
       "      <td>0.715595</td>\n",
       "      <td>Adult</td>\n",
       "      <td>5.310293</td>\n",
       "    </tr>\n",
       "    <tr>\n",
       "      <th>3</th>\n",
       "      <td>4</td>\n",
       "      <td>54</td>\n",
       "      <td>Male</td>\n",
       "      <td>No</td>\n",
       "      <td>121</td>\n",
       "      <td>252.900145</td>\n",
       "      <td>No</td>\n",
       "      <td>No</td>\n",
       "      <td>Moderate</td>\n",
       "      <td>High</td>\n",
       "      <td>...</td>\n",
       "      <td>No</td>\n",
       "      <td>Yes</td>\n",
       "      <td>68.676712</td>\n",
       "      <td>1.841346</td>\n",
       "      <td>32.476741</td>\n",
       "      <td>3022.112596</td>\n",
       "      <td>Han</td>\n",
       "      <td>0.658501</td>\n",
       "      <td>Adult</td>\n",
       "      <td>4.087884</td>\n",
       "    </tr>\n",
       "    <tr>\n",
       "      <th>4</th>\n",
       "      <td>5</td>\n",
       "      <td>19</td>\n",
       "      <td>Female</td>\n",
       "      <td>No</td>\n",
       "      <td>130</td>\n",
       "      <td>164.222684</td>\n",
       "      <td>No</td>\n",
       "      <td>Yes</td>\n",
       "      <td>Heavy</td>\n",
       "      <td>Low</td>\n",
       "      <td>...</td>\n",
       "      <td>No</td>\n",
       "      <td>No</td>\n",
       "      <td>62.504824</td>\n",
       "      <td>1.088681</td>\n",
       "      <td>22.075720</td>\n",
       "      <td>3634.690298</td>\n",
       "      <td>Han</td>\n",
       "      <td>0.102311</td>\n",
       "      <td>Adult</td>\n",
       "      <td>6.533303</td>\n",
       "    </tr>\n",
       "  </tbody>\n",
       "</table>\n",
       "<p>5 rows × 30 columns</p>\n",
       "</div>"
      ],
      "text/plain": [
       "   ID  Age  Gender Heart_Attack  Blood_Pressure  Cholesterol Diabetes Smoking  \\\n",
       "0   1   50  Female           No             147   215.563010       No      No   \n",
       "1   2   40  Female           No             119   210.308676       No     Yes   \n",
       "2   3   26  Female           No             102   241.415264       No      No   \n",
       "3   4   54    Male           No             121   252.900145       No      No   \n",
       "4   5   19  Female           No             130   164.222684       No     Yes   \n",
       "\n",
       "  Alcohol_Consumption Exercise_Level  ...  Medication Hypertension Heart_Rate  \\\n",
       "0            Moderate            Low  ...          No           No  59.022408   \n",
       "1                 NaN            Low  ...          No           No  76.564803   \n",
       "2               Heavy            Low  ...          No           No  88.519388   \n",
       "3            Moderate           High  ...          No          Yes  68.676712   \n",
       "4               Heavy            Low  ...          No           No  62.504824   \n",
       "\n",
       "   Physical_Activity_Hours Dietary_Fiber_Intake Sodium_Intake  \\\n",
       "0                 0.566953            37.073115   2278.711795   \n",
       "1                 1.384155            35.724646   2284.789866   \n",
       "2                 0.279997            20.102873   2179.251493   \n",
       "3                 1.841346            32.476741   3022.112596   \n",
       "4                 1.088681            22.075720   3634.690298   \n",
       "\n",
       "  Cultural_Background  Genetic_Risk_Score Age_Group  Screen_Time  \n",
       "0                 Han            0.874595     Adult     8.294082  \n",
       "1                 Han            0.643054     Adult     4.593150  \n",
       "2               Other            0.715595     Adult     5.310293  \n",
       "3                 Han            0.658501     Adult     4.087884  \n",
       "4                 Han            0.102311     Adult     6.533303  \n",
       "\n",
       "[5 rows x 30 columns]"
      ]
     },
     "execution_count": 44,
     "metadata": {},
     "output_type": "execute_result"
    }
   ],
   "source": [
    "china_df.head()"
   ]
  },
  {
   "cell_type": "code",
   "execution_count": 46,
   "id": "3ba62c86-9786-42b8-9212-3d94a57a4fad",
   "metadata": {},
   "outputs": [],
   "source": [
    "china_df['Cholesterol'] = china_df['Cholesterol'].astype(int)"
   ]
  },
  {
   "cell_type": "code",
   "execution_count": 50,
   "id": "3b049272-879f-40ad-a758-da4f08d73dfa",
   "metadata": {},
   "outputs": [
    {
     "data": {
      "text/plain": [
       "Cholesterol\n",
       " 205    2256\n",
       " 193    2252\n",
       " 200    2182\n",
       " 196    2181\n",
       " 203    2178\n",
       "        ... \n",
       " 384       1\n",
       " 430       1\n",
       "-9         1\n",
       "-29        1\n",
       " 389       1\n",
       "Name: count, Length: 406, dtype: int64"
      ]
     },
     "execution_count": 50,
     "metadata": {},
     "output_type": "execute_result"
    }
   ],
   "source": [
    "china_df['Cholesterol'].value_counts()"
   ]
  },
  {
   "cell_type": "code",
   "execution_count": 68,
   "id": "40393d5d-be0f-4611-ab10-00552a692ceb",
   "metadata": {},
   "outputs": [],
   "source": [
    "china_df.rename(columns={'Cholesterol':'Cholesterol_Level'},inplace = True)"
   ]
  },
  {
   "cell_type": "code",
   "execution_count": 70,
   "id": "eaf39e6e-fbaa-4423-af35-81f156f9b994",
   "metadata": {},
   "outputs": [
    {
     "data": {
      "text/html": [
       "<div>\n",
       "<style scoped>\n",
       "    .dataframe tbody tr th:only-of-type {\n",
       "        vertical-align: middle;\n",
       "    }\n",
       "\n",
       "    .dataframe tbody tr th {\n",
       "        vertical-align: top;\n",
       "    }\n",
       "\n",
       "    .dataframe thead th {\n",
       "        text-align: right;\n",
       "    }\n",
       "</style>\n",
       "<table border=\"1\" class=\"dataframe\">\n",
       "  <thead>\n",
       "    <tr style=\"text-align: right;\">\n",
       "      <th></th>\n",
       "      <th>ID</th>\n",
       "      <th>Age</th>\n",
       "      <th>Gender</th>\n",
       "      <th>Heart_Attack</th>\n",
       "      <th>Blood_Pressure</th>\n",
       "      <th>\\tCholesterol_Level</th>\n",
       "      <th>Diabetes</th>\n",
       "      <th>Smoking</th>\n",
       "      <th>Alcohol_Consumption</th>\n",
       "      <th>Exercise_Level</th>\n",
       "      <th>...</th>\n",
       "      <th>Medication</th>\n",
       "      <th>Hypertension</th>\n",
       "      <th>Heart_Rate</th>\n",
       "      <th>Physical_Activity_Hours</th>\n",
       "      <th>Dietary_Fiber_Intake</th>\n",
       "      <th>Sodium_Intake</th>\n",
       "      <th>Cultural_Background</th>\n",
       "      <th>Genetic_Risk_Score</th>\n",
       "      <th>Age_Group</th>\n",
       "      <th>Screen_Time</th>\n",
       "    </tr>\n",
       "  </thead>\n",
       "  <tbody>\n",
       "    <tr>\n",
       "      <th>0</th>\n",
       "      <td>1</td>\n",
       "      <td>50</td>\n",
       "      <td>Female</td>\n",
       "      <td>No</td>\n",
       "      <td>147</td>\n",
       "      <td>215</td>\n",
       "      <td>No</td>\n",
       "      <td>No</td>\n",
       "      <td>Moderate</td>\n",
       "      <td>Low</td>\n",
       "      <td>...</td>\n",
       "      <td>No</td>\n",
       "      <td>No</td>\n",
       "      <td>59.022408</td>\n",
       "      <td>0.566953</td>\n",
       "      <td>37.073115</td>\n",
       "      <td>2278.711795</td>\n",
       "      <td>Han</td>\n",
       "      <td>0.874595</td>\n",
       "      <td>Adult</td>\n",
       "      <td>8.294082</td>\n",
       "    </tr>\n",
       "    <tr>\n",
       "      <th>1</th>\n",
       "      <td>2</td>\n",
       "      <td>40</td>\n",
       "      <td>Female</td>\n",
       "      <td>No</td>\n",
       "      <td>119</td>\n",
       "      <td>210</td>\n",
       "      <td>No</td>\n",
       "      <td>Yes</td>\n",
       "      <td>NaN</td>\n",
       "      <td>Low</td>\n",
       "      <td>...</td>\n",
       "      <td>No</td>\n",
       "      <td>No</td>\n",
       "      <td>76.564803</td>\n",
       "      <td>1.384155</td>\n",
       "      <td>35.724646</td>\n",
       "      <td>2284.789866</td>\n",
       "      <td>Han</td>\n",
       "      <td>0.643054</td>\n",
       "      <td>Adult</td>\n",
       "      <td>4.593150</td>\n",
       "    </tr>\n",
       "    <tr>\n",
       "      <th>2</th>\n",
       "      <td>3</td>\n",
       "      <td>26</td>\n",
       "      <td>Female</td>\n",
       "      <td>No</td>\n",
       "      <td>102</td>\n",
       "      <td>241</td>\n",
       "      <td>No</td>\n",
       "      <td>No</td>\n",
       "      <td>Heavy</td>\n",
       "      <td>Low</td>\n",
       "      <td>...</td>\n",
       "      <td>No</td>\n",
       "      <td>No</td>\n",
       "      <td>88.519388</td>\n",
       "      <td>0.279997</td>\n",
       "      <td>20.102873</td>\n",
       "      <td>2179.251493</td>\n",
       "      <td>Other</td>\n",
       "      <td>0.715595</td>\n",
       "      <td>Adult</td>\n",
       "      <td>5.310293</td>\n",
       "    </tr>\n",
       "    <tr>\n",
       "      <th>3</th>\n",
       "      <td>4</td>\n",
       "      <td>54</td>\n",
       "      <td>Male</td>\n",
       "      <td>No</td>\n",
       "      <td>121</td>\n",
       "      <td>252</td>\n",
       "      <td>No</td>\n",
       "      <td>No</td>\n",
       "      <td>Moderate</td>\n",
       "      <td>High</td>\n",
       "      <td>...</td>\n",
       "      <td>No</td>\n",
       "      <td>Yes</td>\n",
       "      <td>68.676712</td>\n",
       "      <td>1.841346</td>\n",
       "      <td>32.476741</td>\n",
       "      <td>3022.112596</td>\n",
       "      <td>Han</td>\n",
       "      <td>0.658501</td>\n",
       "      <td>Adult</td>\n",
       "      <td>4.087884</td>\n",
       "    </tr>\n",
       "    <tr>\n",
       "      <th>4</th>\n",
       "      <td>5</td>\n",
       "      <td>19</td>\n",
       "      <td>Female</td>\n",
       "      <td>No</td>\n",
       "      <td>130</td>\n",
       "      <td>164</td>\n",
       "      <td>No</td>\n",
       "      <td>Yes</td>\n",
       "      <td>Heavy</td>\n",
       "      <td>Low</td>\n",
       "      <td>...</td>\n",
       "      <td>No</td>\n",
       "      <td>No</td>\n",
       "      <td>62.504824</td>\n",
       "      <td>1.088681</td>\n",
       "      <td>22.075720</td>\n",
       "      <td>3634.690298</td>\n",
       "      <td>Han</td>\n",
       "      <td>0.102311</td>\n",
       "      <td>Adult</td>\n",
       "      <td>6.533303</td>\n",
       "    </tr>\n",
       "  </tbody>\n",
       "</table>\n",
       "<p>5 rows × 30 columns</p>\n",
       "</div>"
      ],
      "text/plain": [
       "   ID  Age  Gender Heart_Attack  Blood_Pressure  \\tCholesterol_Level Diabetes  \\\n",
       "0   1   50  Female           No             147                  215       No   \n",
       "1   2   40  Female           No             119                  210       No   \n",
       "2   3   26  Female           No             102                  241       No   \n",
       "3   4   54    Male           No             121                  252       No   \n",
       "4   5   19  Female           No             130                  164       No   \n",
       "\n",
       "  Smoking Alcohol_Consumption Exercise_Level  ...  Medication Hypertension  \\\n",
       "0      No            Moderate            Low  ...          No           No   \n",
       "1     Yes                 NaN            Low  ...          No           No   \n",
       "2      No               Heavy            Low  ...          No           No   \n",
       "3      No            Moderate           High  ...          No          Yes   \n",
       "4     Yes               Heavy            Low  ...          No           No   \n",
       "\n",
       "  Heart_Rate  Physical_Activity_Hours Dietary_Fiber_Intake Sodium_Intake  \\\n",
       "0  59.022408                 0.566953            37.073115   2278.711795   \n",
       "1  76.564803                 1.384155            35.724646   2284.789866   \n",
       "2  88.519388                 0.279997            20.102873   2179.251493   \n",
       "3  68.676712                 1.841346            32.476741   3022.112596   \n",
       "4  62.504824                 1.088681            22.075720   3634.690298   \n",
       "\n",
       "  Cultural_Background  Genetic_Risk_Score Age_Group  Screen_Time  \n",
       "0                 Han            0.874595     Adult     8.294082  \n",
       "1                 Han            0.643054     Adult     4.593150  \n",
       "2               Other            0.715595     Adult     5.310293  \n",
       "3                 Han            0.658501     Adult     4.087884  \n",
       "4                 Han            0.102311     Adult     6.533303  \n",
       "\n",
       "[5 rows x 30 columns]"
      ]
     },
     "execution_count": 70,
     "metadata": {},
     "output_type": "execute_result"
    }
   ],
   "source": [
    "china_df.head()"
   ]
  },
  {
   "cell_type": "code",
   "execution_count": null,
   "id": "81fae1e9-12cc-4d7f-bf43-735f6c1f37d0",
   "metadata": {},
   "outputs": [],
   "source": []
  },
  {
   "cell_type": "code",
   "execution_count": 75,
   "id": "54efe883-f123-4ecf-8427-2bc9520beb45",
   "metadata": {},
   "outputs": [
    {
     "data": {
      "text/html": [
       "<div>\n",
       "<style scoped>\n",
       "    .dataframe tbody tr th:only-of-type {\n",
       "        vertical-align: middle;\n",
       "    }\n",
       "\n",
       "    .dataframe tbody tr th {\n",
       "        vertical-align: top;\n",
       "    }\n",
       "\n",
       "    .dataframe thead th {\n",
       "        text-align: right;\n",
       "    }\n",
       "</style>\n",
       "<table border=\"1\" class=\"dataframe\">\n",
       "  <thead>\n",
       "    <tr style=\"text-align: right;\">\n",
       "      <th></th>\n",
       "      <th>ID</th>\n",
       "      <th>Age</th>\n",
       "      <th>Gender</th>\n",
       "      <th>Heart_Attack</th>\n",
       "      <th>Blood_Pressure</th>\n",
       "      <th>\\tCholesterol_Level</th>\n",
       "      <th>Diabetes</th>\n",
       "      <th>Smoking</th>\n",
       "      <th>Alcohol_Consumption</th>\n",
       "      <th>Exercise_Level</th>\n",
       "      <th>...</th>\n",
       "      <th>Medication</th>\n",
       "      <th>Hypertension</th>\n",
       "      <th>Heart_Rate</th>\n",
       "      <th>Physical_Activity_Hours</th>\n",
       "      <th>Dietary_Fiber_Intake</th>\n",
       "      <th>Sodium_Intake</th>\n",
       "      <th>Cultural_Background</th>\n",
       "      <th>Genetic_Risk_Score</th>\n",
       "      <th>Age_Group</th>\n",
       "      <th>Screen_Time</th>\n",
       "    </tr>\n",
       "  </thead>\n",
       "  <tbody>\n",
       "    <tr>\n",
       "      <th>0</th>\n",
       "      <td>1</td>\n",
       "      <td>50</td>\n",
       "      <td>Female</td>\n",
       "      <td>No</td>\n",
       "      <td>147</td>\n",
       "      <td>215</td>\n",
       "      <td>No</td>\n",
       "      <td>No</td>\n",
       "      <td>Moderate</td>\n",
       "      <td>Low</td>\n",
       "      <td>...</td>\n",
       "      <td>No</td>\n",
       "      <td>No</td>\n",
       "      <td>59.022408</td>\n",
       "      <td>0.566953</td>\n",
       "      <td>37.073115</td>\n",
       "      <td>2278.711795</td>\n",
       "      <td>Han</td>\n",
       "      <td>0.874595</td>\n",
       "      <td>Adult</td>\n",
       "      <td>8.294082</td>\n",
       "    </tr>\n",
       "    <tr>\n",
       "      <th>1</th>\n",
       "      <td>2</td>\n",
       "      <td>40</td>\n",
       "      <td>Female</td>\n",
       "      <td>No</td>\n",
       "      <td>119</td>\n",
       "      <td>210</td>\n",
       "      <td>No</td>\n",
       "      <td>Yes</td>\n",
       "      <td>NaN</td>\n",
       "      <td>Low</td>\n",
       "      <td>...</td>\n",
       "      <td>No</td>\n",
       "      <td>No</td>\n",
       "      <td>76.564803</td>\n",
       "      <td>1.384155</td>\n",
       "      <td>35.724646</td>\n",
       "      <td>2284.789866</td>\n",
       "      <td>Han</td>\n",
       "      <td>0.643054</td>\n",
       "      <td>Adult</td>\n",
       "      <td>4.593150</td>\n",
       "    </tr>\n",
       "    <tr>\n",
       "      <th>2</th>\n",
       "      <td>3</td>\n",
       "      <td>26</td>\n",
       "      <td>Female</td>\n",
       "      <td>No</td>\n",
       "      <td>102</td>\n",
       "      <td>241</td>\n",
       "      <td>No</td>\n",
       "      <td>No</td>\n",
       "      <td>Heavy</td>\n",
       "      <td>Low</td>\n",
       "      <td>...</td>\n",
       "      <td>No</td>\n",
       "      <td>No</td>\n",
       "      <td>88.519388</td>\n",
       "      <td>0.279997</td>\n",
       "      <td>20.102873</td>\n",
       "      <td>2179.251493</td>\n",
       "      <td>Other</td>\n",
       "      <td>0.715595</td>\n",
       "      <td>Adult</td>\n",
       "      <td>5.310293</td>\n",
       "    </tr>\n",
       "    <tr>\n",
       "      <th>3</th>\n",
       "      <td>4</td>\n",
       "      <td>54</td>\n",
       "      <td>Male</td>\n",
       "      <td>No</td>\n",
       "      <td>121</td>\n",
       "      <td>252</td>\n",
       "      <td>No</td>\n",
       "      <td>No</td>\n",
       "      <td>Moderate</td>\n",
       "      <td>High</td>\n",
       "      <td>...</td>\n",
       "      <td>No</td>\n",
       "      <td>Yes</td>\n",
       "      <td>68.676712</td>\n",
       "      <td>1.841346</td>\n",
       "      <td>32.476741</td>\n",
       "      <td>3022.112596</td>\n",
       "      <td>Han</td>\n",
       "      <td>0.658501</td>\n",
       "      <td>Adult</td>\n",
       "      <td>4.087884</td>\n",
       "    </tr>\n",
       "    <tr>\n",
       "      <th>4</th>\n",
       "      <td>5</td>\n",
       "      <td>19</td>\n",
       "      <td>Female</td>\n",
       "      <td>No</td>\n",
       "      <td>130</td>\n",
       "      <td>164</td>\n",
       "      <td>No</td>\n",
       "      <td>Yes</td>\n",
       "      <td>Heavy</td>\n",
       "      <td>Low</td>\n",
       "      <td>...</td>\n",
       "      <td>No</td>\n",
       "      <td>No</td>\n",
       "      <td>62.504824</td>\n",
       "      <td>1.088681</td>\n",
       "      <td>22.075720</td>\n",
       "      <td>3634.690298</td>\n",
       "      <td>Han</td>\n",
       "      <td>0.102311</td>\n",
       "      <td>Adult</td>\n",
       "      <td>6.533303</td>\n",
       "    </tr>\n",
       "  </tbody>\n",
       "</table>\n",
       "<p>5 rows × 30 columns</p>\n",
       "</div>"
      ],
      "text/plain": [
       "   ID  Age  Gender Heart_Attack  Blood_Pressure  \\tCholesterol_Level Diabetes  \\\n",
       "0   1   50  Female           No             147                  215       No   \n",
       "1   2   40  Female           No             119                  210       No   \n",
       "2   3   26  Female           No             102                  241       No   \n",
       "3   4   54    Male           No             121                  252       No   \n",
       "4   5   19  Female           No             130                  164       No   \n",
       "\n",
       "  Smoking Alcohol_Consumption Exercise_Level  ...  Medication Hypertension  \\\n",
       "0      No            Moderate            Low  ...          No           No   \n",
       "1     Yes                 NaN            Low  ...          No           No   \n",
       "2      No               Heavy            Low  ...          No           No   \n",
       "3      No            Moderate           High  ...          No          Yes   \n",
       "4     Yes               Heavy            Low  ...          No           No   \n",
       "\n",
       "  Heart_Rate  Physical_Activity_Hours Dietary_Fiber_Intake Sodium_Intake  \\\n",
       "0  59.022408                 0.566953            37.073115   2278.711795   \n",
       "1  76.564803                 1.384155            35.724646   2284.789866   \n",
       "2  88.519388                 0.279997            20.102873   2179.251493   \n",
       "3  68.676712                 1.841346            32.476741   3022.112596   \n",
       "4  62.504824                 1.088681            22.075720   3634.690298   \n",
       "\n",
       "  Cultural_Background  Genetic_Risk_Score Age_Group  Screen_Time  \n",
       "0                 Han            0.874595     Adult     8.294082  \n",
       "1                 Han            0.643054     Adult     4.593150  \n",
       "2               Other            0.715595     Adult     5.310293  \n",
       "3                 Han            0.658501     Adult     4.087884  \n",
       "4                 Han            0.102311     Adult     6.533303  \n",
       "\n",
       "[5 rows x 30 columns]"
      ]
     },
     "execution_count": 75,
     "metadata": {},
     "output_type": "execute_result"
    }
   ],
   "source": [
    "china_df.head()"
   ]
  },
  {
   "cell_type": "code",
   "execution_count": 77,
   "id": "b3b32383-b981-4650-8dd7-7466fd2cbc67",
   "metadata": {},
   "outputs": [],
   "source": [
    "china_df.columns = china_df.columns.str.strip()"
   ]
  },
  {
   "cell_type": "code",
   "execution_count": 81,
   "id": "1ec80ba0-09c2-4bfe-bb65-f5a6f67438da",
   "metadata": {},
   "outputs": [
    {
     "data": {
      "text/html": [
       "<div>\n",
       "<style scoped>\n",
       "    .dataframe tbody tr th:only-of-type {\n",
       "        vertical-align: middle;\n",
       "    }\n",
       "\n",
       "    .dataframe tbody tr th {\n",
       "        vertical-align: top;\n",
       "    }\n",
       "\n",
       "    .dataframe thead th {\n",
       "        text-align: right;\n",
       "    }\n",
       "</style>\n",
       "<table border=\"1\" class=\"dataframe\">\n",
       "  <thead>\n",
       "    <tr style=\"text-align: right;\">\n",
       "      <th></th>\n",
       "      <th>ID</th>\n",
       "      <th>Age</th>\n",
       "      <th>Gender</th>\n",
       "      <th>Heart_Attack</th>\n",
       "      <th>Blood_Pressure</th>\n",
       "      <th>Cholesterol_Level</th>\n",
       "      <th>Diabetes</th>\n",
       "      <th>Smoking</th>\n",
       "      <th>Alcohol_Consumption</th>\n",
       "      <th>Exercise_Level</th>\n",
       "      <th>...</th>\n",
       "      <th>Medication</th>\n",
       "      <th>Hypertension</th>\n",
       "      <th>Heart_Rate</th>\n",
       "      <th>Physical_Activity_Hours</th>\n",
       "      <th>Dietary_Fiber_Intake</th>\n",
       "      <th>Sodium_Intake</th>\n",
       "      <th>Cultural_Background</th>\n",
       "      <th>Genetic_Risk_Score</th>\n",
       "      <th>Age_Group</th>\n",
       "      <th>Screen_Time</th>\n",
       "    </tr>\n",
       "  </thead>\n",
       "  <tbody>\n",
       "    <tr>\n",
       "      <th>0</th>\n",
       "      <td>1</td>\n",
       "      <td>50</td>\n",
       "      <td>Female</td>\n",
       "      <td>No</td>\n",
       "      <td>147</td>\n",
       "      <td>215</td>\n",
       "      <td>No</td>\n",
       "      <td>No</td>\n",
       "      <td>Moderate</td>\n",
       "      <td>Low</td>\n",
       "      <td>...</td>\n",
       "      <td>No</td>\n",
       "      <td>No</td>\n",
       "      <td>59.022408</td>\n",
       "      <td>0.566953</td>\n",
       "      <td>37.073115</td>\n",
       "      <td>2278.711795</td>\n",
       "      <td>Han</td>\n",
       "      <td>0.874595</td>\n",
       "      <td>Adult</td>\n",
       "      <td>8.294082</td>\n",
       "    </tr>\n",
       "    <tr>\n",
       "      <th>1</th>\n",
       "      <td>2</td>\n",
       "      <td>40</td>\n",
       "      <td>Female</td>\n",
       "      <td>No</td>\n",
       "      <td>119</td>\n",
       "      <td>210</td>\n",
       "      <td>No</td>\n",
       "      <td>Yes</td>\n",
       "      <td>NaN</td>\n",
       "      <td>Low</td>\n",
       "      <td>...</td>\n",
       "      <td>No</td>\n",
       "      <td>No</td>\n",
       "      <td>76.564803</td>\n",
       "      <td>1.384155</td>\n",
       "      <td>35.724646</td>\n",
       "      <td>2284.789866</td>\n",
       "      <td>Han</td>\n",
       "      <td>0.643054</td>\n",
       "      <td>Adult</td>\n",
       "      <td>4.593150</td>\n",
       "    </tr>\n",
       "    <tr>\n",
       "      <th>2</th>\n",
       "      <td>3</td>\n",
       "      <td>26</td>\n",
       "      <td>Female</td>\n",
       "      <td>No</td>\n",
       "      <td>102</td>\n",
       "      <td>241</td>\n",
       "      <td>No</td>\n",
       "      <td>No</td>\n",
       "      <td>Heavy</td>\n",
       "      <td>Low</td>\n",
       "      <td>...</td>\n",
       "      <td>No</td>\n",
       "      <td>No</td>\n",
       "      <td>88.519388</td>\n",
       "      <td>0.279997</td>\n",
       "      <td>20.102873</td>\n",
       "      <td>2179.251493</td>\n",
       "      <td>Other</td>\n",
       "      <td>0.715595</td>\n",
       "      <td>Adult</td>\n",
       "      <td>5.310293</td>\n",
       "    </tr>\n",
       "    <tr>\n",
       "      <th>3</th>\n",
       "      <td>4</td>\n",
       "      <td>54</td>\n",
       "      <td>Male</td>\n",
       "      <td>No</td>\n",
       "      <td>121</td>\n",
       "      <td>252</td>\n",
       "      <td>No</td>\n",
       "      <td>No</td>\n",
       "      <td>Moderate</td>\n",
       "      <td>High</td>\n",
       "      <td>...</td>\n",
       "      <td>No</td>\n",
       "      <td>Yes</td>\n",
       "      <td>68.676712</td>\n",
       "      <td>1.841346</td>\n",
       "      <td>32.476741</td>\n",
       "      <td>3022.112596</td>\n",
       "      <td>Han</td>\n",
       "      <td>0.658501</td>\n",
       "      <td>Adult</td>\n",
       "      <td>4.087884</td>\n",
       "    </tr>\n",
       "    <tr>\n",
       "      <th>4</th>\n",
       "      <td>5</td>\n",
       "      <td>19</td>\n",
       "      <td>Female</td>\n",
       "      <td>No</td>\n",
       "      <td>130</td>\n",
       "      <td>164</td>\n",
       "      <td>No</td>\n",
       "      <td>Yes</td>\n",
       "      <td>Heavy</td>\n",
       "      <td>Low</td>\n",
       "      <td>...</td>\n",
       "      <td>No</td>\n",
       "      <td>No</td>\n",
       "      <td>62.504824</td>\n",
       "      <td>1.088681</td>\n",
       "      <td>22.075720</td>\n",
       "      <td>3634.690298</td>\n",
       "      <td>Han</td>\n",
       "      <td>0.102311</td>\n",
       "      <td>Adult</td>\n",
       "      <td>6.533303</td>\n",
       "    </tr>\n",
       "  </tbody>\n",
       "</table>\n",
       "<p>5 rows × 30 columns</p>\n",
       "</div>"
      ],
      "text/plain": [
       "   ID  Age  Gender Heart_Attack  Blood_Pressure  Cholesterol_Level Diabetes  \\\n",
       "0   1   50  Female           No             147                215       No   \n",
       "1   2   40  Female           No             119                210       No   \n",
       "2   3   26  Female           No             102                241       No   \n",
       "3   4   54    Male           No             121                252       No   \n",
       "4   5   19  Female           No             130                164       No   \n",
       "\n",
       "  Smoking Alcohol_Consumption Exercise_Level  ...  Medication Hypertension  \\\n",
       "0      No            Moderate            Low  ...          No           No   \n",
       "1     Yes                 NaN            Low  ...          No           No   \n",
       "2      No               Heavy            Low  ...          No           No   \n",
       "3      No            Moderate           High  ...          No          Yes   \n",
       "4     Yes               Heavy            Low  ...          No           No   \n",
       "\n",
       "  Heart_Rate  Physical_Activity_Hours Dietary_Fiber_Intake Sodium_Intake  \\\n",
       "0  59.022408                 0.566953            37.073115   2278.711795   \n",
       "1  76.564803                 1.384155            35.724646   2284.789866   \n",
       "2  88.519388                 0.279997            20.102873   2179.251493   \n",
       "3  68.676712                 1.841346            32.476741   3022.112596   \n",
       "4  62.504824                 1.088681            22.075720   3634.690298   \n",
       "\n",
       "  Cultural_Background  Genetic_Risk_Score Age_Group  Screen_Time  \n",
       "0                 Han            0.874595     Adult     8.294082  \n",
       "1                 Han            0.643054     Adult     4.593150  \n",
       "2               Other            0.715595     Adult     5.310293  \n",
       "3                 Han            0.658501     Adult     4.087884  \n",
       "4                 Han            0.102311     Adult     6.533303  \n",
       "\n",
       "[5 rows x 30 columns]"
      ]
     },
     "execution_count": 81,
     "metadata": {},
     "output_type": "execute_result"
    }
   ],
   "source": [
    "china_df.head()"
   ]
  },
  {
   "cell_type": "code",
   "execution_count": 83,
   "id": "55980d47-4a0b-466e-8cdd-c634672b69e5",
   "metadata": {},
   "outputs": [],
   "source": [
    "china_df.rename(columns={'Smoking':'Smoking_Status'},inplace = True)"
   ]
  },
  {
   "cell_type": "code",
   "execution_count": 85,
   "id": "7f262d5a-2b00-49c1-bd72-47093b2eb7ba",
   "metadata": {},
   "outputs": [
    {
     "data": {
      "text/html": [
       "<div>\n",
       "<style scoped>\n",
       "    .dataframe tbody tr th:only-of-type {\n",
       "        vertical-align: middle;\n",
       "    }\n",
       "\n",
       "    .dataframe tbody tr th {\n",
       "        vertical-align: top;\n",
       "    }\n",
       "\n",
       "    .dataframe thead th {\n",
       "        text-align: right;\n",
       "    }\n",
       "</style>\n",
       "<table border=\"1\" class=\"dataframe\">\n",
       "  <thead>\n",
       "    <tr style=\"text-align: right;\">\n",
       "      <th></th>\n",
       "      <th>ID</th>\n",
       "      <th>Age</th>\n",
       "      <th>Gender</th>\n",
       "      <th>Heart_Attack</th>\n",
       "      <th>Blood_Pressure</th>\n",
       "      <th>Cholesterol_Level</th>\n",
       "      <th>Diabetes</th>\n",
       "      <th>Smoking_Status</th>\n",
       "      <th>Alcohol_Consumption</th>\n",
       "      <th>Exercise_Level</th>\n",
       "      <th>...</th>\n",
       "      <th>Medication</th>\n",
       "      <th>Hypertension</th>\n",
       "      <th>Heart_Rate</th>\n",
       "      <th>Physical_Activity_Hours</th>\n",
       "      <th>Dietary_Fiber_Intake</th>\n",
       "      <th>Sodium_Intake</th>\n",
       "      <th>Cultural_Background</th>\n",
       "      <th>Genetic_Risk_Score</th>\n",
       "      <th>Age_Group</th>\n",
       "      <th>Screen_Time</th>\n",
       "    </tr>\n",
       "  </thead>\n",
       "  <tbody>\n",
       "    <tr>\n",
       "      <th>0</th>\n",
       "      <td>1</td>\n",
       "      <td>50</td>\n",
       "      <td>Female</td>\n",
       "      <td>No</td>\n",
       "      <td>147</td>\n",
       "      <td>215</td>\n",
       "      <td>No</td>\n",
       "      <td>No</td>\n",
       "      <td>Moderate</td>\n",
       "      <td>Low</td>\n",
       "      <td>...</td>\n",
       "      <td>No</td>\n",
       "      <td>No</td>\n",
       "      <td>59.022408</td>\n",
       "      <td>0.566953</td>\n",
       "      <td>37.073115</td>\n",
       "      <td>2278.711795</td>\n",
       "      <td>Han</td>\n",
       "      <td>0.874595</td>\n",
       "      <td>Adult</td>\n",
       "      <td>8.294082</td>\n",
       "    </tr>\n",
       "    <tr>\n",
       "      <th>1</th>\n",
       "      <td>2</td>\n",
       "      <td>40</td>\n",
       "      <td>Female</td>\n",
       "      <td>No</td>\n",
       "      <td>119</td>\n",
       "      <td>210</td>\n",
       "      <td>No</td>\n",
       "      <td>Yes</td>\n",
       "      <td>NaN</td>\n",
       "      <td>Low</td>\n",
       "      <td>...</td>\n",
       "      <td>No</td>\n",
       "      <td>No</td>\n",
       "      <td>76.564803</td>\n",
       "      <td>1.384155</td>\n",
       "      <td>35.724646</td>\n",
       "      <td>2284.789866</td>\n",
       "      <td>Han</td>\n",
       "      <td>0.643054</td>\n",
       "      <td>Adult</td>\n",
       "      <td>4.593150</td>\n",
       "    </tr>\n",
       "    <tr>\n",
       "      <th>2</th>\n",
       "      <td>3</td>\n",
       "      <td>26</td>\n",
       "      <td>Female</td>\n",
       "      <td>No</td>\n",
       "      <td>102</td>\n",
       "      <td>241</td>\n",
       "      <td>No</td>\n",
       "      <td>No</td>\n",
       "      <td>Heavy</td>\n",
       "      <td>Low</td>\n",
       "      <td>...</td>\n",
       "      <td>No</td>\n",
       "      <td>No</td>\n",
       "      <td>88.519388</td>\n",
       "      <td>0.279997</td>\n",
       "      <td>20.102873</td>\n",
       "      <td>2179.251493</td>\n",
       "      <td>Other</td>\n",
       "      <td>0.715595</td>\n",
       "      <td>Adult</td>\n",
       "      <td>5.310293</td>\n",
       "    </tr>\n",
       "    <tr>\n",
       "      <th>3</th>\n",
       "      <td>4</td>\n",
       "      <td>54</td>\n",
       "      <td>Male</td>\n",
       "      <td>No</td>\n",
       "      <td>121</td>\n",
       "      <td>252</td>\n",
       "      <td>No</td>\n",
       "      <td>No</td>\n",
       "      <td>Moderate</td>\n",
       "      <td>High</td>\n",
       "      <td>...</td>\n",
       "      <td>No</td>\n",
       "      <td>Yes</td>\n",
       "      <td>68.676712</td>\n",
       "      <td>1.841346</td>\n",
       "      <td>32.476741</td>\n",
       "      <td>3022.112596</td>\n",
       "      <td>Han</td>\n",
       "      <td>0.658501</td>\n",
       "      <td>Adult</td>\n",
       "      <td>4.087884</td>\n",
       "    </tr>\n",
       "    <tr>\n",
       "      <th>4</th>\n",
       "      <td>5</td>\n",
       "      <td>19</td>\n",
       "      <td>Female</td>\n",
       "      <td>No</td>\n",
       "      <td>130</td>\n",
       "      <td>164</td>\n",
       "      <td>No</td>\n",
       "      <td>Yes</td>\n",
       "      <td>Heavy</td>\n",
       "      <td>Low</td>\n",
       "      <td>...</td>\n",
       "      <td>No</td>\n",
       "      <td>No</td>\n",
       "      <td>62.504824</td>\n",
       "      <td>1.088681</td>\n",
       "      <td>22.075720</td>\n",
       "      <td>3634.690298</td>\n",
       "      <td>Han</td>\n",
       "      <td>0.102311</td>\n",
       "      <td>Adult</td>\n",
       "      <td>6.533303</td>\n",
       "    </tr>\n",
       "  </tbody>\n",
       "</table>\n",
       "<p>5 rows × 30 columns</p>\n",
       "</div>"
      ],
      "text/plain": [
       "   ID  Age  Gender Heart_Attack  Blood_Pressure  Cholesterol_Level Diabetes  \\\n",
       "0   1   50  Female           No             147                215       No   \n",
       "1   2   40  Female           No             119                210       No   \n",
       "2   3   26  Female           No             102                241       No   \n",
       "3   4   54    Male           No             121                252       No   \n",
       "4   5   19  Female           No             130                164       No   \n",
       "\n",
       "  Smoking_Status Alcohol_Consumption Exercise_Level  ...  Medication  \\\n",
       "0             No            Moderate            Low  ...          No   \n",
       "1            Yes                 NaN            Low  ...          No   \n",
       "2             No               Heavy            Low  ...          No   \n",
       "3             No            Moderate           High  ...          No   \n",
       "4            Yes               Heavy            Low  ...          No   \n",
       "\n",
       "  Hypertension Heart_Rate  Physical_Activity_Hours Dietary_Fiber_Intake  \\\n",
       "0           No  59.022408                 0.566953            37.073115   \n",
       "1           No  76.564803                 1.384155            35.724646   \n",
       "2           No  88.519388                 0.279997            20.102873   \n",
       "3          Yes  68.676712                 1.841346            32.476741   \n",
       "4           No  62.504824                 1.088681            22.075720   \n",
       "\n",
       "  Sodium_Intake Cultural_Background  Genetic_Risk_Score Age_Group  Screen_Time  \n",
       "0   2278.711795                 Han            0.874595     Adult     8.294082  \n",
       "1   2284.789866                 Han            0.643054     Adult     4.593150  \n",
       "2   2179.251493               Other            0.715595     Adult     5.310293  \n",
       "3   3022.112596                 Han            0.658501     Adult     4.087884  \n",
       "4   3634.690298                 Han            0.102311     Adult     6.533303  \n",
       "\n",
       "[5 rows x 30 columns]"
      ]
     },
     "execution_count": 85,
     "metadata": {},
     "output_type": "execute_result"
    }
   ],
   "source": [
    "china_df.head()"
   ]
  },
  {
   "cell_type": "code",
   "execution_count": 89,
   "id": "cc6ccd2f-0ac2-407d-aa1a-3f4d840f6d2f",
   "metadata": {},
   "outputs": [
    {
     "data": {
      "text/plain": [
       "Diabetes\n",
       "No     229461\n",
       "Yes     40539\n",
       "Name: count, dtype: int64"
      ]
     },
     "execution_count": 89,
     "metadata": {},
     "output_type": "execute_result"
    }
   ],
   "source": [
    "china_df['Diabetes'].value_counts()"
   ]
  },
  {
   "cell_type": "code",
   "execution_count": 91,
   "id": "5ec7ca99-c9e7-4e96-9638-15844feb4803",
   "metadata": {},
   "outputs": [
    {
     "data": {
      "text/plain": [
       "Alcohol_Consumption\n",
       "Moderate    108097\n",
       "Heavy        27021\n",
       "Name: count, dtype: int64"
      ]
     },
     "execution_count": 91,
     "metadata": {},
     "output_type": "execute_result"
    }
   ],
   "source": [
    "china_df['Alcohol_Consumption'].value_counts()"
   ]
  },
  {
   "cell_type": "code",
   "execution_count": 93,
   "id": "c2160bd2-d1d6-44b8-a780-9858cf86d248",
   "metadata": {},
   "outputs": [
    {
     "data": {
      "text/plain": [
       "134882"
      ]
     },
     "execution_count": 93,
     "metadata": {},
     "output_type": "execute_result"
    }
   ],
   "source": [
    "china_df['Alcohol_Consumption'].isnull().sum()"
   ]
  },
  {
   "cell_type": "code",
   "execution_count": 95,
   "id": "c9a9de9e-292b-4739-be05-06e66673556a",
   "metadata": {},
   "outputs": [],
   "source": [
    "moderate_ratio = china_df['Alcohol_Consumption'].value_counts(normalize = True)['Moderate']"
   ]
  },
  {
   "cell_type": "code",
   "execution_count": 97,
   "id": "1f200bc1-cba0-49a9-8c96-8890368959c8",
   "metadata": {},
   "outputs": [
    {
     "data": {
      "text/plain": [
       "0.8000192424399414"
      ]
     },
     "execution_count": 97,
     "metadata": {},
     "output_type": "execute_result"
    }
   ],
   "source": [
    "moderate_ratio"
   ]
  },
  {
   "cell_type": "code",
   "execution_count": 99,
   "id": "b99bc363-f1cf-4c41-b35e-506db4f85a8c",
   "metadata": {},
   "outputs": [],
   "source": [
    "moderate_percentage = moderate_ratio *100"
   ]
  },
  {
   "cell_type": "code",
   "execution_count": 101,
   "id": "5abc77dd-d526-4e5f-be2a-69861e850f2f",
   "metadata": {},
   "outputs": [
    {
     "data": {
      "text/plain": [
       "80.00192424399414"
      ]
     },
     "execution_count": 101,
     "metadata": {},
     "output_type": "execute_result"
    }
   ],
   "source": [
    "moderate_percentage"
   ]
  },
  {
   "cell_type": "code",
   "execution_count": 105,
   "id": "654ca6ac-6c5e-4ffc-8163-1f0a9921612b",
   "metadata": {},
   "outputs": [],
   "source": [
    "high_ratio = china_df['Alcohol_Consumption'].value_counts(normalize = True)['Heavy']"
   ]
  },
  {
   "cell_type": "code",
   "execution_count": 107,
   "id": "7bdbda48-669d-4321-ada9-6d5426977825",
   "metadata": {},
   "outputs": [
    {
     "data": {
      "text/plain": [
       "0.19998075756005862"
      ]
     },
     "execution_count": 107,
     "metadata": {},
     "output_type": "execute_result"
    }
   ],
   "source": [
    "high_ratio"
   ]
  },
  {
   "cell_type": "code",
   "execution_count": 109,
   "id": "3a69cab9-d1ec-4be2-ad35-6d822b691117",
   "metadata": {},
   "outputs": [],
   "source": [
    "high_percentage = high_ratio * 100"
   ]
  },
  {
   "cell_type": "code",
   "execution_count": 111,
   "id": "8853ca76-f520-482d-963d-8a32cb14aea2",
   "metadata": {},
   "outputs": [
    {
     "data": {
      "text/plain": [
       "19.99807575600586"
      ]
     },
     "execution_count": 111,
     "metadata": {},
     "output_type": "execute_result"
    }
   ],
   "source": [
    "high_percentage"
   ]
  },
  {
   "cell_type": "code",
   "execution_count": 117,
   "id": "7294adb6-3b5b-4f45-85f2-d1a08a652ef8",
   "metadata": {},
   "outputs": [],
   "source": [
    "import numpy as np\n",
    "\n",
    "np.random.seed(42)\n",
    "\n",
    "china_df.loc[china_df['Alcohol_Consumption'].isnull(),'Alcohol_Consumption']=np.random.choice(\n",
    "    ['Moderate','Heavy'],\n",
    "    size = china_df['Alcohol_Consumption'].isnull().sum(),\n",
    "    p = [moderate_ratio , high_ratio]\n",
    ")"
   ]
  },
  {
   "cell_type": "code",
   "execution_count": 121,
   "id": "cfe26a68-4bd9-48a5-80a4-dde8a38c1393",
   "metadata": {},
   "outputs": [
    {
     "data": {
      "text/plain": [
       "270000"
      ]
     },
     "execution_count": 121,
     "metadata": {},
     "output_type": "execute_result"
    }
   ],
   "source": [
    "china_df['Alcohol_Consumption'].value_counts().sum()"
   ]
  },
  {
   "cell_type": "code",
   "execution_count": 123,
   "id": "57685897-c3f4-40af-91da-dace8e250ea7",
   "metadata": {},
   "outputs": [
    {
     "data": {
      "text/plain": [
       "Alcohol_Consumption\n",
       "Moderate    216016\n",
       "Heavy        53984\n",
       "Name: count, dtype: int64"
      ]
     },
     "execution_count": 123,
     "metadata": {},
     "output_type": "execute_result"
    }
   ],
   "source": [
    "china_df['Alcohol_Consumption'].value_counts()"
   ]
  },
  {
   "cell_type": "code",
   "execution_count": 125,
   "id": "c8fa2283-457b-40f2-b864-d0bb530a0240",
   "metadata": {},
   "outputs": [
    {
     "name": "stdout",
     "output_type": "stream",
     "text": [
      "<class 'pandas.core.frame.DataFrame'>\n",
      "RangeIndex: 270000 entries, 0 to 269999\n",
      "Data columns (total 30 columns):\n",
      " #   Column                   Non-Null Count   Dtype  \n",
      "---  ------                   --------------   -----  \n",
      " 0   ID                       270000 non-null  int64  \n",
      " 1   Age                      270000 non-null  int64  \n",
      " 2   Gender                   270000 non-null  object \n",
      " 3   Heart_Attack             270000 non-null  object \n",
      " 4   Blood_Pressure           270000 non-null  int32  \n",
      " 5   Cholesterol_Level        270000 non-null  int32  \n",
      " 6   Diabetes                 270000 non-null  object \n",
      " 7   Smoking_Status           270000 non-null  object \n",
      " 8   Alcohol_Consumption      270000 non-null  object \n",
      " 9   Exercise_Level           270000 non-null  object \n",
      " 10  BMI                      270000 non-null  float64\n",
      " 11  Family_History           270000 non-null  object \n",
      " 12  Diet_Type                270000 non-null  object \n",
      " 13  Stress_Level             270000 non-null  float64\n",
      " 14  Residence                270000 non-null  object \n",
      " 15  Education_Level          270000 non-null  object \n",
      " 16  Employment_Status        270000 non-null  object \n",
      " 17  Income_Level             270000 non-null  float64\n",
      " 18  Marital_Status           270000 non-null  object \n",
      " 19  Sleep_Hours              270000 non-null  float64\n",
      " 20  Medication               270000 non-null  object \n",
      " 21  Hypertension             270000 non-null  object \n",
      " 22  Heart_Rate               270000 non-null  float64\n",
      " 23  Physical_Activity_Hours  270000 non-null  float64\n",
      " 24  Dietary_Fiber_Intake     270000 non-null  float64\n",
      " 25  Sodium_Intake            270000 non-null  float64\n",
      " 26  Cultural_Background      270000 non-null  object \n",
      " 27  Genetic_Risk_Score       270000 non-null  float64\n",
      " 28  Age_Group                270000 non-null  object \n",
      " 29  Screen_Time              270000 non-null  float64\n",
      "dtypes: float64(10), int32(2), int64(2), object(16)\n",
      "memory usage: 59.7+ MB\n"
     ]
    }
   ],
   "source": [
    "china_df.info()"
   ]
  },
  {
   "cell_type": "code",
   "execution_count": 127,
   "id": "0e2e5a86-25a4-4b2f-b5dd-5350fa74319e",
   "metadata": {},
   "outputs": [
    {
     "data": {
      "text/plain": [
       "Family_History\n",
       "No     202829\n",
       "Yes     67171\n",
       "Name: count, dtype: int64"
      ]
     },
     "execution_count": 127,
     "metadata": {},
     "output_type": "execute_result"
    }
   ],
   "source": [
    "china_df['Family_History'].value_counts()"
   ]
  },
  {
   "cell_type": "code",
   "execution_count": 131,
   "id": "dd05c0f8-41dc-4551-b69e-35ea3fa3ce92",
   "metadata": {},
   "outputs": [
    {
     "data": {
      "text/plain": [
       "Diet_Type\n",
       "Healthy      108123\n",
       "Moderate     107760\n",
       "Unhealthy     54117\n",
       "Name: count, dtype: int64"
      ]
     },
     "execution_count": 131,
     "metadata": {},
     "output_type": "execute_result"
    }
   ],
   "source": [
    "china_df['Diet_Type'].value_counts()"
   ]
  },
  {
   "cell_type": "code",
   "execution_count": 133,
   "id": "d625a780-dd70-42de-9a2b-f85c45e04672",
   "metadata": {},
   "outputs": [],
   "source": [
    "china_df.rename(columns={'Diet_Type': 'Diet_Quality'}, inplace = True)"
   ]
  },
  {
   "cell_type": "code",
   "execution_count": 135,
   "id": "a867d3e9-71fc-49e5-a3d1-fb4dbc662a38",
   "metadata": {},
   "outputs": [
    {
     "name": "stdout",
     "output_type": "stream",
     "text": [
      "<class 'pandas.core.frame.DataFrame'>\n",
      "RangeIndex: 270000 entries, 0 to 269999\n",
      "Data columns (total 30 columns):\n",
      " #   Column                   Non-Null Count   Dtype  \n",
      "---  ------                   --------------   -----  \n",
      " 0   ID                       270000 non-null  int64  \n",
      " 1   Age                      270000 non-null  int64  \n",
      " 2   Gender                   270000 non-null  object \n",
      " 3   Heart_Attack             270000 non-null  object \n",
      " 4   Blood_Pressure           270000 non-null  int32  \n",
      " 5   Cholesterol_Level        270000 non-null  int32  \n",
      " 6   Diabetes                 270000 non-null  object \n",
      " 7   Smoking_Status           270000 non-null  object \n",
      " 8   Alcohol_Consumption      270000 non-null  object \n",
      " 9   Exercise_Level           270000 non-null  object \n",
      " 10  BMI                      270000 non-null  float64\n",
      " 11  Family_History           270000 non-null  object \n",
      " 12  Diet_Quality             270000 non-null  object \n",
      " 13  Stress_Level             270000 non-null  float64\n",
      " 14  Residence                270000 non-null  object \n",
      " 15  Education_Level          270000 non-null  object \n",
      " 16  Employment_Status        270000 non-null  object \n",
      " 17  Income_Level             270000 non-null  float64\n",
      " 18  Marital_Status           270000 non-null  object \n",
      " 19  Sleep_Hours              270000 non-null  float64\n",
      " 20  Medication               270000 non-null  object \n",
      " 21  Hypertension             270000 non-null  object \n",
      " 22  Heart_Rate               270000 non-null  float64\n",
      " 23  Physical_Activity_Hours  270000 non-null  float64\n",
      " 24  Dietary_Fiber_Intake     270000 non-null  float64\n",
      " 25  Sodium_Intake            270000 non-null  float64\n",
      " 26  Cultural_Background      270000 non-null  object \n",
      " 27  Genetic_Risk_Score       270000 non-null  float64\n",
      " 28  Age_Group                270000 non-null  object \n",
      " 29  Screen_Time              270000 non-null  float64\n",
      "dtypes: float64(10), int32(2), int64(2), object(16)\n",
      "memory usage: 59.7+ MB\n"
     ]
    }
   ],
   "source": [
    "china_df.info()"
   ]
  },
  {
   "cell_type": "code",
   "execution_count": 373,
   "id": "ec04358a-c19e-4551-90bc-9e3ae045c81f",
   "metadata": {},
   "outputs": [
    {
     "data": {
      "text/plain": [
       "Stress_Level\n",
       "2.7    3132\n",
       "7.2    3122\n",
       "9.6    3108\n",
       "1.2    3104\n",
       "1.8    3092\n",
       "       ... \n",
       "7.0    2911\n",
       "5.8    2898\n",
       "2.6    2889\n",
       "7.9    2887\n",
       "2.8    2827\n",
       "Name: count, Length: 90, dtype: int64"
      ]
     },
     "execution_count": 373,
     "metadata": {},
     "output_type": "execute_result"
    }
   ],
   "source": [
    "china_df['Stress_Level'].value_counts()"
   ]
  },
  {
   "cell_type": "code",
   "execution_count": 375,
   "id": "159dff0a-11aa-4a81-a8b1-5e5a24e0f436",
   "metadata": {},
   "outputs": [],
   "source": [
    "china_df['Stress_Level'] = (china_df['Stress_Level'] * 10).astype(int) / 10"
   ]
  },
  {
   "cell_type": "code",
   "execution_count": 381,
   "id": "712cdf91-8891-4b52-be61-392c11234d1b",
   "metadata": {},
   "outputs": [
    {
     "name": "stdout",
     "output_type": "stream",
     "text": [
      "Stress_Level\n",
      "Bad         116796\n",
      "Moderate     89998\n",
      "Good         63206\n",
      "Name: count, dtype: int64\n"
     ]
    }
   ],
   "source": [
    "# Define the bins and labels\n",
    "bins = [0, 3.0, 6.0, 10.0]  # Stress levels: 0-3 (Good), 3.1-6 (Moderate), 6.1-10 (Bad)\n",
    "labels = ['Good', 'Moderate', 'Bad']  # Categories for stress levels\n",
    "\n",
    "# Categorize the stress levels into the defined categories\n",
    "china_df['Stress_Level'] = pd.cut(china_df['Stress_Level'], bins=bins, labels=labels, right=True)\n",
    "\n",
    "# Check the result to see how many entries fall under each category\n",
    "print(china_df['Stress_Level'].value_counts())"
   ]
  },
  {
   "cell_type": "code",
   "execution_count": 389,
   "id": "36020bf3-6021-4119-8d68-a12cb42dc854",
   "metadata": {},
   "outputs": [],
   "source": [
    "# Convert the newly created categorical column to object (if not already)\n",
    "china_df['Stress_Level'] = china_df['Stress_Level'].astype('object')\n",
    "\n",
    "\n"
   ]
  },
  {
   "cell_type": "code",
   "execution_count": 391,
   "id": "1ab1adbd-a9f0-4e2f-a539-92384cde0a54",
   "metadata": {},
   "outputs": [
    {
     "name": "stdout",
     "output_type": "stream",
     "text": [
      "<class 'pandas.core.frame.DataFrame'>\n",
      "RangeIndex: 270000 entries, 0 to 269999\n",
      "Data columns (total 32 columns):\n",
      " #   Column                   Non-Null Count   Dtype  \n",
      "---  ------                   --------------   -----  \n",
      " 0   ID                       270000 non-null  int64  \n",
      " 1   Age                      270000 non-null  int64  \n",
      " 2   Gender                   270000 non-null  object \n",
      " 3   Heart_Attack             270000 non-null  object \n",
      " 4   Blood_Pressure           270000 non-null  int32  \n",
      " 5   Cholesterol_Level        270000 non-null  int32  \n",
      " 6   Diabetes                 270000 non-null  object \n",
      " 7   Smoking_Status           270000 non-null  object \n",
      " 8   Alcohol_Consumption      270000 non-null  object \n",
      " 9   Physical_Activity        270000 non-null  object \n",
      " 10  BMI                      270000 non-null  float64\n",
      " 11  Family_History           270000 non-null  object \n",
      " 12  Diet_Quality             270000 non-null  object \n",
      " 13  Stress_Level             270000 non-null  object \n",
      " 14  Region_category          270000 non-null  object \n",
      " 15  Education_Level          270000 non-null  object \n",
      " 16  Employment_Status        270000 non-null  object \n",
      " 17  Income_Level             270000 non-null  object \n",
      " 18  Marital_Status           270000 non-null  object \n",
      " 19  Sleep_Hours              270000 non-null  float64\n",
      " 20  Medication_Status        270000 non-null  object \n",
      " 21  Hypertension_Status      270000 non-null  object \n",
      " 22  Heart_Rate               270000 non-null  int32  \n",
      " 23  Physical_Activity_Hours  270000 non-null  int32  \n",
      " 24  Dietary_Fiber_Intake     270000 non-null  object \n",
      " 25  Sodium_Intake            270000 non-null  object \n",
      " 26  Cultural_Background      270000 non-null  object \n",
      " 27  Genetic_Risk_Score       270000 non-null  float64\n",
      " 28  Age_Group                270000 non-null  object \n",
      " 29  Screen_Time              270000 non-null  float64\n",
      " 30  Sodium_Level             270000 non-null  object \n",
      " 31  Stress_Level_Category    270000 non-null  object \n",
      "dtypes: float64(4), int32(4), int64(2), object(22)\n",
      "memory usage: 61.8+ MB\n"
     ]
    }
   ],
   "source": [
    "china_df.info()"
   ]
  },
  {
   "cell_type": "code",
   "execution_count": 139,
   "id": "c163e812-8f25-4e8b-9666-2cbb79ccb6a3",
   "metadata": {},
   "outputs": [
    {
     "data": {
      "text/plain": [
       "BMI\n",
       "23.637733    1\n",
       "25.064299    1\n",
       "24.013376    1\n",
       "22.405985    1\n",
       "20.730903    1\n",
       "            ..\n",
       "31.921509    1\n",
       "23.875671    1\n",
       "24.986501    1\n",
       "23.124550    1\n",
       "22.210168    1\n",
       "Name: count, Length: 270000, dtype: int64"
      ]
     },
     "execution_count": 139,
     "metadata": {},
     "output_type": "execute_result"
    }
   ],
   "source": [
    "china_df['BMI'].value_counts()"
   ]
  },
  {
   "cell_type": "code",
   "execution_count": 141,
   "id": "1e9f035f-0b56-4f31-8527-4e2474bc311a",
   "metadata": {},
   "outputs": [],
   "source": [
    "china_df['BMI'] = (china_df['BMI'] * 10).astype(int) / 10"
   ]
  },
  {
   "cell_type": "code",
   "execution_count": 143,
   "id": "0cb88da3-9b01-44b5-99d8-631bc1b08bc3",
   "metadata": {},
   "outputs": [
    {
     "data": {
      "text/plain": [
       "BMI\n",
       "24.3    2761\n",
       "24.6    2749\n",
       "23.1    2725\n",
       "23.6    2721\n",
       "23.9    2721\n",
       "        ... \n",
       "8.0        1\n",
       "38.4       1\n",
       "7.0        1\n",
       "40.7       1\n",
       "39.7       1\n",
       "Name: count, Length: 327, dtype: int64"
      ]
     },
     "execution_count": 143,
     "metadata": {},
     "output_type": "execute_result"
    }
   ],
   "source": [
    "china_df['BMI'].value_counts()"
   ]
  },
  {
   "cell_type": "code",
   "execution_count": 145,
   "id": "ab6b26e2-01e9-4e6d-823c-8aa7a62671b8",
   "metadata": {},
   "outputs": [
    {
     "data": {
      "text/html": [
       "<div>\n",
       "<style scoped>\n",
       "    .dataframe tbody tr th:only-of-type {\n",
       "        vertical-align: middle;\n",
       "    }\n",
       "\n",
       "    .dataframe tbody tr th {\n",
       "        vertical-align: top;\n",
       "    }\n",
       "\n",
       "    .dataframe thead th {\n",
       "        text-align: right;\n",
       "    }\n",
       "</style>\n",
       "<table border=\"1\" class=\"dataframe\">\n",
       "  <thead>\n",
       "    <tr style=\"text-align: right;\">\n",
       "      <th></th>\n",
       "      <th>ID</th>\n",
       "      <th>Age</th>\n",
       "      <th>Gender</th>\n",
       "      <th>Heart_Attack</th>\n",
       "      <th>Blood_Pressure</th>\n",
       "      <th>Cholesterol_Level</th>\n",
       "      <th>Diabetes</th>\n",
       "      <th>Smoking_Status</th>\n",
       "      <th>Alcohol_Consumption</th>\n",
       "      <th>Exercise_Level</th>\n",
       "      <th>...</th>\n",
       "      <th>Medication</th>\n",
       "      <th>Hypertension</th>\n",
       "      <th>Heart_Rate</th>\n",
       "      <th>Physical_Activity_Hours</th>\n",
       "      <th>Dietary_Fiber_Intake</th>\n",
       "      <th>Sodium_Intake</th>\n",
       "      <th>Cultural_Background</th>\n",
       "      <th>Genetic_Risk_Score</th>\n",
       "      <th>Age_Group</th>\n",
       "      <th>Screen_Time</th>\n",
       "    </tr>\n",
       "  </thead>\n",
       "  <tbody>\n",
       "    <tr>\n",
       "      <th>0</th>\n",
       "      <td>1</td>\n",
       "      <td>50</td>\n",
       "      <td>Female</td>\n",
       "      <td>No</td>\n",
       "      <td>147</td>\n",
       "      <td>215</td>\n",
       "      <td>No</td>\n",
       "      <td>No</td>\n",
       "      <td>Moderate</td>\n",
       "      <td>Low</td>\n",
       "      <td>...</td>\n",
       "      <td>No</td>\n",
       "      <td>No</td>\n",
       "      <td>59.022408</td>\n",
       "      <td>0.566953</td>\n",
       "      <td>37.073115</td>\n",
       "      <td>2278.711795</td>\n",
       "      <td>Han</td>\n",
       "      <td>0.874595</td>\n",
       "      <td>Adult</td>\n",
       "      <td>8.294082</td>\n",
       "    </tr>\n",
       "    <tr>\n",
       "      <th>1</th>\n",
       "      <td>2</td>\n",
       "      <td>40</td>\n",
       "      <td>Female</td>\n",
       "      <td>No</td>\n",
       "      <td>119</td>\n",
       "      <td>210</td>\n",
       "      <td>No</td>\n",
       "      <td>Yes</td>\n",
       "      <td>Moderate</td>\n",
       "      <td>Low</td>\n",
       "      <td>...</td>\n",
       "      <td>No</td>\n",
       "      <td>No</td>\n",
       "      <td>76.564803</td>\n",
       "      <td>1.384155</td>\n",
       "      <td>35.724646</td>\n",
       "      <td>2284.789866</td>\n",
       "      <td>Han</td>\n",
       "      <td>0.643054</td>\n",
       "      <td>Adult</td>\n",
       "      <td>4.593150</td>\n",
       "    </tr>\n",
       "    <tr>\n",
       "      <th>2</th>\n",
       "      <td>3</td>\n",
       "      <td>26</td>\n",
       "      <td>Female</td>\n",
       "      <td>No</td>\n",
       "      <td>102</td>\n",
       "      <td>241</td>\n",
       "      <td>No</td>\n",
       "      <td>No</td>\n",
       "      <td>Heavy</td>\n",
       "      <td>Low</td>\n",
       "      <td>...</td>\n",
       "      <td>No</td>\n",
       "      <td>No</td>\n",
       "      <td>88.519388</td>\n",
       "      <td>0.279997</td>\n",
       "      <td>20.102873</td>\n",
       "      <td>2179.251493</td>\n",
       "      <td>Other</td>\n",
       "      <td>0.715595</td>\n",
       "      <td>Adult</td>\n",
       "      <td>5.310293</td>\n",
       "    </tr>\n",
       "    <tr>\n",
       "      <th>3</th>\n",
       "      <td>4</td>\n",
       "      <td>54</td>\n",
       "      <td>Male</td>\n",
       "      <td>No</td>\n",
       "      <td>121</td>\n",
       "      <td>252</td>\n",
       "      <td>No</td>\n",
       "      <td>No</td>\n",
       "      <td>Moderate</td>\n",
       "      <td>High</td>\n",
       "      <td>...</td>\n",
       "      <td>No</td>\n",
       "      <td>Yes</td>\n",
       "      <td>68.676712</td>\n",
       "      <td>1.841346</td>\n",
       "      <td>32.476741</td>\n",
       "      <td>3022.112596</td>\n",
       "      <td>Han</td>\n",
       "      <td>0.658501</td>\n",
       "      <td>Adult</td>\n",
       "      <td>4.087884</td>\n",
       "    </tr>\n",
       "  </tbody>\n",
       "</table>\n",
       "<p>4 rows × 30 columns</p>\n",
       "</div>"
      ],
      "text/plain": [
       "   ID  Age  Gender Heart_Attack  Blood_Pressure  Cholesterol_Level Diabetes  \\\n",
       "0   1   50  Female           No             147                215       No   \n",
       "1   2   40  Female           No             119                210       No   \n",
       "2   3   26  Female           No             102                241       No   \n",
       "3   4   54    Male           No             121                252       No   \n",
       "\n",
       "  Smoking_Status Alcohol_Consumption Exercise_Level  ...  Medication  \\\n",
       "0             No            Moderate            Low  ...          No   \n",
       "1            Yes            Moderate            Low  ...          No   \n",
       "2             No               Heavy            Low  ...          No   \n",
       "3             No            Moderate           High  ...          No   \n",
       "\n",
       "  Hypertension Heart_Rate  Physical_Activity_Hours Dietary_Fiber_Intake  \\\n",
       "0           No  59.022408                 0.566953            37.073115   \n",
       "1           No  76.564803                 1.384155            35.724646   \n",
       "2           No  88.519388                 0.279997            20.102873   \n",
       "3          Yes  68.676712                 1.841346            32.476741   \n",
       "\n",
       "  Sodium_Intake Cultural_Background  Genetic_Risk_Score Age_Group  Screen_Time  \n",
       "0   2278.711795                 Han            0.874595     Adult     8.294082  \n",
       "1   2284.789866                 Han            0.643054     Adult     4.593150  \n",
       "2   2179.251493               Other            0.715595     Adult     5.310293  \n",
       "3   3022.112596                 Han            0.658501     Adult     4.087884  \n",
       "\n",
       "[4 rows x 30 columns]"
      ]
     },
     "execution_count": 145,
     "metadata": {},
     "output_type": "execute_result"
    }
   ],
   "source": [
    "china_df.head(4)"
   ]
  },
  {
   "cell_type": "code",
   "execution_count": 165,
   "id": "826f6f55-fad5-425b-a71a-4b787fc07015",
   "metadata": {},
   "outputs": [],
   "source": [
    "china_df.rename(columns = {'Residence' :'Region_Category'},inplace = True)"
   ]
  },
  {
   "cell_type": "code",
   "execution_count": 170,
   "id": "3afe9586-4db1-4fca-856c-9f1acfa5bf04",
   "metadata": {},
   "outputs": [
    {
     "name": "stdout",
     "output_type": "stream",
     "text": [
      "<class 'pandas.core.frame.DataFrame'>\n",
      "RangeIndex: 270000 entries, 0 to 269999\n",
      "Data columns (total 30 columns):\n",
      " #   Column                   Non-Null Count   Dtype  \n",
      "---  ------                   --------------   -----  \n",
      " 0   ID                       270000 non-null  int64  \n",
      " 1   Age                      270000 non-null  int64  \n",
      " 2   Gender                   270000 non-null  object \n",
      " 3   Heart_Attack             270000 non-null  object \n",
      " 4   Blood_Pressure           270000 non-null  int32  \n",
      " 5   Cholesterol_Level        270000 non-null  int32  \n",
      " 6   Diabetes                 270000 non-null  object \n",
      " 7   Smoking_Status           270000 non-null  object \n",
      " 8   Alcohol_Consumption      270000 non-null  object \n",
      " 9   Exercise_Level           270000 non-null  object \n",
      " 10  BMI                      270000 non-null  float64\n",
      " 11  Family_History           270000 non-null  object \n",
      " 12  Diet_Quality             270000 non-null  object \n",
      " 13  Stress_Level             270000 non-null  float64\n",
      " 14  Region_category          270000 non-null  object \n",
      " 15  Education_Level          270000 non-null  object \n",
      " 16  Employment_Status        270000 non-null  object \n",
      " 17  Income_Level             270000 non-null  float64\n",
      " 18  Marital_Status           270000 non-null  object \n",
      " 19  Sleep_Hours              270000 non-null  float64\n",
      " 20  Medication               270000 non-null  object \n",
      " 21  Hypertension             270000 non-null  object \n",
      " 22  Heart_Rate               270000 non-null  float64\n",
      " 23  Physical_Activity_Hours  270000 non-null  float64\n",
      " 24  Dietary_Fiber_Intake     270000 non-null  float64\n",
      " 25  Sodium_Intake            270000 non-null  float64\n",
      " 26  Cultural_Background      270000 non-null  object \n",
      " 27  Genetic_Risk_Score       270000 non-null  float64\n",
      " 28  Age_Group                270000 non-null  object \n",
      " 29  Screen_Time              270000 non-null  float64\n",
      "dtypes: float64(10), int32(2), int64(2), object(16)\n",
      "memory usage: 59.7+ MB\n"
     ]
    }
   ],
   "source": [
    "china_df.info()"
   ]
  },
  {
   "cell_type": "code",
   "execution_count": 174,
   "id": "60b15a79-0ac9-4b44-bbe8-ec16a646389f",
   "metadata": {},
   "outputs": [
    {
     "data": {
      "text/plain": [
       "Region_category\n",
       "Urban    188637\n",
       "Rural     81363\n",
       "Name: count, dtype: int64"
      ]
     },
     "execution_count": 174,
     "metadata": {},
     "output_type": "execute_result"
    }
   ],
   "source": [
    "china_df['Region_category'].value_counts()"
   ]
  },
  {
   "cell_type": "code",
   "execution_count": 184,
   "id": "65126ffd-e3a2-45b0-97dd-6b36a29a0a12",
   "metadata": {},
   "outputs": [],
   "source": [
    "china_df['Region_category'] =china_df['Region_category'].replace({\n",
    "    'Rural': 'China (Rural)',\n",
    "    'Urban': 'China (Urban)'\n",
    "})"
   ]
  },
  {
   "cell_type": "code",
   "execution_count": 186,
   "id": "a54c06df-17ff-4c7a-b2e1-eae84c1a49aa",
   "metadata": {},
   "outputs": [
    {
     "data": {
      "text/plain": [
       "Region_category\n",
       "China (Urban)    188637\n",
       "China (Rural)     81363\n",
       "Name: count, dtype: int64"
      ]
     },
     "execution_count": 186,
     "metadata": {},
     "output_type": "execute_result"
    }
   ],
   "source": [
    "china_df['Region_category'].value_counts()"
   ]
  },
  {
   "cell_type": "code",
   "execution_count": 188,
   "id": "3d9588c3-2db7-47a3-8bbb-b40dcea63e85",
   "metadata": {},
   "outputs": [
    {
     "data": {
      "text/plain": [
       "Education_Level\n",
       "Secondary    134853\n",
       "Tertiary      80972\n",
       "Primary       54175\n",
       "Name: count, dtype: int64"
      ]
     },
     "execution_count": 188,
     "metadata": {},
     "output_type": "execute_result"
    }
   ],
   "source": [
    "china_df['Education_Level'].value_counts()"
   ]
  },
  {
   "cell_type": "code",
   "execution_count": 266,
   "id": "31136e54-d1d3-4811-9248-50539694d75a",
   "metadata": {},
   "outputs": [
    {
     "data": {
      "text/plain": [
       "Physical_Activity\n",
       "Moderate    135122\n",
       "Low          80807\n",
       "High         54071\n",
       "Name: count, dtype: int64"
      ]
     },
     "execution_count": 266,
     "metadata": {},
     "output_type": "execute_result"
    }
   ],
   "source": [
    "china_df['Physical_Activity'].value_counts()"
   ]
  },
  {
   "cell_type": "code",
   "execution_count": 190,
   "id": "5a23c73b-b4f0-4ea0-b991-09428d2e34bc",
   "metadata": {},
   "outputs": [
    {
     "data": {
      "text/plain": [
       "Employment_Status\n",
       "Employed      189166\n",
       "Student        53771\n",
       "Unemployed     27063\n",
       "Name: count, dtype: int64"
      ]
     },
     "execution_count": 190,
     "metadata": {},
     "output_type": "execute_result"
    }
   ],
   "source": [
    "china_df['Employment_Status'].value_counts()"
   ]
  },
  {
   "cell_type": "code",
   "execution_count": 192,
   "id": "e0c8c3d3-5dba-4d60-b1a3-84fb47ef545f",
   "metadata": {},
   "outputs": [],
   "source": [
    "china_df.rename(columns = {'Exercise_Level':'Physical_Activity'},inplace = True)"
   ]
  },
  {
   "cell_type": "code",
   "execution_count": 214,
   "id": "7e7a5e05-5fe0-4903-87ca-b7fee1a0452e",
   "metadata": {},
   "outputs": [
    {
     "name": "stdout",
     "output_type": "stream",
     "text": [
      "<class 'pandas.core.frame.DataFrame'>\n",
      "RangeIndex: 270000 entries, 0 to 269999\n",
      "Data columns (total 30 columns):\n",
      " #   Column                   Non-Null Count   Dtype  \n",
      "---  ------                   --------------   -----  \n",
      " 0   ID                       270000 non-null  int64  \n",
      " 1   Age                      270000 non-null  int64  \n",
      " 2   Gender                   270000 non-null  object \n",
      " 3   Heart_Attack             270000 non-null  object \n",
      " 4   Blood_Pressure           270000 non-null  int32  \n",
      " 5   Cholesterol_Level        270000 non-null  int32  \n",
      " 6   Diabetes                 270000 non-null  object \n",
      " 7   Smoking_Status           270000 non-null  object \n",
      " 8   Alcohol_Consumption      270000 non-null  object \n",
      " 9   Physical_Activity        270000 non-null  object \n",
      " 10  BMI                      270000 non-null  float64\n",
      " 11  Family_History           270000 non-null  object \n",
      " 12  Diet_Quality             270000 non-null  object \n",
      " 13  Stress_Level             270000 non-null  float64\n",
      " 14  Region_category          270000 non-null  object \n",
      " 15  Education_Level          270000 non-null  object \n",
      " 16  Employment_Status        270000 non-null  object \n",
      " 17  Income_Level             270000 non-null  float64\n",
      " 18  Marital_Status           270000 non-null  object \n",
      " 19  Sleep_Hours              270000 non-null  float64\n",
      " 20  Medication               270000 non-null  object \n",
      " 21  Hypertension             270000 non-null  object \n",
      " 22  Heart_Rate               270000 non-null  float64\n",
      " 23  Physical_Activity_Hours  270000 non-null  float64\n",
      " 24  Dietary_Fiber_Intake     270000 non-null  float64\n",
      " 25  Sodium_Intake            270000 non-null  float64\n",
      " 26  Cultural_Background      270000 non-null  object \n",
      " 27  Genetic_Risk_Score       270000 non-null  float64\n",
      " 28  Age_Group                270000 non-null  object \n",
      " 29  Screen_Time              270000 non-null  float64\n",
      "dtypes: float64(10), int32(2), int64(2), object(16)\n",
      "memory usage: 59.7+ MB\n"
     ]
    }
   ],
   "source": [
    "china_df.info()"
   ]
  },
  {
   "cell_type": "code",
   "execution_count": 338,
   "id": "224a4e6d-6f1a-4653-ac5f-53e1cce2486a",
   "metadata": {},
   "outputs": [
    {
     "data": {
      "text/plain": [
       "269889"
      ]
     },
     "execution_count": 338,
     "metadata": {},
     "output_type": "execute_result"
    }
   ],
   "source": [
    "china_df['Income_Level'].value_counts().sum()"
   ]
  },
  {
   "cell_type": "code",
   "execution_count": 344,
   "id": "d82bae2f-7de2-44a6-95f2-9932f6e91495",
   "metadata": {},
   "outputs": [],
   "source": [
    "import numpy as np\n",
    "missing_count = china_df['Income_Level'].isnull().sum()"
   ]
  },
  {
   "cell_type": "code",
   "execution_count": 348,
   "id": "721806e7-371f-4079-86d5-86234e480b9a",
   "metadata": {},
   "outputs": [
    {
     "data": {
      "text/plain": [
       "111"
      ]
     },
     "execution_count": 348,
     "metadata": {},
     "output_type": "execute_result"
    }
   ],
   "source": [
    "missing_count"
   ]
  },
  {
   "cell_type": "code",
   "execution_count": 353,
   "id": "95af9afb-000a-45a8-9ade-15d6e702cb04",
   "metadata": {},
   "outputs": [],
   "source": [
    "china_df['Income_Level'] = china_df['Income_Level'].astype('object')"
   ]
  },
  {
   "cell_type": "code",
   "execution_count": 355,
   "id": "8956cc64-60ee-4b58-9951-e1306972bd02",
   "metadata": {},
   "outputs": [
    {
     "name": "stderr",
     "output_type": "stream",
     "text": [
      "C:\\Users\\jsuri\\AppData\\Local\\Temp\\ipykernel_15900\\2472896595.py:1: FutureWarning: A value is trying to be set on a copy of a DataFrame or Series through chained assignment using an inplace method.\n",
      "The behavior will change in pandas 3.0. This inplace method will never work because the intermediate object on which we are setting values always behaves as a copy.\n",
      "\n",
      "For example, when doing 'df[col].method(value, inplace=True)', try using 'df.method({col: value}, inplace=True)' or df[col] = df[col].method(value) instead, to perform the operation inplace on the original object.\n",
      "\n",
      "\n",
      "  china_df['Income_Level'].fillna(0, inplace=True)\n"
     ]
    }
   ],
   "source": [
    "china_df['Income_Level'].fillna(0, inplace=True)"
   ]
  },
  {
   "cell_type": "code",
   "execution_count": 357,
   "id": "2bac8969-a4aa-46bf-a413-a0d54a433de5",
   "metadata": {},
   "outputs": [
    {
     "data": {
      "text/plain": [
       "Income_Level\n",
       "Medium    177731\n",
       "High       67749\n",
       "Low        24409\n",
       "0            111\n",
       "Name: count, dtype: int64"
      ]
     },
     "execution_count": 357,
     "metadata": {},
     "output_type": "execute_result"
    }
   ],
   "source": [
    "china_df['Income_Level'].value_counts()"
   ]
  },
  {
   "cell_type": "code",
   "execution_count": 359,
   "id": "03040a6c-288b-4ef6-9815-5c29a0e0bc5c",
   "metadata": {},
   "outputs": [],
   "source": [
    "# Replace '0' with 'Low'\n",
    "china_df['Income_Level'].replace(0, 'Low', inplace=True)\n"
   ]
  },
  {
   "cell_type": "code",
   "execution_count": 361,
   "id": "4da5b0c9-416a-4b1e-b408-266dcec7e682",
   "metadata": {},
   "outputs": [
    {
     "data": {
      "text/plain": [
       "Income_Level\n",
       "Medium    177731\n",
       "High       67749\n",
       "Low        24520\n",
       "Name: count, dtype: int64"
      ]
     },
     "execution_count": 361,
     "metadata": {},
     "output_type": "execute_result"
    }
   ],
   "source": [
    "china_df['Income_Level'].value_counts()"
   ]
  },
  {
   "cell_type": "code",
   "execution_count": 363,
   "id": "9573b1d5-4f0d-4e38-a808-b6ae83238e63",
   "metadata": {},
   "outputs": [
    {
     "data": {
      "text/plain": [
       "270000"
      ]
     },
     "execution_count": 363,
     "metadata": {},
     "output_type": "execute_result"
    }
   ],
   "source": [
    "china_df['Income_Level'].value_counts().sum()"
   ]
  },
  {
   "cell_type": "code",
   "execution_count": 365,
   "id": "ecf2da66-6e4e-4977-a977-c5329022879d",
   "metadata": {},
   "outputs": [
    {
     "name": "stdout",
     "output_type": "stream",
     "text": [
      "<class 'pandas.core.frame.DataFrame'>\n",
      "RangeIndex: 270000 entries, 0 to 269999\n",
      "Data columns (total 31 columns):\n",
      " #   Column                   Non-Null Count   Dtype  \n",
      "---  ------                   --------------   -----  \n",
      " 0   ID                       270000 non-null  int64  \n",
      " 1   Age                      270000 non-null  int64  \n",
      " 2   Gender                   270000 non-null  object \n",
      " 3   Heart_Attack             270000 non-null  object \n",
      " 4   Blood_Pressure           270000 non-null  int32  \n",
      " 5   Cholesterol_Level        270000 non-null  int32  \n",
      " 6   Diabetes                 270000 non-null  object \n",
      " 7   Smoking_Status           270000 non-null  object \n",
      " 8   Alcohol_Consumption      270000 non-null  object \n",
      " 9   Physical_Activity        270000 non-null  object \n",
      " 10  BMI                      270000 non-null  float64\n",
      " 11  Family_History           270000 non-null  object \n",
      " 12  Diet_Quality             270000 non-null  object \n",
      " 13  Stress_Level             270000 non-null  float64\n",
      " 14  Region_category          270000 non-null  object \n",
      " 15  Education_Level          270000 non-null  object \n",
      " 16  Employment_Status        270000 non-null  object \n",
      " 17  Income_Level             270000 non-null  object \n",
      " 18  Marital_Status           270000 non-null  object \n",
      " 19  Sleep_Hours              270000 non-null  float64\n",
      " 20  Medication_Status        270000 non-null  object \n",
      " 21  Hypertension_Status      270000 non-null  object \n",
      " 22  Heart_Rate               270000 non-null  int32  \n",
      " 23  Physical_Activity_Hours  270000 non-null  int32  \n",
      " 24  Dietary_Fiber_Intake     270000 non-null  object \n",
      " 25  Sodium_Intake            270000 non-null  object \n",
      " 26  Cultural_Background      270000 non-null  object \n",
      " 27  Genetic_Risk_Score       270000 non-null  float64\n",
      " 28  Age_Group                270000 non-null  object \n",
      " 29  Screen_Time              270000 non-null  float64\n",
      " 30  Sodium_Level             270000 non-null  object \n",
      "dtypes: float64(5), int32(4), int64(2), object(20)\n",
      "memory usage: 59.7+ MB\n"
     ]
    }
   ],
   "source": [
    "china_df.info()"
   ]
  },
  {
   "cell_type": "code",
   "execution_count": 228,
   "id": "6348922c-8dcf-4128-a910-8905005192e3",
   "metadata": {},
   "outputs": [
    {
     "data": {
      "text/plain": [
       "Marital_Status\n",
       "Married     134948\n",
       "Single      108068\n",
       "Divorced     26984\n",
       "Name: count, dtype: int64"
      ]
     },
     "execution_count": 228,
     "metadata": {},
     "output_type": "execute_result"
    }
   ],
   "source": [
    "china_df['Marital_Status'].value_counts()"
   ]
  },
  {
   "cell_type": "code",
   "execution_count": 230,
   "id": "e4fc6cd6-1958-4d0a-989f-1c7da07dc6ac",
   "metadata": {},
   "outputs": [
    {
     "data": {
      "text/plain": [
       "270000"
      ]
     },
     "execution_count": 230,
     "metadata": {},
     "output_type": "execute_result"
    }
   ],
   "source": [
    "china_df['Marital_Status'].value_counts().sum()"
   ]
  },
  {
   "cell_type": "code",
   "execution_count": 232,
   "id": "1998ec42-5db2-4834-9214-cc972bfd63b7",
   "metadata": {},
   "outputs": [
    {
     "data": {
      "text/plain": [
       "Sleep_Hours\n",
       "6.840082    1\n",
       "4.920064    1\n",
       "5.540981    1\n",
       "4.486258    1\n",
       "7.655380    1\n",
       "           ..\n",
       "5.987186    1\n",
       "9.121482    1\n",
       "9.358669    1\n",
       "9.413149    1\n",
       "7.931786    1\n",
       "Name: count, Length: 270000, dtype: int64"
      ]
     },
     "execution_count": 232,
     "metadata": {},
     "output_type": "execute_result"
    }
   ],
   "source": [
    "china_df['Sleep_Hours'].value_counts()"
   ]
  },
  {
   "cell_type": "code",
   "execution_count": 234,
   "id": "43a7858c-4d97-4809-b960-3e8d07e106e0",
   "metadata": {},
   "outputs": [],
   "source": [
    "china_df['Sleep_Hours'] = (china_df['Sleep_Hours'] * 10).astype(int) / 10"
   ]
  },
  {
   "cell_type": "code",
   "execution_count": 236,
   "id": "74da1b3a-1e49-47b8-aa99-b14280b756c5",
   "metadata": {},
   "outputs": [
    {
     "data": {
      "text/plain": [
       "Sleep_Hours\n",
       "6.6    4665\n",
       "6.7    4613\n",
       "8.4    4602\n",
       "7.7    4601\n",
       "8.8    4597\n",
       "6.0    4593\n",
       "7.4    4593\n",
       "8.1    4588\n",
       "7.0    4577\n",
       "7.2    4569\n",
       "4.6    4564\n",
       "5.9    4556\n",
       "6.4    4553\n",
       "5.5    4552\n",
       "8.6    4549\n",
       "6.8    4545\n",
       "9.0    4542\n",
       "6.5    4535\n",
       "8.3    4534\n",
       "5.1    4534\n",
       "5.8    4532\n",
       "7.5    4529\n",
       "9.7    4528\n",
       "5.4    4526\n",
       "9.3    4525\n",
       "9.9    4524\n",
       "5.0    4523\n",
       "4.0    4519\n",
       "6.2    4507\n",
       "4.5    4505\n",
       "9.4    4502\n",
       "9.8    4500\n",
       "7.8    4488\n",
       "7.1    4487\n",
       "5.2    4486\n",
       "8.9    4482\n",
       "4.2    4482\n",
       "5.6    4478\n",
       "5.3    4478\n",
       "6.9    4476\n",
       "7.6    4469\n",
       "8.0    4458\n",
       "9.2    4457\n",
       "4.7    4455\n",
       "4.9    4448\n",
       "8.2    4447\n",
       "7.9    4446\n",
       "8.7    4442\n",
       "4.3    4428\n",
       "4.1    4428\n",
       "4.4    4421\n",
       "7.3    4421\n",
       "9.5    4418\n",
       "8.5    4407\n",
       "9.1    4406\n",
       "5.7    4391\n",
       "6.3    4388\n",
       "9.6    4386\n",
       "6.1    4378\n",
       "4.8    4367\n",
       "Name: count, dtype: int64"
      ]
     },
     "execution_count": 236,
     "metadata": {},
     "output_type": "execute_result"
    }
   ],
   "source": [
    "china_df['Sleep_Hours'].value_counts()"
   ]
  },
  {
   "cell_type": "code",
   "execution_count": 238,
   "id": "2c8726b1-5ecb-47db-8732-4f0e33591dbb",
   "metadata": {},
   "outputs": [
    {
     "data": {
      "text/plain": [
       "Medication\n",
       "No     215885\n",
       "Yes     54115\n",
       "Name: count, dtype: int64"
      ]
     },
     "execution_count": 238,
     "metadata": {},
     "output_type": "execute_result"
    }
   ],
   "source": [
    "china_df['Medication'].value_counts()"
   ]
  },
  {
   "cell_type": "code",
   "execution_count": 240,
   "id": "6de926ee-a637-4cb2-b2c0-995776bb5119",
   "metadata": {},
   "outputs": [],
   "source": [
    "china_df.rename(columns = {'Medication':'Medication_Status'},inplace = True)"
   ]
  },
  {
   "cell_type": "code",
   "execution_count": 244,
   "id": "15440e8d-0eb1-4b26-8b6b-8f3554229723",
   "metadata": {},
   "outputs": [
    {
     "data": {
      "text/plain": [
       "Medication_Status\n",
       "No     215885\n",
       "Yes     54115\n",
       "Name: count, dtype: int64"
      ]
     },
     "execution_count": 244,
     "metadata": {},
     "output_type": "execute_result"
    }
   ],
   "source": [
    "china_df['Medication_Status'].value_counts()"
   ]
  },
  {
   "cell_type": "code",
   "execution_count": 246,
   "id": "a8495736-5e07-45e9-9188-50dc108f9cbc",
   "metadata": {},
   "outputs": [
    {
     "data": {
      "text/plain": [
       "Hypertension\n",
       "No     216033\n",
       "Yes     53967\n",
       "Name: count, dtype: int64"
      ]
     },
     "execution_count": 246,
     "metadata": {},
     "output_type": "execute_result"
    }
   ],
   "source": [
    "china_df['Hypertension'].value_counts()"
   ]
  },
  {
   "cell_type": "code",
   "execution_count": 248,
   "id": "9e2c61e3-f256-4460-bc2b-e62ff2de7d2f",
   "metadata": {},
   "outputs": [],
   "source": [
    "china_df.rename(columns = {'Hypertension':'Hypertension_Status'},inplace = True)"
   ]
  },
  {
   "cell_type": "code",
   "execution_count": 252,
   "id": "142d9550-5965-4465-9da3-90722ce8e54d",
   "metadata": {},
   "outputs": [
    {
     "data": {
      "text/plain": [
       "Hypertension_Status\n",
       "No     216033\n",
       "Yes     53967\n",
       "Name: count, dtype: int64"
      ]
     },
     "execution_count": 252,
     "metadata": {},
     "output_type": "execute_result"
    }
   ],
   "source": [
    "china_df['Hypertension_Status'].value_counts()"
   ]
  },
  {
   "cell_type": "code",
   "execution_count": 254,
   "id": "5312e649-8a52-4d4c-a09a-1f7aeee70e2d",
   "metadata": {},
   "outputs": [
    {
     "name": "stdout",
     "output_type": "stream",
     "text": [
      "<class 'pandas.core.frame.DataFrame'>\n",
      "RangeIndex: 270000 entries, 0 to 269999\n",
      "Data columns (total 30 columns):\n",
      " #   Column                   Non-Null Count   Dtype   \n",
      "---  ------                   --------------   -----   \n",
      " 0   ID                       270000 non-null  int64   \n",
      " 1   Age                      270000 non-null  int64   \n",
      " 2   Gender                   270000 non-null  object  \n",
      " 3   Heart_Attack             270000 non-null  object  \n",
      " 4   Blood_Pressure           270000 non-null  int32   \n",
      " 5   Cholesterol_Level        270000 non-null  int32   \n",
      " 6   Diabetes                 270000 non-null  object  \n",
      " 7   Smoking_Status           270000 non-null  object  \n",
      " 8   Alcohol_Consumption      270000 non-null  object  \n",
      " 9   Physical_Activity        270000 non-null  object  \n",
      " 10  BMI                      270000 non-null  float64 \n",
      " 11  Family_History           270000 non-null  object  \n",
      " 12  Diet_Quality             270000 non-null  object  \n",
      " 13  Stress_Level             270000 non-null  float64 \n",
      " 14  Region_category          270000 non-null  object  \n",
      " 15  Education_Level          270000 non-null  object  \n",
      " 16  Employment_Status        270000 non-null  object  \n",
      " 17  Income_Level             269889 non-null  category\n",
      " 18  Marital_Status           270000 non-null  object  \n",
      " 19  Sleep_Hours              270000 non-null  float64 \n",
      " 20  Medication_Status        270000 non-null  object  \n",
      " 21  Hypertension_Status      270000 non-null  object  \n",
      " 22  Heart_Rate               270000 non-null  float64 \n",
      " 23  Physical_Activity_Hours  270000 non-null  float64 \n",
      " 24  Dietary_Fiber_Intake     270000 non-null  float64 \n",
      " 25  Sodium_Intake            270000 non-null  float64 \n",
      " 26  Cultural_Background      270000 non-null  object  \n",
      " 27  Genetic_Risk_Score       270000 non-null  float64 \n",
      " 28  Age_Group                270000 non-null  object  \n",
      " 29  Screen_Time              270000 non-null  float64 \n",
      "dtypes: category(1), float64(9), int32(2), int64(2), object(16)\n",
      "memory usage: 57.9+ MB\n"
     ]
    }
   ],
   "source": [
    "china_df.info()"
   ]
  },
  {
   "cell_type": "code",
   "execution_count": 260,
   "id": "ff22a433-dc04-4fd3-8730-6d36d8d34126",
   "metadata": {},
   "outputs": [
    {
     "data": {
      "text/plain": [
       "Heart_Rate\n",
       "59.022408    1\n",
       "68.811361    1\n",
       "72.282447    1\n",
       "64.526736    1\n",
       "83.564168    1\n",
       "            ..\n",
       "69.138053    1\n",
       "70.798111    1\n",
       "74.548910    1\n",
       "76.543994    1\n",
       "54.609019    1\n",
       "Name: count, Length: 270000, dtype: int64"
      ]
     },
     "execution_count": 260,
     "metadata": {},
     "output_type": "execute_result"
    }
   ],
   "source": [
    "china_df['Heart_Rate'].value_counts()"
   ]
  },
  {
   "cell_type": "code",
   "execution_count": 262,
   "id": "dfb2afc8-bb14-466e-80da-fbcd95079782",
   "metadata": {},
   "outputs": [],
   "source": [
    "china_df['Heart_Rate'] = china_df['Heart_Rate'].astype(int)"
   ]
  },
  {
   "cell_type": "code",
   "execution_count": 264,
   "id": "1b2974b0-fb88-4188-8ebb-484ca1858598",
   "metadata": {},
   "outputs": [
    {
     "data": {
      "text/plain": [
       "0         59\n",
       "1         76\n",
       "2         88\n",
       "3         68\n",
       "4         62\n",
       "          ..\n",
       "269995    84\n",
       "269996    73\n",
       "269997    63\n",
       "269998    68\n",
       "269999    54\n",
       "Name: Heart_Rate, Length: 270000, dtype: int32"
      ]
     },
     "execution_count": 264,
     "metadata": {},
     "output_type": "execute_result"
    }
   ],
   "source": [
    "china_df['Heart_Rate']"
   ]
  },
  {
   "cell_type": "code",
   "execution_count": 270,
   "id": "d5b600ee-2a94-4dc7-b038-e18effedb884",
   "metadata": {},
   "outputs": [
    {
     "data": {
      "text/plain": [
       "270000"
      ]
     },
     "execution_count": 270,
     "metadata": {},
     "output_type": "execute_result"
    }
   ],
   "source": [
    "china_df['Physical_Activity_Hours'].value_counts()"
   ]
  },
  {
   "cell_type": "code",
   "execution_count": 272,
   "id": "c49b7e2d-6b98-4741-9935-488c76fa76ae",
   "metadata": {},
   "outputs": [],
   "source": [
    "china_df['Physical_Activity_Hours'] = china_df['Physical_Activity_Hours'].astype(int)"
   ]
  },
  {
   "cell_type": "code",
   "execution_count": 276,
   "id": "790a13bc-8b85-4aff-9484-a37f33cc66dc",
   "metadata": {},
   "outputs": [
    {
     "data": {
      "text/plain": [
       "Physical_Activity_Hours\n",
       "1    135018\n",
       "0    134982\n",
       "Name: count, dtype: int64"
      ]
     },
     "execution_count": 276,
     "metadata": {},
     "output_type": "execute_result"
    }
   ],
   "source": [
    "china_df['Physical_Activity_Hours'].value_counts()"
   ]
  },
  {
   "cell_type": "code",
   "execution_count": 278,
   "id": "b5012340-9eb5-4035-8057-bfd2d0fe767f",
   "metadata": {},
   "outputs": [
    {
     "name": "stdout",
     "output_type": "stream",
     "text": [
      "<class 'pandas.core.frame.DataFrame'>\n",
      "RangeIndex: 270000 entries, 0 to 269999\n",
      "Data columns (total 30 columns):\n",
      " #   Column                   Non-Null Count   Dtype   \n",
      "---  ------                   --------------   -----   \n",
      " 0   ID                       270000 non-null  int64   \n",
      " 1   Age                      270000 non-null  int64   \n",
      " 2   Gender                   270000 non-null  object  \n",
      " 3   Heart_Attack             270000 non-null  object  \n",
      " 4   Blood_Pressure           270000 non-null  int32   \n",
      " 5   Cholesterol_Level        270000 non-null  int32   \n",
      " 6   Diabetes                 270000 non-null  object  \n",
      " 7   Smoking_Status           270000 non-null  object  \n",
      " 8   Alcohol_Consumption      270000 non-null  object  \n",
      " 9   Physical_Activity        270000 non-null  object  \n",
      " 10  BMI                      270000 non-null  float64 \n",
      " 11  Family_History           270000 non-null  object  \n",
      " 12  Diet_Quality             270000 non-null  object  \n",
      " 13  Stress_Level             270000 non-null  float64 \n",
      " 14  Region_category          270000 non-null  object  \n",
      " 15  Education_Level          270000 non-null  object  \n",
      " 16  Employment_Status        270000 non-null  object  \n",
      " 17  Income_Level             269889 non-null  category\n",
      " 18  Marital_Status           270000 non-null  object  \n",
      " 19  Sleep_Hours              270000 non-null  float64 \n",
      " 20  Medication_Status        270000 non-null  object  \n",
      " 21  Hypertension_Status      270000 non-null  object  \n",
      " 22  Heart_Rate               270000 non-null  int32   \n",
      " 23  Physical_Activity_Hours  270000 non-null  int32   \n",
      " 24  Dietary_Fiber_Intake     270000 non-null  float64 \n",
      " 25  Sodium_Intake            270000 non-null  float64 \n",
      " 26  Cultural_Background      270000 non-null  object  \n",
      " 27  Genetic_Risk_Score       270000 non-null  float64 \n",
      " 28  Age_Group                270000 non-null  object  \n",
      " 29  Screen_Time              270000 non-null  float64 \n",
      "dtypes: category(1), float64(7), int32(4), int64(2), object(16)\n",
      "memory usage: 55.9+ MB\n"
     ]
    }
   ],
   "source": [
    "china_df.info()"
   ]
  },
  {
   "cell_type": "code",
   "execution_count": 284,
   "id": "6eda28b6-5ddf-4936-8364-15c6c07dad66",
   "metadata": {},
   "outputs": [
    {
     "data": {
      "text/plain": [
       "Sodium_Intake\n",
       "2278.711795    1\n",
       "2843.200245    1\n",
       "2886.081705    1\n",
       "2723.416216    1\n",
       "2839.999039    1\n",
       "              ..\n",
       "3607.021896    1\n",
       "4762.504273    1\n",
       "3242.660843    1\n",
       "3567.790462    1\n",
       "3721.228816    1\n",
       "Name: count, Length: 270000, dtype: int64"
      ]
     },
     "execution_count": 284,
     "metadata": {},
     "output_type": "execute_result"
    }
   ],
   "source": [
    "china_df['Sodium_Intake'].value_counts()"
   ]
  },
  {
   "cell_type": "code",
   "execution_count": 286,
   "id": "ca0c6e40-0fb0-40e8-94e2-7edb35f8a14d",
   "metadata": {},
   "outputs": [
    {
     "data": {
      "text/plain": [
       "Dietary_Fiber_Intake\n",
       "37.073115    1\n",
       "27.756167    1\n",
       "31.654987    1\n",
       "29.386647    1\n",
       "31.219587    1\n",
       "            ..\n",
       "29.188561    1\n",
       "15.415667    1\n",
       "17.269356    1\n",
       "27.720085    1\n",
       "27.977116    1\n",
       "Name: count, Length: 270000, dtype: int64"
      ]
     },
     "execution_count": 286,
     "metadata": {},
     "output_type": "execute_result"
    }
   ],
   "source": [
    "china_df['Dietary_Fiber_Intake'].value_counts()"
   ]
  },
  {
   "cell_type": "code",
   "execution_count": 292,
   "id": "c15d54de-bf79-4527-8ae2-3ba8967f8413",
   "metadata": {},
   "outputs": [],
   "source": [
    "# Function to categorize sodium intake\n",
    "def categorize_sodium(sodium):\n",
    "    if sodium < 1500:\n",
    "        return 'Good'\n",
    "    elif 1500 <= sodium <= 2300:\n",
    "        return 'Moderate'\n",
    "    else:\n",
    "        return 'Bad'\n",
    "\n"
   ]
  },
  {
   "cell_type": "code",
   "execution_count": 299,
   "id": "5e473730-d4d9-4d8b-8785-19ad216c9eb2",
   "metadata": {},
   "outputs": [],
   "source": [
    "\n",
    "# Apply the function to the 'sodium_intake' column\n",
    "china_df['Sodium_Intake'] = china_df['Sodium_Intake'].apply(categorize_sodium)"
   ]
  },
  {
   "cell_type": "code",
   "execution_count": 301,
   "id": "11a1db2e-4caa-476f-841d-23d044f6ea50",
   "metadata": {},
   "outputs": [
    {
     "data": {
      "text/plain": [
       "Sodium_Intake\n",
       "Bad         243010\n",
       "Moderate     26990\n",
       "Name: count, dtype: int64"
      ]
     },
     "execution_count": 301,
     "metadata": {},
     "output_type": "execute_result"
    }
   ],
   "source": [
    "china_df['Sodium_Intake'].value_counts()"
   ]
  },
  {
   "cell_type": "code",
   "execution_count": 303,
   "id": "c6297980-24f5-4c9b-9f60-ba0cae1dec07",
   "metadata": {},
   "outputs": [
    {
     "data": {
      "text/plain": [
       "270000"
      ]
     },
     "execution_count": 303,
     "metadata": {},
     "output_type": "execute_result"
    }
   ],
   "source": [
    "china_df['Sodium_Intake'].value_counts().sum()"
   ]
  },
  {
   "cell_type": "code",
   "execution_count": 305,
   "id": "68718e01-bae5-42a5-be44-998ade96d812",
   "metadata": {},
   "outputs": [],
   "source": [
    "# Function to categorize dietary fiber intake\n",
    "def categorize_fiber(fiber):\n",
    "    if fiber >= 25:\n",
    "        return 'Good'\n",
    "    elif 15 <= fiber < 25:\n",
    "        return 'Moderate'\n",
    "    else:\n",
    "        return 'Bad'\n",
    "\n",
    "\n"
   ]
  },
  {
   "cell_type": "code",
   "execution_count": 307,
   "id": "ff95db38-f37f-4fe2-bad3-d8a8e8e6bb27",
   "metadata": {},
   "outputs": [],
   "source": [
    "# Apply the function to the 'dietary_fiber_intake' column\n",
    "china_df['Dietary_Fiber_Intake'] = china_df['Dietary_Fiber_Intake'].apply(categorize_fiber)"
   ]
  },
  {
   "cell_type": "code",
   "execution_count": 311,
   "id": "6e11c044-cc72-4a6c-a70b-92217b3de2e9",
   "metadata": {},
   "outputs": [
    {
     "data": {
      "text/plain": [
       "Dietary_Fiber_Intake\n",
       "Good        162029\n",
       "Moderate    107971\n",
       "Name: count, dtype: int64"
      ]
     },
     "execution_count": 311,
     "metadata": {},
     "output_type": "execute_result"
    }
   ],
   "source": [
    "china_df['Dietary_Fiber_Intake'].value_counts()"
   ]
  },
  {
   "cell_type": "code",
   "execution_count": 393,
   "id": "d05e5b98-d339-4a05-b098-b2a47182ea7f",
   "metadata": {},
   "outputs": [
    {
     "name": "stdout",
     "output_type": "stream",
     "text": [
      "<class 'pandas.core.frame.DataFrame'>\n",
      "RangeIndex: 270000 entries, 0 to 269999\n",
      "Data columns (total 32 columns):\n",
      " #   Column                   Non-Null Count   Dtype  \n",
      "---  ------                   --------------   -----  \n",
      " 0   ID                       270000 non-null  int64  \n",
      " 1   Age                      270000 non-null  int64  \n",
      " 2   Gender                   270000 non-null  object \n",
      " 3   Heart_Attack             270000 non-null  object \n",
      " 4   Blood_Pressure           270000 non-null  int32  \n",
      " 5   Cholesterol_Level        270000 non-null  int32  \n",
      " 6   Diabetes                 270000 non-null  object \n",
      " 7   Smoking_Status           270000 non-null  object \n",
      " 8   Alcohol_Consumption      270000 non-null  object \n",
      " 9   Physical_Activity        270000 non-null  object \n",
      " 10  BMI                      270000 non-null  float64\n",
      " 11  Family_History           270000 non-null  object \n",
      " 12  Diet_Quality             270000 non-null  object \n",
      " 13  Stress_Level             270000 non-null  object \n",
      " 14  Region_category          270000 non-null  object \n",
      " 15  Education_Level          270000 non-null  object \n",
      " 16  Employment_Status        270000 non-null  object \n",
      " 17  Income_Level             270000 non-null  object \n",
      " 18  Marital_Status           270000 non-null  object \n",
      " 19  Sleep_Hours              270000 non-null  float64\n",
      " 20  Medication_Status        270000 non-null  object \n",
      " 21  Hypertension_Status      270000 non-null  object \n",
      " 22  Heart_Rate               270000 non-null  int32  \n",
      " 23  Physical_Activity_Hours  270000 non-null  int32  \n",
      " 24  Dietary_Fiber_Intake     270000 non-null  object \n",
      " 25  Sodium_Intake            270000 non-null  object \n",
      " 26  Cultural_Background      270000 non-null  object \n",
      " 27  Genetic_Risk_Score       270000 non-null  float64\n",
      " 28  Age_Group                270000 non-null  object \n",
      " 29  Screen_Time              270000 non-null  float64\n",
      " 30  Sodium_Level             270000 non-null  object \n",
      " 31  Stress_Level_Category    270000 non-null  object \n",
      "dtypes: float64(4), int32(4), int64(2), object(22)\n",
      "memory usage: 61.8+ MB\n"
     ]
    }
   ],
   "source": [
    "china_df.info()"
   ]
  },
  {
   "cell_type": "code",
   "execution_count": 397,
   "id": "fbd311d0-d8ab-465f-a629-ad1b1ba9225c",
   "metadata": {},
   "outputs": [
    {
     "data": {
      "text/plain": [
       "270000"
      ]
     },
     "execution_count": 397,
     "metadata": {},
     "output_type": "execute_result"
    }
   ],
   "source": [
    "china_df['Cultural_Background'].value_counts().sum()"
   ]
  },
  {
   "cell_type": "code",
   "execution_count": 399,
   "id": "a63ab0cf-78bd-4191-a53a-9033fa60f777",
   "metadata": {},
   "outputs": [
    {
     "data": {
      "text/plain": [
       "Genetic_Risk_Score\n",
       "0.874595    1\n",
       "0.149482    1\n",
       "0.486975    1\n",
       "0.646381    1\n",
       "0.640846    1\n",
       "           ..\n",
       "0.347329    1\n",
       "0.162076    1\n",
       "0.613614    1\n",
       "0.299757    1\n",
       "0.110363    1\n",
       "Name: count, Length: 270000, dtype: int64"
      ]
     },
     "execution_count": 399,
     "metadata": {},
     "output_type": "execute_result"
    }
   ],
   "source": [
    "china_df['Genetic_Risk_Score'].value_counts()"
   ]
  },
  {
   "cell_type": "code",
   "execution_count": 401,
   "id": "e844a800-cba5-4a36-a170-fe4ac70f32a9",
   "metadata": {},
   "outputs": [],
   "source": [
    "china_df['Genetic_Risk_Score'] = china_df['Genetic_Risk_Score'].astype(int)"
   ]
  },
  {
   "cell_type": "code",
   "execution_count": 403,
   "id": "582fa841-4621-4fbc-963c-d03a4a226c30",
   "metadata": {},
   "outputs": [
    {
     "data": {
      "text/plain": [
       "Genetic_Risk_Score\n",
       "0    270000\n",
       "Name: count, dtype: int64"
      ]
     },
     "execution_count": 403,
     "metadata": {},
     "output_type": "execute_result"
    }
   ],
   "source": [
    "china_df['Genetic_Risk_Score'].value_counts()"
   ]
  },
  {
   "cell_type": "code",
   "execution_count": 405,
   "id": "5e7dd2e7-efb1-4748-b679-7c82a8e3b7e8",
   "metadata": {},
   "outputs": [],
   "source": [
    "china_df.drop(['Genetic_Risk_Score'], axis=1, inplace=True)\n"
   ]
  },
  {
   "cell_type": "code",
   "execution_count": 407,
   "id": "be0c272a-4bee-4779-b828-9201b5d40ef3",
   "metadata": {},
   "outputs": [
    {
     "data": {
      "text/html": [
       "<div>\n",
       "<style scoped>\n",
       "    .dataframe tbody tr th:only-of-type {\n",
       "        vertical-align: middle;\n",
       "    }\n",
       "\n",
       "    .dataframe tbody tr th {\n",
       "        vertical-align: top;\n",
       "    }\n",
       "\n",
       "    .dataframe thead th {\n",
       "        text-align: right;\n",
       "    }\n",
       "</style>\n",
       "<table border=\"1\" class=\"dataframe\">\n",
       "  <thead>\n",
       "    <tr style=\"text-align: right;\">\n",
       "      <th></th>\n",
       "      <th>ID</th>\n",
       "      <th>Age</th>\n",
       "      <th>Gender</th>\n",
       "      <th>Heart_Attack</th>\n",
       "      <th>Blood_Pressure</th>\n",
       "      <th>Cholesterol_Level</th>\n",
       "      <th>Diabetes</th>\n",
       "      <th>Smoking_Status</th>\n",
       "      <th>Alcohol_Consumption</th>\n",
       "      <th>Physical_Activity</th>\n",
       "      <th>...</th>\n",
       "      <th>Hypertension_Status</th>\n",
       "      <th>Heart_Rate</th>\n",
       "      <th>Physical_Activity_Hours</th>\n",
       "      <th>Dietary_Fiber_Intake</th>\n",
       "      <th>Sodium_Intake</th>\n",
       "      <th>Cultural_Background</th>\n",
       "      <th>Age_Group</th>\n",
       "      <th>Screen_Time</th>\n",
       "      <th>Sodium_Level</th>\n",
       "      <th>Stress_Level_Category</th>\n",
       "    </tr>\n",
       "  </thead>\n",
       "  <tbody>\n",
       "    <tr>\n",
       "      <th>0</th>\n",
       "      <td>1</td>\n",
       "      <td>50</td>\n",
       "      <td>Female</td>\n",
       "      <td>No</td>\n",
       "      <td>147</td>\n",
       "      <td>215</td>\n",
       "      <td>No</td>\n",
       "      <td>No</td>\n",
       "      <td>Moderate</td>\n",
       "      <td>Low</td>\n",
       "      <td>...</td>\n",
       "      <td>No</td>\n",
       "      <td>59</td>\n",
       "      <td>0</td>\n",
       "      <td>Good</td>\n",
       "      <td>Moderate</td>\n",
       "      <td>Han</td>\n",
       "      <td>Adult</td>\n",
       "      <td>8.294082</td>\n",
       "      <td>Moderate</td>\n",
       "      <td>Moderate</td>\n",
       "    </tr>\n",
       "    <tr>\n",
       "      <th>1</th>\n",
       "      <td>2</td>\n",
       "      <td>40</td>\n",
       "      <td>Female</td>\n",
       "      <td>No</td>\n",
       "      <td>119</td>\n",
       "      <td>210</td>\n",
       "      <td>No</td>\n",
       "      <td>Yes</td>\n",
       "      <td>Moderate</td>\n",
       "      <td>Low</td>\n",
       "      <td>...</td>\n",
       "      <td>No</td>\n",
       "      <td>76</td>\n",
       "      <td>1</td>\n",
       "      <td>Good</td>\n",
       "      <td>Moderate</td>\n",
       "      <td>Han</td>\n",
       "      <td>Adult</td>\n",
       "      <td>4.593150</td>\n",
       "      <td>Moderate</td>\n",
       "      <td>Good</td>\n",
       "    </tr>\n",
       "  </tbody>\n",
       "</table>\n",
       "<p>2 rows × 31 columns</p>\n",
       "</div>"
      ],
      "text/plain": [
       "   ID  Age  Gender Heart_Attack  Blood_Pressure  Cholesterol_Level Diabetes  \\\n",
       "0   1   50  Female           No             147                215       No   \n",
       "1   2   40  Female           No             119                210       No   \n",
       "\n",
       "  Smoking_Status Alcohol_Consumption Physical_Activity  ...  \\\n",
       "0             No            Moderate               Low  ...   \n",
       "1            Yes            Moderate               Low  ...   \n",
       "\n",
       "   Hypertension_Status Heart_Rate Physical_Activity_Hours  \\\n",
       "0                   No         59                       0   \n",
       "1                   No         76                       1   \n",
       "\n",
       "  Dietary_Fiber_Intake Sodium_Intake Cultural_Background Age_Group  \\\n",
       "0                 Good      Moderate                 Han     Adult   \n",
       "1                 Good      Moderate                 Han     Adult   \n",
       "\n",
       "  Screen_Time Sodium_Level  Stress_Level_Category  \n",
       "0    8.294082     Moderate               Moderate  \n",
       "1    4.593150     Moderate                   Good  \n",
       "\n",
       "[2 rows x 31 columns]"
      ]
     },
     "execution_count": 407,
     "metadata": {},
     "output_type": "execute_result"
    }
   ],
   "source": [
    "china_df.head(2)"
   ]
  },
  {
   "cell_type": "code",
   "execution_count": 409,
   "id": "ded06710-2eac-41fb-8cec-9ec18fc3ebbd",
   "metadata": {},
   "outputs": [
    {
     "data": {
      "text/plain": [
       "Age_Group\n",
       "Adult    196849\n",
       "Youth     73151\n",
       "Name: count, dtype: int64"
      ]
     },
     "execution_count": 409,
     "metadata": {},
     "output_type": "execute_result"
    }
   ],
   "source": [
    "china_df['Age_Group'].value_counts()"
   ]
  },
  {
   "cell_type": "code",
   "execution_count": 411,
   "id": "d875b17f-bd8b-43ae-a0f8-eb76b5c7a160",
   "metadata": {},
   "outputs": [
    {
     "data": {
      "text/plain": [
       "270000"
      ]
     },
     "execution_count": 411,
     "metadata": {},
     "output_type": "execute_result"
    }
   ],
   "source": [
    "china_df['Age_Group'].value_counts().sum()"
   ]
  },
  {
   "cell_type": "code",
   "execution_count": 419,
   "id": "e9159c5b-1a2a-4a0f-889a-1b73e6cd60a4",
   "metadata": {},
   "outputs": [
    {
     "data": {
      "text/plain": [
       "Sodium_Level\n",
       "Bad         243010\n",
       "Moderate     26990\n",
       "Name: count, dtype: int64"
      ]
     },
     "execution_count": 419,
     "metadata": {},
     "output_type": "execute_result"
    }
   ],
   "source": [
    "china_df['Sodium_Level'].value_counts()"
   ]
  },
  {
   "cell_type": "code",
   "execution_count": 423,
   "id": "89be76b0-efe7-49a9-b826-4c8bf33decb8",
   "metadata": {},
   "outputs": [
    {
     "data": {
      "text/plain": [
       "Stress_Level_Category\n",
       "Bad         116796\n",
       "Moderate     89998\n",
       "Good         63206\n",
       "Name: count, dtype: int64"
      ]
     },
     "execution_count": 423,
     "metadata": {},
     "output_type": "execute_result"
    }
   ],
   "source": [
    "china_df['Stress_Level_Category'].value_counts()"
   ]
  },
  {
   "cell_type": "code",
   "execution_count": 425,
   "id": "e6e5d93e-c7e3-4f52-870a-6a0d8cd73e27",
   "metadata": {},
   "outputs": [],
   "source": [
    "china_df.drop(['Sodium_Level', 'Stress_Level_Category'], axis=1, inplace=True)\n"
   ]
  },
  {
   "cell_type": "code",
   "execution_count": 427,
   "id": "20c605cc-89fc-4030-af55-1bef4da77187",
   "metadata": {},
   "outputs": [
    {
     "name": "stdout",
     "output_type": "stream",
     "text": [
      "<class 'pandas.core.frame.DataFrame'>\n",
      "RangeIndex: 270000 entries, 0 to 269999\n",
      "Data columns (total 29 columns):\n",
      " #   Column                   Non-Null Count   Dtype  \n",
      "---  ------                   --------------   -----  \n",
      " 0   ID                       270000 non-null  int64  \n",
      " 1   Age                      270000 non-null  int64  \n",
      " 2   Gender                   270000 non-null  object \n",
      " 3   Heart_Attack             270000 non-null  object \n",
      " 4   Blood_Pressure           270000 non-null  int32  \n",
      " 5   Cholesterol_Level        270000 non-null  int32  \n",
      " 6   Diabetes                 270000 non-null  object \n",
      " 7   Smoking_Status           270000 non-null  object \n",
      " 8   Alcohol_Consumption      270000 non-null  object \n",
      " 9   Physical_Activity        270000 non-null  object \n",
      " 10  BMI                      270000 non-null  float64\n",
      " 11  Family_History           270000 non-null  object \n",
      " 12  Diet_Quality             270000 non-null  object \n",
      " 13  Stress_Level             270000 non-null  object \n",
      " 14  Region_category          270000 non-null  object \n",
      " 15  Education_Level          270000 non-null  object \n",
      " 16  Employment_Status        270000 non-null  object \n",
      " 17  Income_Level             270000 non-null  object \n",
      " 18  Marital_Status           270000 non-null  object \n",
      " 19  Sleep_Hours              270000 non-null  float64\n",
      " 20  Medication_Status        270000 non-null  object \n",
      " 21  Hypertension_Status      270000 non-null  object \n",
      " 22  Heart_Rate               270000 non-null  int32  \n",
      " 23  Physical_Activity_Hours  270000 non-null  int32  \n",
      " 24  Dietary_Fiber_Intake     270000 non-null  object \n",
      " 25  Sodium_Intake            270000 non-null  object \n",
      " 26  Cultural_Background      270000 non-null  object \n",
      " 27  Age_Group                270000 non-null  object \n",
      " 28  Screen_Time              270000 non-null  float64\n",
      "dtypes: float64(3), int32(4), int64(2), object(20)\n",
      "memory usage: 55.6+ MB\n"
     ]
    }
   ],
   "source": [
    "china_df.info()"
   ]
  },
  {
   "cell_type": "code",
   "execution_count": 429,
   "id": "34d2574e-3db0-457e-aa44-51a89c9ee420",
   "metadata": {},
   "outputs": [],
   "source": [
    "china_df['Screen_Time'] = china_df['Screen_Time'].round().astype(int)\n"
   ]
  },
  {
   "cell_type": "code",
   "execution_count": 431,
   "id": "4d59ae65-c1db-4ad3-90b8-82b2dbf98922",
   "metadata": {},
   "outputs": [
    {
     "data": {
      "text/plain": [
       "0         8\n",
       "1         5\n",
       "2         5\n",
       "3         4\n",
       "4         7\n",
       "         ..\n",
       "269995    4\n",
       "269996    5\n",
       "269997    9\n",
       "269998    7\n",
       "269999    4\n",
       "Name: Screen_Time, Length: 270000, dtype: int32"
      ]
     },
     "execution_count": 431,
     "metadata": {},
     "output_type": "execute_result"
    }
   ],
   "source": [
    "china_df['Screen_Time']"
   ]
  },
  {
   "cell_type": "code",
   "execution_count": 437,
   "id": "a461dd1b-4d43-448a-98d4-ae1f3f3aff5b",
   "metadata": {},
   "outputs": [],
   "source": [
    "bins = [0, 2, 5, float('inf')]  # 0-2 = Low, 2-5 = Moderate, 5+ = High\n",
    "labels = ['Low', 'Moderate', 'High']\n",
    "china_df['Screen_Time'] = pd.cut(china_df['Screen_Time'], bins=bins, labels=labels)\n"
   ]
  },
  {
   "cell_type": "code",
   "execution_count": 441,
   "id": "2647c1e2-49bb-4e14-9082-32e6ed70644e",
   "metadata": {},
   "outputs": [
    {
     "data": {
      "text/plain": [
       "270000"
      ]
     },
     "execution_count": 441,
     "metadata": {},
     "output_type": "execute_result"
    }
   ],
   "source": [
    "china_df['Screen_Time'].value_counts().sum()"
   ]
  },
  {
   "cell_type": "code",
   "execution_count": 445,
   "id": "74d9b9dd-bc7e-48f2-8ee1-493df3168939",
   "metadata": {},
   "outputs": [],
   "source": [
    "china_df['Screen_Time'] = china_df['Screen_Time'].astype('object')\n"
   ]
  },
  {
   "cell_type": "code",
   "execution_count": 449,
   "id": "7fac3b5f-1159-4de5-a1f8-183f14b88212",
   "metadata": {},
   "outputs": [
    {
     "data": {
      "text/plain": [
       "Screen_Time\n",
       "High        151900\n",
       "Moderate    101394\n",
       "Low          16706\n",
       "Name: count, dtype: int64"
      ]
     },
     "execution_count": 449,
     "metadata": {},
     "output_type": "execute_result"
    }
   ],
   "source": [
    "china_df['Screen_Time'] .value_counts()"
   ]
  },
  {
   "cell_type": "code",
   "execution_count": 452,
   "id": "497ce7a8-c617-4ef4-b35e-f372230ca2e5",
   "metadata": {},
   "outputs": [
    {
     "name": "stdout",
     "output_type": "stream",
     "text": [
      "<class 'pandas.core.frame.DataFrame'>\n",
      "RangeIndex: 270000 entries, 0 to 269999\n",
      "Data columns (total 29 columns):\n",
      " #   Column                   Non-Null Count   Dtype  \n",
      "---  ------                   --------------   -----  \n",
      " 0   ID                       270000 non-null  int64  \n",
      " 1   Age                      270000 non-null  int64  \n",
      " 2   Gender                   270000 non-null  object \n",
      " 3   Heart_Attack             270000 non-null  object \n",
      " 4   Blood_Pressure           270000 non-null  int32  \n",
      " 5   Cholesterol_Level        270000 non-null  int32  \n",
      " 6   Diabetes                 270000 non-null  object \n",
      " 7   Smoking_Status           270000 non-null  object \n",
      " 8   Alcohol_Consumption      270000 non-null  object \n",
      " 9   Physical_Activity        270000 non-null  object \n",
      " 10  BMI                      270000 non-null  float64\n",
      " 11  Family_History           270000 non-null  object \n",
      " 12  Diet_Quality             270000 non-null  object \n",
      " 13  Stress_Level             270000 non-null  object \n",
      " 14  Region_category          270000 non-null  object \n",
      " 15  Education_Level          270000 non-null  object \n",
      " 16  Employment_Status        270000 non-null  object \n",
      " 17  Income_Level             270000 non-null  object \n",
      " 18  Marital_Status           270000 non-null  object \n",
      " 19  Sleep_Hours              270000 non-null  float64\n",
      " 20  Medication_Status        270000 non-null  object \n",
      " 21  Hypertension_Status      270000 non-null  object \n",
      " 22  Heart_Rate               270000 non-null  int32  \n",
      " 23  Physical_Activity_Hours  270000 non-null  int32  \n",
      " 24  Dietary_Fiber_Intake     270000 non-null  object \n",
      " 25  Sodium_Intake            270000 non-null  object \n",
      " 26  Cultural_Background      270000 non-null  object \n",
      " 27  Age_Group                270000 non-null  object \n",
      " 28  Screen_Time              270000 non-null  object \n",
      "dtypes: float64(2), int32(4), int64(2), object(21)\n",
      "memory usage: 55.6+ MB\n"
     ]
    }
   ],
   "source": [
    "china_df.info()"
   ]
  },
  {
   "cell_type": "code",
   "execution_count": 456,
   "id": "6c71f1ef-a44f-4741-94d3-1891464b28ac",
   "metadata": {},
   "outputs": [],
   "source": [
    "china_df.to_csv('cleaned_china_dataset.csv', index=False)"
   ]
  },
  {
   "cell_type": "code",
   "execution_count": 458,
   "id": "dfd03962-7a95-46d0-a608-fa26d974ba66",
   "metadata": {},
   "outputs": [],
   "source": [
    "loaded_df = pd.read_csv('cleaned_china_dataset.csv')"
   ]
  },
  {
   "cell_type": "code",
   "execution_count": 460,
   "id": "52daac17-9247-4975-bf55-c5ea39db19ce",
   "metadata": {},
   "outputs": [
    {
     "data": {
      "text/html": [
       "<div>\n",
       "<style scoped>\n",
       "    .dataframe tbody tr th:only-of-type {\n",
       "        vertical-align: middle;\n",
       "    }\n",
       "\n",
       "    .dataframe tbody tr th {\n",
       "        vertical-align: top;\n",
       "    }\n",
       "\n",
       "    .dataframe thead th {\n",
       "        text-align: right;\n",
       "    }\n",
       "</style>\n",
       "<table border=\"1\" class=\"dataframe\">\n",
       "  <thead>\n",
       "    <tr style=\"text-align: right;\">\n",
       "      <th></th>\n",
       "      <th>ID</th>\n",
       "      <th>Age</th>\n",
       "      <th>Gender</th>\n",
       "      <th>Heart_Attack</th>\n",
       "      <th>Blood_Pressure</th>\n",
       "      <th>Cholesterol_Level</th>\n",
       "      <th>Diabetes</th>\n",
       "      <th>Smoking_Status</th>\n",
       "      <th>Alcohol_Consumption</th>\n",
       "      <th>Physical_Activity</th>\n",
       "      <th>...</th>\n",
       "      <th>Sleep_Hours</th>\n",
       "      <th>Medication_Status</th>\n",
       "      <th>Hypertension_Status</th>\n",
       "      <th>Heart_Rate</th>\n",
       "      <th>Physical_Activity_Hours</th>\n",
       "      <th>Dietary_Fiber_Intake</th>\n",
       "      <th>Sodium_Intake</th>\n",
       "      <th>Cultural_Background</th>\n",
       "      <th>Age_Group</th>\n",
       "      <th>Screen_Time</th>\n",
       "    </tr>\n",
       "  </thead>\n",
       "  <tbody>\n",
       "    <tr>\n",
       "      <th>0</th>\n",
       "      <td>1</td>\n",
       "      <td>50</td>\n",
       "      <td>Female</td>\n",
       "      <td>No</td>\n",
       "      <td>147</td>\n",
       "      <td>215</td>\n",
       "      <td>No</td>\n",
       "      <td>No</td>\n",
       "      <td>Moderate</td>\n",
       "      <td>Low</td>\n",
       "      <td>...</td>\n",
       "      <td>6.8</td>\n",
       "      <td>No</td>\n",
       "      <td>No</td>\n",
       "      <td>59</td>\n",
       "      <td>0</td>\n",
       "      <td>Good</td>\n",
       "      <td>Moderate</td>\n",
       "      <td>Han</td>\n",
       "      <td>Adult</td>\n",
       "      <td>High</td>\n",
       "    </tr>\n",
       "    <tr>\n",
       "      <th>1</th>\n",
       "      <td>2</td>\n",
       "      <td>40</td>\n",
       "      <td>Female</td>\n",
       "      <td>No</td>\n",
       "      <td>119</td>\n",
       "      <td>210</td>\n",
       "      <td>No</td>\n",
       "      <td>Yes</td>\n",
       "      <td>Moderate</td>\n",
       "      <td>Low</td>\n",
       "      <td>...</td>\n",
       "      <td>5.6</td>\n",
       "      <td>No</td>\n",
       "      <td>No</td>\n",
       "      <td>76</td>\n",
       "      <td>1</td>\n",
       "      <td>Good</td>\n",
       "      <td>Moderate</td>\n",
       "      <td>Han</td>\n",
       "      <td>Adult</td>\n",
       "      <td>Moderate</td>\n",
       "    </tr>\n",
       "    <tr>\n",
       "      <th>2</th>\n",
       "      <td>3</td>\n",
       "      <td>26</td>\n",
       "      <td>Female</td>\n",
       "      <td>No</td>\n",
       "      <td>102</td>\n",
       "      <td>241</td>\n",
       "      <td>No</td>\n",
       "      <td>No</td>\n",
       "      <td>Heavy</td>\n",
       "      <td>Low</td>\n",
       "      <td>...</td>\n",
       "      <td>9.5</td>\n",
       "      <td>No</td>\n",
       "      <td>No</td>\n",
       "      <td>88</td>\n",
       "      <td>0</td>\n",
       "      <td>Moderate</td>\n",
       "      <td>Moderate</td>\n",
       "      <td>Other</td>\n",
       "      <td>Adult</td>\n",
       "      <td>Moderate</td>\n",
       "    </tr>\n",
       "    <tr>\n",
       "      <th>3</th>\n",
       "      <td>4</td>\n",
       "      <td>54</td>\n",
       "      <td>Male</td>\n",
       "      <td>No</td>\n",
       "      <td>121</td>\n",
       "      <td>252</td>\n",
       "      <td>No</td>\n",
       "      <td>No</td>\n",
       "      <td>Moderate</td>\n",
       "      <td>High</td>\n",
       "      <td>...</td>\n",
       "      <td>7.3</td>\n",
       "      <td>No</td>\n",
       "      <td>Yes</td>\n",
       "      <td>68</td>\n",
       "      <td>1</td>\n",
       "      <td>Good</td>\n",
       "      <td>Bad</td>\n",
       "      <td>Han</td>\n",
       "      <td>Adult</td>\n",
       "      <td>Moderate</td>\n",
       "    </tr>\n",
       "    <tr>\n",
       "      <th>4</th>\n",
       "      <td>5</td>\n",
       "      <td>19</td>\n",
       "      <td>Female</td>\n",
       "      <td>No</td>\n",
       "      <td>130</td>\n",
       "      <td>164</td>\n",
       "      <td>No</td>\n",
       "      <td>Yes</td>\n",
       "      <td>Heavy</td>\n",
       "      <td>Low</td>\n",
       "      <td>...</td>\n",
       "      <td>8.4</td>\n",
       "      <td>No</td>\n",
       "      <td>No</td>\n",
       "      <td>62</td>\n",
       "      <td>1</td>\n",
       "      <td>Moderate</td>\n",
       "      <td>Bad</td>\n",
       "      <td>Han</td>\n",
       "      <td>Adult</td>\n",
       "      <td>High</td>\n",
       "    </tr>\n",
       "    <tr>\n",
       "      <th>...</th>\n",
       "      <td>...</td>\n",
       "      <td>...</td>\n",
       "      <td>...</td>\n",
       "      <td>...</td>\n",
       "      <td>...</td>\n",
       "      <td>...</td>\n",
       "      <td>...</td>\n",
       "      <td>...</td>\n",
       "      <td>...</td>\n",
       "      <td>...</td>\n",
       "      <td>...</td>\n",
       "      <td>...</td>\n",
       "      <td>...</td>\n",
       "      <td>...</td>\n",
       "      <td>...</td>\n",
       "      <td>...</td>\n",
       "      <td>...</td>\n",
       "      <td>...</td>\n",
       "      <td>...</td>\n",
       "      <td>...</td>\n",
       "      <td>...</td>\n",
       "    </tr>\n",
       "    <tr>\n",
       "      <th>269995</th>\n",
       "      <td>269996</td>\n",
       "      <td>41</td>\n",
       "      <td>Male</td>\n",
       "      <td>No</td>\n",
       "      <td>148</td>\n",
       "      <td>186</td>\n",
       "      <td>No</td>\n",
       "      <td>No</td>\n",
       "      <td>Moderate</td>\n",
       "      <td>High</td>\n",
       "      <td>...</td>\n",
       "      <td>4.9</td>\n",
       "      <td>No</td>\n",
       "      <td>No</td>\n",
       "      <td>84</td>\n",
       "      <td>0</td>\n",
       "      <td>Moderate</td>\n",
       "      <td>Bad</td>\n",
       "      <td>Han</td>\n",
       "      <td>Adult</td>\n",
       "      <td>Moderate</td>\n",
       "    </tr>\n",
       "    <tr>\n",
       "      <th>269996</th>\n",
       "      <td>269997</td>\n",
       "      <td>46</td>\n",
       "      <td>Female</td>\n",
       "      <td>No</td>\n",
       "      <td>103</td>\n",
       "      <td>160</td>\n",
       "      <td>No</td>\n",
       "      <td>No</td>\n",
       "      <td>Heavy</td>\n",
       "      <td>High</td>\n",
       "      <td>...</td>\n",
       "      <td>9.9</td>\n",
       "      <td>No</td>\n",
       "      <td>Yes</td>\n",
       "      <td>73</td>\n",
       "      <td>0</td>\n",
       "      <td>Good</td>\n",
       "      <td>Bad</td>\n",
       "      <td>Han</td>\n",
       "      <td>Adult</td>\n",
       "      <td>Moderate</td>\n",
       "    </tr>\n",
       "    <tr>\n",
       "      <th>269997</th>\n",
       "      <td>269998</td>\n",
       "      <td>52</td>\n",
       "      <td>Female</td>\n",
       "      <td>No</td>\n",
       "      <td>132</td>\n",
       "      <td>170</td>\n",
       "      <td>No</td>\n",
       "      <td>No</td>\n",
       "      <td>Heavy</td>\n",
       "      <td>Low</td>\n",
       "      <td>...</td>\n",
       "      <td>5.9</td>\n",
       "      <td>No</td>\n",
       "      <td>Yes</td>\n",
       "      <td>63</td>\n",
       "      <td>0</td>\n",
       "      <td>Good</td>\n",
       "      <td>Bad</td>\n",
       "      <td>Han</td>\n",
       "      <td>Youth</td>\n",
       "      <td>High</td>\n",
       "    </tr>\n",
       "    <tr>\n",
       "      <th>269998</th>\n",
       "      <td>269999</td>\n",
       "      <td>38</td>\n",
       "      <td>Male</td>\n",
       "      <td>No</td>\n",
       "      <td>111</td>\n",
       "      <td>163</td>\n",
       "      <td>No</td>\n",
       "      <td>No</td>\n",
       "      <td>Moderate</td>\n",
       "      <td>Moderate</td>\n",
       "      <td>...</td>\n",
       "      <td>9.5</td>\n",
       "      <td>Yes</td>\n",
       "      <td>Yes</td>\n",
       "      <td>68</td>\n",
       "      <td>0</td>\n",
       "      <td>Moderate</td>\n",
       "      <td>Bad</td>\n",
       "      <td>Han</td>\n",
       "      <td>Adult</td>\n",
       "      <td>High</td>\n",
       "    </tr>\n",
       "    <tr>\n",
       "      <th>269999</th>\n",
       "      <td>270000</td>\n",
       "      <td>41</td>\n",
       "      <td>Female</td>\n",
       "      <td>No</td>\n",
       "      <td>121</td>\n",
       "      <td>173</td>\n",
       "      <td>Yes</td>\n",
       "      <td>No</td>\n",
       "      <td>Moderate</td>\n",
       "      <td>Low</td>\n",
       "      <td>...</td>\n",
       "      <td>7.9</td>\n",
       "      <td>No</td>\n",
       "      <td>No</td>\n",
       "      <td>54</td>\n",
       "      <td>1</td>\n",
       "      <td>Good</td>\n",
       "      <td>Bad</td>\n",
       "      <td>Han</td>\n",
       "      <td>Youth</td>\n",
       "      <td>Moderate</td>\n",
       "    </tr>\n",
       "  </tbody>\n",
       "</table>\n",
       "<p>270000 rows × 29 columns</p>\n",
       "</div>"
      ],
      "text/plain": [
       "            ID  Age  Gender Heart_Attack  Blood_Pressure  Cholesterol_Level  \\\n",
       "0            1   50  Female           No             147                215   \n",
       "1            2   40  Female           No             119                210   \n",
       "2            3   26  Female           No             102                241   \n",
       "3            4   54    Male           No             121                252   \n",
       "4            5   19  Female           No             130                164   \n",
       "...        ...  ...     ...          ...             ...                ...   \n",
       "269995  269996   41    Male           No             148                186   \n",
       "269996  269997   46  Female           No             103                160   \n",
       "269997  269998   52  Female           No             132                170   \n",
       "269998  269999   38    Male           No             111                163   \n",
       "269999  270000   41  Female           No             121                173   \n",
       "\n",
       "       Diabetes Smoking_Status Alcohol_Consumption Physical_Activity  ...  \\\n",
       "0            No             No            Moderate               Low  ...   \n",
       "1            No            Yes            Moderate               Low  ...   \n",
       "2            No             No               Heavy               Low  ...   \n",
       "3            No             No            Moderate              High  ...   \n",
       "4            No            Yes               Heavy               Low  ...   \n",
       "...         ...            ...                 ...               ...  ...   \n",
       "269995       No             No            Moderate              High  ...   \n",
       "269996       No             No               Heavy              High  ...   \n",
       "269997       No             No               Heavy               Low  ...   \n",
       "269998       No             No            Moderate          Moderate  ...   \n",
       "269999      Yes             No            Moderate               Low  ...   \n",
       "\n",
       "        Sleep_Hours Medication_Status Hypertension_Status Heart_Rate  \\\n",
       "0               6.8                No                  No         59   \n",
       "1               5.6                No                  No         76   \n",
       "2               9.5                No                  No         88   \n",
       "3               7.3                No                 Yes         68   \n",
       "4               8.4                No                  No         62   \n",
       "...             ...               ...                 ...        ...   \n",
       "269995          4.9                No                  No         84   \n",
       "269996          9.9                No                 Yes         73   \n",
       "269997          5.9                No                 Yes         63   \n",
       "269998          9.5               Yes                 Yes         68   \n",
       "269999          7.9                No                  No         54   \n",
       "\n",
       "       Physical_Activity_Hours Dietary_Fiber_Intake Sodium_Intake  \\\n",
       "0                            0                 Good      Moderate   \n",
       "1                            1                 Good      Moderate   \n",
       "2                            0             Moderate      Moderate   \n",
       "3                            1                 Good           Bad   \n",
       "4                            1             Moderate           Bad   \n",
       "...                        ...                  ...           ...   \n",
       "269995                       0             Moderate           Bad   \n",
       "269996                       0                 Good           Bad   \n",
       "269997                       0                 Good           Bad   \n",
       "269998                       0             Moderate           Bad   \n",
       "269999                       1                 Good           Bad   \n",
       "\n",
       "       Cultural_Background Age_Group  Screen_Time  \n",
       "0                      Han     Adult         High  \n",
       "1                      Han     Adult     Moderate  \n",
       "2                    Other     Adult     Moderate  \n",
       "3                      Han     Adult     Moderate  \n",
       "4                      Han     Adult         High  \n",
       "...                    ...       ...          ...  \n",
       "269995                 Han     Adult     Moderate  \n",
       "269996                 Han     Adult     Moderate  \n",
       "269997                 Han     Youth         High  \n",
       "269998                 Han     Adult         High  \n",
       "269999                 Han     Youth     Moderate  \n",
       "\n",
       "[270000 rows x 29 columns]"
      ]
     },
     "execution_count": 460,
     "metadata": {},
     "output_type": "execute_result"
    }
   ],
   "source": [
    "loaded_df"
   ]
  },
  {
   "cell_type": "code",
   "execution_count": 462,
   "id": "d3698cd2-dbca-4e51-8b88-34e07c140f95",
   "metadata": {},
   "outputs": [
    {
     "name": "stdout",
     "output_type": "stream",
     "text": [
      "<class 'pandas.core.frame.DataFrame'>\n",
      "RangeIndex: 270000 entries, 0 to 269999\n",
      "Data columns (total 29 columns):\n",
      " #   Column                   Non-Null Count   Dtype  \n",
      "---  ------                   --------------   -----  \n",
      " 0   ID                       270000 non-null  int64  \n",
      " 1   Age                      270000 non-null  int64  \n",
      " 2   Gender                   270000 non-null  object \n",
      " 3   Heart_Attack             270000 non-null  object \n",
      " 4   Blood_Pressure           270000 non-null  int32  \n",
      " 5   Cholesterol_Level        270000 non-null  int32  \n",
      " 6   Diabetes                 270000 non-null  object \n",
      " 7   Smoking_Status           270000 non-null  object \n",
      " 8   Alcohol_Consumption      270000 non-null  object \n",
      " 9   Physical_Activity        270000 non-null  object \n",
      " 10  BMI                      270000 non-null  float64\n",
      " 11  Family_History           270000 non-null  object \n",
      " 12  Diet_Quality             270000 non-null  object \n",
      " 13  Stress_Level             270000 non-null  object \n",
      " 14  Region_category          270000 non-null  object \n",
      " 15  Education_Level          270000 non-null  object \n",
      " 16  Employment_Status        270000 non-null  object \n",
      " 17  Income_Level             270000 non-null  object \n",
      " 18  Marital_Status           270000 non-null  object \n",
      " 19  Sleep_Hours              270000 non-null  float64\n",
      " 20  Medication_Status        270000 non-null  object \n",
      " 21  Hypertension_Status      270000 non-null  object \n",
      " 22  Heart_Rate               270000 non-null  int32  \n",
      " 23  Physical_Activity_Hours  270000 non-null  int32  \n",
      " 24  Dietary_Fiber_Intake     270000 non-null  object \n",
      " 25  Sodium_Intake            270000 non-null  object \n",
      " 26  Cultural_Background      270000 non-null  object \n",
      " 27  Age_Group                270000 non-null  object \n",
      " 28  Screen_Time              270000 non-null  object \n",
      "dtypes: float64(2), int32(4), int64(2), object(21)\n",
      "memory usage: 55.6+ MB\n"
     ]
    }
   ],
   "source": [
    "china_df.info()"
   ]
  },
  {
   "cell_type": "code",
   "execution_count": null,
   "id": "458ead36-64d9-44e3-99c2-c3074dc054c8",
   "metadata": {},
   "outputs": [],
   "source": []
  }
 ],
 "metadata": {
  "kernelspec": {
   "display_name": "Python 3 (ipykernel)",
   "language": "python",
   "name": "python3"
  },
  "language_info": {
   "codemirror_mode": {
    "name": "ipython",
    "version": 3
   },
   "file_extension": ".py",
   "mimetype": "text/x-python",
   "name": "python",
   "nbconvert_exporter": "python",
   "pygments_lexer": "ipython3",
   "version": "3.12.4"
  }
 },
 "nbformat": 4,
 "nbformat_minor": 5
}
