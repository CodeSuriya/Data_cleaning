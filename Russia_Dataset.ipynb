{
 "cells": [
  {
   "cell_type": "code",
   "execution_count": 1,
   "id": "13f939e0-31dc-4fb3-b981-3e4191aa5784",
   "metadata": {},
   "outputs": [],
   "source": [
    "import pandas as pd"
   ]
  },
  {
   "cell_type": "code",
   "execution_count": 3,
   "id": "d84e0989-2e0b-4ced-9041-1bba0b21ebab",
   "metadata": {},
   "outputs": [],
   "source": [
    "russia_df = pd.read_csv(\"C:/Users/jsuri/Downloads/Datasets/heart_attack_russia_youth_vs_adult.csv\")"
   ]
  },
  {
   "cell_type": "code",
   "execution_count": 5,
   "id": "54b9aee1-17e8-4b3b-9791-4c9d0de4e56f",
   "metadata": {},
   "outputs": [
    {
     "data": {
      "text/html": [
       "<div>\n",
       "<style scoped>\n",
       "    .dataframe tbody tr th:only-of-type {\n",
       "        vertical-align: middle;\n",
       "    }\n",
       "\n",
       "    .dataframe tbody tr th {\n",
       "        vertical-align: top;\n",
       "    }\n",
       "\n",
       "    .dataframe thead th {\n",
       "        text-align: right;\n",
       "    }\n",
       "</style>\n",
       "<table border=\"1\" class=\"dataframe\">\n",
       "  <thead>\n",
       "    <tr style=\"text-align: right;\">\n",
       "      <th></th>\n",
       "      <th>ID</th>\n",
       "      <th>Age</th>\n",
       "      <th>Gender</th>\n",
       "      <th>Region</th>\n",
       "      <th>Blood_Pressure</th>\n",
       "      <th>Cholesterol</th>\n",
       "      <th>BMI</th>\n",
       "      <th>Heart_Rate</th>\n",
       "      <th>Exercise_Level</th>\n",
       "      <th>Smoking</th>\n",
       "      <th>...</th>\n",
       "      <th>Income_Level</th>\n",
       "      <th>Physical_Activity</th>\n",
       "      <th>Education_Level</th>\n",
       "      <th>Marital_Status</th>\n",
       "      <th>Urban_Rural</th>\n",
       "      <th>Medication</th>\n",
       "      <th>Health_Awareness</th>\n",
       "      <th>Daily_Water_Intake</th>\n",
       "      <th>Mental_Health</th>\n",
       "      <th>Obesity</th>\n",
       "    </tr>\n",
       "  </thead>\n",
       "  <tbody>\n",
       "    <tr>\n",
       "      <th>0</th>\n",
       "      <td>1</td>\n",
       "      <td>50</td>\n",
       "      <td>Male</td>\n",
       "      <td>Rural</td>\n",
       "      <td>110.0</td>\n",
       "      <td>196.5</td>\n",
       "      <td>15.9</td>\n",
       "      <td>76</td>\n",
       "      <td>High</td>\n",
       "      <td>False</td>\n",
       "      <td>...</td>\n",
       "      <td>Low</td>\n",
       "      <td>Low</td>\n",
       "      <td>Primary</td>\n",
       "      <td>Married</td>\n",
       "      <td>Rural</td>\n",
       "      <td>False</td>\n",
       "      <td>5</td>\n",
       "      <td>2.3</td>\n",
       "      <td>5</td>\n",
       "      <td>False</td>\n",
       "    </tr>\n",
       "    <tr>\n",
       "      <th>1</th>\n",
       "      <td>2</td>\n",
       "      <td>40</td>\n",
       "      <td>Female</td>\n",
       "      <td>Urban</td>\n",
       "      <td>138.8</td>\n",
       "      <td>157.5</td>\n",
       "      <td>27.1</td>\n",
       "      <td>82</td>\n",
       "      <td>Moderate</td>\n",
       "      <td>False</td>\n",
       "      <td>...</td>\n",
       "      <td>Low</td>\n",
       "      <td>Moderate</td>\n",
       "      <td>Higher</td>\n",
       "      <td>Married</td>\n",
       "      <td>Urban</td>\n",
       "      <td>False</td>\n",
       "      <td>1</td>\n",
       "      <td>5.0</td>\n",
       "      <td>4</td>\n",
       "      <td>False</td>\n",
       "    </tr>\n",
       "    <tr>\n",
       "      <th>2</th>\n",
       "      <td>3</td>\n",
       "      <td>26</td>\n",
       "      <td>Male</td>\n",
       "      <td>Rural</td>\n",
       "      <td>116.0</td>\n",
       "      <td>210.1</td>\n",
       "      <td>27.2</td>\n",
       "      <td>71</td>\n",
       "      <td>Moderate</td>\n",
       "      <td>False</td>\n",
       "      <td>...</td>\n",
       "      <td>Middle</td>\n",
       "      <td>High</td>\n",
       "      <td>Primary</td>\n",
       "      <td>Married</td>\n",
       "      <td>Urban</td>\n",
       "      <td>False</td>\n",
       "      <td>4</td>\n",
       "      <td>2.4</td>\n",
       "      <td>8</td>\n",
       "      <td>False</td>\n",
       "    </tr>\n",
       "    <tr>\n",
       "      <th>3</th>\n",
       "      <td>4</td>\n",
       "      <td>54</td>\n",
       "      <td>Female</td>\n",
       "      <td>Rural</td>\n",
       "      <td>133.5</td>\n",
       "      <td>170.5</td>\n",
       "      <td>26.0</td>\n",
       "      <td>74</td>\n",
       "      <td>Moderate</td>\n",
       "      <td>True</td>\n",
       "      <td>...</td>\n",
       "      <td>Middle</td>\n",
       "      <td>Moderate</td>\n",
       "      <td>Higher</td>\n",
       "      <td>Married</td>\n",
       "      <td>Urban</td>\n",
       "      <td>False</td>\n",
       "      <td>2</td>\n",
       "      <td>2.7</td>\n",
       "      <td>6</td>\n",
       "      <td>True</td>\n",
       "    </tr>\n",
       "    <tr>\n",
       "      <th>4</th>\n",
       "      <td>5</td>\n",
       "      <td>19</td>\n",
       "      <td>Female</td>\n",
       "      <td>Urban</td>\n",
       "      <td>108.0</td>\n",
       "      <td>224.5</td>\n",
       "      <td>27.5</td>\n",
       "      <td>67</td>\n",
       "      <td>Low</td>\n",
       "      <td>False</td>\n",
       "      <td>...</td>\n",
       "      <td>Middle</td>\n",
       "      <td>Low</td>\n",
       "      <td>Higher</td>\n",
       "      <td>Widowed</td>\n",
       "      <td>Urban</td>\n",
       "      <td>False</td>\n",
       "      <td>4</td>\n",
       "      <td>3.5</td>\n",
       "      <td>4</td>\n",
       "      <td>True</td>\n",
       "    </tr>\n",
       "  </tbody>\n",
       "</table>\n",
       "<p>5 rows × 30 columns</p>\n",
       "</div>"
      ],
      "text/plain": [
       "   ID  Age  Gender Region  Blood_Pressure  Cholesterol   BMI  Heart_Rate  \\\n",
       "0   1   50    Male  Rural           110.0        196.5  15.9          76   \n",
       "1   2   40  Female  Urban           138.8        157.5  27.1          82   \n",
       "2   3   26    Male  Rural           116.0        210.1  27.2          71   \n",
       "3   4   54  Female  Rural           133.5        170.5  26.0          74   \n",
       "4   5   19  Female  Urban           108.0        224.5  27.5          67   \n",
       "\n",
       "  Exercise_Level  Smoking  ... Income_Level  Physical_Activity  \\\n",
       "0           High    False  ...          Low                Low   \n",
       "1       Moderate    False  ...          Low           Moderate   \n",
       "2       Moderate    False  ...       Middle               High   \n",
       "3       Moderate     True  ...       Middle           Moderate   \n",
       "4            Low    False  ...       Middle                Low   \n",
       "\n",
       "   Education_Level  Marital_Status  Urban_Rural  Medication  Health_Awareness  \\\n",
       "0          Primary         Married        Rural       False                 5   \n",
       "1           Higher         Married        Urban       False                 1   \n",
       "2          Primary         Married        Urban       False                 4   \n",
       "3           Higher         Married        Urban       False                 2   \n",
       "4           Higher         Widowed        Urban       False                 4   \n",
       "\n",
       "  Daily_Water_Intake  Mental_Health Obesity  \n",
       "0                2.3              5   False  \n",
       "1                5.0              4   False  \n",
       "2                2.4              8   False  \n",
       "3                2.7              6    True  \n",
       "4                3.5              4    True  \n",
       "\n",
       "[5 rows x 30 columns]"
      ]
     },
     "execution_count": 5,
     "metadata": {},
     "output_type": "execute_result"
    }
   ],
   "source": [
    "russia_df.head()"
   ]
  },
  {
   "cell_type": "code",
   "execution_count": 7,
   "id": "d5a83856-ead1-457a-a2ff-1039b7426d16",
   "metadata": {},
   "outputs": [
    {
     "name": "stdout",
     "output_type": "stream",
     "text": [
      "<class 'pandas.core.frame.DataFrame'>\n",
      "RangeIndex: 50000 entries, 0 to 49999\n",
      "Data columns (total 30 columns):\n",
      " #   Column                 Non-Null Count  Dtype  \n",
      "---  ------                 --------------  -----  \n",
      " 0   ID                     50000 non-null  int64  \n",
      " 1   Age                    50000 non-null  int64  \n",
      " 2   Gender                 50000 non-null  object \n",
      " 3   Region                 50000 non-null  object \n",
      " 4   Blood_Pressure         50000 non-null  float64\n",
      " 5   Cholesterol            50000 non-null  float64\n",
      " 6   BMI                    50000 non-null  float64\n",
      " 7   Heart_Rate             50000 non-null  int64  \n",
      " 8   Exercise_Level         50000 non-null  object \n",
      " 9   Smoking                50000 non-null  bool   \n",
      " 10  Alcohol_Consumption    24976 non-null  object \n",
      " 11  Diabetes               50000 non-null  bool   \n",
      " 12  Family_History         50000 non-null  bool   \n",
      " 13  Stress_Level           50000 non-null  int64  \n",
      " 14  Heart_Attack           50000 non-null  bool   \n",
      " 15  Angina                 50000 non-null  bool   \n",
      " 16  Heart_Disease_History  50000 non-null  bool   \n",
      " 17  Diet                   50000 non-null  object \n",
      " 18  Sleep_Hours            50000 non-null  float64\n",
      " 19  Occupation             50000 non-null  object \n",
      " 20  Income_Level           50000 non-null  object \n",
      " 21  Physical_Activity      50000 non-null  object \n",
      " 22  Education_Level        50000 non-null  object \n",
      " 23  Marital_Status         50000 non-null  object \n",
      " 24  Urban_Rural            50000 non-null  object \n",
      " 25  Medication             50000 non-null  bool   \n",
      " 26  Health_Awareness       50000 non-null  int64  \n",
      " 27  Daily_Water_Intake     50000 non-null  float64\n",
      " 28  Mental_Health          50000 non-null  int64  \n",
      " 29  Obesity                50000 non-null  bool   \n",
      "dtypes: bool(8), float64(5), int64(6), object(11)\n",
      "memory usage: 8.8+ MB\n"
     ]
    }
   ],
   "source": [
    "russia_df.info()"
   ]
  },
  {
   "cell_type": "code",
   "execution_count": 9,
   "id": "b327cfbf-98f2-4117-857a-dfa055ac2796",
   "metadata": {},
   "outputs": [
    {
     "data": {
      "text/plain": [
       "Gender\n",
       "Female    24155\n",
       "Male      23944\n",
       "Other      1901\n",
       "Name: count, dtype: int64"
      ]
     },
     "execution_count": 9,
     "metadata": {},
     "output_type": "execute_result"
    }
   ],
   "source": [
    "russia_df['Gender'].value_counts()"
   ]
  },
  {
   "cell_type": "code",
   "execution_count": 11,
   "id": "f391d82d-5d59-4e05-9d59-71cd7ddf6ba4",
   "metadata": {},
   "outputs": [
    {
     "data": {
      "text/plain": [
       "Region\n",
       "Urban       25034\n",
       "Rural       14946\n",
       "Suburban    10020\n",
       "Name: count, dtype: int64"
      ]
     },
     "execution_count": 11,
     "metadata": {},
     "output_type": "execute_result"
    }
   ],
   "source": [
    "russia_df['Region'].value_counts()"
   ]
  },
  {
   "cell_type": "code",
   "execution_count": 13,
   "id": "8b4e2c4f-3f35-46f0-9ad6-f3887882cf8e",
   "metadata": {},
   "outputs": [],
   "source": [
    "russia_df.rename(columns={'Region': 'Region_Category'}, inplace=True)"
   ]
  },
  {
   "cell_type": "code",
   "execution_count": 15,
   "id": "df8992b2-f682-4fa8-ad2c-a9eeafb4cdee",
   "metadata": {},
   "outputs": [],
   "source": [
    "russia_df['Region_Category'] = russia_df['Region_Category'].replace({\n",
    "    'Rural': 'Russia (Rural)',\n",
    "    'Urban': 'Russia (Urban)',\n",
    "    'Suburban': 'Russia (Suburban)'\n",
    "})"
   ]
  },
  {
   "cell_type": "code",
   "execution_count": 17,
   "id": "23e0e488-35f3-4df8-827f-0737123db427",
   "metadata": {},
   "outputs": [
    {
     "data": {
      "text/plain": [
       "Region_Category\n",
       "Russia (Urban)       25034\n",
       "Russia (Rural)       14946\n",
       "Russia (Suburban)    10020\n",
       "Name: count, dtype: int64"
      ]
     },
     "execution_count": 17,
     "metadata": {},
     "output_type": "execute_result"
    }
   ],
   "source": [
    "russia_df['Region_Category'].value_counts()"
   ]
  },
  {
   "cell_type": "code",
   "execution_count": 25,
   "id": "3536e024-579c-4441-a8ef-99fa37392d47",
   "metadata": {},
   "outputs": [],
   "source": [
    "russia_df['Blood_Pressure']=russia_df['Blood_Pressure'].astype(int)"
   ]
  },
  {
   "cell_type": "code",
   "execution_count": 27,
   "id": "0c69120b-d1f4-427b-9a72-1f17c87a8ee6",
   "metadata": {},
   "outputs": [
    {
     "data": {
      "text/plain": [
       "Blood_Pressure\n",
       "119    1397\n",
       "122    1374\n",
       "117    1345\n",
       "116    1335\n",
       "124    1308\n",
       "       ... \n",
       "66        1\n",
       "183       1\n",
       "172       1\n",
       "188       1\n",
       "173       1\n",
       "Name: count, Length: 117, dtype: int64"
      ]
     },
     "execution_count": 27,
     "metadata": {},
     "output_type": "execute_result"
    }
   ],
   "source": [
    "russia_df['Blood_Pressure'].value_counts()"
   ]
  },
  {
   "cell_type": "code",
   "execution_count": 29,
   "id": "6da24d00-8d79-44b9-b363-815a1c9b1093",
   "metadata": {},
   "outputs": [
    {
     "name": "stdout",
     "output_type": "stream",
     "text": [
      "int32\n"
     ]
    }
   ],
   "source": [
    "print(russia_df['Blood_Pressure'].dtype)  "
   ]
  },
  {
   "cell_type": "code",
   "execution_count": 31,
   "id": "06ffe858-42b9-4da4-a008-27094d154111",
   "metadata": {},
   "outputs": [],
   "source": [
    "russia_df.rename(columns={'Cholesterol': 'Cholesterol_Level'}, inplace=True)"
   ]
  },
  {
   "cell_type": "code",
   "execution_count": 39,
   "id": "0283c8d3-0496-4827-937b-40931fc9b329",
   "metadata": {},
   "outputs": [],
   "source": [
    "russia_df['Cholesterol_Level']=russia_df['Cholesterol_Level'].astype(int)"
   ]
  },
  {
   "cell_type": "code",
   "execution_count": 41,
   "id": "fa56bf35-ac6d-4812-880e-44aa2cfd19cb",
   "metadata": {},
   "outputs": [
    {
     "data": {
      "text/plain": [
       "Cholesterol_Level\n",
       "199    439\n",
       "193    420\n",
       "196    419\n",
       "204    416\n",
       "202    416\n",
       "      ... \n",
       "26       1\n",
       "37       1\n",
       "370      1\n",
       "23       1\n",
       "6        1\n",
       "Name: count, Length: 358, dtype: int64"
      ]
     },
     "execution_count": 41,
     "metadata": {},
     "output_type": "execute_result"
    }
   ],
   "source": [
    "russia_df['Cholesterol_Level'].value_counts()"
   ]
  },
  {
   "cell_type": "code",
   "execution_count": 43,
   "id": "608066b3-5b50-4df8-a19d-a550cb3d6ef6",
   "metadata": {},
   "outputs": [
    {
     "name": "stdout",
     "output_type": "stream",
     "text": [
      "int32\n"
     ]
    }
   ],
   "source": [
    "print(russia_df['Cholesterol_Level'].dtype)"
   ]
  },
  {
   "cell_type": "code",
   "execution_count": 45,
   "id": "58929101-7f2a-4005-9505-897629e3a98a",
   "metadata": {},
   "outputs": [
    {
     "data": {
      "text/plain": [
       "BMI\n",
       "24.4    427\n",
       "26.8    419\n",
       "23.8    418\n",
       "25.1    412\n",
       "25.8    410\n",
       "       ... \n",
       "42.2      1\n",
       "43.1      1\n",
       "41.8      1\n",
       "6.4       1\n",
       "46.1      1\n",
       "Name: count, Length: 366, dtype: int64"
      ]
     },
     "execution_count": 45,
     "metadata": {},
     "output_type": "execute_result"
    }
   ],
   "source": [
    "russia_df['BMI'].value_counts()"
   ]
  },
  {
   "cell_type": "code",
   "execution_count": 51,
   "id": "db849513-b2b5-4221-847e-f07b4d7bfd87",
   "metadata": {},
   "outputs": [
    {
     "data": {
      "text/plain": [
       "50000"
      ]
     },
     "execution_count": 51,
     "metadata": {},
     "output_type": "execute_result"
    }
   ],
   "source": [
    "russia_df['Heart_Rate'].value_counts().sum()"
   ]
  },
  {
   "cell_type": "code",
   "execution_count": 57,
   "id": "d3613465-03e6-46c5-8bc0-c34c370bb4de",
   "metadata": {},
   "outputs": [
    {
     "data": {
      "text/plain": [
       "Exercise_Level\n",
       "Moderate    24946\n",
       "Low         15100\n",
       "High         9954\n",
       "Name: count, dtype: int64"
      ]
     },
     "execution_count": 57,
     "metadata": {},
     "output_type": "execute_result"
    }
   ],
   "source": [
    "russia_df['Exercise_Level'].value_counts()"
   ]
  },
  {
   "cell_type": "code",
   "execution_count": 59,
   "id": "6be4ec28-22d4-473a-b824-c03fe22ee907",
   "metadata": {},
   "outputs": [
    {
     "data": {
      "text/plain": [
       "Smoking\n",
       "False    35008\n",
       "True     14992\n",
       "Name: count, dtype: int64"
      ]
     },
     "execution_count": 59,
     "metadata": {},
     "output_type": "execute_result"
    }
   ],
   "source": [
    "russia_df['Smoking'].value_counts()"
   ]
  },
  {
   "cell_type": "code",
   "execution_count": 61,
   "id": "66ad4f3a-0105-4302-8c28-05a780d8e5da",
   "metadata": {},
   "outputs": [],
   "source": [
    "# Define the boolean columns\n",
    "bool_columns = ['Smoking', 'Diabetes', 'Family_History', 'Heart_Attack', \n",
    "                'Angina', 'Heart_Disease_History', 'Medication', 'Obesity']"
   ]
  },
  {
   "cell_type": "code",
   "execution_count": 63,
   "id": "65ca8023-f314-4c64-aab6-1da45d5de20d",
   "metadata": {},
   "outputs": [],
   "source": [
    "russia_df[bool_columns] = russia_df[bool_columns].replace({True: 'Yes', False: 'No'}).astype(str)"
   ]
  },
  {
   "cell_type": "code",
   "execution_count": 67,
   "id": "2b7b3670-87a6-4702-a587-8d66e5db37f2",
   "metadata": {},
   "outputs": [
    {
     "name": "stdout",
     "output_type": "stream",
     "text": [
      "Smoking                  object\n",
      "Diabetes                 object\n",
      "Family_History           object\n",
      "Heart_Attack             object\n",
      "Angina                   object\n",
      "Heart_Disease_History    object\n",
      "Medication               object\n",
      "Obesity                  object\n",
      "dtype: object\n"
     ]
    }
   ],
   "source": [
    "print(russia_df[bool_columns].dtypes)"
   ]
  },
  {
   "cell_type": "code",
   "execution_count": 69,
   "id": "2792f95b-e69f-4724-97ee-4279ab8372ad",
   "metadata": {},
   "outputs": [
    {
     "data": {
      "text/html": [
       "<div>\n",
       "<style scoped>\n",
       "    .dataframe tbody tr th:only-of-type {\n",
       "        vertical-align: middle;\n",
       "    }\n",
       "\n",
       "    .dataframe tbody tr th {\n",
       "        vertical-align: top;\n",
       "    }\n",
       "\n",
       "    .dataframe thead th {\n",
       "        text-align: right;\n",
       "    }\n",
       "</style>\n",
       "<table border=\"1\" class=\"dataframe\">\n",
       "  <thead>\n",
       "    <tr style=\"text-align: right;\">\n",
       "      <th></th>\n",
       "      <th>Smoking</th>\n",
       "      <th>Diabetes</th>\n",
       "      <th>Family_History</th>\n",
       "      <th>Heart_Attack</th>\n",
       "      <th>Angina</th>\n",
       "      <th>Heart_Disease_History</th>\n",
       "      <th>Medication</th>\n",
       "      <th>Obesity</th>\n",
       "    </tr>\n",
       "  </thead>\n",
       "  <tbody>\n",
       "    <tr>\n",
       "      <th>0</th>\n",
       "      <td>No</td>\n",
       "      <td>No</td>\n",
       "      <td>No</td>\n",
       "      <td>No</td>\n",
       "      <td>No</td>\n",
       "      <td>No</td>\n",
       "      <td>No</td>\n",
       "      <td>No</td>\n",
       "    </tr>\n",
       "    <tr>\n",
       "      <th>1</th>\n",
       "      <td>No</td>\n",
       "      <td>No</td>\n",
       "      <td>Yes</td>\n",
       "      <td>No</td>\n",
       "      <td>Yes</td>\n",
       "      <td>No</td>\n",
       "      <td>No</td>\n",
       "      <td>No</td>\n",
       "    </tr>\n",
       "    <tr>\n",
       "      <th>2</th>\n",
       "      <td>No</td>\n",
       "      <td>Yes</td>\n",
       "      <td>No</td>\n",
       "      <td>No</td>\n",
       "      <td>No</td>\n",
       "      <td>No</td>\n",
       "      <td>No</td>\n",
       "      <td>No</td>\n",
       "    </tr>\n",
       "    <tr>\n",
       "      <th>3</th>\n",
       "      <td>Yes</td>\n",
       "      <td>No</td>\n",
       "      <td>Yes</td>\n",
       "      <td>No</td>\n",
       "      <td>No</td>\n",
       "      <td>No</td>\n",
       "      <td>No</td>\n",
       "      <td>Yes</td>\n",
       "    </tr>\n",
       "    <tr>\n",
       "      <th>4</th>\n",
       "      <td>No</td>\n",
       "      <td>No</td>\n",
       "      <td>Yes</td>\n",
       "      <td>No</td>\n",
       "      <td>No</td>\n",
       "      <td>No</td>\n",
       "      <td>No</td>\n",
       "      <td>Yes</td>\n",
       "    </tr>\n",
       "  </tbody>\n",
       "</table>\n",
       "</div>"
      ],
      "text/plain": [
       "  Smoking Diabetes Family_History Heart_Attack Angina Heart_Disease_History  \\\n",
       "0      No       No             No           No     No                    No   \n",
       "1      No       No            Yes           No    Yes                    No   \n",
       "2      No      Yes             No           No     No                    No   \n",
       "3     Yes       No            Yes           No     No                    No   \n",
       "4      No       No            Yes           No     No                    No   \n",
       "\n",
       "  Medication Obesity  \n",
       "0         No      No  \n",
       "1         No      No  \n",
       "2         No      No  \n",
       "3         No     Yes  \n",
       "4         No     Yes  "
      ]
     },
     "execution_count": 69,
     "metadata": {},
     "output_type": "execute_result"
    }
   ],
   "source": [
    "russia_df[bool_columns].head()"
   ]
  },
  {
   "cell_type": "code",
   "execution_count": 71,
   "id": "cff5ae4d-1740-4e4a-beeb-ff2a62b2d905",
   "metadata": {},
   "outputs": [
    {
     "name": "stdout",
     "output_type": "stream",
     "text": [
      "<class 'pandas.core.frame.DataFrame'>\n",
      "RangeIndex: 50000 entries, 0 to 49999\n",
      "Data columns (total 30 columns):\n",
      " #   Column                 Non-Null Count  Dtype  \n",
      "---  ------                 --------------  -----  \n",
      " 0   ID                     50000 non-null  int64  \n",
      " 1   Age                    50000 non-null  int64  \n",
      " 2   Gender                 50000 non-null  object \n",
      " 3   Region_Category        50000 non-null  object \n",
      " 4   Blood_Pressure         50000 non-null  int32  \n",
      " 5   Cholesterol_Level      50000 non-null  int32  \n",
      " 6   BMI                    50000 non-null  float64\n",
      " 7   Heart_Rate             50000 non-null  int64  \n",
      " 8   Exercise_Level         50000 non-null  object \n",
      " 9   Smoking                50000 non-null  object \n",
      " 10  Alcohol_Consumption    24976 non-null  object \n",
      " 11  Diabetes               50000 non-null  object \n",
      " 12  Family_History         50000 non-null  object \n",
      " 13  Stress_Level           50000 non-null  int64  \n",
      " 14  Heart_Attack           50000 non-null  object \n",
      " 15  Angina                 50000 non-null  object \n",
      " 16  Heart_Disease_History  50000 non-null  object \n",
      " 17  Diet                   50000 non-null  object \n",
      " 18  Sleep_Hours            50000 non-null  float64\n",
      " 19  Occupation             50000 non-null  object \n",
      " 20  Income_Level           50000 non-null  object \n",
      " 21  Physical_Activity      50000 non-null  object \n",
      " 22  Education_Level        50000 non-null  object \n",
      " 23  Marital_Status         50000 non-null  object \n",
      " 24  Urban_Rural            50000 non-null  object \n",
      " 25  Medication             50000 non-null  object \n",
      " 26  Health_Awareness       50000 non-null  int64  \n",
      " 27  Daily_Water_Intake     50000 non-null  float64\n",
      " 28  Mental_Health          50000 non-null  int64  \n",
      " 29  Obesity                50000 non-null  object \n",
      "dtypes: float64(3), int32(2), int64(6), object(19)\n",
      "memory usage: 11.1+ MB\n"
     ]
    }
   ],
   "source": [
    "russia_df.info()"
   ]
  },
  {
   "cell_type": "code",
   "execution_count": 73,
   "id": "0b197ae7-9449-4d61-8902-fde21d9bdaa1",
   "metadata": {},
   "outputs": [],
   "source": [
    "russia_df.rename(columns={'Smoking': 'Smoking_Status'}, inplace=True)"
   ]
  },
  {
   "cell_type": "code",
   "execution_count": 75,
   "id": "e9f47002-40e5-420b-ab85-a5055390b3e2",
   "metadata": {},
   "outputs": [
    {
     "data": {
      "text/plain": [
       "Smoking_Status\n",
       "No     35008\n",
       "Yes    14992\n",
       "Name: count, dtype: int64"
      ]
     },
     "execution_count": 75,
     "metadata": {},
     "output_type": "execute_result"
    }
   ],
   "source": [
    "russia_df['Smoking_Status'].value_counts()"
   ]
  },
  {
   "cell_type": "code",
   "execution_count": 81,
   "id": "85ec711b-56d3-4780-beec-6a322c8d2534",
   "metadata": {},
   "outputs": [
    {
     "data": {
      "text/plain": [
       "Alcohol_Consumption\n",
       "Moderate    20022\n",
       "Heavy        4954\n",
       "Name: count, dtype: int64"
      ]
     },
     "execution_count": 81,
     "metadata": {},
     "output_type": "execute_result"
    }
   ],
   "source": [
    "russia_df['Alcohol_Consumption'].value_counts()"
   ]
  },
  {
   "cell_type": "code",
   "execution_count": 79,
   "id": "951466c6-3cfe-4388-bd46-fa66d137cc0c",
   "metadata": {},
   "outputs": [
    {
     "data": {
      "text/plain": [
       "25024"
      ]
     },
     "execution_count": 79,
     "metadata": {},
     "output_type": "execute_result"
    }
   ],
   "source": [
    "russia_df['Alcohol_Consumption'].isnull().sum()"
   ]
  },
  {
   "cell_type": "code",
   "execution_count": 83,
   "id": "a51d3828-318d-43f6-b5ac-8de41fc98946",
   "metadata": {},
   "outputs": [],
   "source": [
    "import numpy as np"
   ]
  },
  {
   "cell_type": "code",
   "execution_count": 85,
   "id": "579ce934-edbd-4125-84aa-f42879215219",
   "metadata": {},
   "outputs": [],
   "source": [
    "np.random.seed(42)"
   ]
  },
  {
   "cell_type": "code",
   "execution_count": 87,
   "id": "61589b03-ca8b-43e8-bb13-ab0f18dde474",
   "metadata": {},
   "outputs": [],
   "source": [
    "moderate_count = (russia_df['Alcohol_Consumption'] == 'Moderate').sum()\n",
    "heavy_count = (russia_df['Alcohol_Consumption'] == 'Heavy').sum()\n",
    "total_known = moderate_count + heavy_count"
   ]
  },
  {
   "cell_type": "code",
   "execution_count": 89,
   "id": "89439df6-4539-4a73-84ec-2c277487c489",
   "metadata": {},
   "outputs": [],
   "source": [
    "moderate_ratio = moderate_count / total_known\n",
    "heavy_ratio = heavy_count / total_known"
   ]
  },
  {
   "cell_type": "code",
   "execution_count": 91,
   "id": "97de9846-8c78-4d3f-aaac-773ac389a5c2",
   "metadata": {},
   "outputs": [],
   "source": [
    "russia_df.loc[russia_df['Alcohol_Consumption'].isnull(), 'Alcohol_Consumption'] = np.random.choice(\n",
    "    ['Moderate', 'Heavy'],\n",
    "    size=russia_df['Alcohol_Consumption'].isnull().sum(),\n",
    "    p=[moderate_ratio, heavy_ratio]\n",
    ")"
   ]
  },
  {
   "cell_type": "code",
   "execution_count": 93,
   "id": "17c66ab8-cf15-40a4-b31a-ccb6f7c72600",
   "metadata": {},
   "outputs": [
    {
     "data": {
      "text/plain": [
       "Alcohol_Consumption\n",
       "Moderate    40054\n",
       "Heavy        9946\n",
       "Name: count, dtype: int64"
      ]
     },
     "execution_count": 93,
     "metadata": {},
     "output_type": "execute_result"
    }
   ],
   "source": [
    "russia_df['Alcohol_Consumption'].value_counts()"
   ]
  },
  {
   "cell_type": "code",
   "execution_count": 95,
   "id": "7556d241-de47-46d9-beac-fbce47db5614",
   "metadata": {},
   "outputs": [
    {
     "data": {
      "text/plain": [
       "Stress_Level\n",
       "1     5102\n",
       "5     5099\n",
       "7     5042\n",
       "10    5009\n",
       "6     5004\n",
       "4     5000\n",
       "8     4984\n",
       "9     4975\n",
       "3     4963\n",
       "2     4822\n",
       "Name: count, dtype: int64"
      ]
     },
     "execution_count": 95,
     "metadata": {},
     "output_type": "execute_result"
    }
   ],
   "source": [
    "russia_df['Stress_Level'].value_counts()"
   ]
  },
  {
   "cell_type": "code",
   "execution_count": 97,
   "id": "7a3ca55e-b44b-4611-9823-60727083da96",
   "metadata": {},
   "outputs": [],
   "source": [
    "# Define bins and labels\n",
    "bins = [0, 3, 6, 10]  # Stress levels: 1-3 (Good), 4-6 (Moderate), 7-10 (Bad)\n",
    "labels = ['Good', 'Moderate', 'Bad']  # Categories for stress levels"
   ]
  },
  {
   "cell_type": "code",
   "execution_count": 99,
   "id": "10b94523-ecc6-4b5b-93ec-9657d40a42da",
   "metadata": {},
   "outputs": [],
   "source": [
    "# Apply categorization\n",
    "russia_df['Stress_Level'] = pd.cut(russia_df['Stress_Level'], bins=bins, labels=labels, right=True)\n"
   ]
  },
  {
   "cell_type": "code",
   "execution_count": 105,
   "id": "253f1f97-e8eb-4072-9a11-b193642c512e",
   "metadata": {},
   "outputs": [
    {
     "data": {
      "text/plain": [
       "Stress_Level\n",
       "Bad         20010\n",
       "Moderate    15103\n",
       "Good        14887\n",
       "Name: count, dtype: int64"
      ]
     },
     "execution_count": 105,
     "metadata": {},
     "output_type": "execute_result"
    }
   ],
   "source": [
    "russia_df['Stress_Level'].value_counts()"
   ]
  },
  {
   "cell_type": "code",
   "execution_count": 107,
   "id": "69ca992f-f5d3-4f4a-b7b5-d66a16ec0bf6",
   "metadata": {},
   "outputs": [
    {
     "data": {
      "text/plain": [
       "Heart_Attack\n",
       "No     44119\n",
       "Yes     5881\n",
       "Name: count, dtype: int64"
      ]
     },
     "execution_count": 107,
     "metadata": {},
     "output_type": "execute_result"
    }
   ],
   "source": [
    "russia_df['Heart_Attack'].value_counts()"
   ]
  },
  {
   "cell_type": "code",
   "execution_count": 109,
   "id": "90173015-3485-4204-8344-7b6b8d944443",
   "metadata": {},
   "outputs": [
    {
     "data": {
      "text/plain": [
       "Diet\n",
       "Healthy      19789\n",
       "Mixed        15185\n",
       "Unhealthy    15026\n",
       "Name: count, dtype: int64"
      ]
     },
     "execution_count": 109,
     "metadata": {},
     "output_type": "execute_result"
    }
   ],
   "source": [
    "russia_df['Diet'].value_counts()"
   ]
  },
  {
   "cell_type": "code",
   "execution_count": 111,
   "id": "4da81570-1ec1-4d82-be51-862a5415ad0d",
   "metadata": {},
   "outputs": [],
   "source": [
    "russia_df.rename(columns={'Diet': 'Diet_Quality'}, inplace=True)"
   ]
  },
  {
   "cell_type": "code",
   "execution_count": 113,
   "id": "e226f678-ee55-40be-91d0-a66573ec88bb",
   "metadata": {},
   "outputs": [
    {
     "data": {
      "text/plain": [
       "Diet_Quality\n",
       "Healthy      19789\n",
       "Mixed        15185\n",
       "Unhealthy    15026\n",
       "Name: count, dtype: int64"
      ]
     },
     "execution_count": 113,
     "metadata": {},
     "output_type": "execute_result"
    }
   ],
   "source": [
    "russia_df['Diet_Quality'].value_counts()"
   ]
  },
  {
   "cell_type": "code",
   "execution_count": 115,
   "id": "ab6984c9-eab7-41a7-8b37-81eca8f7f3dd",
   "metadata": {},
   "outputs": [
    {
     "data": {
      "text/plain": [
       "Sleep_Hours\n",
       "8.2     903\n",
       "8.5     895\n",
       "4.5     887\n",
       "5.0     879\n",
       "9.0     878\n",
       "       ... \n",
       "7.3     792\n",
       "6.1     765\n",
       "6.8     740\n",
       "10.0    448\n",
       "4.0     431\n",
       "Name: count, Length: 61, dtype: int64"
      ]
     },
     "execution_count": 115,
     "metadata": {},
     "output_type": "execute_result"
    }
   ],
   "source": [
    "russia_df['Sleep_Hours'].value_counts()"
   ]
  },
  {
   "cell_type": "code",
   "execution_count": 123,
   "id": "83df8ba1-d56e-4050-9421-b9fbb2e37efd",
   "metadata": {},
   "outputs": [
    {
     "data": {
      "text/plain": [
       "Occupation\n",
       "Employed      25166\n",
       "Student       10068\n",
       "Unemployed     9843\n",
       "Retired        4923\n",
       "Name: count, dtype: int64"
      ]
     },
     "execution_count": 123,
     "metadata": {},
     "output_type": "execute_result"
    }
   ],
   "source": [
    "russia_df['Occupation'].value_counts()"
   ]
  },
  {
   "cell_type": "code",
   "execution_count": 125,
   "id": "81cabc8f-05d7-44f6-b116-d79e74f88610",
   "metadata": {},
   "outputs": [
    {
     "data": {
      "text/plain": [
       "Income_Level\n",
       "Middle    20025\n",
       "Low       19863\n",
       "High      10112\n",
       "Name: count, dtype: int64"
      ]
     },
     "execution_count": 125,
     "metadata": {},
     "output_type": "execute_result"
    }
   ],
   "source": [
    "russia_df['Income_Level'].value_counts()"
   ]
  },
  {
   "cell_type": "code",
   "execution_count": 129,
   "id": "1ca05af2-55ac-4e2d-ac0a-e2c2e95cf4c6",
   "metadata": {},
   "outputs": [
    {
     "data": {
      "text/plain": [
       "Physical_Activity\n",
       "Moderate    24828\n",
       "Low         15158\n",
       "High        10014\n",
       "Name: count, dtype: int64"
      ]
     },
     "execution_count": 129,
     "metadata": {},
     "output_type": "execute_result"
    }
   ],
   "source": [
    "russia_df['Physical_Activity'].value_counts()"
   ]
  },
  {
   "cell_type": "code",
   "execution_count": 131,
   "id": "5cdb0cb9-9a54-42cc-a5a4-45f02c167311",
   "metadata": {},
   "outputs": [
    {
     "name": "stdout",
     "output_type": "stream",
     "text": [
      "<class 'pandas.core.frame.DataFrame'>\n",
      "RangeIndex: 50000 entries, 0 to 49999\n",
      "Data columns (total 30 columns):\n",
      " #   Column                 Non-Null Count  Dtype   \n",
      "---  ------                 --------------  -----   \n",
      " 0   ID                     50000 non-null  int64   \n",
      " 1   Age                    50000 non-null  int64   \n",
      " 2   Gender                 50000 non-null  object  \n",
      " 3   Region_Category        50000 non-null  object  \n",
      " 4   Blood_Pressure         50000 non-null  int32   \n",
      " 5   Cholesterol_Level      50000 non-null  int32   \n",
      " 6   BMI                    50000 non-null  float64 \n",
      " 7   Heart_Rate             50000 non-null  int64   \n",
      " 8   Exercise_Level         50000 non-null  object  \n",
      " 9   Smoking_Status         50000 non-null  object  \n",
      " 10  Alcohol_Consumption    50000 non-null  object  \n",
      " 11  Diabetes               50000 non-null  object  \n",
      " 12  Family_History         50000 non-null  object  \n",
      " 13  Stress_Level           50000 non-null  category\n",
      " 14  Heart_Attack           50000 non-null  object  \n",
      " 15  Angina                 50000 non-null  object  \n",
      " 16  Heart_Disease_History  50000 non-null  object  \n",
      " 17  Diet_Quality           50000 non-null  object  \n",
      " 18  Sleep_Hours            50000 non-null  float64 \n",
      " 19  Occupation             50000 non-null  object  \n",
      " 20  Income_Level           50000 non-null  object  \n",
      " 21  Physical_Activity      50000 non-null  object  \n",
      " 22  Education_Level        50000 non-null  object  \n",
      " 23  Marital_Status         50000 non-null  object  \n",
      " 24  Urban_Rural            50000 non-null  object  \n",
      " 25  Medication             50000 non-null  object  \n",
      " 26  Health_Awareness       50000 non-null  int64   \n",
      " 27  Daily_Water_Intake     50000 non-null  float64 \n",
      " 28  Mental_Health          50000 non-null  int64   \n",
      " 29  Obesity                50000 non-null  object  \n",
      "dtypes: category(1), float64(3), int32(2), int64(5), object(19)\n",
      "memory usage: 10.7+ MB\n"
     ]
    }
   ],
   "source": [
    "russia_df.info()"
   ]
  },
  {
   "cell_type": "code",
   "execution_count": 133,
   "id": "859e91c9-026d-45bd-b9dc-fc6a2a4e1b83",
   "metadata": {},
   "outputs": [
    {
     "data": {
      "text/plain": [
       "Education_Level\n",
       "Secondary    20064\n",
       "Primary      14983\n",
       "Higher       14953\n",
       "Name: count, dtype: int64"
      ]
     },
     "execution_count": 133,
     "metadata": {},
     "output_type": "execute_result"
    }
   ],
   "source": [
    "russia_df['Education_Level'].value_counts()"
   ]
  },
  {
   "cell_type": "code",
   "execution_count": 135,
   "id": "6184938b-93f9-4b98-9408-9177de2cd493",
   "metadata": {},
   "outputs": [
    {
     "data": {
      "text/plain": [
       "Urban_Rural\n",
       "Urban    30142\n",
       "Rural    19858\n",
       "Name: count, dtype: int64"
      ]
     },
     "execution_count": 135,
     "metadata": {},
     "output_type": "execute_result"
    }
   ],
   "source": [
    "russia_df['Urban_Rural'].value_counts()"
   ]
  },
  {
   "cell_type": "code",
   "execution_count": 141,
   "id": "bce7dbc1-a675-4fe9-89d9-c764944baed3",
   "metadata": {},
   "outputs": [],
   "source": [
    "russia_df.drop(columns=['Urban_Rural'], inplace=True)\n"
   ]
  },
  {
   "cell_type": "code",
   "execution_count": 143,
   "id": "285fd4a4-e460-4fb1-b641-20e29be443cf",
   "metadata": {},
   "outputs": [
    {
     "data": {
      "text/html": [
       "<div>\n",
       "<style scoped>\n",
       "    .dataframe tbody tr th:only-of-type {\n",
       "        vertical-align: middle;\n",
       "    }\n",
       "\n",
       "    .dataframe tbody tr th {\n",
       "        vertical-align: top;\n",
       "    }\n",
       "\n",
       "    .dataframe thead th {\n",
       "        text-align: right;\n",
       "    }\n",
       "</style>\n",
       "<table border=\"1\" class=\"dataframe\">\n",
       "  <thead>\n",
       "    <tr style=\"text-align: right;\">\n",
       "      <th></th>\n",
       "      <th>ID</th>\n",
       "      <th>Age</th>\n",
       "      <th>Gender</th>\n",
       "      <th>Region_Category</th>\n",
       "      <th>Blood_Pressure</th>\n",
       "      <th>Cholesterol_Level</th>\n",
       "      <th>BMI</th>\n",
       "      <th>Heart_Rate</th>\n",
       "      <th>Exercise_Level</th>\n",
       "      <th>Smoking_Status</th>\n",
       "      <th>...</th>\n",
       "      <th>Occupation</th>\n",
       "      <th>Income_Level</th>\n",
       "      <th>Physical_Activity</th>\n",
       "      <th>Education_Level</th>\n",
       "      <th>Marital_Status</th>\n",
       "      <th>Medication</th>\n",
       "      <th>Health_Awareness</th>\n",
       "      <th>Daily_Water_Intake</th>\n",
       "      <th>Mental_Health</th>\n",
       "      <th>Obesity</th>\n",
       "    </tr>\n",
       "  </thead>\n",
       "  <tbody>\n",
       "    <tr>\n",
       "      <th>0</th>\n",
       "      <td>1</td>\n",
       "      <td>50</td>\n",
       "      <td>Male</td>\n",
       "      <td>Russia (Rural)</td>\n",
       "      <td>110</td>\n",
       "      <td>196</td>\n",
       "      <td>15.9</td>\n",
       "      <td>76</td>\n",
       "      <td>High</td>\n",
       "      <td>No</td>\n",
       "      <td>...</td>\n",
       "      <td>Unemployed</td>\n",
       "      <td>Low</td>\n",
       "      <td>Low</td>\n",
       "      <td>Primary</td>\n",
       "      <td>Married</td>\n",
       "      <td>No</td>\n",
       "      <td>5</td>\n",
       "      <td>2.3</td>\n",
       "      <td>5</td>\n",
       "      <td>No</td>\n",
       "    </tr>\n",
       "    <tr>\n",
       "      <th>1</th>\n",
       "      <td>2</td>\n",
       "      <td>40</td>\n",
       "      <td>Female</td>\n",
       "      <td>Russia (Urban)</td>\n",
       "      <td>138</td>\n",
       "      <td>157</td>\n",
       "      <td>27.1</td>\n",
       "      <td>82</td>\n",
       "      <td>Moderate</td>\n",
       "      <td>No</td>\n",
       "      <td>...</td>\n",
       "      <td>Employed</td>\n",
       "      <td>Low</td>\n",
       "      <td>Moderate</td>\n",
       "      <td>Higher</td>\n",
       "      <td>Married</td>\n",
       "      <td>No</td>\n",
       "      <td>1</td>\n",
       "      <td>5.0</td>\n",
       "      <td>4</td>\n",
       "      <td>No</td>\n",
       "    </tr>\n",
       "    <tr>\n",
       "      <th>2</th>\n",
       "      <td>3</td>\n",
       "      <td>26</td>\n",
       "      <td>Male</td>\n",
       "      <td>Russia (Rural)</td>\n",
       "      <td>116</td>\n",
       "      <td>210</td>\n",
       "      <td>27.2</td>\n",
       "      <td>71</td>\n",
       "      <td>Moderate</td>\n",
       "      <td>No</td>\n",
       "      <td>...</td>\n",
       "      <td>Employed</td>\n",
       "      <td>Middle</td>\n",
       "      <td>High</td>\n",
       "      <td>Primary</td>\n",
       "      <td>Married</td>\n",
       "      <td>No</td>\n",
       "      <td>4</td>\n",
       "      <td>2.4</td>\n",
       "      <td>8</td>\n",
       "      <td>No</td>\n",
       "    </tr>\n",
       "    <tr>\n",
       "      <th>3</th>\n",
       "      <td>4</td>\n",
       "      <td>54</td>\n",
       "      <td>Female</td>\n",
       "      <td>Russia (Rural)</td>\n",
       "      <td>133</td>\n",
       "      <td>170</td>\n",
       "      <td>26.0</td>\n",
       "      <td>74</td>\n",
       "      <td>Moderate</td>\n",
       "      <td>Yes</td>\n",
       "      <td>...</td>\n",
       "      <td>Student</td>\n",
       "      <td>Middle</td>\n",
       "      <td>Moderate</td>\n",
       "      <td>Higher</td>\n",
       "      <td>Married</td>\n",
       "      <td>No</td>\n",
       "      <td>2</td>\n",
       "      <td>2.7</td>\n",
       "      <td>6</td>\n",
       "      <td>Yes</td>\n",
       "    </tr>\n",
       "  </tbody>\n",
       "</table>\n",
       "<p>4 rows × 29 columns</p>\n",
       "</div>"
      ],
      "text/plain": [
       "   ID  Age  Gender Region_Category  Blood_Pressure  Cholesterol_Level   BMI  \\\n",
       "0   1   50    Male  Russia (Rural)             110                196  15.9   \n",
       "1   2   40  Female  Russia (Urban)             138                157  27.1   \n",
       "2   3   26    Male  Russia (Rural)             116                210  27.2   \n",
       "3   4   54  Female  Russia (Rural)             133                170  26.0   \n",
       "\n",
       "   Heart_Rate Exercise_Level Smoking_Status  ...  Occupation Income_Level  \\\n",
       "0          76           High             No  ...  Unemployed          Low   \n",
       "1          82       Moderate             No  ...    Employed          Low   \n",
       "2          71       Moderate             No  ...    Employed       Middle   \n",
       "3          74       Moderate            Yes  ...     Student       Middle   \n",
       "\n",
       "  Physical_Activity Education_Level Marital_Status Medication  \\\n",
       "0               Low         Primary        Married         No   \n",
       "1          Moderate          Higher        Married         No   \n",
       "2              High         Primary        Married         No   \n",
       "3          Moderate          Higher        Married         No   \n",
       "\n",
       "  Health_Awareness Daily_Water_Intake  Mental_Health Obesity  \n",
       "0                5                2.3              5      No  \n",
       "1                1                5.0              4      No  \n",
       "2                4                2.4              8      No  \n",
       "3                2                2.7              6     Yes  \n",
       "\n",
       "[4 rows x 29 columns]"
      ]
     },
     "execution_count": 143,
     "metadata": {},
     "output_type": "execute_result"
    }
   ],
   "source": [
    "russia_df.head(4)"
   ]
  },
  {
   "cell_type": "code",
   "execution_count": 149,
   "id": "76ec6158-dc66-47cc-b9c3-2bbec262a354",
   "metadata": {},
   "outputs": [
    {
     "data": {
      "text/plain": [
       "Health_Awareness\n",
       "3    10098\n",
       "2    10069\n",
       "5    10036\n",
       "4     9982\n",
       "1     9815\n",
       "Name: count, dtype: int64"
      ]
     },
     "execution_count": 149,
     "metadata": {},
     "output_type": "execute_result"
    }
   ],
   "source": [
    "russia_df['Health_Awareness'].value_counts()"
   ]
  },
  {
   "cell_type": "code",
   "execution_count": 153,
   "id": "584ccb8d-1af6-45d2-af14-ca334445b403",
   "metadata": {},
   "outputs": [
    {
     "name": "stdout",
     "output_type": "stream",
     "text": [
      "Health_Awareness\n",
      "Moderate Awareness     10098\n",
      "Low Awareness          10069\n",
      "Very High Awareness    10036\n",
      "High Awareness          9982\n",
      "Very Low Awareness      9815\n",
      "Name: count, dtype: int64\n"
     ]
    }
   ],
   "source": [
    "# Define mapping for categories\n",
    "awareness_mapping = {\n",
    "    1: \"Very Low Awareness\",\n",
    "    2: \"Low Awareness\",\n",
    "    3: \"Moderate Awareness\",\n",
    "    4: \"High Awareness\",\n",
    "    5: \"Very High Awareness\"\n",
    "}\n",
    "\n",
    "# Apply the mapping\n",
    "russia_df[\"Health_Awareness\"] = russia_df[\"Health_Awareness\"].map(awareness_mapping)\n",
    "\n",
    "# Check the updated values\n",
    "print(russia_df[\"Health_Awareness\"].value_counts())\n"
   ]
  },
  {
   "cell_type": "code",
   "execution_count": 155,
   "id": "10c2e5ca-50c6-4d00-9a9c-c11c2621e51c",
   "metadata": {},
   "outputs": [
    {
     "data": {
      "text/plain": [
       "Daily_Water_Intake\n",
       "1.9    1312\n",
       "2.9    1305\n",
       "2.5    1302\n",
       "3.5    1296\n",
       "1.7    1287\n",
       "2.3    1283\n",
       "4.3    1282\n",
       "2.0    1281\n",
       "2.2    1277\n",
       "1.3    1276\n",
       "4.1    1273\n",
       "2.4    1271\n",
       "3.0    1271\n",
       "3.6    1270\n",
       "2.7    1269\n",
       "2.8    1258\n",
       "4.2    1256\n",
       "4.0    1255\n",
       "3.8    1255\n",
       "3.4    1253\n",
       "4.9    1246\n",
       "2.1    1243\n",
       "3.3    1243\n",
       "4.7    1238\n",
       "3.2    1238\n",
       "4.6    1237\n",
       "2.6    1237\n",
       "3.9    1236\n",
       "3.7    1235\n",
       "3.1    1225\n",
       "4.5    1223\n",
       "1.2    1218\n",
       "1.1    1212\n",
       "1.8    1210\n",
       "1.5    1207\n",
       "4.4    1193\n",
       "1.6    1192\n",
       "4.8    1190\n",
       "1.4    1169\n",
       "1.0     663\n",
       "5.0     613\n",
       "Name: count, dtype: int64"
      ]
     },
     "execution_count": 155,
     "metadata": {},
     "output_type": "execute_result"
    }
   ],
   "source": [
    "russia_df['Daily_Water_Intake'].value_counts()"
   ]
  },
  {
   "cell_type": "code",
   "execution_count": 157,
   "id": "d6a0b597-221b-49af-a0fe-f58679ef0150",
   "metadata": {},
   "outputs": [
    {
     "name": "stdout",
     "output_type": "stream",
     "text": [
      "<class 'pandas.core.frame.DataFrame'>\n",
      "RangeIndex: 50000 entries, 0 to 49999\n",
      "Data columns (total 29 columns):\n",
      " #   Column                 Non-Null Count  Dtype   \n",
      "---  ------                 --------------  -----   \n",
      " 0   ID                     50000 non-null  int64   \n",
      " 1   Age                    50000 non-null  int64   \n",
      " 2   Gender                 50000 non-null  object  \n",
      " 3   Region_Category        50000 non-null  object  \n",
      " 4   Blood_Pressure         50000 non-null  int32   \n",
      " 5   Cholesterol_Level      50000 non-null  int32   \n",
      " 6   BMI                    50000 non-null  float64 \n",
      " 7   Heart_Rate             50000 non-null  int64   \n",
      " 8   Exercise_Level         50000 non-null  object  \n",
      " 9   Smoking_Status         50000 non-null  object  \n",
      " 10  Alcohol_Consumption    50000 non-null  object  \n",
      " 11  Diabetes               50000 non-null  object  \n",
      " 12  Family_History         50000 non-null  object  \n",
      " 13  Stress_Level           50000 non-null  category\n",
      " 14  Heart_Attack           50000 non-null  object  \n",
      " 15  Angina                 50000 non-null  object  \n",
      " 16  Heart_Disease_History  50000 non-null  object  \n",
      " 17  Diet_Quality           50000 non-null  object  \n",
      " 18  Sleep_Hours            50000 non-null  float64 \n",
      " 19  Occupation             50000 non-null  object  \n",
      " 20  Income_Level           50000 non-null  object  \n",
      " 21  Physical_Activity      50000 non-null  object  \n",
      " 22  Education_Level        50000 non-null  object  \n",
      " 23  Marital_Status         50000 non-null  object  \n",
      " 24  Medication             50000 non-null  object  \n",
      " 25  Health_Awareness       50000 non-null  object  \n",
      " 26  Daily_Water_Intake     50000 non-null  float64 \n",
      " 27  Mental_Health          50000 non-null  int64   \n",
      " 28  Obesity                50000 non-null  object  \n",
      "dtypes: category(1), float64(3), int32(2), int64(4), object(19)\n",
      "memory usage: 10.3+ MB\n"
     ]
    }
   ],
   "source": [
    "russia_df.info()"
   ]
  },
  {
   "cell_type": "code",
   "execution_count": 159,
   "id": "8d18b4da-6146-4c17-8098-17ce06356c92",
   "metadata": {},
   "outputs": [
    {
     "name": "stdout",
     "output_type": "stream",
     "text": [
      "Daily_Water_Intake\n",
      "Moderate Intake     18934\n",
      "High Intake         18781\n",
      "Very High Intake     6747\n",
      "Low Intake           5538\n",
      "Name: count, dtype: int64\n"
     ]
    }
   ],
   "source": [
    "# Define bins and labels\n",
    "bins = [0, 1.4, 2.9, 4.4, float(\"inf\")]  # Upper limit as infinity\n",
    "labels = [\"Low Intake\", \"Moderate Intake\", \"High Intake\", \"Very High Intake\"]\n",
    "\n",
    "# Apply categorization\n",
    "russia_df[\"Daily_Water_Intake\"] = pd.cut(russia_df[\"Daily_Water_Intake\"], bins=bins, labels=labels)\n",
    "\n",
    "# Check the updated values\n",
    "print(russia_df[\"Daily_Water_Intake\"].value_counts())\n"
   ]
  },
  {
   "cell_type": "code",
   "execution_count": 161,
   "id": "e58c52d4-be11-4e78-9b92-9b05f3171f29",
   "metadata": {},
   "outputs": [
    {
     "name": "stdout",
     "output_type": "stream",
     "text": [
      "object\n"
     ]
    }
   ],
   "source": [
    "# Ensure Stress_Level is converted to object dtype\n",
    "russia_df[\"Stress_Level\"] = russia_df[\"Stress_Level\"].astype(str)\n",
    "\n",
    "# Verify the change\n",
    "print(russia_df[\"Stress_Level\"].dtype)  # Should print 'object'\n"
   ]
  },
  {
   "cell_type": "code",
   "execution_count": null,
   "id": "2acdac8d-0888-4953-a16a-9489401104b9",
   "metadata": {},
   "outputs": [],
   "source": []
  },
  {
   "cell_type": "code",
   "execution_count": 165,
   "id": "535a0d40-3c87-4c93-8c9f-882e1f9c55e5",
   "metadata": {},
   "outputs": [],
   "source": [
    "russia_df[\"Daily_Water_Intake\"] = russia_df[\"Daily_Water_Intake\"].astype(str)"
   ]
  },
  {
   "cell_type": "code",
   "execution_count": 168,
   "id": "4917bdd9-3ba2-4981-bba0-77dfd42f8c74",
   "metadata": {},
   "outputs": [
    {
     "name": "stdout",
     "output_type": "stream",
     "text": [
      "<class 'pandas.core.frame.DataFrame'>\n",
      "RangeIndex: 50000 entries, 0 to 49999\n",
      "Data columns (total 29 columns):\n",
      " #   Column                 Non-Null Count  Dtype  \n",
      "---  ------                 --------------  -----  \n",
      " 0   ID                     50000 non-null  int64  \n",
      " 1   Age                    50000 non-null  int64  \n",
      " 2   Gender                 50000 non-null  object \n",
      " 3   Region_Category        50000 non-null  object \n",
      " 4   Blood_Pressure         50000 non-null  int32  \n",
      " 5   Cholesterol_Level      50000 non-null  int32  \n",
      " 6   BMI                    50000 non-null  float64\n",
      " 7   Heart_Rate             50000 non-null  int64  \n",
      " 8   Exercise_Level         50000 non-null  object \n",
      " 9   Smoking_Status         50000 non-null  object \n",
      " 10  Alcohol_Consumption    50000 non-null  object \n",
      " 11  Diabetes               50000 non-null  object \n",
      " 12  Family_History         50000 non-null  object \n",
      " 13  Stress_Level           50000 non-null  object \n",
      " 14  Heart_Attack           50000 non-null  object \n",
      " 15  Angina                 50000 non-null  object \n",
      " 16  Heart_Disease_History  50000 non-null  object \n",
      " 17  Diet_Quality           50000 non-null  object \n",
      " 18  Sleep_Hours            50000 non-null  float64\n",
      " 19  Occupation             50000 non-null  object \n",
      " 20  Income_Level           50000 non-null  object \n",
      " 21  Physical_Activity      50000 non-null  object \n",
      " 22  Education_Level        50000 non-null  object \n",
      " 23  Marital_Status         50000 non-null  object \n",
      " 24  Medication             50000 non-null  object \n",
      " 25  Health_Awareness       50000 non-null  object \n",
      " 26  Daily_Water_Intake     50000 non-null  object \n",
      " 27  Mental_Health          50000 non-null  int64  \n",
      " 28  Obesity                50000 non-null  object \n",
      "dtypes: float64(2), int32(2), int64(4), object(21)\n",
      "memory usage: 10.7+ MB\n"
     ]
    }
   ],
   "source": [
    "russia_df.info()"
   ]
  },
  {
   "cell_type": "code",
   "execution_count": 170,
   "id": "ca11a64f-1a8a-4e90-a5c2-cc90f55b460f",
   "metadata": {},
   "outputs": [
    {
     "data": {
      "text/plain": [
       "Mental_Health\n",
       "6     5136\n",
       "4     5065\n",
       "7     5039\n",
       "3     5027\n",
       "2     5015\n",
       "5     4994\n",
       "9     4977\n",
       "1     4952\n",
       "10    4901\n",
       "8     4894\n",
       "Name: count, dtype: int64"
      ]
     },
     "execution_count": 170,
     "metadata": {},
     "output_type": "execute_result"
    }
   ],
   "source": [
    "russia_df['Mental_Health'].value_counts()"
   ]
  },
  {
   "cell_type": "code",
   "execution_count": 172,
   "id": "cacbefa1-e681-48c5-ad81-f754cff6b3db",
   "metadata": {},
   "outputs": [
    {
     "name": "stdout",
     "output_type": "stream",
     "text": [
      "Mental_Health\n",
      "Good       19811\n",
      "Average    15195\n",
      "Poor       14994\n",
      "Name: count, dtype: int64\n",
      "object\n"
     ]
    }
   ],
   "source": [
    "# Define mapping function for Mental_Health column\n",
    "def categorize_mental_health(value):\n",
    "    if value in [1, 2, 3]:\n",
    "        return \"Poor\"\n",
    "    elif value in [4, 5, 6]:\n",
    "        return \"Average\"\n",
    "    else:\n",
    "        return \"Good\"\n",
    "\n",
    "# Apply the function to create categorized values\n",
    "russia_df[\"Mental_Health\"] = russia_df[\"Mental_Health\"].map(categorize_mental_health)\n",
    "\n",
    "# Convert the column to object dtype\n",
    "russia_df[\"Mental_Health\"] = russia_df[\"Mental_Health\"].astype(str)\n",
    "\n",
    "# Verify the changes\n",
    "print(russia_df[\"Mental_Health\"].value_counts())  # Check distribution\n",
    "print(russia_df[\"Mental_Health\"].dtype)  # Should be 'object'\n"
   ]
  },
  {
   "cell_type": "code",
   "execution_count": 174,
   "id": "733fd786-11d1-49b0-9bb5-348257ab0b62",
   "metadata": {},
   "outputs": [
    {
     "data": {
      "text/plain": [
       "Mental_Health\n",
       "Good       19811\n",
       "Average    15195\n",
       "Poor       14994\n",
       "Name: count, dtype: int64"
      ]
     },
     "execution_count": 174,
     "metadata": {},
     "output_type": "execute_result"
    }
   ],
   "source": [
    "russia_df['Mental_Health'].value_counts()"
   ]
  },
  {
   "cell_type": "code",
   "execution_count": 176,
   "id": "b7bb96ce-aa9d-480e-b9f4-f55edd4e9f1f",
   "metadata": {},
   "outputs": [
    {
     "name": "stdout",
     "output_type": "stream",
     "text": [
      "<class 'pandas.core.frame.DataFrame'>\n",
      "RangeIndex: 50000 entries, 0 to 49999\n",
      "Data columns (total 29 columns):\n",
      " #   Column                 Non-Null Count  Dtype  \n",
      "---  ------                 --------------  -----  \n",
      " 0   ID                     50000 non-null  int64  \n",
      " 1   Age                    50000 non-null  int64  \n",
      " 2   Gender                 50000 non-null  object \n",
      " 3   Region_Category        50000 non-null  object \n",
      " 4   Blood_Pressure         50000 non-null  int32  \n",
      " 5   Cholesterol_Level      50000 non-null  int32  \n",
      " 6   BMI                    50000 non-null  float64\n",
      " 7   Heart_Rate             50000 non-null  int64  \n",
      " 8   Exercise_Level         50000 non-null  object \n",
      " 9   Smoking_Status         50000 non-null  object \n",
      " 10  Alcohol_Consumption    50000 non-null  object \n",
      " 11  Diabetes               50000 non-null  object \n",
      " 12  Family_History         50000 non-null  object \n",
      " 13  Stress_Level           50000 non-null  object \n",
      " 14  Heart_Attack           50000 non-null  object \n",
      " 15  Angina                 50000 non-null  object \n",
      " 16  Heart_Disease_History  50000 non-null  object \n",
      " 17  Diet_Quality           50000 non-null  object \n",
      " 18  Sleep_Hours            50000 non-null  float64\n",
      " 19  Occupation             50000 non-null  object \n",
      " 20  Income_Level           50000 non-null  object \n",
      " 21  Physical_Activity      50000 non-null  object \n",
      " 22  Education_Level        50000 non-null  object \n",
      " 23  Marital_Status         50000 non-null  object \n",
      " 24  Medication             50000 non-null  object \n",
      " 25  Health_Awareness       50000 non-null  object \n",
      " 26  Daily_Water_Intake     50000 non-null  object \n",
      " 27  Mental_Health          50000 non-null  object \n",
      " 28  Obesity                50000 non-null  object \n",
      "dtypes: float64(2), int32(2), int64(3), object(22)\n",
      "memory usage: 10.7+ MB\n"
     ]
    }
   ],
   "source": [
    "russia_df.info()"
   ]
  },
  {
   "cell_type": "code",
   "execution_count": 178,
   "id": "17dbdb35-7988-4a5d-adf8-5097cae6d6d2",
   "metadata": {},
   "outputs": [],
   "source": [
    "russia_df.to_csv('cleaned_russia_dataset.csv', index=False)"
   ]
  },
  {
   "cell_type": "code",
   "execution_count": 179,
   "id": "18434534-ed8c-46ac-b4ff-285d1d9c9a82",
   "metadata": {},
   "outputs": [],
   "source": [
    "loaded_df = pd.read_csv('cleaned_russia_dataset.csv')"
   ]
  },
  {
   "cell_type": "code",
   "execution_count": 182,
   "id": "be3f1312-1699-4a22-bbac-b3a2e6088293",
   "metadata": {},
   "outputs": [
    {
     "data": {
      "text/html": [
       "<div>\n",
       "<style scoped>\n",
       "    .dataframe tbody tr th:only-of-type {\n",
       "        vertical-align: middle;\n",
       "    }\n",
       "\n",
       "    .dataframe tbody tr th {\n",
       "        vertical-align: top;\n",
       "    }\n",
       "\n",
       "    .dataframe thead th {\n",
       "        text-align: right;\n",
       "    }\n",
       "</style>\n",
       "<table border=\"1\" class=\"dataframe\">\n",
       "  <thead>\n",
       "    <tr style=\"text-align: right;\">\n",
       "      <th></th>\n",
       "      <th>ID</th>\n",
       "      <th>Age</th>\n",
       "      <th>Gender</th>\n",
       "      <th>Region_Category</th>\n",
       "      <th>Blood_Pressure</th>\n",
       "      <th>Cholesterol_Level</th>\n",
       "      <th>BMI</th>\n",
       "      <th>Heart_Rate</th>\n",
       "      <th>Exercise_Level</th>\n",
       "      <th>Smoking_Status</th>\n",
       "      <th>...</th>\n",
       "      <th>Occupation</th>\n",
       "      <th>Income_Level</th>\n",
       "      <th>Physical_Activity</th>\n",
       "      <th>Education_Level</th>\n",
       "      <th>Marital_Status</th>\n",
       "      <th>Medication</th>\n",
       "      <th>Health_Awareness</th>\n",
       "      <th>Daily_Water_Intake</th>\n",
       "      <th>Mental_Health</th>\n",
       "      <th>Obesity</th>\n",
       "    </tr>\n",
       "  </thead>\n",
       "  <tbody>\n",
       "    <tr>\n",
       "      <th>0</th>\n",
       "      <td>1</td>\n",
       "      <td>50</td>\n",
       "      <td>Male</td>\n",
       "      <td>Russia (Rural)</td>\n",
       "      <td>110</td>\n",
       "      <td>196</td>\n",
       "      <td>15.9</td>\n",
       "      <td>76</td>\n",
       "      <td>High</td>\n",
       "      <td>No</td>\n",
       "      <td>...</td>\n",
       "      <td>Unemployed</td>\n",
       "      <td>Low</td>\n",
       "      <td>Low</td>\n",
       "      <td>Primary</td>\n",
       "      <td>Married</td>\n",
       "      <td>No</td>\n",
       "      <td>Very High Awareness</td>\n",
       "      <td>Moderate Intake</td>\n",
       "      <td>Average</td>\n",
       "      <td>No</td>\n",
       "    </tr>\n",
       "    <tr>\n",
       "      <th>1</th>\n",
       "      <td>2</td>\n",
       "      <td>40</td>\n",
       "      <td>Female</td>\n",
       "      <td>Russia (Urban)</td>\n",
       "      <td>138</td>\n",
       "      <td>157</td>\n",
       "      <td>27.1</td>\n",
       "      <td>82</td>\n",
       "      <td>Moderate</td>\n",
       "      <td>No</td>\n",
       "      <td>...</td>\n",
       "      <td>Employed</td>\n",
       "      <td>Low</td>\n",
       "      <td>Moderate</td>\n",
       "      <td>Higher</td>\n",
       "      <td>Married</td>\n",
       "      <td>No</td>\n",
       "      <td>Very Low Awareness</td>\n",
       "      <td>Very High Intake</td>\n",
       "      <td>Average</td>\n",
       "      <td>No</td>\n",
       "    </tr>\n",
       "    <tr>\n",
       "      <th>2</th>\n",
       "      <td>3</td>\n",
       "      <td>26</td>\n",
       "      <td>Male</td>\n",
       "      <td>Russia (Rural)</td>\n",
       "      <td>116</td>\n",
       "      <td>210</td>\n",
       "      <td>27.2</td>\n",
       "      <td>71</td>\n",
       "      <td>Moderate</td>\n",
       "      <td>No</td>\n",
       "      <td>...</td>\n",
       "      <td>Employed</td>\n",
       "      <td>Middle</td>\n",
       "      <td>High</td>\n",
       "      <td>Primary</td>\n",
       "      <td>Married</td>\n",
       "      <td>No</td>\n",
       "      <td>High Awareness</td>\n",
       "      <td>Moderate Intake</td>\n",
       "      <td>Good</td>\n",
       "      <td>No</td>\n",
       "    </tr>\n",
       "    <tr>\n",
       "      <th>3</th>\n",
       "      <td>4</td>\n",
       "      <td>54</td>\n",
       "      <td>Female</td>\n",
       "      <td>Russia (Rural)</td>\n",
       "      <td>133</td>\n",
       "      <td>170</td>\n",
       "      <td>26.0</td>\n",
       "      <td>74</td>\n",
       "      <td>Moderate</td>\n",
       "      <td>Yes</td>\n",
       "      <td>...</td>\n",
       "      <td>Student</td>\n",
       "      <td>Middle</td>\n",
       "      <td>Moderate</td>\n",
       "      <td>Higher</td>\n",
       "      <td>Married</td>\n",
       "      <td>No</td>\n",
       "      <td>Low Awareness</td>\n",
       "      <td>Moderate Intake</td>\n",
       "      <td>Average</td>\n",
       "      <td>Yes</td>\n",
       "    </tr>\n",
       "    <tr>\n",
       "      <th>4</th>\n",
       "      <td>5</td>\n",
       "      <td>19</td>\n",
       "      <td>Female</td>\n",
       "      <td>Russia (Urban)</td>\n",
       "      <td>108</td>\n",
       "      <td>224</td>\n",
       "      <td>27.5</td>\n",
       "      <td>67</td>\n",
       "      <td>Low</td>\n",
       "      <td>No</td>\n",
       "      <td>...</td>\n",
       "      <td>Employed</td>\n",
       "      <td>Middle</td>\n",
       "      <td>Low</td>\n",
       "      <td>Higher</td>\n",
       "      <td>Widowed</td>\n",
       "      <td>No</td>\n",
       "      <td>High Awareness</td>\n",
       "      <td>High Intake</td>\n",
       "      <td>Average</td>\n",
       "      <td>Yes</td>\n",
       "    </tr>\n",
       "    <tr>\n",
       "      <th>...</th>\n",
       "      <td>...</td>\n",
       "      <td>...</td>\n",
       "      <td>...</td>\n",
       "      <td>...</td>\n",
       "      <td>...</td>\n",
       "      <td>...</td>\n",
       "      <td>...</td>\n",
       "      <td>...</td>\n",
       "      <td>...</td>\n",
       "      <td>...</td>\n",
       "      <td>...</td>\n",
       "      <td>...</td>\n",
       "      <td>...</td>\n",
       "      <td>...</td>\n",
       "      <td>...</td>\n",
       "      <td>...</td>\n",
       "      <td>...</td>\n",
       "      <td>...</td>\n",
       "      <td>...</td>\n",
       "      <td>...</td>\n",
       "      <td>...</td>\n",
       "    </tr>\n",
       "    <tr>\n",
       "      <th>49995</th>\n",
       "      <td>49996</td>\n",
       "      <td>56</td>\n",
       "      <td>Other</td>\n",
       "      <td>Russia (Rural)</td>\n",
       "      <td>87</td>\n",
       "      <td>256</td>\n",
       "      <td>25.3</td>\n",
       "      <td>71</td>\n",
       "      <td>Low</td>\n",
       "      <td>Yes</td>\n",
       "      <td>...</td>\n",
       "      <td>Student</td>\n",
       "      <td>Middle</td>\n",
       "      <td>High</td>\n",
       "      <td>Primary</td>\n",
       "      <td>Divorced</td>\n",
       "      <td>Yes</td>\n",
       "      <td>High Awareness</td>\n",
       "      <td>Very High Intake</td>\n",
       "      <td>Poor</td>\n",
       "      <td>No</td>\n",
       "    </tr>\n",
       "    <tr>\n",
       "      <th>49996</th>\n",
       "      <td>49997</td>\n",
       "      <td>16</td>\n",
       "      <td>Male</td>\n",
       "      <td>Russia (Rural)</td>\n",
       "      <td>125</td>\n",
       "      <td>102</td>\n",
       "      <td>25.1</td>\n",
       "      <td>77</td>\n",
       "      <td>Moderate</td>\n",
       "      <td>Yes</td>\n",
       "      <td>...</td>\n",
       "      <td>Unemployed</td>\n",
       "      <td>Middle</td>\n",
       "      <td>High</td>\n",
       "      <td>Secondary</td>\n",
       "      <td>Single</td>\n",
       "      <td>No</td>\n",
       "      <td>Moderate Awareness</td>\n",
       "      <td>High Intake</td>\n",
       "      <td>Average</td>\n",
       "      <td>Yes</td>\n",
       "    </tr>\n",
       "    <tr>\n",
       "      <th>49997</th>\n",
       "      <td>49998</td>\n",
       "      <td>46</td>\n",
       "      <td>Female</td>\n",
       "      <td>Russia (Suburban)</td>\n",
       "      <td>116</td>\n",
       "      <td>160</td>\n",
       "      <td>27.7</td>\n",
       "      <td>63</td>\n",
       "      <td>Low</td>\n",
       "      <td>Yes</td>\n",
       "      <td>...</td>\n",
       "      <td>Employed</td>\n",
       "      <td>Middle</td>\n",
       "      <td>Low</td>\n",
       "      <td>Secondary</td>\n",
       "      <td>Single</td>\n",
       "      <td>No</td>\n",
       "      <td>Low Awareness</td>\n",
       "      <td>Moderate Intake</td>\n",
       "      <td>Good</td>\n",
       "      <td>No</td>\n",
       "    </tr>\n",
       "    <tr>\n",
       "      <th>49998</th>\n",
       "      <td>49999</td>\n",
       "      <td>24</td>\n",
       "      <td>Female</td>\n",
       "      <td>Russia (Rural)</td>\n",
       "      <td>104</td>\n",
       "      <td>180</td>\n",
       "      <td>29.2</td>\n",
       "      <td>60</td>\n",
       "      <td>Moderate</td>\n",
       "      <td>Yes</td>\n",
       "      <td>...</td>\n",
       "      <td>Unemployed</td>\n",
       "      <td>Low</td>\n",
       "      <td>Moderate</td>\n",
       "      <td>Primary</td>\n",
       "      <td>Widowed</td>\n",
       "      <td>No</td>\n",
       "      <td>Moderate Awareness</td>\n",
       "      <td>High Intake</td>\n",
       "      <td>Average</td>\n",
       "      <td>No</td>\n",
       "    </tr>\n",
       "    <tr>\n",
       "      <th>49999</th>\n",
       "      <td>50000</td>\n",
       "      <td>38</td>\n",
       "      <td>Male</td>\n",
       "      <td>Russia (Urban)</td>\n",
       "      <td>122</td>\n",
       "      <td>89</td>\n",
       "      <td>21.8</td>\n",
       "      <td>69</td>\n",
       "      <td>Moderate</td>\n",
       "      <td>No</td>\n",
       "      <td>...</td>\n",
       "      <td>Employed</td>\n",
       "      <td>Low</td>\n",
       "      <td>Moderate</td>\n",
       "      <td>Higher</td>\n",
       "      <td>Single</td>\n",
       "      <td>No</td>\n",
       "      <td>Very High Awareness</td>\n",
       "      <td>Moderate Intake</td>\n",
       "      <td>Poor</td>\n",
       "      <td>Yes</td>\n",
       "    </tr>\n",
       "  </tbody>\n",
       "</table>\n",
       "<p>50000 rows × 29 columns</p>\n",
       "</div>"
      ],
      "text/plain": [
       "          ID  Age  Gender    Region_Category  Blood_Pressure  \\\n",
       "0          1   50    Male     Russia (Rural)             110   \n",
       "1          2   40  Female     Russia (Urban)             138   \n",
       "2          3   26    Male     Russia (Rural)             116   \n",
       "3          4   54  Female     Russia (Rural)             133   \n",
       "4          5   19  Female     Russia (Urban)             108   \n",
       "...      ...  ...     ...                ...             ...   \n",
       "49995  49996   56   Other     Russia (Rural)              87   \n",
       "49996  49997   16    Male     Russia (Rural)             125   \n",
       "49997  49998   46  Female  Russia (Suburban)             116   \n",
       "49998  49999   24  Female     Russia (Rural)             104   \n",
       "49999  50000   38    Male     Russia (Urban)             122   \n",
       "\n",
       "       Cholesterol_Level   BMI  Heart_Rate Exercise_Level Smoking_Status  ...  \\\n",
       "0                    196  15.9          76           High             No  ...   \n",
       "1                    157  27.1          82       Moderate             No  ...   \n",
       "2                    210  27.2          71       Moderate             No  ...   \n",
       "3                    170  26.0          74       Moderate            Yes  ...   \n",
       "4                    224  27.5          67            Low             No  ...   \n",
       "...                  ...   ...         ...            ...            ...  ...   \n",
       "49995                256  25.3          71            Low            Yes  ...   \n",
       "49996                102  25.1          77       Moderate            Yes  ...   \n",
       "49997                160  27.7          63            Low            Yes  ...   \n",
       "49998                180  29.2          60       Moderate            Yes  ...   \n",
       "49999                 89  21.8          69       Moderate             No  ...   \n",
       "\n",
       "       Occupation Income_Level Physical_Activity Education_Level  \\\n",
       "0      Unemployed          Low               Low         Primary   \n",
       "1        Employed          Low          Moderate          Higher   \n",
       "2        Employed       Middle              High         Primary   \n",
       "3         Student       Middle          Moderate          Higher   \n",
       "4        Employed       Middle               Low          Higher   \n",
       "...           ...          ...               ...             ...   \n",
       "49995     Student       Middle              High         Primary   \n",
       "49996  Unemployed       Middle              High       Secondary   \n",
       "49997    Employed       Middle               Low       Secondary   \n",
       "49998  Unemployed          Low          Moderate         Primary   \n",
       "49999    Employed          Low          Moderate          Higher   \n",
       "\n",
       "      Marital_Status Medication     Health_Awareness Daily_Water_Intake  \\\n",
       "0            Married         No  Very High Awareness    Moderate Intake   \n",
       "1            Married         No   Very Low Awareness   Very High Intake   \n",
       "2            Married         No       High Awareness    Moderate Intake   \n",
       "3            Married         No        Low Awareness    Moderate Intake   \n",
       "4            Widowed         No       High Awareness        High Intake   \n",
       "...              ...        ...                  ...                ...   \n",
       "49995       Divorced        Yes       High Awareness   Very High Intake   \n",
       "49996         Single         No   Moderate Awareness        High Intake   \n",
       "49997         Single         No        Low Awareness    Moderate Intake   \n",
       "49998        Widowed         No   Moderate Awareness        High Intake   \n",
       "49999         Single         No  Very High Awareness    Moderate Intake   \n",
       "\n",
       "       Mental_Health Obesity  \n",
       "0            Average      No  \n",
       "1            Average      No  \n",
       "2               Good      No  \n",
       "3            Average     Yes  \n",
       "4            Average     Yes  \n",
       "...              ...     ...  \n",
       "49995           Poor      No  \n",
       "49996        Average     Yes  \n",
       "49997           Good      No  \n",
       "49998        Average      No  \n",
       "49999           Poor     Yes  \n",
       "\n",
       "[50000 rows x 29 columns]"
      ]
     },
     "execution_count": 182,
     "metadata": {},
     "output_type": "execute_result"
    }
   ],
   "source": [
    "loaded_df"
   ]
  },
  {
   "cell_type": "code",
   "execution_count": null,
   "id": "5e1d448c-3de9-4c68-a212-71c2cb5bcda4",
   "metadata": {},
   "outputs": [],
   "source": []
  }
 ],
 "metadata": {
  "kernelspec": {
   "display_name": "Python 3 (ipykernel)",
   "language": "python",
   "name": "python3"
  },
  "language_info": {
   "codemirror_mode": {
    "name": "ipython",
    "version": 3
   },
   "file_extension": ".py",
   "mimetype": "text/x-python",
   "name": "python",
   "nbconvert_exporter": "python",
   "pygments_lexer": "ipython3",
   "version": "3.12.4"
  }
 },
 "nbformat": 4,
 "nbformat_minor": 5
}
