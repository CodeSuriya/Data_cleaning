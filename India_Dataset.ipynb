{
 "cells": [
  {
   "cell_type": "code",
   "execution_count": 1,
   "id": "35dc52f6-f012-4c3f-a1f3-92a921d33868",
   "metadata": {},
   "outputs": [],
   "source": [
    "import pandas as pd"
   ]
  },
  {
   "cell_type": "code",
   "execution_count": 3,
   "id": "122e1688-214d-40b5-80e3-dec271264646",
   "metadata": {},
   "outputs": [],
   "source": [
    "ind_df = pd.read_csv(\"C:/Users/jsuri/Downloads/Datasets/heart_attack_youngsters_india.csv\")"
   ]
  },
  {
   "cell_type": "code",
   "execution_count": 5,
   "id": "89fd40bb-0647-41a9-a38b-77f50b9a321c",
   "metadata": {},
   "outputs": [
    {
     "data": {
      "text/html": [
       "<div>\n",
       "<style scoped>\n",
       "    .dataframe tbody tr th:only-of-type {\n",
       "        vertical-align: middle;\n",
       "    }\n",
       "\n",
       "    .dataframe tbody tr th {\n",
       "        vertical-align: top;\n",
       "    }\n",
       "\n",
       "    .dataframe thead th {\n",
       "        text-align: right;\n",
       "    }\n",
       "</style>\n",
       "<table border=\"1\" class=\"dataframe\">\n",
       "  <thead>\n",
       "    <tr style=\"text-align: right;\">\n",
       "      <th></th>\n",
       "      <th>Age</th>\n",
       "      <th>Gender</th>\n",
       "      <th>Region</th>\n",
       "      <th>Urban/Rural</th>\n",
       "      <th>SES</th>\n",
       "      <th>Smoking Status</th>\n",
       "      <th>Alcohol Consumption</th>\n",
       "      <th>Diet Type</th>\n",
       "      <th>Physical Activity Level</th>\n",
       "      <th>Screen Time (hrs/day)</th>\n",
       "      <th>...</th>\n",
       "      <th>Stress Level</th>\n",
       "      <th>Blood Pressure (systolic/diastolic mmHg)</th>\n",
       "      <th>Resting Heart Rate (bpm)</th>\n",
       "      <th>ECG Results</th>\n",
       "      <th>Chest Pain Type</th>\n",
       "      <th>Maximum Heart Rate Achieved</th>\n",
       "      <th>Exercise Induced Angina</th>\n",
       "      <th>Blood Oxygen Levels (SpO2%)</th>\n",
       "      <th>Triglyceride Levels (mg/dL)</th>\n",
       "      <th>Heart Attack Likelihood</th>\n",
       "    </tr>\n",
       "  </thead>\n",
       "  <tbody>\n",
       "    <tr>\n",
       "      <th>0</th>\n",
       "      <td>30</td>\n",
       "      <td>Male</td>\n",
       "      <td>East</td>\n",
       "      <td>Urban</td>\n",
       "      <td>Middle</td>\n",
       "      <td>Never</td>\n",
       "      <td>Regularly</td>\n",
       "      <td>Non-Vegetarian</td>\n",
       "      <td>Sedentary</td>\n",
       "      <td>3</td>\n",
       "      <td>...</td>\n",
       "      <td>High</td>\n",
       "      <td>177.0/63.1</td>\n",
       "      <td>82</td>\n",
       "      <td>Normal</td>\n",
       "      <td>Non-anginal</td>\n",
       "      <td>183</td>\n",
       "      <td>No</td>\n",
       "      <td>94.1</td>\n",
       "      <td>58</td>\n",
       "      <td>No</td>\n",
       "    </tr>\n",
       "    <tr>\n",
       "      <th>1</th>\n",
       "      <td>24</td>\n",
       "      <td>Female</td>\n",
       "      <td>East</td>\n",
       "      <td>Urban</td>\n",
       "      <td>Low</td>\n",
       "      <td>Occasionally</td>\n",
       "      <td>Occasionally</td>\n",
       "      <td>Non-Vegetarian</td>\n",
       "      <td>Sedentary</td>\n",
       "      <td>15</td>\n",
       "      <td>...</td>\n",
       "      <td>High</td>\n",
       "      <td>137.5/110.7</td>\n",
       "      <td>76</td>\n",
       "      <td>Normal</td>\n",
       "      <td>Non-anginal</td>\n",
       "      <td>118</td>\n",
       "      <td>No</td>\n",
       "      <td>97.1</td>\n",
       "      <td>341</td>\n",
       "      <td>No</td>\n",
       "    </tr>\n",
       "    <tr>\n",
       "      <th>2</th>\n",
       "      <td>24</td>\n",
       "      <td>Female</td>\n",
       "      <td>North</td>\n",
       "      <td>Urban</td>\n",
       "      <td>Low</td>\n",
       "      <td>Occasionally</td>\n",
       "      <td>Occasionally</td>\n",
       "      <td>Vegan</td>\n",
       "      <td>High</td>\n",
       "      <td>15</td>\n",
       "      <td>...</td>\n",
       "      <td>Low</td>\n",
       "      <td>138.3/76.6</td>\n",
       "      <td>86</td>\n",
       "      <td>Normal</td>\n",
       "      <td>Typical</td>\n",
       "      <td>164</td>\n",
       "      <td>No</td>\n",
       "      <td>92.7</td>\n",
       "      <td>373</td>\n",
       "      <td>Yes</td>\n",
       "    </tr>\n",
       "    <tr>\n",
       "      <th>3</th>\n",
       "      <td>27</td>\n",
       "      <td>Male</td>\n",
       "      <td>East</td>\n",
       "      <td>Urban</td>\n",
       "      <td>Middle</td>\n",
       "      <td>Occasionally</td>\n",
       "      <td>Never</td>\n",
       "      <td>Vegetarian</td>\n",
       "      <td>Sedentary</td>\n",
       "      <td>6</td>\n",
       "      <td>...</td>\n",
       "      <td>Medium</td>\n",
       "      <td>177.1/90.0</td>\n",
       "      <td>106</td>\n",
       "      <td>Normal</td>\n",
       "      <td>Non-anginal</td>\n",
       "      <td>188</td>\n",
       "      <td>No</td>\n",
       "      <td>98.4</td>\n",
       "      <td>102</td>\n",
       "      <td>Yes</td>\n",
       "    </tr>\n",
       "    <tr>\n",
       "      <th>4</th>\n",
       "      <td>21</td>\n",
       "      <td>Female</td>\n",
       "      <td>West</td>\n",
       "      <td>Rural</td>\n",
       "      <td>Low</td>\n",
       "      <td>Occasionally</td>\n",
       "      <td>Occasionally</td>\n",
       "      <td>Vegetarian</td>\n",
       "      <td>Moderate</td>\n",
       "      <td>4</td>\n",
       "      <td>...</td>\n",
       "      <td>Low</td>\n",
       "      <td>130.7/108.8</td>\n",
       "      <td>73</td>\n",
       "      <td>Normal</td>\n",
       "      <td>Atypical</td>\n",
       "      <td>216</td>\n",
       "      <td>No</td>\n",
       "      <td>94.9</td>\n",
       "      <td>235</td>\n",
       "      <td>No</td>\n",
       "    </tr>\n",
       "    <tr>\n",
       "      <th>...</th>\n",
       "      <td>...</td>\n",
       "      <td>...</td>\n",
       "      <td>...</td>\n",
       "      <td>...</td>\n",
       "      <td>...</td>\n",
       "      <td>...</td>\n",
       "      <td>...</td>\n",
       "      <td>...</td>\n",
       "      <td>...</td>\n",
       "      <td>...</td>\n",
       "      <td>...</td>\n",
       "      <td>...</td>\n",
       "      <td>...</td>\n",
       "      <td>...</td>\n",
       "      <td>...</td>\n",
       "      <td>...</td>\n",
       "      <td>...</td>\n",
       "      <td>...</td>\n",
       "      <td>...</td>\n",
       "      <td>...</td>\n",
       "      <td>...</td>\n",
       "    </tr>\n",
       "    <tr>\n",
       "      <th>9995</th>\n",
       "      <td>33</td>\n",
       "      <td>Female</td>\n",
       "      <td>East</td>\n",
       "      <td>Rural</td>\n",
       "      <td>Low</td>\n",
       "      <td>Occasionally</td>\n",
       "      <td>Occasionally</td>\n",
       "      <td>Vegan</td>\n",
       "      <td>Sedentary</td>\n",
       "      <td>2</td>\n",
       "      <td>...</td>\n",
       "      <td>Low</td>\n",
       "      <td>127.6/64.8</td>\n",
       "      <td>88</td>\n",
       "      <td>Abnormal</td>\n",
       "      <td>Atypical</td>\n",
       "      <td>147</td>\n",
       "      <td>No</td>\n",
       "      <td>90.8</td>\n",
       "      <td>296</td>\n",
       "      <td>No</td>\n",
       "    </tr>\n",
       "    <tr>\n",
       "      <th>9996</th>\n",
       "      <td>35</td>\n",
       "      <td>Female</td>\n",
       "      <td>North-East</td>\n",
       "      <td>Rural</td>\n",
       "      <td>Low</td>\n",
       "      <td>Occasionally</td>\n",
       "      <td>Never</td>\n",
       "      <td>Vegan</td>\n",
       "      <td>High</td>\n",
       "      <td>14</td>\n",
       "      <td>...</td>\n",
       "      <td>Low</td>\n",
       "      <td>162.5/77.4</td>\n",
       "      <td>116</td>\n",
       "      <td>Normal</td>\n",
       "      <td>Atypical</td>\n",
       "      <td>136</td>\n",
       "      <td>No</td>\n",
       "      <td>95.7</td>\n",
       "      <td>254</td>\n",
       "      <td>No</td>\n",
       "    </tr>\n",
       "    <tr>\n",
       "      <th>9997</th>\n",
       "      <td>32</td>\n",
       "      <td>Male</td>\n",
       "      <td>West</td>\n",
       "      <td>Urban</td>\n",
       "      <td>Middle</td>\n",
       "      <td>Regularly</td>\n",
       "      <td>Never</td>\n",
       "      <td>Non-Vegetarian</td>\n",
       "      <td>Moderate</td>\n",
       "      <td>1</td>\n",
       "      <td>...</td>\n",
       "      <td>High</td>\n",
       "      <td>120.8/81.3</td>\n",
       "      <td>62</td>\n",
       "      <td>Normal</td>\n",
       "      <td>Typical</td>\n",
       "      <td>171</td>\n",
       "      <td>No</td>\n",
       "      <td>98.6</td>\n",
       "      <td>319</td>\n",
       "      <td>No</td>\n",
       "    </tr>\n",
       "    <tr>\n",
       "      <th>9998</th>\n",
       "      <td>21</td>\n",
       "      <td>Female</td>\n",
       "      <td>Central</td>\n",
       "      <td>Rural</td>\n",
       "      <td>Middle</td>\n",
       "      <td>Regularly</td>\n",
       "      <td>Never</td>\n",
       "      <td>Vegan</td>\n",
       "      <td>Sedentary</td>\n",
       "      <td>9</td>\n",
       "      <td>...</td>\n",
       "      <td>Medium</td>\n",
       "      <td>110.0/100.3</td>\n",
       "      <td>84</td>\n",
       "      <td>Abnormal</td>\n",
       "      <td>Non-anginal</td>\n",
       "      <td>137</td>\n",
       "      <td>No</td>\n",
       "      <td>91.5</td>\n",
       "      <td>317</td>\n",
       "      <td>No</td>\n",
       "    </tr>\n",
       "    <tr>\n",
       "      <th>9999</th>\n",
       "      <td>28</td>\n",
       "      <td>Male</td>\n",
       "      <td>North</td>\n",
       "      <td>Rural</td>\n",
       "      <td>High</td>\n",
       "      <td>Never</td>\n",
       "      <td>Never</td>\n",
       "      <td>Vegetarian</td>\n",
       "      <td>Sedentary</td>\n",
       "      <td>5</td>\n",
       "      <td>...</td>\n",
       "      <td>High</td>\n",
       "      <td>166.0/83.5</td>\n",
       "      <td>77</td>\n",
       "      <td>Normal</td>\n",
       "      <td>Asymptomatic</td>\n",
       "      <td>220</td>\n",
       "      <td>No</td>\n",
       "      <td>97.4</td>\n",
       "      <td>80</td>\n",
       "      <td>No</td>\n",
       "    </tr>\n",
       "  </tbody>\n",
       "</table>\n",
       "<p>10000 rows × 26 columns</p>\n",
       "</div>"
      ],
      "text/plain": [
       "      Age  Gender      Region Urban/Rural     SES Smoking Status  \\\n",
       "0      30    Male        East       Urban  Middle          Never   \n",
       "1      24  Female        East       Urban     Low   Occasionally   \n",
       "2      24  Female       North       Urban     Low   Occasionally   \n",
       "3      27    Male        East       Urban  Middle   Occasionally   \n",
       "4      21  Female        West       Rural     Low   Occasionally   \n",
       "...   ...     ...         ...         ...     ...            ...   \n",
       "9995   33  Female        East       Rural     Low   Occasionally   \n",
       "9996   35  Female  North-East       Rural     Low   Occasionally   \n",
       "9997   32    Male        West       Urban  Middle      Regularly   \n",
       "9998   21  Female     Central       Rural  Middle      Regularly   \n",
       "9999   28    Male       North       Rural    High          Never   \n",
       "\n",
       "     Alcohol Consumption       Diet Type Physical Activity Level  \\\n",
       "0              Regularly  Non-Vegetarian               Sedentary   \n",
       "1           Occasionally  Non-Vegetarian               Sedentary   \n",
       "2           Occasionally           Vegan                    High   \n",
       "3                  Never      Vegetarian               Sedentary   \n",
       "4           Occasionally      Vegetarian                Moderate   \n",
       "...                  ...             ...                     ...   \n",
       "9995        Occasionally           Vegan               Sedentary   \n",
       "9996               Never           Vegan                    High   \n",
       "9997               Never  Non-Vegetarian                Moderate   \n",
       "9998               Never           Vegan               Sedentary   \n",
       "9999               Never      Vegetarian               Sedentary   \n",
       "\n",
       "      Screen Time (hrs/day)  ...  Stress Level  \\\n",
       "0                         3  ...          High   \n",
       "1                        15  ...          High   \n",
       "2                        15  ...           Low   \n",
       "3                         6  ...        Medium   \n",
       "4                         4  ...           Low   \n",
       "...                     ...  ...           ...   \n",
       "9995                      2  ...           Low   \n",
       "9996                     14  ...           Low   \n",
       "9997                      1  ...          High   \n",
       "9998                      9  ...        Medium   \n",
       "9999                      5  ...          High   \n",
       "\n",
       "     Blood Pressure (systolic/diastolic mmHg) Resting Heart Rate (bpm)  \\\n",
       "0                                  177.0/63.1                       82   \n",
       "1                                 137.5/110.7                       76   \n",
       "2                                  138.3/76.6                       86   \n",
       "3                                  177.1/90.0                      106   \n",
       "4                                 130.7/108.8                       73   \n",
       "...                                       ...                      ...   \n",
       "9995                               127.6/64.8                       88   \n",
       "9996                               162.5/77.4                      116   \n",
       "9997                               120.8/81.3                       62   \n",
       "9998                              110.0/100.3                       84   \n",
       "9999                               166.0/83.5                       77   \n",
       "\n",
       "     ECG Results  Chest Pain Type  Maximum Heart Rate Achieved  \\\n",
       "0         Normal      Non-anginal                          183   \n",
       "1         Normal      Non-anginal                          118   \n",
       "2         Normal          Typical                          164   \n",
       "3         Normal      Non-anginal                          188   \n",
       "4         Normal         Atypical                          216   \n",
       "...          ...              ...                          ...   \n",
       "9995    Abnormal         Atypical                          147   \n",
       "9996      Normal         Atypical                          136   \n",
       "9997      Normal          Typical                          171   \n",
       "9998    Abnormal      Non-anginal                          137   \n",
       "9999      Normal     Asymptomatic                          220   \n",
       "\n",
       "     Exercise Induced Angina Blood Oxygen Levels (SpO2%)  \\\n",
       "0                         No                        94.1   \n",
       "1                         No                        97.1   \n",
       "2                         No                        92.7   \n",
       "3                         No                        98.4   \n",
       "4                         No                        94.9   \n",
       "...                      ...                         ...   \n",
       "9995                      No                        90.8   \n",
       "9996                      No                        95.7   \n",
       "9997                      No                        98.6   \n",
       "9998                      No                        91.5   \n",
       "9999                      No                        97.4   \n",
       "\n",
       "      Triglyceride Levels (mg/dL) Heart Attack Likelihood  \n",
       "0                              58                      No  \n",
       "1                             341                      No  \n",
       "2                             373                     Yes  \n",
       "3                             102                     Yes  \n",
       "4                             235                      No  \n",
       "...                           ...                     ...  \n",
       "9995                          296                      No  \n",
       "9996                          254                      No  \n",
       "9997                          319                      No  \n",
       "9998                          317                      No  \n",
       "9999                           80                      No  \n",
       "\n",
       "[10000 rows x 26 columns]"
      ]
     },
     "execution_count": 5,
     "metadata": {},
     "output_type": "execute_result"
    }
   ],
   "source": [
    "ind_df"
   ]
  },
  {
   "cell_type": "code",
   "execution_count": 7,
   "id": "97ad7d42-ff44-49ca-9da6-8cb3a151c745",
   "metadata": {},
   "outputs": [
    {
     "name": "stdout",
     "output_type": "stream",
     "text": [
      "<class 'pandas.core.frame.DataFrame'>\n",
      "RangeIndex: 10000 entries, 0 to 9999\n",
      "Data columns (total 26 columns):\n",
      " #   Column                                    Non-Null Count  Dtype  \n",
      "---  ------                                    --------------  -----  \n",
      " 0   Age                                       10000 non-null  int64  \n",
      " 1   Gender                                    10000 non-null  object \n",
      " 2   Region                                    10000 non-null  object \n",
      " 3   Urban/Rural                               10000 non-null  object \n",
      " 4   SES                                       10000 non-null  object \n",
      " 5   Smoking Status                            10000 non-null  object \n",
      " 6   Alcohol Consumption                       10000 non-null  object \n",
      " 7   Diet Type                                 10000 non-null  object \n",
      " 8   Physical Activity Level                   10000 non-null  object \n",
      " 9   Screen Time (hrs/day)                     10000 non-null  int64  \n",
      " 10  Sleep Duration (hrs/day)                  10000 non-null  int64  \n",
      " 11  Family History of Heart Disease           10000 non-null  object \n",
      " 12  Diabetes                                  10000 non-null  object \n",
      " 13  Hypertension                              10000 non-null  object \n",
      " 14  Cholesterol Levels (mg/dL)                10000 non-null  int64  \n",
      " 15  BMI (kg/m²)                               10000 non-null  float64\n",
      " 16  Stress Level                              10000 non-null  object \n",
      " 17  Blood Pressure (systolic/diastolic mmHg)  10000 non-null  object \n",
      " 18  Resting Heart Rate (bpm)                  10000 non-null  int64  \n",
      " 19  ECG Results                               10000 non-null  object \n",
      " 20  Chest Pain Type                           10000 non-null  object \n",
      " 21  Maximum Heart Rate Achieved               10000 non-null  int64  \n",
      " 22  Exercise Induced Angina                   10000 non-null  object \n",
      " 23  Blood Oxygen Levels (SpO2%)               10000 non-null  float64\n",
      " 24  Triglyceride Levels (mg/dL)               10000 non-null  int64  \n",
      " 25  Heart Attack Likelihood                   10000 non-null  object \n",
      "dtypes: float64(2), int64(7), object(17)\n",
      "memory usage: 2.0+ MB\n"
     ]
    }
   ],
   "source": [
    "ind_df.info()"
   ]
  },
  {
   "cell_type": "code",
   "execution_count": 9,
   "id": "83004c5b-b6c9-4e22-b795-85cc9b8c6099",
   "metadata": {},
   "outputs": [
    {
     "data": {
      "text/plain": [
       "Gender\n",
       "Male      4913\n",
       "Female    4856\n",
       "Other      231\n",
       "Name: count, dtype: int64"
      ]
     },
     "execution_count": 9,
     "metadata": {},
     "output_type": "execute_result"
    }
   ],
   "source": [
    "ind_df['Gender'].value_counts()"
   ]
  },
  {
   "cell_type": "code",
   "execution_count": 11,
   "id": "48ae59fb-6b4d-4e42-a395-97ff9d33694e",
   "metadata": {},
   "outputs": [
    {
     "data": {
      "text/plain": [
       "Region\n",
       "Central       1746\n",
       "North         1700\n",
       "South         1664\n",
       "East          1658\n",
       "West          1643\n",
       "North-East    1589\n",
       "Name: count, dtype: int64"
      ]
     },
     "execution_count": 11,
     "metadata": {},
     "output_type": "execute_result"
    }
   ],
   "source": [
    "ind_df['Region'].value_counts()"
   ]
  },
  {
   "cell_type": "code",
   "execution_count": 13,
   "id": "67ff7b53-44c5-4b00-accb-1eddfe4c7e7b",
   "metadata": {},
   "outputs": [
    {
     "data": {
      "text/plain": [
       "Urban/Rural\n",
       "Urban    5918\n",
       "Rural    4082\n",
       "Name: count, dtype: int64"
      ]
     },
     "execution_count": 13,
     "metadata": {},
     "output_type": "execute_result"
    }
   ],
   "source": [
    "ind_df['Urban/Rural'].value_counts()"
   ]
  },
  {
   "cell_type": "code",
   "execution_count": 15,
   "id": "76cb4e88-a6cf-44eb-ae3e-e4f0dd1ffedf",
   "metadata": {},
   "outputs": [],
   "source": [
    "ind_df.rename(columns={'Region': 'Region_Category'}, inplace=True)\n"
   ]
  },
  {
   "cell_type": "code",
   "execution_count": 17,
   "id": "cf3b9deb-ad5c-4702-867e-c485fce9b600",
   "metadata": {},
   "outputs": [
    {
     "data": {
      "text/plain": [
       "Region_Category\n",
       "Central       1746\n",
       "North         1700\n",
       "South         1664\n",
       "East          1658\n",
       "West          1643\n",
       "North-East    1589\n",
       "Name: count, dtype: int64"
      ]
     },
     "execution_count": 17,
     "metadata": {},
     "output_type": "execute_result"
    }
   ],
   "source": [
    "ind_df['Region_Category'].value_counts()"
   ]
  },
  {
   "cell_type": "code",
   "execution_count": 19,
   "id": "439ab1c2-1281-420d-9fd1-b16c88c8d264",
   "metadata": {},
   "outputs": [],
   "source": [
    "ind_df.rename(columns={'Urban/Rural': 'Location_Type'}, inplace=True)"
   ]
  },
  {
   "cell_type": "code",
   "execution_count": 21,
   "id": "d294f82d-3a3c-4730-bba8-47c953a9bbf0",
   "metadata": {},
   "outputs": [
    {
     "data": {
      "text/plain": [
       "Location_Type\n",
       "Urban    5918\n",
       "Rural    4082\n",
       "Name: count, dtype: int64"
      ]
     },
     "execution_count": 21,
     "metadata": {},
     "output_type": "execute_result"
    }
   ],
   "source": [
    "ind_df['Location_Type'].value_counts()"
   ]
  },
  {
   "cell_type": "code",
   "execution_count": 23,
   "id": "bbe4e332-9b32-4cf8-86ed-65f870061323",
   "metadata": {},
   "outputs": [
    {
     "name": "stdout",
     "output_type": "stream",
     "text": [
      "<class 'pandas.core.frame.DataFrame'>\n",
      "RangeIndex: 10000 entries, 0 to 9999\n",
      "Data columns (total 26 columns):\n",
      " #   Column                                    Non-Null Count  Dtype  \n",
      "---  ------                                    --------------  -----  \n",
      " 0   Age                                       10000 non-null  int64  \n",
      " 1   Gender                                    10000 non-null  object \n",
      " 2   Region_Category                           10000 non-null  object \n",
      " 3   Location_Type                             10000 non-null  object \n",
      " 4   SES                                       10000 non-null  object \n",
      " 5   Smoking Status                            10000 non-null  object \n",
      " 6   Alcohol Consumption                       10000 non-null  object \n",
      " 7   Diet Type                                 10000 non-null  object \n",
      " 8   Physical Activity Level                   10000 non-null  object \n",
      " 9   Screen Time (hrs/day)                     10000 non-null  int64  \n",
      " 10  Sleep Duration (hrs/day)                  10000 non-null  int64  \n",
      " 11  Family History of Heart Disease           10000 non-null  object \n",
      " 12  Diabetes                                  10000 non-null  object \n",
      " 13  Hypertension                              10000 non-null  object \n",
      " 14  Cholesterol Levels (mg/dL)                10000 non-null  int64  \n",
      " 15  BMI (kg/m²)                               10000 non-null  float64\n",
      " 16  Stress Level                              10000 non-null  object \n",
      " 17  Blood Pressure (systolic/diastolic mmHg)  10000 non-null  object \n",
      " 18  Resting Heart Rate (bpm)                  10000 non-null  int64  \n",
      " 19  ECG Results                               10000 non-null  object \n",
      " 20  Chest Pain Type                           10000 non-null  object \n",
      " 21  Maximum Heart Rate Achieved               10000 non-null  int64  \n",
      " 22  Exercise Induced Angina                   10000 non-null  object \n",
      " 23  Blood Oxygen Levels (SpO2%)               10000 non-null  float64\n",
      " 24  Triglyceride Levels (mg/dL)               10000 non-null  int64  \n",
      " 25  Heart Attack Likelihood                   10000 non-null  object \n",
      "dtypes: float64(2), int64(7), object(17)\n",
      "memory usage: 2.0+ MB\n"
     ]
    }
   ],
   "source": [
    "ind_df.info()"
   ]
  },
  {
   "cell_type": "code",
   "execution_count": 25,
   "id": "71061669-7a8a-4242-a103-3ab7683c5fa6",
   "metadata": {},
   "outputs": [
    {
     "data": {
      "text/plain": [
       "SES\n",
       "Low       4019\n",
       "Middle    3942\n",
       "High      2039\n",
       "Name: count, dtype: int64"
      ]
     },
     "execution_count": 25,
     "metadata": {},
     "output_type": "execute_result"
    }
   ],
   "source": [
    "ind_df['SES'].value_counts()"
   ]
  },
  {
   "cell_type": "code",
   "execution_count": 28,
   "id": "5ddcf1d2-90bd-427b-a818-f747a0017784",
   "metadata": {},
   "outputs": [],
   "source": [
    "ind_df.rename(columns={'SES': 'Income_Level'}, inplace=True)\n"
   ]
  },
  {
   "cell_type": "code",
   "execution_count": 30,
   "id": "2c04325d-9a95-44e8-91e5-499b29c21914",
   "metadata": {},
   "outputs": [
    {
     "data": {
      "text/plain": [
       "Income_Level\n",
       "Low       4019\n",
       "Middle    3942\n",
       "High      2039\n",
       "Name: count, dtype: int64"
      ]
     },
     "execution_count": 30,
     "metadata": {},
     "output_type": "execute_result"
    }
   ],
   "source": [
    "ind_df['Income_Level'].value_counts()"
   ]
  },
  {
   "cell_type": "code",
   "execution_count": 32,
   "id": "b5eb6820-63d7-43b7-8bc8-55443d660a38",
   "metadata": {},
   "outputs": [],
   "source": [
    "ind_df.rename(columns={'Smoking Status': 'Smoking_Status'}, inplace=True)"
   ]
  },
  {
   "cell_type": "code",
   "execution_count": 34,
   "id": "2e487b05-b6e6-43ef-b1ce-552e2052e62e",
   "metadata": {},
   "outputs": [
    {
     "data": {
      "text/plain": [
       "Smoking_Status\n",
       "Never           5013\n",
       "Occasionally    2967\n",
       "Regularly       2020\n",
       "Name: count, dtype: int64"
      ]
     },
     "execution_count": 34,
     "metadata": {},
     "output_type": "execute_result"
    }
   ],
   "source": [
    "ind_df['Smoking_Status'].value_counts()"
   ]
  },
  {
   "cell_type": "code",
   "execution_count": 36,
   "id": "6cf1268b-f66e-419c-9336-94f70a95617f",
   "metadata": {},
   "outputs": [],
   "source": [
    "ind_df.rename(columns={'Alcohol Consumption': 'Alcohol_Consumption'}, inplace=True)"
   ]
  },
  {
   "cell_type": "code",
   "execution_count": 38,
   "id": "1d0db675-0b82-4a7a-bd91-f452e4b7f97b",
   "metadata": {},
   "outputs": [
    {
     "data": {
      "text/plain": [
       "Alcohol_Consumption\n",
       "Never           6006\n",
       "Occasionally    2999\n",
       "Regularly        995\n",
       "Name: count, dtype: int64"
      ]
     },
     "execution_count": 38,
     "metadata": {},
     "output_type": "execute_result"
    }
   ],
   "source": [
    "ind_df['Alcohol_Consumption'].value_counts()"
   ]
  },
  {
   "cell_type": "code",
   "execution_count": 40,
   "id": "ab01a707-bc4a-4e19-b706-37a41f918b67",
   "metadata": {},
   "outputs": [],
   "source": [
    "ind_df.rename(columns={'Diet Type': 'Diet_Quality'}, inplace=True)"
   ]
  },
  {
   "cell_type": "code",
   "execution_count": 42,
   "id": "840343e5-a810-4d3a-8797-455956da83dc",
   "metadata": {},
   "outputs": [
    {
     "data": {
      "text/plain": [
       "Diet_Quality\n",
       "Non-Vegetarian    4943\n",
       "Vegetarian        4057\n",
       "Vegan             1000\n",
       "Name: count, dtype: int64"
      ]
     },
     "execution_count": 42,
     "metadata": {},
     "output_type": "execute_result"
    }
   ],
   "source": [
    "ind_df['Diet_Quality'].value_counts()"
   ]
  },
  {
   "cell_type": "code",
   "execution_count": 44,
   "id": "0a5b3960-4e53-4e21-83e2-17760a7832ab",
   "metadata": {},
   "outputs": [],
   "source": [
    "ind_df.rename(columns={'Physical Activity Level': 'Physical_Activity'}, inplace=True)"
   ]
  },
  {
   "cell_type": "code",
   "execution_count": 46,
   "id": "0931e5c9-ac59-4a84-9938-e09dd9da348e",
   "metadata": {},
   "outputs": [
    {
     "data": {
      "text/plain": [
       "Physical_Activity\n",
       "Sedentary    4954\n",
       "Moderate     4023\n",
       "High         1023\n",
       "Name: count, dtype: int64"
      ]
     },
     "execution_count": 46,
     "metadata": {},
     "output_type": "execute_result"
    }
   ],
   "source": [
    "ind_df['Physical_Activity'].value_counts()"
   ]
  },
  {
   "cell_type": "code",
   "execution_count": 52,
   "id": "b079b6aa-f810-444d-98f9-88d8b5f5bd70",
   "metadata": {},
   "outputs": [],
   "source": [
    "ind_df['Physical_Activity'] = ind_df['Physical_Activity'].replace({'Sedentary': 'Low'})\n"
   ]
  },
  {
   "cell_type": "code",
   "execution_count": 54,
   "id": "19c2b81f-6a2d-43aa-94eb-dcb234c30b8b",
   "metadata": {},
   "outputs": [
    {
     "data": {
      "text/plain": [
       "Physical_Activity\n",
       "Low         4954\n",
       "Moderate    4023\n",
       "High        1023\n",
       "Name: count, dtype: int64"
      ]
     },
     "execution_count": 54,
     "metadata": {},
     "output_type": "execute_result"
    }
   ],
   "source": [
    "ind_df['Physical_Activity'].value_counts()"
   ]
  },
  {
   "cell_type": "code",
   "execution_count": 56,
   "id": "01ba4642-f175-4da2-8e29-3d30b76dbe00",
   "metadata": {},
   "outputs": [
    {
     "data": {
      "text/plain": [
       "Screen Time (hrs/day)\n",
       "0     664\n",
       "4     653\n",
       "12    653\n",
       "8     652\n",
       "14    645\n",
       "13    638\n",
       "9     635\n",
       "5     632\n",
       "11    628\n",
       "3     613\n",
       "15    609\n",
       "2     607\n",
       "1     604\n",
       "7     598\n",
       "10    586\n",
       "6     583\n",
       "Name: count, dtype: int64"
      ]
     },
     "execution_count": 56,
     "metadata": {},
     "output_type": "execute_result"
    }
   ],
   "source": [
    "ind_df['Screen Time (hrs/day)'].value_counts()"
   ]
  },
  {
   "cell_type": "code",
   "execution_count": 64,
   "id": "13505b47-e404-43cf-9262-7a23db082849",
   "metadata": {},
   "outputs": [],
   "source": [
    "# Define conditions for categorization\n",
    "def categorize_screen_time(hours):\n",
    "    if hours <= 4:\n",
    "        return 'Good'  # Healthy screen time\n",
    "    elif 5 <= hours <= 8:\n",
    "        return 'Moderate'  # Acceptable but should be monitored\n",
    "    else:\n",
    "        return 'Bad'  # Excessive screen time\n",
    "\n",
    "# Apply function to transform the column\n",
    "ind_df['Screen_Time_Category'] = ind_df['Screen Time (hrs/day)'].apply(categorize_screen_time)\n",
    "\n",
    "# Ensure dtype is object\n",
    "ind_df['Screen_Time_Category'] = ind_df['Screen_Time_Category'].astype('object')\n",
    "\n",
    "# Drop the original numerical column if no longer needed\n",
    "ind_df.drop(columns=['Screen Time (hrs/day)'], inplace=True)\n",
    "\n",
    "\n"
   ]
  },
  {
   "cell_type": "code",
   "execution_count": 68,
   "id": "dabab634-030c-413f-a557-36d42925dab2",
   "metadata": {},
   "outputs": [
    {
     "name": "stdout",
     "output_type": "stream",
     "text": [
      "Screen_Time_Category\n",
      "Bad         4394\n",
      "Good        3141\n",
      "Moderate    2465\n",
      "Name: count, dtype: int64\n"
     ]
    }
   ],
   "source": [
    "# Verify the changes\n",
    "print(ind_df['Screen_Time_Category'].value_counts())\n"
   ]
  },
  {
   "cell_type": "code",
   "execution_count": 70,
   "id": "57301615-96a0-4eb9-a910-e301ada9a6a5",
   "metadata": {},
   "outputs": [
    {
     "name": "stdout",
     "output_type": "stream",
     "text": [
      "object\n"
     ]
    }
   ],
   "source": [
    "print(ind_df['Screen_Time_Category'].dtype)"
   ]
  },
  {
   "cell_type": "code",
   "execution_count": 72,
   "id": "386e52cb-55c0-44ee-bb77-4e9584b43d18",
   "metadata": {},
   "outputs": [
    {
     "name": "stdout",
     "output_type": "stream",
     "text": [
      "<class 'pandas.core.frame.DataFrame'>\n",
      "RangeIndex: 10000 entries, 0 to 9999\n",
      "Data columns (total 26 columns):\n",
      " #   Column                                    Non-Null Count  Dtype  \n",
      "---  ------                                    --------------  -----  \n",
      " 0   Age                                       10000 non-null  int64  \n",
      " 1   Gender                                    10000 non-null  object \n",
      " 2   Region_Category                           10000 non-null  object \n",
      " 3   Location_Type                             10000 non-null  object \n",
      " 4   Income_Level                              10000 non-null  object \n",
      " 5   Smoking_Status                            10000 non-null  object \n",
      " 6   Alcohol_Consumption                       10000 non-null  object \n",
      " 7   Diet_Quality                              10000 non-null  object \n",
      " 8   Physical_Activity                         10000 non-null  object \n",
      " 9   Sleep Duration (hrs/day)                  10000 non-null  int64  \n",
      " 10  Family History of Heart Disease           10000 non-null  object \n",
      " 11  Diabetes                                  10000 non-null  object \n",
      " 12  Hypertension                              10000 non-null  object \n",
      " 13  Cholesterol Levels (mg/dL)                10000 non-null  int64  \n",
      " 14  BMI (kg/m²)                               10000 non-null  float64\n",
      " 15  Stress Level                              10000 non-null  object \n",
      " 16  Blood Pressure (systolic/diastolic mmHg)  10000 non-null  object \n",
      " 17  Resting Heart Rate (bpm)                  10000 non-null  int64  \n",
      " 18  ECG Results                               10000 non-null  object \n",
      " 19  Chest Pain Type                           10000 non-null  object \n",
      " 20  Maximum Heart Rate Achieved               10000 non-null  int64  \n",
      " 21  Exercise Induced Angina                   10000 non-null  object \n",
      " 22  Blood Oxygen Levels (SpO2%)               10000 non-null  float64\n",
      " 23  Triglyceride Levels (mg/dL)               10000 non-null  int64  \n",
      " 24  Heart Attack Likelihood                   10000 non-null  object \n",
      " 25  Screen_Time_Category                      10000 non-null  object \n",
      "dtypes: float64(2), int64(6), object(18)\n",
      "memory usage: 2.0+ MB\n"
     ]
    }
   ],
   "source": [
    "ind_df.info()"
   ]
  },
  {
   "cell_type": "code",
   "execution_count": 74,
   "id": "288b22ea-dcea-4259-b3d7-69a39e99a25d",
   "metadata": {},
   "outputs": [
    {
     "name": "stdout",
     "output_type": "stream",
     "text": [
      "int64\n"
     ]
    }
   ],
   "source": [
    "print(ind_df['Sleep Duration (hrs/day)'].dtype)"
   ]
  },
  {
   "cell_type": "code",
   "execution_count": 76,
   "id": "33f68f73-83ef-42e9-b3a8-004086bfaf6a",
   "metadata": {},
   "outputs": [
    {
     "data": {
      "text/plain": [
       "Screen_Time_Category\n",
       "Bad         4394\n",
       "Good        3141\n",
       "Moderate    2465\n",
       "Name: count, dtype: int64"
      ]
     },
     "execution_count": 76,
     "metadata": {},
     "output_type": "execute_result"
    }
   ],
   "source": [
    "ind_df['Screen_Time_Category'].value_counts()"
   ]
  },
  {
   "cell_type": "code",
   "execution_count": 78,
   "id": "e055bb1b-9770-4207-86aa-19ebf7824830",
   "metadata": {},
   "outputs": [
    {
     "data": {
      "text/plain": [
       "Sleep Duration (hrs/day)\n",
       "4     1276\n",
       "8     1274\n",
       "10    1268\n",
       "5     1263\n",
       "6     1260\n",
       "3     1236\n",
       "7     1235\n",
       "9     1188\n",
       "Name: count, dtype: int64"
      ]
     },
     "execution_count": 78,
     "metadata": {},
     "output_type": "execute_result"
    }
   ],
   "source": [
    "ind_df['Sleep Duration (hrs/day)'].value_counts()"
   ]
  },
  {
   "cell_type": "code",
   "execution_count": 82,
   "id": "315b079c-31d8-4332-a635-236cf5e46314",
   "metadata": {},
   "outputs": [],
   "source": [
    "ind_df.rename(columns={'Screen_Time_Category': 'Screen_Time'}, inplace=True)"
   ]
  },
  {
   "cell_type": "code",
   "execution_count": 84,
   "id": "bdb71a09-ca2a-499c-8b28-a70f00c362bc",
   "metadata": {},
   "outputs": [
    {
     "data": {
      "text/plain": [
       "Screen_Time\n",
       "Bad         4394\n",
       "Good        3141\n",
       "Moderate    2465\n",
       "Name: count, dtype: int64"
      ]
     },
     "execution_count": 84,
     "metadata": {},
     "output_type": "execute_result"
    }
   ],
   "source": [
    "ind_df['Screen_Time'].value_counts()"
   ]
  },
  {
   "cell_type": "code",
   "execution_count": 86,
   "id": "ff03a8bb-e96e-4bfc-a5b0-ae642f9f9b68",
   "metadata": {},
   "outputs": [],
   "source": [
    "ind_df.rename(columns={'Sleep Duration (hrs/day)': 'Sleep_Hours'}, inplace=True)"
   ]
  },
  {
   "cell_type": "code",
   "execution_count": 88,
   "id": "5ed9c697-bb71-445b-aefb-3c6bb6843cce",
   "metadata": {},
   "outputs": [
    {
     "data": {
      "text/plain": [
       "Sleep_Hours\n",
       "4     1276\n",
       "8     1274\n",
       "10    1268\n",
       "5     1263\n",
       "6     1260\n",
       "3     1236\n",
       "7     1235\n",
       "9     1188\n",
       "Name: count, dtype: int64"
      ]
     },
     "execution_count": 88,
     "metadata": {},
     "output_type": "execute_result"
    }
   ],
   "source": [
    "ind_df['Sleep_Hours'].value_counts()"
   ]
  },
  {
   "cell_type": "code",
   "execution_count": 90,
   "id": "2ce89412-9d61-4a4d-a3e9-c06c020db47c",
   "metadata": {},
   "outputs": [],
   "source": [
    "ind_df.rename(columns={'Family History of Heart Disease': 'Family_History'}, inplace=True)"
   ]
  },
  {
   "cell_type": "code",
   "execution_count": 92,
   "id": "eefe23c4-7bbf-4959-8c2e-2657e7cac44a",
   "metadata": {},
   "outputs": [
    {
     "data": {
      "text/plain": [
       "Family_History\n",
       "No     7071\n",
       "Yes    2929\n",
       "Name: count, dtype: int64"
      ]
     },
     "execution_count": 92,
     "metadata": {},
     "output_type": "execute_result"
    }
   ],
   "source": [
    "ind_df['Family_History'].value_counts()"
   ]
  },
  {
   "cell_type": "code",
   "execution_count": 94,
   "id": "0a396227-bd92-4109-b45b-098ff12eb39a",
   "metadata": {},
   "outputs": [
    {
     "data": {
      "text/plain": [
       "Diabetes\n",
       "No     8002\n",
       "Yes    1998\n",
       "Name: count, dtype: int64"
      ]
     },
     "execution_count": 94,
     "metadata": {},
     "output_type": "execute_result"
    }
   ],
   "source": [
    "ind_df['Diabetes'].value_counts()"
   ]
  },
  {
   "cell_type": "code",
   "execution_count": 96,
   "id": "4d84d9ae-2c79-461b-b253-a1a4d31ef614",
   "metadata": {},
   "outputs": [
    {
     "data": {
      "text/plain": [
       "Hypertension\n",
       "No     7548\n",
       "Yes    2452\n",
       "Name: count, dtype: int64"
      ]
     },
     "execution_count": 96,
     "metadata": {},
     "output_type": "execute_result"
    }
   ],
   "source": [
    "ind_df['Hypertension'].value_counts()"
   ]
  },
  {
   "cell_type": "code",
   "execution_count": 98,
   "id": "874aed03-f585-4ff3-b386-7ac09fe427a4",
   "metadata": {},
   "outputs": [
    {
     "data": {
      "text/plain": [
       "Cholesterol Levels (mg/dL)\n",
       "227    73\n",
       "148    63\n",
       "185    63\n",
       "237    63\n",
       "106    63\n",
       "       ..\n",
       "243    35\n",
       "293    33\n",
       "102    33\n",
       "282    31\n",
       "298    31\n",
       "Name: count, Length: 201, dtype: int64"
      ]
     },
     "execution_count": 98,
     "metadata": {},
     "output_type": "execute_result"
    }
   ],
   "source": [
    "ind_df['Cholesterol Levels (mg/dL)'].value_counts()"
   ]
  },
  {
   "cell_type": "code",
   "execution_count": 100,
   "id": "343d9443-f991-4a7a-94cf-4481a930bdb1",
   "metadata": {},
   "outputs": [],
   "source": [
    "ind_df.rename(columns={'Cholesterol Levels (mg/dL)': 'Cholesterol_Level'}, inplace=True)"
   ]
  },
  {
   "cell_type": "code",
   "execution_count": 102,
   "id": "2f7afa62-0ddf-4347-bd28-5f86c951e4e1",
   "metadata": {},
   "outputs": [
    {
     "data": {
      "text/plain": [
       "Cholesterol_Level\n",
       "227    73\n",
       "148    63\n",
       "185    63\n",
       "237    63\n",
       "106    63\n",
       "       ..\n",
       "243    35\n",
       "293    33\n",
       "102    33\n",
       "282    31\n",
       "298    31\n",
       "Name: count, Length: 201, dtype: int64"
      ]
     },
     "execution_count": 102,
     "metadata": {},
     "output_type": "execute_result"
    }
   ],
   "source": [
    "ind_df['Cholesterol_Level'].value_counts()"
   ]
  },
  {
   "cell_type": "code",
   "execution_count": 108,
   "id": "1a01b5f4-2a5d-4828-86c4-ae79cc38bcae",
   "metadata": {},
   "outputs": [],
   "source": [
    "ind_df.rename(columns={'BMI (kg/m²)': 'BMI'}, inplace=True)"
   ]
  },
  {
   "cell_type": "code",
   "execution_count": 110,
   "id": "f1407f49-d412-42ba-b85e-554c8a0befb6",
   "metadata": {},
   "outputs": [
    {
     "data": {
      "text/plain": [
       "BMI\n",
       "36.7    57\n",
       "34.5    55\n",
       "32.9    53\n",
       "24.6    53\n",
       "30.1    53\n",
       "        ..\n",
       "37.9    26\n",
       "32.0    26\n",
       "35.4    26\n",
       "15.0    21\n",
       "40.0    17\n",
       "Name: count, Length: 251, dtype: int64"
      ]
     },
     "execution_count": 110,
     "metadata": {},
     "output_type": "execute_result"
    }
   ],
   "source": [
    "ind_df['BMI'].value_counts()"
   ]
  },
  {
   "cell_type": "code",
   "execution_count": 112,
   "id": "4f7b8f4e-130b-4c7c-b13e-7ba1eb371368",
   "metadata": {},
   "outputs": [
    {
     "name": "stdout",
     "output_type": "stream",
     "text": [
      "<class 'pandas.core.frame.DataFrame'>\n",
      "RangeIndex: 10000 entries, 0 to 9999\n",
      "Data columns (total 26 columns):\n",
      " #   Column                                    Non-Null Count  Dtype  \n",
      "---  ------                                    --------------  -----  \n",
      " 0   Age                                       10000 non-null  int64  \n",
      " 1   Gender                                    10000 non-null  object \n",
      " 2   Region_Category                           10000 non-null  object \n",
      " 3   Location_Type                             10000 non-null  object \n",
      " 4   Income_Level                              10000 non-null  object \n",
      " 5   Smoking_Status                            10000 non-null  object \n",
      " 6   Alcohol_Consumption                       10000 non-null  object \n",
      " 7   Diet_Quality                              10000 non-null  object \n",
      " 8   Physical_Activity                         10000 non-null  object \n",
      " 9   Sleep_Hours                               10000 non-null  int64  \n",
      " 10  Family_History                            10000 non-null  object \n",
      " 11  Diabetes                                  10000 non-null  object \n",
      " 12  Hypertension                              10000 non-null  object \n",
      " 13  Cholesterol_Level                         10000 non-null  int64  \n",
      " 14  BMI                                       10000 non-null  float64\n",
      " 15  Stress Level                              10000 non-null  object \n",
      " 16  Blood Pressure (systolic/diastolic mmHg)  10000 non-null  object \n",
      " 17  Resting Heart Rate (bpm)                  10000 non-null  int64  \n",
      " 18  ECG Results                               10000 non-null  object \n",
      " 19  Chest Pain Type                           10000 non-null  object \n",
      " 20  Maximum Heart Rate Achieved               10000 non-null  int64  \n",
      " 21  Exercise Induced Angina                   10000 non-null  object \n",
      " 22  Blood Oxygen Levels (SpO2%)               10000 non-null  float64\n",
      " 23  Triglyceride Levels (mg/dL)               10000 non-null  int64  \n",
      " 24  Heart Attack Likelihood                   10000 non-null  object \n",
      " 25  Screen_Time                               10000 non-null  object \n",
      "dtypes: float64(2), int64(6), object(18)\n",
      "memory usage: 2.0+ MB\n"
     ]
    }
   ],
   "source": [
    "ind_df.info()"
   ]
  },
  {
   "cell_type": "code",
   "execution_count": 114,
   "id": "6cd60476-e619-45c0-b827-e77c13a9803b",
   "metadata": {},
   "outputs": [],
   "source": [
    "ind_df.rename(columns={'Stress Level': 'Stress_Level'}, inplace=True)"
   ]
  },
  {
   "cell_type": "code",
   "execution_count": 116,
   "id": "8e276481-da71-47cb-903a-4eb30d1739f8",
   "metadata": {},
   "outputs": [
    {
     "data": {
      "text/plain": [
       "Stress_Level\n",
       "Medium    4092\n",
       "Low       2956\n",
       "High      2952\n",
       "Name: count, dtype: int64"
      ]
     },
     "execution_count": 116,
     "metadata": {},
     "output_type": "execute_result"
    }
   ],
   "source": [
    "ind_df['Stress_Level'].value_counts()"
   ]
  },
  {
   "cell_type": "code",
   "execution_count": 118,
   "id": "81c10ff5-3baf-4e15-a99d-a6faa2203d1e",
   "metadata": {},
   "outputs": [
    {
     "data": {
      "text/plain": [
       "Blood Pressure (systolic/diastolic mmHg)\n",
       "166.4/83.7     3\n",
       "120.0/91.7     3\n",
       "141.9/67.6     2\n",
       "122.2/118.3    2\n",
       "129.3/80.1     2\n",
       "              ..\n",
       "123.8/60.9     1\n",
       "127.7/95.5     1\n",
       "177.0/78.3     1\n",
       "154.3/76.0     1\n",
       "166.0/83.5     1\n",
       "Name: count, Length: 9892, dtype: int64"
      ]
     },
     "execution_count": 118,
     "metadata": {},
     "output_type": "execute_result"
    }
   ],
   "source": [
    "ind_df['Blood Pressure (systolic/diastolic mmHg)'].value_counts()"
   ]
  },
  {
   "cell_type": "code",
   "execution_count": 125,
   "id": "97bbf74f-f627-4d10-9546-7699f1f9dd11",
   "metadata": {},
   "outputs": [],
   "source": [
    "# Function to convert 'systolic/diastolic' format to a single integer (average value)\n",
    "def convert_bp_to_average(bp_value):\n",
    "    try:\n",
    "        systolic, diastolic = map(float, bp_value.split('/'))  # Split and convert to float\n",
    "        return round((systolic + diastolic) / 2)  # Calculate average and round to nearest int\n",
    "    except:\n",
    "        return None  # Handle any errors (e.g., NaN values)\n",
    "\n",
    "# Apply the function to transform the column\n",
    "ind_df['Blood_Pressure'] = ind_df['Blood Pressure (systolic/diastolic mmHg)'].apply(convert_bp_to_average)\n",
    "\n",
    "# Convert to integer\n",
    "ind_df['Blood_Pressure'] = ind_df['Blood_Pressure'].astype('Int64')  # Int64 supports NaNs\n",
    "\n",
    "# Drop the original column if no longer needed\n",
    "ind_df.drop(columns=['Blood Pressure (systolic/diastolic mmHg)'], inplace=True)\n",
    "\n"
   ]
  },
  {
   "cell_type": "code",
   "execution_count": 127,
   "id": "f0858575-948c-450d-aabd-45e233391948",
   "metadata": {},
   "outputs": [
    {
     "name": "stdout",
     "output_type": "stream",
     "text": [
      "   Blood_Pressure\n",
      "0             120\n",
      "1             124\n",
      "2             107\n",
      "3             134\n",
      "4             120\n"
     ]
    }
   ],
   "source": [
    "# Verify the changes\n",
    "print(ind_df[['Blood_Pressure']].head())  # Check first few rows\n",
    "\n"
   ]
  },
  {
   "cell_type": "code",
   "execution_count": 132,
   "id": "8181ffa9-7371-458c-8dab-aea76c7054d1",
   "metadata": {},
   "outputs": [
    {
     "data": {
      "text/plain": [
       "Blood_Pressure\n",
       "112    286\n",
       "122    276\n",
       "116    270\n",
       "120    262\n",
       "110    256\n",
       "      ... \n",
       "83      18\n",
       "148     17\n",
       "81      10\n",
       "149      9\n",
       "150      1\n",
       "Name: count, Length: 70, dtype: Int64"
      ]
     },
     "execution_count": 132,
     "metadata": {},
     "output_type": "execute_result"
    }
   ],
   "source": [
    "ind_df['Blood_Pressure'].value_counts()"
   ]
  },
  {
   "cell_type": "code",
   "execution_count": 258,
   "id": "4ec55194-8267-4d4c-afd8-ae213aa7823a",
   "metadata": {},
   "outputs": [
    {
     "data": {
      "text/plain": [
       "0"
      ]
     },
     "execution_count": 258,
     "metadata": {},
     "output_type": "execute_result"
    }
   ],
   "source": [
    "ind_df['Blood_Pressure'].isnull().sum()"
   ]
  },
  {
   "cell_type": "code",
   "execution_count": 260,
   "id": "9f4f33ce-cefc-4006-bf09-91e0e1660515",
   "metadata": {},
   "outputs": [],
   "source": [
    "ind_df[\"Blood_Pressure\"] = ind_df[\"Blood_Pressure\"].astype(\"int64\")  \n"
   ]
  },
  {
   "cell_type": "code",
   "execution_count": 262,
   "id": "be7213e6-b8b9-42be-a61c-db676647109e",
   "metadata": {},
   "outputs": [
    {
     "name": "stdout",
     "output_type": "stream",
     "text": [
      "int64\n"
     ]
    }
   ],
   "source": [
    "print(ind_df['Blood_Pressure'].dtype)"
   ]
  },
  {
   "cell_type": "code",
   "execution_count": 134,
   "id": "318d6ac4-6adf-4eaf-8c58-f1bfb7bba2b5",
   "metadata": {},
   "outputs": [
    {
     "name": "stdout",
     "output_type": "stream",
     "text": [
      "<class 'pandas.core.frame.DataFrame'>\n",
      "RangeIndex: 10000 entries, 0 to 9999\n",
      "Data columns (total 26 columns):\n",
      " #   Column                       Non-Null Count  Dtype  \n",
      "---  ------                       --------------  -----  \n",
      " 0   Age                          10000 non-null  int64  \n",
      " 1   Gender                       10000 non-null  object \n",
      " 2   Region_Category              10000 non-null  object \n",
      " 3   Location_Type                10000 non-null  object \n",
      " 4   Income_Level                 10000 non-null  object \n",
      " 5   Smoking_Status               10000 non-null  object \n",
      " 6   Alcohol_Consumption          10000 non-null  object \n",
      " 7   Diet_Quality                 10000 non-null  object \n",
      " 8   Physical_Activity            10000 non-null  object \n",
      " 9   Sleep_Hours                  10000 non-null  int64  \n",
      " 10  Family_History               10000 non-null  object \n",
      " 11  Diabetes                     10000 non-null  object \n",
      " 12  Hypertension                 10000 non-null  object \n",
      " 13  Cholesterol_Level            10000 non-null  int64  \n",
      " 14  BMI                          10000 non-null  float64\n",
      " 15  Stress_Level                 10000 non-null  object \n",
      " 16  Resting Heart Rate (bpm)     10000 non-null  int64  \n",
      " 17  ECG Results                  10000 non-null  object \n",
      " 18  Chest Pain Type              10000 non-null  object \n",
      " 19  Maximum Heart Rate Achieved  10000 non-null  int64  \n",
      " 20  Exercise Induced Angina      10000 non-null  object \n",
      " 21  Blood Oxygen Levels (SpO2%)  10000 non-null  float64\n",
      " 22  Triglyceride Levels (mg/dL)  10000 non-null  int64  \n",
      " 23  Heart Attack Likelihood      10000 non-null  object \n",
      " 24  Screen_Time                  10000 non-null  object \n",
      " 25  Blood_Pressure               10000 non-null  Int64  \n",
      "dtypes: Int64(1), float64(2), int64(6), object(17)\n",
      "memory usage: 2.0+ MB\n"
     ]
    }
   ],
   "source": [
    "ind_df.info()"
   ]
  },
  {
   "cell_type": "code",
   "execution_count": null,
   "id": "38688580-1e57-4360-a18a-b8d9f971c662",
   "metadata": {},
   "outputs": [],
   "source": []
  },
  {
   "cell_type": "code",
   "execution_count": null,
   "id": "eebaca76-24ea-45fb-8993-0b9c414f55a9",
   "metadata": {},
   "outputs": [],
   "source": []
  },
  {
   "cell_type": "code",
   "execution_count": 179,
   "id": "4317723e-f913-46e5-ba8d-c42eee1daff4",
   "metadata": {},
   "outputs": [
    {
     "data": {
      "text/plain": [
       "10000"
      ]
     },
     "execution_count": 179,
     "metadata": {},
     "output_type": "execute_result"
    }
   ],
   "source": [
    "ind_df['ECG_Results'].value_counts().sum()"
   ]
  },
  {
   "cell_type": "code",
   "execution_count": 148,
   "id": "fc23b5ab-2506-4e86-b684-a3ae78cf8b4b",
   "metadata": {},
   "outputs": [],
   "source": [
    "ind_df.rename(columns={'ECG Results': 'ECG_Results'}, inplace=True)"
   ]
  },
  {
   "cell_type": "code",
   "execution_count": 150,
   "id": "f02a65f7-45a2-4121-adca-1188c632ea76",
   "metadata": {},
   "outputs": [
    {
     "data": {
      "text/plain": [
       "ECG_Results\n",
       "Normal      8516\n",
       "Abnormal    1484\n",
       "Name: count, dtype: int64"
      ]
     },
     "execution_count": 150,
     "metadata": {},
     "output_type": "execute_result"
    }
   ],
   "source": [
    "ind_df['ECG_Results'].value_counts()"
   ]
  },
  {
   "cell_type": "code",
   "execution_count": 152,
   "id": "e148f415-3c1b-4ed3-a03b-0890fad85adc",
   "metadata": {},
   "outputs": [
    {
     "data": {
      "text/plain": [
       "Chest Pain Type\n",
       "Typical         2545\n",
       "Non-anginal     2508\n",
       "Asymptomatic    2487\n",
       "Atypical        2460\n",
       "Name: count, dtype: int64"
      ]
     },
     "execution_count": 152,
     "metadata": {},
     "output_type": "execute_result"
    }
   ],
   "source": [
    "ind_df['Chest Pain Type'].value_counts()"
   ]
  },
  {
   "cell_type": "code",
   "execution_count": 154,
   "id": "8886e5c9-561e-45eb-88b2-1ca44e111020",
   "metadata": {},
   "outputs": [],
   "source": [
    "ind_df.rename(columns={'Chest Pain Type': 'Angina_Type'}, inplace=True)\n"
   ]
  },
  {
   "cell_type": "code",
   "execution_count": 156,
   "id": "b823237d-ac27-4ba8-a327-bd4a86f7f13f",
   "metadata": {},
   "outputs": [
    {
     "data": {
      "text/plain": [
       "Angina_Type\n",
       "Typical         2545\n",
       "Non-anginal     2508\n",
       "Asymptomatic    2487\n",
       "Atypical        2460\n",
       "Name: count, dtype: int64"
      ]
     },
     "execution_count": 156,
     "metadata": {},
     "output_type": "execute_result"
    }
   ],
   "source": [
    "ind_df['Angina_Type'].value_counts()"
   ]
  },
  {
   "cell_type": "code",
   "execution_count": 189,
   "id": "700738ba-447d-4764-a643-641160da28ed",
   "metadata": {},
   "outputs": [],
   "source": [
    "ind_df.rename(columns={'Heart_Rate': 'Resting_Heart_Rate'}, inplace=True)"
   ]
  },
  {
   "cell_type": "code",
   "execution_count": 191,
   "id": "b4723b96-d39c-44d6-b9a1-9d9886063b35",
   "metadata": {},
   "outputs": [
    {
     "data": {
      "text/plain": [
       "Resting_Heart_Rate\n",
       "110    193\n",
       "97     193\n",
       "111    191\n",
       "95     190\n",
       "70     187\n",
       "117    186\n",
       "90     185\n",
       "101    184\n",
       "74     180\n",
       "69     179\n",
       "75     178\n",
       "60     178\n",
       "63     177\n",
       "89     176\n",
       "81     176\n",
       "99     176\n",
       "86     174\n",
       "94     173\n",
       "102    172\n",
       "73     172\n",
       "103    171\n",
       "78     170\n",
       "80     169\n",
       "109    169\n",
       "66     169\n",
       "77     168\n",
       "114    168\n",
       "108    168\n",
       "65     168\n",
       "87     168\n",
       "115    165\n",
       "98     165\n",
       "116    163\n",
       "62     163\n",
       "79     162\n",
       "83     162\n",
       "93     162\n",
       "61     161\n",
       "72     161\n",
       "67     161\n",
       "118    161\n",
       "85     161\n",
       "68     160\n",
       "112    160\n",
       "88     158\n",
       "76     158\n",
       "84     158\n",
       "107    157\n",
       "106    157\n",
       "100    157\n",
       "92     156\n",
       "119    154\n",
       "104    154\n",
       "71     153\n",
       "96     149\n",
       "113    147\n",
       "105    146\n",
       "82     146\n",
       "64     144\n",
       "91     131\n",
       "Name: count, dtype: int64"
      ]
     },
     "execution_count": 191,
     "metadata": {},
     "output_type": "execute_result"
    }
   ],
   "source": [
    "ind_df['Resting_Heart_Rate'].value_counts()"
   ]
  },
  {
   "cell_type": "code",
   "execution_count": 193,
   "id": "c3ed5b43-0050-4122-b756-68e4e1a13885",
   "metadata": {},
   "outputs": [],
   "source": [
    "ind_df.rename(columns={'Maximum Heart Rate Achieved': 'Maximum_Heart_Rate'}, inplace=True)"
   ]
  },
  {
   "cell_type": "code",
   "execution_count": 195,
   "id": "d7b0601a-10fb-4ae6-b180-b46166fe8b97",
   "metadata": {},
   "outputs": [
    {
     "data": {
      "text/plain": [
       "Maximum_Heart_Rate\n",
       "143    107\n",
       "104    104\n",
       "101     99\n",
       "162     98\n",
       "180     97\n",
       "      ... \n",
       "135     69\n",
       "191     68\n",
       "211     68\n",
       "110     64\n",
       "145     57\n",
       "Name: count, Length: 121, dtype: int64"
      ]
     },
     "execution_count": 195,
     "metadata": {},
     "output_type": "execute_result"
    }
   ],
   "source": [
    "ind_df['Maximum_Heart_Rate'].value_counts()"
   ]
  },
  {
   "cell_type": "code",
   "execution_count": 197,
   "id": "b10a0eef-be1a-471b-a60a-a5af4afce186",
   "metadata": {},
   "outputs": [
    {
     "name": "stdout",
     "output_type": "stream",
     "text": [
      "<class 'pandas.core.frame.DataFrame'>\n",
      "RangeIndex: 10000 entries, 0 to 9999\n",
      "Data columns (total 26 columns):\n",
      " #   Column                       Non-Null Count  Dtype  \n",
      "---  ------                       --------------  -----  \n",
      " 0   Age                          10000 non-null  int64  \n",
      " 1   Gender                       10000 non-null  object \n",
      " 2   Region_Category              10000 non-null  object \n",
      " 3   Location_Type                10000 non-null  object \n",
      " 4   Income_Level                 10000 non-null  object \n",
      " 5   Smoking_Status               10000 non-null  object \n",
      " 6   Alcohol_Consumption          10000 non-null  object \n",
      " 7   Diet_Quality                 10000 non-null  object \n",
      " 8   Physical_Activity            10000 non-null  object \n",
      " 9   Sleep_Hours                  10000 non-null  int64  \n",
      " 10  Family_History               10000 non-null  object \n",
      " 11  Diabetes                     10000 non-null  object \n",
      " 12  Hypertension                 10000 non-null  object \n",
      " 13  Cholesterol_Level            10000 non-null  int64  \n",
      " 14  BMI                          10000 non-null  float64\n",
      " 15  Stress_Level                 10000 non-null  object \n",
      " 16  Resting_Heart_Rate           10000 non-null  int64  \n",
      " 17  ECG_Results                  10000 non-null  object \n",
      " 18  Angina_Type                  10000 non-null  object \n",
      " 19  Maximum_Heart_Rate           10000 non-null  int64  \n",
      " 20  Exercise Induced Angina      10000 non-null  object \n",
      " 21  Blood Oxygen Levels (SpO2%)  10000 non-null  float64\n",
      " 22  Triglyceride Levels (mg/dL)  10000 non-null  int64  \n",
      " 23  Heart Attack Likelihood      10000 non-null  object \n",
      " 24  Screen_Time                  10000 non-null  object \n",
      " 25  Blood_Pressure               10000 non-null  Int64  \n",
      "dtypes: Int64(1), float64(2), int64(6), object(17)\n",
      "memory usage: 2.0+ MB\n"
     ]
    }
   ],
   "source": [
    "ind_df.info()"
   ]
  },
  {
   "cell_type": "code",
   "execution_count": null,
   "id": "5fff77ed-4399-4f17-abbc-9ca27613fdb6",
   "metadata": {},
   "outputs": [],
   "source": []
  },
  {
   "cell_type": "code",
   "execution_count": 200,
   "id": "baa0f09b-3c41-46fe-9c33-899c2266de82",
   "metadata": {},
   "outputs": [
    {
     "data": {
      "text/html": [
       "<div>\n",
       "<style scoped>\n",
       "    .dataframe tbody tr th:only-of-type {\n",
       "        vertical-align: middle;\n",
       "    }\n",
       "\n",
       "    .dataframe tbody tr th {\n",
       "        vertical-align: top;\n",
       "    }\n",
       "\n",
       "    .dataframe thead th {\n",
       "        text-align: right;\n",
       "    }\n",
       "</style>\n",
       "<table border=\"1\" class=\"dataframe\">\n",
       "  <thead>\n",
       "    <tr style=\"text-align: right;\">\n",
       "      <th></th>\n",
       "      <th>Resting_Heart_Rate</th>\n",
       "      <th>Maximum_Heart_Rate</th>\n",
       "    </tr>\n",
       "  </thead>\n",
       "  <tbody>\n",
       "    <tr>\n",
       "      <th>Resting_Heart_Rate</th>\n",
       "      <td>1.000000</td>\n",
       "      <td>-0.015105</td>\n",
       "    </tr>\n",
       "    <tr>\n",
       "      <th>Maximum_Heart_Rate</th>\n",
       "      <td>-0.015105</td>\n",
       "      <td>1.000000</td>\n",
       "    </tr>\n",
       "  </tbody>\n",
       "</table>\n",
       "</div>"
      ],
      "text/plain": [
       "                    Resting_Heart_Rate  Maximum_Heart_Rate\n",
       "Resting_Heart_Rate            1.000000           -0.015105\n",
       "Maximum_Heart_Rate           -0.015105            1.000000"
      ]
     },
     "execution_count": 200,
     "metadata": {},
     "output_type": "execute_result"
    }
   ],
   "source": [
    "ind_df[['Resting_Heart_Rate', 'Maximum_Heart_Rate']].corr()\n"
   ]
  },
  {
   "cell_type": "code",
   "execution_count": 206,
   "id": "5e9d6f3e-5fe1-49f4-bf0b-6ecff89a5f10",
   "metadata": {},
   "outputs": [
    {
     "data": {
      "text/plain": [
       "Exercise Induced Angina\n",
       "No     9011\n",
       "Yes     989\n",
       "Name: count, dtype: int64"
      ]
     },
     "execution_count": 206,
     "metadata": {},
     "output_type": "execute_result"
    }
   ],
   "source": [
    "ind_df['Exercise Induced Angina'].value_counts()"
   ]
  },
  {
   "cell_type": "code",
   "execution_count": 208,
   "id": "bdfae7e4-fe59-482b-93b1-0cc5f8df21ff",
   "metadata": {},
   "outputs": [],
   "source": [
    "ind_df.rename(columns={'Exercise Induced Angina': 'Exercise_Induced_Pain'}, inplace=True)"
   ]
  },
  {
   "cell_type": "code",
   "execution_count": 210,
   "id": "1f5a6719-fc05-4499-af3f-1485aee69a2d",
   "metadata": {},
   "outputs": [
    {
     "data": {
      "text/plain": [
       "Exercise_Induced_Pain\n",
       "No     9011\n",
       "Yes     989\n",
       "Name: count, dtype: int64"
      ]
     },
     "execution_count": 210,
     "metadata": {},
     "output_type": "execute_result"
    }
   ],
   "source": [
    "ind_df['Exercise_Induced_Pain'].value_counts()"
   ]
  },
  {
   "cell_type": "code",
   "execution_count": 212,
   "id": "4ab7e0bb-eb7f-4165-b4f9-3e63d9aa2ac5",
   "metadata": {},
   "outputs": [
    {
     "data": {
      "text/plain": [
       "Triglyceride Levels (mg/dL)\n",
       "388    38\n",
       "308    34\n",
       "280    34\n",
       "293    33\n",
       "427    32\n",
       "       ..\n",
       "474    11\n",
       "201    11\n",
       "167    11\n",
       "171    10\n",
       "397     9\n",
       "Name: count, Length: 451, dtype: int64"
      ]
     },
     "execution_count": 212,
     "metadata": {},
     "output_type": "execute_result"
    }
   ],
   "source": [
    "ind_df['Triglyceride Levels (mg/dL)'].value_counts()"
   ]
  },
  {
   "cell_type": "code",
   "execution_count": 216,
   "id": "49617a78-3089-43c7-8daf-ea623174a1ba",
   "metadata": {},
   "outputs": [],
   "source": [
    "# Define a function to categorize Triglyceride Levels\n",
    "def categorize_triglycerides(level):\n",
    "    if level < 150:\n",
    "        return 'Good'      # Healthy level\n",
    "    elif 150 <= level <= 199:\n",
    "        return 'Moderate'  # Borderline high\n",
    "    else:\n",
    "        return 'Bad'       # High level, risk factor\n",
    "\n",
    "# Apply the function to the column\n",
    "ind_df['Triglyceride_Levels'] = ind_df['Triglyceride Levels (mg/dL)'].apply(categorize_triglycerides)\n",
    "\n",
    "# Ensure dtype is object\n",
    "ind_df['Triglyceride_Levels'] = ind_df['Triglyceride_Levels'].astype('object')\n",
    "\n",
    "\n"
   ]
  },
  {
   "cell_type": "code",
   "execution_count": 222,
   "id": "61576948-a846-483b-b6a4-c78d812a07f1",
   "metadata": {},
   "outputs": [
    {
     "data": {
      "text/html": [
       "<div>\n",
       "<style scoped>\n",
       "    .dataframe tbody tr th:only-of-type {\n",
       "        vertical-align: middle;\n",
       "    }\n",
       "\n",
       "    .dataframe tbody tr th {\n",
       "        vertical-align: top;\n",
       "    }\n",
       "\n",
       "    .dataframe thead th {\n",
       "        text-align: right;\n",
       "    }\n",
       "</style>\n",
       "<table border=\"1\" class=\"dataframe\">\n",
       "  <thead>\n",
       "    <tr style=\"text-align: right;\">\n",
       "      <th></th>\n",
       "      <th>Age</th>\n",
       "      <th>Gender</th>\n",
       "      <th>Region_Category</th>\n",
       "      <th>Location_Type</th>\n",
       "      <th>Income_Level</th>\n",
       "      <th>Smoking_Status</th>\n",
       "      <th>Alcohol_Consumption</th>\n",
       "      <th>Diet_Quality</th>\n",
       "      <th>Physical_Activity</th>\n",
       "      <th>Sleep_Hours</th>\n",
       "      <th>...</th>\n",
       "      <th>ECG_Results</th>\n",
       "      <th>Angina_Type</th>\n",
       "      <th>Maximum_Heart_Rate</th>\n",
       "      <th>Exercise_Induced_Pain</th>\n",
       "      <th>Blood Oxygen Levels (SpO2%)</th>\n",
       "      <th>Triglyceride Levels (mg/dL)</th>\n",
       "      <th>Heart Attack Likelihood</th>\n",
       "      <th>Screen_Time</th>\n",
       "      <th>Blood_Pressure</th>\n",
       "      <th>Triglyceride_Levels</th>\n",
       "    </tr>\n",
       "  </thead>\n",
       "  <tbody>\n",
       "    <tr>\n",
       "      <th>0</th>\n",
       "      <td>30</td>\n",
       "      <td>Male</td>\n",
       "      <td>East</td>\n",
       "      <td>Urban</td>\n",
       "      <td>Middle</td>\n",
       "      <td>Never</td>\n",
       "      <td>Regularly</td>\n",
       "      <td>Non-Vegetarian</td>\n",
       "      <td>Low</td>\n",
       "      <td>8</td>\n",
       "      <td>...</td>\n",
       "      <td>Normal</td>\n",
       "      <td>Non-anginal</td>\n",
       "      <td>183</td>\n",
       "      <td>No</td>\n",
       "      <td>94.1</td>\n",
       "      <td>58</td>\n",
       "      <td>No</td>\n",
       "      <td>Good</td>\n",
       "      <td>120</td>\n",
       "      <td>Good</td>\n",
       "    </tr>\n",
       "    <tr>\n",
       "      <th>1</th>\n",
       "      <td>24</td>\n",
       "      <td>Female</td>\n",
       "      <td>East</td>\n",
       "      <td>Urban</td>\n",
       "      <td>Low</td>\n",
       "      <td>Occasionally</td>\n",
       "      <td>Occasionally</td>\n",
       "      <td>Non-Vegetarian</td>\n",
       "      <td>Low</td>\n",
       "      <td>9</td>\n",
       "      <td>...</td>\n",
       "      <td>Normal</td>\n",
       "      <td>Non-anginal</td>\n",
       "      <td>118</td>\n",
       "      <td>No</td>\n",
       "      <td>97.1</td>\n",
       "      <td>341</td>\n",
       "      <td>No</td>\n",
       "      <td>Bad</td>\n",
       "      <td>124</td>\n",
       "      <td>Bad</td>\n",
       "    </tr>\n",
       "    <tr>\n",
       "      <th>2</th>\n",
       "      <td>24</td>\n",
       "      <td>Female</td>\n",
       "      <td>North</td>\n",
       "      <td>Urban</td>\n",
       "      <td>Low</td>\n",
       "      <td>Occasionally</td>\n",
       "      <td>Occasionally</td>\n",
       "      <td>Vegan</td>\n",
       "      <td>High</td>\n",
       "      <td>3</td>\n",
       "      <td>...</td>\n",
       "      <td>Normal</td>\n",
       "      <td>Typical</td>\n",
       "      <td>164</td>\n",
       "      <td>No</td>\n",
       "      <td>92.7</td>\n",
       "      <td>373</td>\n",
       "      <td>Yes</td>\n",
       "      <td>Bad</td>\n",
       "      <td>107</td>\n",
       "      <td>Bad</td>\n",
       "    </tr>\n",
       "    <tr>\n",
       "      <th>3</th>\n",
       "      <td>27</td>\n",
       "      <td>Male</td>\n",
       "      <td>East</td>\n",
       "      <td>Urban</td>\n",
       "      <td>Middle</td>\n",
       "      <td>Occasionally</td>\n",
       "      <td>Never</td>\n",
       "      <td>Vegetarian</td>\n",
       "      <td>Low</td>\n",
       "      <td>7</td>\n",
       "      <td>...</td>\n",
       "      <td>Normal</td>\n",
       "      <td>Non-anginal</td>\n",
       "      <td>188</td>\n",
       "      <td>No</td>\n",
       "      <td>98.4</td>\n",
       "      <td>102</td>\n",
       "      <td>Yes</td>\n",
       "      <td>Moderate</td>\n",
       "      <td>134</td>\n",
       "      <td>Good</td>\n",
       "    </tr>\n",
       "    <tr>\n",
       "      <th>4</th>\n",
       "      <td>21</td>\n",
       "      <td>Female</td>\n",
       "      <td>West</td>\n",
       "      <td>Rural</td>\n",
       "      <td>Low</td>\n",
       "      <td>Occasionally</td>\n",
       "      <td>Occasionally</td>\n",
       "      <td>Vegetarian</td>\n",
       "      <td>Moderate</td>\n",
       "      <td>9</td>\n",
       "      <td>...</td>\n",
       "      <td>Normal</td>\n",
       "      <td>Atypical</td>\n",
       "      <td>216</td>\n",
       "      <td>No</td>\n",
       "      <td>94.9</td>\n",
       "      <td>235</td>\n",
       "      <td>No</td>\n",
       "      <td>Good</td>\n",
       "      <td>120</td>\n",
       "      <td>Bad</td>\n",
       "    </tr>\n",
       "  </tbody>\n",
       "</table>\n",
       "<p>5 rows × 27 columns</p>\n",
       "</div>"
      ],
      "text/plain": [
       "   Age  Gender Region_Category Location_Type Income_Level Smoking_Status  \\\n",
       "0   30    Male            East         Urban       Middle          Never   \n",
       "1   24  Female            East         Urban          Low   Occasionally   \n",
       "2   24  Female           North         Urban          Low   Occasionally   \n",
       "3   27    Male            East         Urban       Middle   Occasionally   \n",
       "4   21  Female            West         Rural          Low   Occasionally   \n",
       "\n",
       "  Alcohol_Consumption    Diet_Quality Physical_Activity  Sleep_Hours  ...  \\\n",
       "0           Regularly  Non-Vegetarian               Low            8  ...   \n",
       "1        Occasionally  Non-Vegetarian               Low            9  ...   \n",
       "2        Occasionally           Vegan              High            3  ...   \n",
       "3               Never      Vegetarian               Low            7  ...   \n",
       "4        Occasionally      Vegetarian          Moderate            9  ...   \n",
       "\n",
       "  ECG_Results  Angina_Type Maximum_Heart_Rate  Exercise_Induced_Pain  \\\n",
       "0      Normal  Non-anginal                183                     No   \n",
       "1      Normal  Non-anginal                118                     No   \n",
       "2      Normal      Typical                164                     No   \n",
       "3      Normal  Non-anginal                188                     No   \n",
       "4      Normal     Atypical                216                     No   \n",
       "\n",
       "   Blood Oxygen Levels (SpO2%) Triglyceride Levels (mg/dL)  \\\n",
       "0                         94.1                          58   \n",
       "1                         97.1                         341   \n",
       "2                         92.7                         373   \n",
       "3                         98.4                         102   \n",
       "4                         94.9                         235   \n",
       "\n",
       "   Heart Attack Likelihood Screen_Time Blood_Pressure  Triglyceride_Levels  \n",
       "0                       No        Good            120                 Good  \n",
       "1                       No         Bad            124                  Bad  \n",
       "2                      Yes         Bad            107                  Bad  \n",
       "3                      Yes    Moderate            134                 Good  \n",
       "4                       No        Good            120                  Bad  \n",
       "\n",
       "[5 rows x 27 columns]"
      ]
     },
     "execution_count": 222,
     "metadata": {},
     "output_type": "execute_result"
    }
   ],
   "source": [
    "# Check the updated DataFrame\n",
    "ind_df.head()\n"
   ]
  },
  {
   "cell_type": "code",
   "execution_count": null,
   "id": "3fee5ecc-dd4f-4fdf-ad7a-91e9d3c57b13",
   "metadata": {},
   "outputs": [],
   "source": []
  },
  {
   "cell_type": "code",
   "execution_count": 227,
   "id": "ede5c522-f1d8-45fa-8b08-efa6b6097441",
   "metadata": {},
   "outputs": [],
   "source": [
    "ind_df.drop(columns=['Triglyceride Levels (mg/dL)'], inplace=True)"
   ]
  },
  {
   "cell_type": "code",
   "execution_count": 229,
   "id": "14bae9a8-f979-41fc-a23a-cb254eddd49f",
   "metadata": {},
   "outputs": [
    {
     "name": "stdout",
     "output_type": "stream",
     "text": [
      "<class 'pandas.core.frame.DataFrame'>\n",
      "RangeIndex: 10000 entries, 0 to 9999\n",
      "Data columns (total 26 columns):\n",
      " #   Column                       Non-Null Count  Dtype  \n",
      "---  ------                       --------------  -----  \n",
      " 0   Age                          10000 non-null  int64  \n",
      " 1   Gender                       10000 non-null  object \n",
      " 2   Region_Category              10000 non-null  object \n",
      " 3   Location_Type                10000 non-null  object \n",
      " 4   Income_Level                 10000 non-null  object \n",
      " 5   Smoking_Status               10000 non-null  object \n",
      " 6   Alcohol_Consumption          10000 non-null  object \n",
      " 7   Diet_Quality                 10000 non-null  object \n",
      " 8   Physical_Activity            10000 non-null  object \n",
      " 9   Sleep_Hours                  10000 non-null  int64  \n",
      " 10  Family_History               10000 non-null  object \n",
      " 11  Diabetes                     10000 non-null  object \n",
      " 12  Hypertension                 10000 non-null  object \n",
      " 13  Cholesterol_Level            10000 non-null  int64  \n",
      " 14  BMI                          10000 non-null  float64\n",
      " 15  Stress_Level                 10000 non-null  object \n",
      " 16  Resting_Heart_Rate           10000 non-null  int64  \n",
      " 17  ECG_Results                  10000 non-null  object \n",
      " 18  Angina_Type                  10000 non-null  object \n",
      " 19  Maximum_Heart_Rate           10000 non-null  int64  \n",
      " 20  Exercise_Induced_Pain        10000 non-null  object \n",
      " 21  Blood Oxygen Levels (SpO2%)  10000 non-null  float64\n",
      " 22  Heart Attack Likelihood      10000 non-null  object \n",
      " 23  Screen_Time                  10000 non-null  object \n",
      " 24  Blood_Pressure               10000 non-null  Int64  \n",
      " 25  Triglyceride_Levels          10000 non-null  object \n",
      "dtypes: Int64(1), float64(2), int64(5), object(18)\n",
      "memory usage: 2.0+ MB\n"
     ]
    }
   ],
   "source": [
    "ind_df.info()"
   ]
  },
  {
   "cell_type": "code",
   "execution_count": 231,
   "id": "4777212b-b0d2-4d6d-bbbe-c2eda1291975",
   "metadata": {},
   "outputs": [],
   "source": [
    "ind_df.rename(columns={'Heart Attack Likelihood': 'Heart_Attack'}, inplace=True)"
   ]
  },
  {
   "cell_type": "code",
   "execution_count": 233,
   "id": "1e930e13-8681-4ca9-a524-7ddfb43b75a5",
   "metadata": {},
   "outputs": [
    {
     "data": {
      "text/plain": [
       "Heart_Attack\n",
       "No     7962\n",
       "Yes    2038\n",
       "Name: count, dtype: int64"
      ]
     },
     "execution_count": 233,
     "metadata": {},
     "output_type": "execute_result"
    }
   ],
   "source": [
    "ind_df['Heart_Attack'].value_counts()"
   ]
  },
  {
   "cell_type": "code",
   "execution_count": 235,
   "id": "901b4a3f-4e67-40ef-8aaf-eaf25bb3a4d0",
   "metadata": {},
   "outputs": [
    {
     "data": {
      "text/plain": [
       "Blood Oxygen Levels (SpO2%)\n",
       "93.1     130\n",
       "95.1     117\n",
       "92.2     116\n",
       "95.2     116\n",
       "91.5     115\n",
       "        ... \n",
       "98.6      77\n",
       "91.1      75\n",
       "92.0      73\n",
       "90.0      55\n",
       "100.0     51\n",
       "Name: count, Length: 101, dtype: int64"
      ]
     },
     "execution_count": 235,
     "metadata": {},
     "output_type": "execute_result"
    }
   ],
   "source": [
    "ind_df['Blood Oxygen Levels (SpO2%)'].value_counts()"
   ]
  },
  {
   "cell_type": "code",
   "execution_count": 242,
   "id": "6f2f7baa-1fbb-4373-9352-e2e961b404f6",
   "metadata": {},
   "outputs": [],
   "source": [
    "# Define a function to categorize SpO2 levels\n",
    "def categorize_spo2(spo2):\n",
    "    if spo2 >= 95:\n",
    "        return 'Good'  # Normal oxygen levels\n",
    "    elif 90 <= spo2 < 95:\n",
    "        return 'Moderate'  # Mild hypoxia\n",
    "    else:\n",
    "        return 'Bad'  # Critical oxygen levels"
   ]
  },
  {
   "cell_type": "code",
   "execution_count": 244,
   "id": "44cd9e9a-d476-4090-a996-3519843f4fde",
   "metadata": {},
   "outputs": [],
   "source": [
    "# Apply the function to transform the column\n",
    "ind_df['Blood Oxygen Levels (SpO2%)'] = ind_df['Blood Oxygen Levels (SpO2%)'].apply(categorize_spo2)\n"
   ]
  },
  {
   "cell_type": "code",
   "execution_count": 246,
   "id": "a2e0190f-54f7-483a-b5f2-4c08e9971263",
   "metadata": {},
   "outputs": [],
   "source": [
    "# Ensure dtype is object\n",
    "ind_df['Blood Oxygen Levels (SpO2%)'] = ind_df['Blood Oxygen Levels (SpO2%)'].astype('object')\n"
   ]
  },
  {
   "cell_type": "code",
   "execution_count": 248,
   "id": "754adfcf-1003-400e-ac6a-2d3fe0aee819",
   "metadata": {},
   "outputs": [
    {
     "data": {
      "text/plain": [
       "Blood Oxygen Levels (SpO2%)\n",
       "Moderate    5021\n",
       "Good        4979\n",
       "Name: count, dtype: int64"
      ]
     },
     "execution_count": 248,
     "metadata": {},
     "output_type": "execute_result"
    }
   ],
   "source": [
    "ind_df['Blood Oxygen Levels (SpO2%)'].value_counts()"
   ]
  },
  {
   "cell_type": "code",
   "execution_count": 250,
   "id": "a28f12e8-d139-43f1-95ff-872ce990dcb0",
   "metadata": {},
   "outputs": [],
   "source": [
    "ind_df.rename(columns={'Blood Oxygen Levels (SpO2%)': 'Oxygen_Level'}, inplace=True)"
   ]
  },
  {
   "cell_type": "code",
   "execution_count": 252,
   "id": "5d7f0c2b-78a3-4aa9-9016-2b2576991e40",
   "metadata": {},
   "outputs": [
    {
     "data": {
      "text/plain": [
       "Oxygen_Level\n",
       "Moderate    5021\n",
       "Good        4979\n",
       "Name: count, dtype: int64"
      ]
     },
     "execution_count": 252,
     "metadata": {},
     "output_type": "execute_result"
    }
   ],
   "source": [
    "ind_df['Oxygen_Level'].value_counts()"
   ]
  },
  {
   "cell_type": "code",
   "execution_count": 264,
   "id": "cee23a55-443a-4cfd-af98-e7737ec6e284",
   "metadata": {},
   "outputs": [
    {
     "name": "stdout",
     "output_type": "stream",
     "text": [
      "<class 'pandas.core.frame.DataFrame'>\n",
      "RangeIndex: 10000 entries, 0 to 9999\n",
      "Data columns (total 26 columns):\n",
      " #   Column                 Non-Null Count  Dtype  \n",
      "---  ------                 --------------  -----  \n",
      " 0   Age                    10000 non-null  int64  \n",
      " 1   Gender                 10000 non-null  object \n",
      " 2   Region_Category        10000 non-null  object \n",
      " 3   Location_Type          10000 non-null  object \n",
      " 4   Income_Level           10000 non-null  object \n",
      " 5   Smoking_Status         10000 non-null  object \n",
      " 6   Alcohol_Consumption    10000 non-null  object \n",
      " 7   Diet_Quality           10000 non-null  object \n",
      " 8   Physical_Activity      10000 non-null  object \n",
      " 9   Sleep_Hours            10000 non-null  int64  \n",
      " 10  Family_History         10000 non-null  object \n",
      " 11  Diabetes               10000 non-null  object \n",
      " 12  Hypertension           10000 non-null  object \n",
      " 13  Cholesterol_Level      10000 non-null  int64  \n",
      " 14  BMI                    10000 non-null  float64\n",
      " 15  Stress_Level           10000 non-null  object \n",
      " 16  Resting_Heart_Rate     10000 non-null  int64  \n",
      " 17  ECG_Results            10000 non-null  object \n",
      " 18  Angina_Type            10000 non-null  object \n",
      " 19  Maximum_Heart_Rate     10000 non-null  int64  \n",
      " 20  Exercise_Induced_Pain  10000 non-null  object \n",
      " 21  Oxygen_Level           10000 non-null  object \n",
      " 22  Heart_Attack           10000 non-null  object \n",
      " 23  Screen_Time            10000 non-null  object \n",
      " 24  Blood_Pressure         10000 non-null  int64  \n",
      " 25  Triglyceride_Levels    10000 non-null  object \n",
      "dtypes: float64(1), int64(6), object(19)\n",
      "memory usage: 2.0+ MB\n"
     ]
    }
   ],
   "source": [
    "ind_df.info()"
   ]
  },
  {
   "cell_type": "code",
   "execution_count": 266,
   "id": "795e52c0-82d7-4e74-a697-143071bbe255",
   "metadata": {},
   "outputs": [],
   "source": [
    "ind_df.to_csv('cleaned_India_dataset.csv', index=False)"
   ]
  },
  {
   "cell_type": "code",
   "execution_count": 268,
   "id": "a4dfa533-3ec4-422c-92fc-4e2654d644a9",
   "metadata": {},
   "outputs": [],
   "source": [
    "loaded_df = pd.read_csv('cleaned_India_dataset.csv')"
   ]
  },
  {
   "cell_type": "code",
   "execution_count": 270,
   "id": "0f9e7b98-46a0-47b0-aae3-cf87724f33ba",
   "metadata": {},
   "outputs": [
    {
     "data": {
      "text/html": [
       "<div>\n",
       "<style scoped>\n",
       "    .dataframe tbody tr th:only-of-type {\n",
       "        vertical-align: middle;\n",
       "    }\n",
       "\n",
       "    .dataframe tbody tr th {\n",
       "        vertical-align: top;\n",
       "    }\n",
       "\n",
       "    .dataframe thead th {\n",
       "        text-align: right;\n",
       "    }\n",
       "</style>\n",
       "<table border=\"1\" class=\"dataframe\">\n",
       "  <thead>\n",
       "    <tr style=\"text-align: right;\">\n",
       "      <th></th>\n",
       "      <th>Age</th>\n",
       "      <th>Gender</th>\n",
       "      <th>Region_Category</th>\n",
       "      <th>Location_Type</th>\n",
       "      <th>Income_Level</th>\n",
       "      <th>Smoking_Status</th>\n",
       "      <th>Alcohol_Consumption</th>\n",
       "      <th>Diet_Quality</th>\n",
       "      <th>Physical_Activity</th>\n",
       "      <th>Sleep_Hours</th>\n",
       "      <th>...</th>\n",
       "      <th>Resting_Heart_Rate</th>\n",
       "      <th>ECG_Results</th>\n",
       "      <th>Angina_Type</th>\n",
       "      <th>Maximum_Heart_Rate</th>\n",
       "      <th>Exercise_Induced_Pain</th>\n",
       "      <th>Oxygen_Level</th>\n",
       "      <th>Heart_Attack</th>\n",
       "      <th>Screen_Time</th>\n",
       "      <th>Blood_Pressure</th>\n",
       "      <th>Triglyceride_Levels</th>\n",
       "    </tr>\n",
       "  </thead>\n",
       "  <tbody>\n",
       "    <tr>\n",
       "      <th>0</th>\n",
       "      <td>30</td>\n",
       "      <td>Male</td>\n",
       "      <td>East</td>\n",
       "      <td>Urban</td>\n",
       "      <td>Middle</td>\n",
       "      <td>Never</td>\n",
       "      <td>Regularly</td>\n",
       "      <td>Non-Vegetarian</td>\n",
       "      <td>Low</td>\n",
       "      <td>8</td>\n",
       "      <td>...</td>\n",
       "      <td>82</td>\n",
       "      <td>Normal</td>\n",
       "      <td>Non-anginal</td>\n",
       "      <td>183</td>\n",
       "      <td>No</td>\n",
       "      <td>Moderate</td>\n",
       "      <td>No</td>\n",
       "      <td>Good</td>\n",
       "      <td>120</td>\n",
       "      <td>Good</td>\n",
       "    </tr>\n",
       "    <tr>\n",
       "      <th>1</th>\n",
       "      <td>24</td>\n",
       "      <td>Female</td>\n",
       "      <td>East</td>\n",
       "      <td>Urban</td>\n",
       "      <td>Low</td>\n",
       "      <td>Occasionally</td>\n",
       "      <td>Occasionally</td>\n",
       "      <td>Non-Vegetarian</td>\n",
       "      <td>Low</td>\n",
       "      <td>9</td>\n",
       "      <td>...</td>\n",
       "      <td>76</td>\n",
       "      <td>Normal</td>\n",
       "      <td>Non-anginal</td>\n",
       "      <td>118</td>\n",
       "      <td>No</td>\n",
       "      <td>Good</td>\n",
       "      <td>No</td>\n",
       "      <td>Bad</td>\n",
       "      <td>124</td>\n",
       "      <td>Bad</td>\n",
       "    </tr>\n",
       "    <tr>\n",
       "      <th>2</th>\n",
       "      <td>24</td>\n",
       "      <td>Female</td>\n",
       "      <td>North</td>\n",
       "      <td>Urban</td>\n",
       "      <td>Low</td>\n",
       "      <td>Occasionally</td>\n",
       "      <td>Occasionally</td>\n",
       "      <td>Vegan</td>\n",
       "      <td>High</td>\n",
       "      <td>3</td>\n",
       "      <td>...</td>\n",
       "      <td>86</td>\n",
       "      <td>Normal</td>\n",
       "      <td>Typical</td>\n",
       "      <td>164</td>\n",
       "      <td>No</td>\n",
       "      <td>Moderate</td>\n",
       "      <td>Yes</td>\n",
       "      <td>Bad</td>\n",
       "      <td>107</td>\n",
       "      <td>Bad</td>\n",
       "    </tr>\n",
       "    <tr>\n",
       "      <th>3</th>\n",
       "      <td>27</td>\n",
       "      <td>Male</td>\n",
       "      <td>East</td>\n",
       "      <td>Urban</td>\n",
       "      <td>Middle</td>\n",
       "      <td>Occasionally</td>\n",
       "      <td>Never</td>\n",
       "      <td>Vegetarian</td>\n",
       "      <td>Low</td>\n",
       "      <td>7</td>\n",
       "      <td>...</td>\n",
       "      <td>106</td>\n",
       "      <td>Normal</td>\n",
       "      <td>Non-anginal</td>\n",
       "      <td>188</td>\n",
       "      <td>No</td>\n",
       "      <td>Good</td>\n",
       "      <td>Yes</td>\n",
       "      <td>Moderate</td>\n",
       "      <td>134</td>\n",
       "      <td>Good</td>\n",
       "    </tr>\n",
       "    <tr>\n",
       "      <th>4</th>\n",
       "      <td>21</td>\n",
       "      <td>Female</td>\n",
       "      <td>West</td>\n",
       "      <td>Rural</td>\n",
       "      <td>Low</td>\n",
       "      <td>Occasionally</td>\n",
       "      <td>Occasionally</td>\n",
       "      <td>Vegetarian</td>\n",
       "      <td>Moderate</td>\n",
       "      <td>9</td>\n",
       "      <td>...</td>\n",
       "      <td>73</td>\n",
       "      <td>Normal</td>\n",
       "      <td>Atypical</td>\n",
       "      <td>216</td>\n",
       "      <td>No</td>\n",
       "      <td>Moderate</td>\n",
       "      <td>No</td>\n",
       "      <td>Good</td>\n",
       "      <td>120</td>\n",
       "      <td>Bad</td>\n",
       "    </tr>\n",
       "    <tr>\n",
       "      <th>...</th>\n",
       "      <td>...</td>\n",
       "      <td>...</td>\n",
       "      <td>...</td>\n",
       "      <td>...</td>\n",
       "      <td>...</td>\n",
       "      <td>...</td>\n",
       "      <td>...</td>\n",
       "      <td>...</td>\n",
       "      <td>...</td>\n",
       "      <td>...</td>\n",
       "      <td>...</td>\n",
       "      <td>...</td>\n",
       "      <td>...</td>\n",
       "      <td>...</td>\n",
       "      <td>...</td>\n",
       "      <td>...</td>\n",
       "      <td>...</td>\n",
       "      <td>...</td>\n",
       "      <td>...</td>\n",
       "      <td>...</td>\n",
       "      <td>...</td>\n",
       "    </tr>\n",
       "    <tr>\n",
       "      <th>9995</th>\n",
       "      <td>33</td>\n",
       "      <td>Female</td>\n",
       "      <td>East</td>\n",
       "      <td>Rural</td>\n",
       "      <td>Low</td>\n",
       "      <td>Occasionally</td>\n",
       "      <td>Occasionally</td>\n",
       "      <td>Vegan</td>\n",
       "      <td>Low</td>\n",
       "      <td>4</td>\n",
       "      <td>...</td>\n",
       "      <td>88</td>\n",
       "      <td>Abnormal</td>\n",
       "      <td>Atypical</td>\n",
       "      <td>147</td>\n",
       "      <td>No</td>\n",
       "      <td>Moderate</td>\n",
       "      <td>No</td>\n",
       "      <td>Good</td>\n",
       "      <td>96</td>\n",
       "      <td>Bad</td>\n",
       "    </tr>\n",
       "    <tr>\n",
       "      <th>9996</th>\n",
       "      <td>35</td>\n",
       "      <td>Female</td>\n",
       "      <td>North-East</td>\n",
       "      <td>Rural</td>\n",
       "      <td>Low</td>\n",
       "      <td>Occasionally</td>\n",
       "      <td>Never</td>\n",
       "      <td>Vegan</td>\n",
       "      <td>High</td>\n",
       "      <td>7</td>\n",
       "      <td>...</td>\n",
       "      <td>116</td>\n",
       "      <td>Normal</td>\n",
       "      <td>Atypical</td>\n",
       "      <td>136</td>\n",
       "      <td>No</td>\n",
       "      <td>Good</td>\n",
       "      <td>No</td>\n",
       "      <td>Bad</td>\n",
       "      <td>120</td>\n",
       "      <td>Bad</td>\n",
       "    </tr>\n",
       "    <tr>\n",
       "      <th>9997</th>\n",
       "      <td>32</td>\n",
       "      <td>Male</td>\n",
       "      <td>West</td>\n",
       "      <td>Urban</td>\n",
       "      <td>Middle</td>\n",
       "      <td>Regularly</td>\n",
       "      <td>Never</td>\n",
       "      <td>Non-Vegetarian</td>\n",
       "      <td>Moderate</td>\n",
       "      <td>5</td>\n",
       "      <td>...</td>\n",
       "      <td>62</td>\n",
       "      <td>Normal</td>\n",
       "      <td>Typical</td>\n",
       "      <td>171</td>\n",
       "      <td>No</td>\n",
       "      <td>Good</td>\n",
       "      <td>No</td>\n",
       "      <td>Good</td>\n",
       "      <td>101</td>\n",
       "      <td>Bad</td>\n",
       "    </tr>\n",
       "    <tr>\n",
       "      <th>9998</th>\n",
       "      <td>21</td>\n",
       "      <td>Female</td>\n",
       "      <td>Central</td>\n",
       "      <td>Rural</td>\n",
       "      <td>Middle</td>\n",
       "      <td>Regularly</td>\n",
       "      <td>Never</td>\n",
       "      <td>Vegan</td>\n",
       "      <td>Low</td>\n",
       "      <td>4</td>\n",
       "      <td>...</td>\n",
       "      <td>84</td>\n",
       "      <td>Abnormal</td>\n",
       "      <td>Non-anginal</td>\n",
       "      <td>137</td>\n",
       "      <td>No</td>\n",
       "      <td>Moderate</td>\n",
       "      <td>No</td>\n",
       "      <td>Bad</td>\n",
       "      <td>105</td>\n",
       "      <td>Bad</td>\n",
       "    </tr>\n",
       "    <tr>\n",
       "      <th>9999</th>\n",
       "      <td>28</td>\n",
       "      <td>Male</td>\n",
       "      <td>North</td>\n",
       "      <td>Rural</td>\n",
       "      <td>High</td>\n",
       "      <td>Never</td>\n",
       "      <td>Never</td>\n",
       "      <td>Vegetarian</td>\n",
       "      <td>Low</td>\n",
       "      <td>3</td>\n",
       "      <td>...</td>\n",
       "      <td>77</td>\n",
       "      <td>Normal</td>\n",
       "      <td>Asymptomatic</td>\n",
       "      <td>220</td>\n",
       "      <td>No</td>\n",
       "      <td>Good</td>\n",
       "      <td>No</td>\n",
       "      <td>Moderate</td>\n",
       "      <td>125</td>\n",
       "      <td>Good</td>\n",
       "    </tr>\n",
       "  </tbody>\n",
       "</table>\n",
       "<p>10000 rows × 26 columns</p>\n",
       "</div>"
      ],
      "text/plain": [
       "      Age  Gender Region_Category Location_Type Income_Level Smoking_Status  \\\n",
       "0      30    Male            East         Urban       Middle          Never   \n",
       "1      24  Female            East         Urban          Low   Occasionally   \n",
       "2      24  Female           North         Urban          Low   Occasionally   \n",
       "3      27    Male            East         Urban       Middle   Occasionally   \n",
       "4      21  Female            West         Rural          Low   Occasionally   \n",
       "...   ...     ...             ...           ...          ...            ...   \n",
       "9995   33  Female            East         Rural          Low   Occasionally   \n",
       "9996   35  Female      North-East         Rural          Low   Occasionally   \n",
       "9997   32    Male            West         Urban       Middle      Regularly   \n",
       "9998   21  Female         Central         Rural       Middle      Regularly   \n",
       "9999   28    Male           North         Rural         High          Never   \n",
       "\n",
       "     Alcohol_Consumption    Diet_Quality Physical_Activity  Sleep_Hours  ...  \\\n",
       "0              Regularly  Non-Vegetarian               Low            8  ...   \n",
       "1           Occasionally  Non-Vegetarian               Low            9  ...   \n",
       "2           Occasionally           Vegan              High            3  ...   \n",
       "3                  Never      Vegetarian               Low            7  ...   \n",
       "4           Occasionally      Vegetarian          Moderate            9  ...   \n",
       "...                  ...             ...               ...          ...  ...   \n",
       "9995        Occasionally           Vegan               Low            4  ...   \n",
       "9996               Never           Vegan              High            7  ...   \n",
       "9997               Never  Non-Vegetarian          Moderate            5  ...   \n",
       "9998               Never           Vegan               Low            4  ...   \n",
       "9999               Never      Vegetarian               Low            3  ...   \n",
       "\n",
       "     Resting_Heart_Rate ECG_Results   Angina_Type  Maximum_Heart_Rate  \\\n",
       "0                    82      Normal   Non-anginal                 183   \n",
       "1                    76      Normal   Non-anginal                 118   \n",
       "2                    86      Normal       Typical                 164   \n",
       "3                   106      Normal   Non-anginal                 188   \n",
       "4                    73      Normal      Atypical                 216   \n",
       "...                 ...         ...           ...                 ...   \n",
       "9995                 88    Abnormal      Atypical                 147   \n",
       "9996                116      Normal      Atypical                 136   \n",
       "9997                 62      Normal       Typical                 171   \n",
       "9998                 84    Abnormal   Non-anginal                 137   \n",
       "9999                 77      Normal  Asymptomatic                 220   \n",
       "\n",
       "      Exercise_Induced_Pain Oxygen_Level  Heart_Attack Screen_Time  \\\n",
       "0                        No     Moderate            No        Good   \n",
       "1                        No         Good            No         Bad   \n",
       "2                        No     Moderate           Yes         Bad   \n",
       "3                        No         Good           Yes    Moderate   \n",
       "4                        No     Moderate            No        Good   \n",
       "...                     ...          ...           ...         ...   \n",
       "9995                     No     Moderate            No        Good   \n",
       "9996                     No         Good            No         Bad   \n",
       "9997                     No         Good            No        Good   \n",
       "9998                     No     Moderate            No         Bad   \n",
       "9999                     No         Good            No    Moderate   \n",
       "\n",
       "     Blood_Pressure  Triglyceride_Levels  \n",
       "0               120                 Good  \n",
       "1               124                  Bad  \n",
       "2               107                  Bad  \n",
       "3               134                 Good  \n",
       "4               120                  Bad  \n",
       "...             ...                  ...  \n",
       "9995             96                  Bad  \n",
       "9996            120                  Bad  \n",
       "9997            101                  Bad  \n",
       "9998            105                  Bad  \n",
       "9999            125                 Good  \n",
       "\n",
       "[10000 rows x 26 columns]"
      ]
     },
     "execution_count": 270,
     "metadata": {},
     "output_type": "execute_result"
    }
   ],
   "source": [
    "loaded_df"
   ]
  },
  {
   "cell_type": "code",
   "execution_count": 272,
   "id": "3483120e-0ce1-4391-bd5f-a5071f88a0d3",
   "metadata": {},
   "outputs": [
    {
     "name": "stdout",
     "output_type": "stream",
     "text": [
      "<class 'pandas.core.frame.DataFrame'>\n",
      "RangeIndex: 10000 entries, 0 to 9999\n",
      "Data columns (total 26 columns):\n",
      " #   Column                 Non-Null Count  Dtype  \n",
      "---  ------                 --------------  -----  \n",
      " 0   Age                    10000 non-null  int64  \n",
      " 1   Gender                 10000 non-null  object \n",
      " 2   Region_Category        10000 non-null  object \n",
      " 3   Location_Type          10000 non-null  object \n",
      " 4   Income_Level           10000 non-null  object \n",
      " 5   Smoking_Status         10000 non-null  object \n",
      " 6   Alcohol_Consumption    10000 non-null  object \n",
      " 7   Diet_Quality           10000 non-null  object \n",
      " 8   Physical_Activity      10000 non-null  object \n",
      " 9   Sleep_Hours            10000 non-null  int64  \n",
      " 10  Family_History         10000 non-null  object \n",
      " 11  Diabetes               10000 non-null  object \n",
      " 12  Hypertension           10000 non-null  object \n",
      " 13  Cholesterol_Level      10000 non-null  int64  \n",
      " 14  BMI                    10000 non-null  float64\n",
      " 15  Stress_Level           10000 non-null  object \n",
      " 16  Resting_Heart_Rate     10000 non-null  int64  \n",
      " 17  ECG_Results            10000 non-null  object \n",
      " 18  Angina_Type            10000 non-null  object \n",
      " 19  Maximum_Heart_Rate     10000 non-null  int64  \n",
      " 20  Exercise_Induced_Pain  10000 non-null  object \n",
      " 21  Oxygen_Level           10000 non-null  object \n",
      " 22  Heart_Attack           10000 non-null  object \n",
      " 23  Screen_Time            10000 non-null  object \n",
      " 24  Blood_Pressure         10000 non-null  int64  \n",
      " 25  Triglyceride_Levels    10000 non-null  object \n",
      "dtypes: float64(1), int64(6), object(19)\n",
      "memory usage: 2.0+ MB\n"
     ]
    }
   ],
   "source": [
    "loaded_df.info()"
   ]
  },
  {
   "cell_type": "code",
   "execution_count": null,
   "id": "ca2a729b-01f0-4378-bb7c-599a66fe9b77",
   "metadata": {},
   "outputs": [],
   "source": []
  }
 ],
 "metadata": {
  "kernelspec": {
   "display_name": "Python 3 (ipykernel)",
   "language": "python",
   "name": "python3"
  },
  "language_info": {
   "codemirror_mode": {
    "name": "ipython",
    "version": 3
   },
   "file_extension": ".py",
   "mimetype": "text/x-python",
   "name": "python",
   "nbconvert_exporter": "python",
   "pygments_lexer": "ipython3",
   "version": "3.12.4"
  }
 },
 "nbformat": 4,
 "nbformat_minor": 5
}
