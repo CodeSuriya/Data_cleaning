{
 "cells": [
  {
   "cell_type": "code",
   "execution_count": 5,
   "id": "dc8b369a-b37a-4d0e-acea-b29bde8586c9",
   "metadata": {},
   "outputs": [],
   "source": [
    "import pandas as pd \n",
    "import numpy as np"
   ]
  },
  {
   "cell_type": "code",
   "execution_count": 7,
   "id": "7a18da87-1e51-429a-b15f-4d7e2413dac0",
   "metadata": {},
   "outputs": [],
   "source": [
    "france_df = pd.read_csv(\"C:/Users/jsuri/Downloads/Datasets/France_dataset.csv\")"
   ]
  },
  {
   "cell_type": "code",
   "execution_count": 9,
   "id": "8e5b70ed-64eb-4d87-8998-eb20a36586ab",
   "metadata": {},
   "outputs": [
    {
     "data": {
      "text/html": [
       "<div>\n",
       "<style scoped>\n",
       "    .dataframe tbody tr th:only-of-type {\n",
       "        vertical-align: middle;\n",
       "    }\n",
       "\n",
       "    .dataframe tbody tr th {\n",
       "        vertical-align: top;\n",
       "    }\n",
       "\n",
       "    .dataframe thead th {\n",
       "        text-align: right;\n",
       "    }\n",
       "</style>\n",
       "<table border=\"1\" class=\"dataframe\">\n",
       "  <thead>\n",
       "    <tr style=\"text-align: right;\">\n",
       "      <th></th>\n",
       "      <th>Patient_ID</th>\n",
       "      <th>Age</th>\n",
       "      <th>Sex</th>\n",
       "      <th>Weight_kg</th>\n",
       "      <th>Height_cm</th>\n",
       "      <th>BMI</th>\n",
       "      <th>Blood_Pressure_Systolic</th>\n",
       "      <th>Blood_Pressure_Diastolic</th>\n",
       "      <th>Cholesterol_Level</th>\n",
       "      <th>Smoking_Status</th>\n",
       "      <th>...</th>\n",
       "      <th>Exercise_Induced_Pain</th>\n",
       "      <th>Heart_Attack</th>\n",
       "      <th>Age_Group</th>\n",
       "      <th>Region</th>\n",
       "      <th>Air_Pollution_Level</th>\n",
       "      <th>Income_Level</th>\n",
       "      <th>Education_Level</th>\n",
       "      <th>Health_Insurance</th>\n",
       "      <th>Regular_Checkups</th>\n",
       "      <th>Medication_Adherence</th>\n",
       "    </tr>\n",
       "  </thead>\n",
       "  <tbody>\n",
       "    <tr>\n",
       "      <th>0</th>\n",
       "      <td>1</td>\n",
       "      <td>56</td>\n",
       "      <td>Male</td>\n",
       "      <td>118.4</td>\n",
       "      <td>184</td>\n",
       "      <td>35.4</td>\n",
       "      <td>96</td>\n",
       "      <td>94</td>\n",
       "      <td>204.3</td>\n",
       "      <td>Ex-Smoker</td>\n",
       "      <td>...</td>\n",
       "      <td>No</td>\n",
       "      <td>No</td>\n",
       "      <td>Adult</td>\n",
       "      <td>Central</td>\n",
       "      <td>67</td>\n",
       "      <td>Medium</td>\n",
       "      <td>College</td>\n",
       "      <td>Yes</td>\n",
       "      <td>Occasionally</td>\n",
       "      <td>Yes</td>\n",
       "    </tr>\n",
       "    <tr>\n",
       "      <th>1</th>\n",
       "      <td>2</td>\n",
       "      <td>46</td>\n",
       "      <td>Male</td>\n",
       "      <td>50.7</td>\n",
       "      <td>164</td>\n",
       "      <td>32.6</td>\n",
       "      <td>114</td>\n",
       "      <td>65</td>\n",
       "      <td>279.4</td>\n",
       "      <td>Non-Smoker</td>\n",
       "      <td>...</td>\n",
       "      <td>No</td>\n",
       "      <td>Yes</td>\n",
       "      <td>Adult</td>\n",
       "      <td>North</td>\n",
       "      <td>16</td>\n",
       "      <td>Low</td>\n",
       "      <td>High School</td>\n",
       "      <td>Yes</td>\n",
       "      <td>Occasionally</td>\n",
       "      <td>Yes</td>\n",
       "    </tr>\n",
       "    <tr>\n",
       "      <th>2</th>\n",
       "      <td>3</td>\n",
       "      <td>32</td>\n",
       "      <td>Male</td>\n",
       "      <td>118.0</td>\n",
       "      <td>179</td>\n",
       "      <td>39.8</td>\n",
       "      <td>98</td>\n",
       "      <td>118</td>\n",
       "      <td>291.4</td>\n",
       "      <td>Current Smoker</td>\n",
       "      <td>...</td>\n",
       "      <td>No</td>\n",
       "      <td>No</td>\n",
       "      <td>Adult</td>\n",
       "      <td>South</td>\n",
       "      <td>32</td>\n",
       "      <td>Medium</td>\n",
       "      <td>College</td>\n",
       "      <td>Yes</td>\n",
       "      <td>Frequently</td>\n",
       "      <td>Yes</td>\n",
       "    </tr>\n",
       "    <tr>\n",
       "      <th>3</th>\n",
       "      <td>4</td>\n",
       "      <td>60</td>\n",
       "      <td>Male</td>\n",
       "      <td>96.8</td>\n",
       "      <td>161</td>\n",
       "      <td>23.7</td>\n",
       "      <td>108</td>\n",
       "      <td>101</td>\n",
       "      <td>273.3</td>\n",
       "      <td>Non-Smoker</td>\n",
       "      <td>...</td>\n",
       "      <td>No</td>\n",
       "      <td>No</td>\n",
       "      <td>Youth</td>\n",
       "      <td>East</td>\n",
       "      <td>86</td>\n",
       "      <td>Low</td>\n",
       "      <td>College</td>\n",
       "      <td>Yes</td>\n",
       "      <td>Occasionally</td>\n",
       "      <td>Yes</td>\n",
       "    </tr>\n",
       "  </tbody>\n",
       "</table>\n",
       "<p>4 rows × 27 columns</p>\n",
       "</div>"
      ],
      "text/plain": [
       "   Patient_ID  Age   Sex  Weight_kg  Height_cm   BMI  Blood_Pressure_Systolic  \\\n",
       "0           1   56  Male      118.4        184  35.4                       96   \n",
       "1           2   46  Male       50.7        164  32.6                      114   \n",
       "2           3   32  Male      118.0        179  39.8                       98   \n",
       "3           4   60  Male       96.8        161  23.7                      108   \n",
       "\n",
       "   Blood_Pressure_Diastolic  Cholesterol_Level  Smoking_Status  ...  \\\n",
       "0                        94              204.3       Ex-Smoker  ...   \n",
       "1                        65              279.4      Non-Smoker  ...   \n",
       "2                       118              291.4  Current Smoker  ...   \n",
       "3                       101              273.3      Non-Smoker  ...   \n",
       "\n",
       "   Exercise_Induced_Pain  Heart_Attack Age_Group   Region Air_Pollution_Level  \\\n",
       "0                     No            No     Adult  Central                  67   \n",
       "1                     No           Yes     Adult    North                  16   \n",
       "2                     No            No     Adult    South                  32   \n",
       "3                     No            No     Youth     East                  86   \n",
       "\n",
       "   Income_Level  Education_Level Health_Insurance Regular_Checkups  \\\n",
       "0        Medium          College              Yes     Occasionally   \n",
       "1           Low      High School              Yes     Occasionally   \n",
       "2        Medium          College              Yes       Frequently   \n",
       "3           Low          College              Yes     Occasionally   \n",
       "\n",
       "  Medication_Adherence  \n",
       "0                  Yes  \n",
       "1                  Yes  \n",
       "2                  Yes  \n",
       "3                  Yes  \n",
       "\n",
       "[4 rows x 27 columns]"
      ]
     },
     "execution_count": 9,
     "metadata": {},
     "output_type": "execute_result"
    }
   ],
   "source": [
    "france_df.head(4)"
   ]
  },
  {
   "cell_type": "code",
   "execution_count": 11,
   "id": "2b252653-b227-41a9-8e44-af058db32623",
   "metadata": {},
   "outputs": [
    {
     "name": "stdout",
     "output_type": "stream",
     "text": [
      "<class 'pandas.core.frame.DataFrame'>\n",
      "RangeIndex: 266786 entries, 0 to 266785\n",
      "Data columns (total 27 columns):\n",
      " #   Column                    Non-Null Count   Dtype  \n",
      "---  ------                    --------------   -----  \n",
      " 0   Patient_ID                266786 non-null  int64  \n",
      " 1   Age                       266786 non-null  int64  \n",
      " 2   Sex                       266786 non-null  object \n",
      " 3   Weight_kg                 266786 non-null  float64\n",
      " 4   Height_cm                 266786 non-null  int64  \n",
      " 5   BMI                       266786 non-null  float64\n",
      " 6   Blood_Pressure_Systolic   266786 non-null  int64  \n",
      " 7   Blood_Pressure_Diastolic  266786 non-null  int64  \n",
      " 8   Cholesterol_Level         266786 non-null  float64\n",
      " 9   Smoking_Status            266786 non-null  object \n",
      " 10  Alcohol_Consumption       266786 non-null  int64  \n",
      " 11  Physical_Activity_Hours   266786 non-null  float64\n",
      " 12  Diabetes                  266786 non-null  object \n",
      " 13  Family_History            266786 non-null  object \n",
      " 14  Diet_Type                 266786 non-null  object \n",
      " 15  Stress_Level              266786 non-null  int64  \n",
      " 16  Heart_Rate                266786 non-null  int64  \n",
      " 17  Exercise_Induced_Pain     266786 non-null  object \n",
      " 18  Heart_Attack              266786 non-null  object \n",
      " 19  Age_Group                 266786 non-null  object \n",
      " 20  Region                    266786 non-null  object \n",
      " 21  Air_Pollution_Level       266786 non-null  int64  \n",
      " 22  Income_Level              266786 non-null  object \n",
      " 23  Education_Level           266786 non-null  object \n",
      " 24  Health_Insurance          266786 non-null  object \n",
      " 25  Regular_Checkups          266786 non-null  object \n",
      " 26  Medication_Adherence      266786 non-null  object \n",
      "dtypes: float64(4), int64(9), object(14)\n",
      "memory usage: 55.0+ MB\n"
     ]
    }
   ],
   "source": [
    "france_df.info()"
   ]
  },
  {
   "cell_type": "code",
   "execution_count": 13,
   "id": "dbc2bfd9-94ae-484e-8b59-5d1d9dba6fed",
   "metadata": {},
   "outputs": [
    {
     "name": "stdout",
     "output_type": "stream",
     "text": [
      "(266786, 27)\n"
     ]
    }
   ],
   "source": [
    "print(france_df.shape)"
   ]
  },
  {
   "cell_type": "code",
   "execution_count": 15,
   "id": "f5376195-27fa-4eef-9630-adc957ef26de",
   "metadata": {},
   "outputs": [
    {
     "data": {
      "text/plain": [
       "Sex\n",
       "Female    128065\n",
       "Male      128049\n",
       "Other      10672\n",
       "Name: count, dtype: int64"
      ]
     },
     "execution_count": 15,
     "metadata": {},
     "output_type": "execute_result"
    }
   ],
   "source": [
    "france_df['Sex'].value_counts()"
   ]
  },
  {
   "cell_type": "code",
   "execution_count": 17,
   "id": "c41dd803-e6dc-49c0-b4fe-055ec4fe6f39",
   "metadata": {},
   "outputs": [],
   "source": [
    "france_df['Weight_kg']  = france_df['Weight_kg'].round().astype(int)"
   ]
  },
  {
   "cell_type": "code",
   "execution_count": 19,
   "id": "243bce39-1e9d-4099-920c-73d1ce267239",
   "metadata": {},
   "outputs": [
    {
     "data": {
      "text/plain": [
       "0         118\n",
       "1          51\n",
       "2         118\n",
       "3          97\n",
       "4          54\n",
       "         ... \n",
       "266781    108\n",
       "266782     75\n",
       "266783     56\n",
       "266784     70\n",
       "266785     62\n",
       "Name: Weight_kg, Length: 266786, dtype: int32"
      ]
     },
     "execution_count": 19,
     "metadata": {},
     "output_type": "execute_result"
    }
   ],
   "source": [
    "france_df['Weight_kg']"
   ]
  },
  {
   "cell_type": "code",
   "execution_count": 21,
   "id": "3b795eb4-10f8-48e2-9256-5e7019c78228",
   "metadata": {},
   "outputs": [],
   "source": [
    "france_df['Blood_Pressure'] = ((france_df['Blood_Pressure_Systolic'] + france_df['Blood_Pressure_Diastolic'])/2).astype(int)"
   ]
  },
  {
   "cell_type": "code",
   "execution_count": 25,
   "id": "6c660825-23c7-449b-adaf-a523cafa5072",
   "metadata": {},
   "outputs": [
    {
     "data": {
      "text/plain": [
       "Blood_Pressure\n",
       "110    6100\n",
       "109    6077\n",
       "105    6015\n",
       "115    6000\n",
       "116    5997\n",
       "       ... \n",
       "147     404\n",
       "76      341\n",
       "148     255\n",
       "75      156\n",
       "149      55\n",
       "Name: count, Length: 75, dtype: int64"
      ]
     },
     "execution_count": 25,
     "metadata": {},
     "output_type": "execute_result"
    }
   ],
   "source": [
    "france_df['Blood_Pressure'].value_counts()"
   ]
  },
  {
   "cell_type": "code",
   "execution_count": 33,
   "id": "15cfa6da-9453-4c04-818d-12164c0a78cf",
   "metadata": {},
   "outputs": [
    {
     "data": {
      "text/html": [
       "<div>\n",
       "<style scoped>\n",
       "    .dataframe tbody tr th:only-of-type {\n",
       "        vertical-align: middle;\n",
       "    }\n",
       "\n",
       "    .dataframe tbody tr th {\n",
       "        vertical-align: top;\n",
       "    }\n",
       "\n",
       "    .dataframe thead th {\n",
       "        text-align: right;\n",
       "    }\n",
       "</style>\n",
       "<table border=\"1\" class=\"dataframe\">\n",
       "  <thead>\n",
       "    <tr style=\"text-align: right;\">\n",
       "      <th></th>\n",
       "      <th>Patient_ID</th>\n",
       "      <th>Age</th>\n",
       "      <th>Sex</th>\n",
       "      <th>Weight_kg</th>\n",
       "      <th>Height_cm</th>\n",
       "      <th>BMI</th>\n",
       "      <th>Cholesterol_Level</th>\n",
       "      <th>Smoking_Status</th>\n",
       "      <th>Alcohol_Consumption</th>\n",
       "      <th>Physical_Activity_Hours</th>\n",
       "      <th>...</th>\n",
       "      <th>Heart_Attack</th>\n",
       "      <th>Age_Group</th>\n",
       "      <th>Region</th>\n",
       "      <th>Air_Pollution_Level</th>\n",
       "      <th>Income_Level</th>\n",
       "      <th>Education_Level</th>\n",
       "      <th>Health_Insurance</th>\n",
       "      <th>Regular_Checkups</th>\n",
       "      <th>Medication_Adherence</th>\n",
       "      <th>Blood_Pressure</th>\n",
       "    </tr>\n",
       "  </thead>\n",
       "  <tbody>\n",
       "    <tr>\n",
       "      <th>0</th>\n",
       "      <td>1</td>\n",
       "      <td>56</td>\n",
       "      <td>Male</td>\n",
       "      <td>118</td>\n",
       "      <td>184</td>\n",
       "      <td>35.4</td>\n",
       "      <td>204.3</td>\n",
       "      <td>Ex-Smoker</td>\n",
       "      <td>16</td>\n",
       "      <td>9.5</td>\n",
       "      <td>...</td>\n",
       "      <td>No</td>\n",
       "      <td>Adult</td>\n",
       "      <td>Central</td>\n",
       "      <td>67</td>\n",
       "      <td>Medium</td>\n",
       "      <td>College</td>\n",
       "      <td>Yes</td>\n",
       "      <td>Occasionally</td>\n",
       "      <td>Yes</td>\n",
       "      <td>95</td>\n",
       "    </tr>\n",
       "    <tr>\n",
       "      <th>1</th>\n",
       "      <td>2</td>\n",
       "      <td>46</td>\n",
       "      <td>Male</td>\n",
       "      <td>51</td>\n",
       "      <td>164</td>\n",
       "      <td>32.6</td>\n",
       "      <td>279.4</td>\n",
       "      <td>Non-Smoker</td>\n",
       "      <td>18</td>\n",
       "      <td>3.3</td>\n",
       "      <td>...</td>\n",
       "      <td>Yes</td>\n",
       "      <td>Adult</td>\n",
       "      <td>North</td>\n",
       "      <td>16</td>\n",
       "      <td>Low</td>\n",
       "      <td>High School</td>\n",
       "      <td>Yes</td>\n",
       "      <td>Occasionally</td>\n",
       "      <td>Yes</td>\n",
       "      <td>89</td>\n",
       "    </tr>\n",
       "    <tr>\n",
       "      <th>2</th>\n",
       "      <td>3</td>\n",
       "      <td>32</td>\n",
       "      <td>Male</td>\n",
       "      <td>118</td>\n",
       "      <td>179</td>\n",
       "      <td>39.8</td>\n",
       "      <td>291.4</td>\n",
       "      <td>Current Smoker</td>\n",
       "      <td>15</td>\n",
       "      <td>8.9</td>\n",
       "      <td>...</td>\n",
       "      <td>No</td>\n",
       "      <td>Adult</td>\n",
       "      <td>South</td>\n",
       "      <td>32</td>\n",
       "      <td>Medium</td>\n",
       "      <td>College</td>\n",
       "      <td>Yes</td>\n",
       "      <td>Frequently</td>\n",
       "      <td>Yes</td>\n",
       "      <td>108</td>\n",
       "    </tr>\n",
       "    <tr>\n",
       "      <th>3</th>\n",
       "      <td>4</td>\n",
       "      <td>60</td>\n",
       "      <td>Male</td>\n",
       "      <td>97</td>\n",
       "      <td>161</td>\n",
       "      <td>23.7</td>\n",
       "      <td>273.3</td>\n",
       "      <td>Non-Smoker</td>\n",
       "      <td>3</td>\n",
       "      <td>5.5</td>\n",
       "      <td>...</td>\n",
       "      <td>No</td>\n",
       "      <td>Youth</td>\n",
       "      <td>East</td>\n",
       "      <td>86</td>\n",
       "      <td>Low</td>\n",
       "      <td>College</td>\n",
       "      <td>Yes</td>\n",
       "      <td>Occasionally</td>\n",
       "      <td>Yes</td>\n",
       "      <td>104</td>\n",
       "    </tr>\n",
       "    <tr>\n",
       "      <th>4</th>\n",
       "      <td>5</td>\n",
       "      <td>25</td>\n",
       "      <td>Male</td>\n",
       "      <td>54</td>\n",
       "      <td>169</td>\n",
       "      <td>24.4</td>\n",
       "      <td>290.8</td>\n",
       "      <td>Ex-Smoker</td>\n",
       "      <td>9</td>\n",
       "      <td>3.1</td>\n",
       "      <td>...</td>\n",
       "      <td>No</td>\n",
       "      <td>Youth</td>\n",
       "      <td>South</td>\n",
       "      <td>15</td>\n",
       "      <td>Low</td>\n",
       "      <td>High School</td>\n",
       "      <td>Yes</td>\n",
       "      <td>Occasionally</td>\n",
       "      <td>No</td>\n",
       "      <td>107</td>\n",
       "    </tr>\n",
       "  </tbody>\n",
       "</table>\n",
       "<p>5 rows × 26 columns</p>\n",
       "</div>"
      ],
      "text/plain": [
       "   Patient_ID  Age   Sex  Weight_kg  Height_cm   BMI  Cholesterol_Level  \\\n",
       "0           1   56  Male        118        184  35.4              204.3   \n",
       "1           2   46  Male         51        164  32.6              279.4   \n",
       "2           3   32  Male        118        179  39.8              291.4   \n",
       "3           4   60  Male         97        161  23.7              273.3   \n",
       "4           5   25  Male         54        169  24.4              290.8   \n",
       "\n",
       "   Smoking_Status  Alcohol_Consumption  Physical_Activity_Hours  ...  \\\n",
       "0       Ex-Smoker                   16                      9.5  ...   \n",
       "1      Non-Smoker                   18                      3.3  ...   \n",
       "2  Current Smoker                   15                      8.9  ...   \n",
       "3      Non-Smoker                    3                      5.5  ...   \n",
       "4       Ex-Smoker                    9                      3.1  ...   \n",
       "\n",
       "  Heart_Attack Age_Group   Region  Air_Pollution_Level  Income_Level  \\\n",
       "0           No     Adult  Central                   67        Medium   \n",
       "1          Yes     Adult    North                   16           Low   \n",
       "2           No     Adult    South                   32        Medium   \n",
       "3           No     Youth     East                   86           Low   \n",
       "4           No     Youth    South                   15           Low   \n",
       "\n",
       "  Education_Level Health_Insurance Regular_Checkups Medication_Adherence  \\\n",
       "0         College              Yes     Occasionally                  Yes   \n",
       "1     High School              Yes     Occasionally                  Yes   \n",
       "2         College              Yes       Frequently                  Yes   \n",
       "3         College              Yes     Occasionally                  Yes   \n",
       "4     High School              Yes     Occasionally                   No   \n",
       "\n",
       "   Blood_Pressure  \n",
       "0              95  \n",
       "1              89  \n",
       "2             108  \n",
       "3             104  \n",
       "4             107  \n",
       "\n",
       "[5 rows x 26 columns]"
      ]
     },
     "execution_count": 33,
     "metadata": {},
     "output_type": "execute_result"
    }
   ],
   "source": [
    "france_df.head()"
   ]
  },
  {
   "cell_type": "code",
   "execution_count": 29,
   "id": "4a56f378-5a82-4533-8d29-ccaa3b3e7c75",
   "metadata": {},
   "outputs": [],
   "source": [
    "france_df.drop(['Blood_Pressure_Systolic', 'Blood_Pressure_Diastolic'], axis=1, inplace=True)"
   ]
  },
  {
   "cell_type": "code",
   "execution_count": 31,
   "id": "66c3cbf5-cf35-4351-869a-6f9754774518",
   "metadata": {},
   "outputs": [
    {
     "name": "stdout",
     "output_type": "stream",
     "text": [
      "<class 'pandas.core.frame.DataFrame'>\n",
      "RangeIndex: 266786 entries, 0 to 266785\n",
      "Data columns (total 26 columns):\n",
      " #   Column                   Non-Null Count   Dtype  \n",
      "---  ------                   --------------   -----  \n",
      " 0   Patient_ID               266786 non-null  int64  \n",
      " 1   Age                      266786 non-null  int64  \n",
      " 2   Sex                      266786 non-null  object \n",
      " 3   Weight_kg                266786 non-null  int32  \n",
      " 4   Height_cm                266786 non-null  int64  \n",
      " 5   BMI                      266786 non-null  float64\n",
      " 6   Cholesterol_Level        266786 non-null  float64\n",
      " 7   Smoking_Status           266786 non-null  object \n",
      " 8   Alcohol_Consumption      266786 non-null  int64  \n",
      " 9   Physical_Activity_Hours  266786 non-null  float64\n",
      " 10  Diabetes                 266786 non-null  object \n",
      " 11  Family_History           266786 non-null  object \n",
      " 12  Diet_Type                266786 non-null  object \n",
      " 13  Stress_Level             266786 non-null  int64  \n",
      " 14  Heart_Rate               266786 non-null  int64  \n",
      " 15  Exercise_Induced_Pain    266786 non-null  object \n",
      " 16  Heart_Attack             266786 non-null  object \n",
      " 17  Age_Group                266786 non-null  object \n",
      " 18  Region                   266786 non-null  object \n",
      " 19  Air_Pollution_Level      266786 non-null  int64  \n",
      " 20  Income_Level             266786 non-null  object \n",
      " 21  Education_Level          266786 non-null  object \n",
      " 22  Health_Insurance         266786 non-null  object \n",
      " 23  Regular_Checkups         266786 non-null  object \n",
      " 24  Medication_Adherence     266786 non-null  object \n",
      " 25  Blood_Pressure           266786 non-null  int32  \n",
      "dtypes: float64(3), int32(2), int64(7), object(14)\n",
      "memory usage: 50.9+ MB\n"
     ]
    }
   ],
   "source": [
    "france_df.info()"
   ]
  },
  {
   "cell_type": "code",
   "execution_count": 35,
   "id": "f1359e1f-2421-4bc9-bf9f-4f8f5098d69a",
   "metadata": {},
   "outputs": [],
   "source": [
    "france_df['Cholesterol_Level']=france_df['Cholesterol_Level'].astype(int)"
   ]
  },
  {
   "cell_type": "code",
   "execution_count": 37,
   "id": "feb6214c-1ecd-44d6-bd66-745078d537db",
   "metadata": {},
   "outputs": [
    {
     "data": {
      "text/plain": [
       "Smoking_Status\n",
       "Non-Smoker        133491\n",
       "Ex-Smoker          80234\n",
       "Current Smoker     53061\n",
       "Name: count, dtype: int64"
      ]
     },
     "execution_count": 37,
     "metadata": {},
     "output_type": "execute_result"
    }
   ],
   "source": [
    "france_df['Smoking_Status'].value_counts()"
   ]
  },
  {
   "cell_type": "code",
   "execution_count": 45,
   "id": "c0413c2d-16e4-4069-b630-11c83479bfcd",
   "metadata": {},
   "outputs": [
    {
     "data": {
      "text/plain": [
       "Alcohol_Consumption\n",
       "2     13525\n",
       "3     13508\n",
       "19    13501\n",
       "16    13469\n",
       "7     13438\n",
       "4     13417\n",
       "5     13396\n",
       "17    13386\n",
       "9     13351\n",
       "15    13331\n",
       "11    13318\n",
       "1     13301\n",
       "8     13299\n",
       "10    13284\n",
       "6     13280\n",
       "12    13263\n",
       "18    13209\n",
       "13    13200\n",
       "14    13195\n",
       "0     13115\n",
       "Name: count, dtype: int64"
      ]
     },
     "execution_count": 45,
     "metadata": {},
     "output_type": "execute_result"
    }
   ],
   "source": [
    "france_df['Alcohol_Consumption'].value_counts()"
   ]
  },
  {
   "cell_type": "code",
   "execution_count": 41,
   "id": "94a9b239-49f4-403d-97bd-88b7b378d0e5",
   "metadata": {},
   "outputs": [
    {
     "data": {
      "text/plain": [
       "0"
      ]
     },
     "execution_count": 41,
     "metadata": {},
     "output_type": "execute_result"
    }
   ],
   "source": [
    "france_df['Alcohol_Consumption'].isnull().sum()"
   ]
  },
  {
   "cell_type": "code",
   "execution_count": 47,
   "id": "ebf7237e-bb7f-4302-ae04-47300590eb03",
   "metadata": {},
   "outputs": [],
   "source": [
    "# Categorize Alcohol Consumption\n",
    "def categorize_alcohol(value):\n",
    "    if 0 <= value <= 14:\n",
    "        return 'Moderate'\n",
    "    elif value >= 15:\n",
    "        return 'Heavy'\n",
    "    else:\n",
    "        return 'Unknown'  # In case of unexpected values (negative numbers)\n",
    "\n",
    "\n",
    "\n",
    "\n"
   ]
  },
  {
   "cell_type": "code",
   "execution_count": 49,
   "id": "714cc185-0752-4197-bce7-61166e16d5fa",
   "metadata": {},
   "outputs": [],
   "source": [
    "# Apply the function to the Alcohol_Consumption column\n",
    "france_df['Alcohol_Consumption'] = france_df['Alcohol_Consumption'].apply(categorize_alcohol)\n"
   ]
  },
  {
   "cell_type": "code",
   "execution_count": 51,
   "id": "cf9d0f64-7bde-4103-a612-7883b47b2102",
   "metadata": {},
   "outputs": [],
   "source": [
    "# Convert to object type (optional but ensures consistency)\n",
    "france_df['Alcohol_Consumption'] = france_df['Alcohol_Consumption'].astype('object')\n"
   ]
  },
  {
   "cell_type": "code",
   "execution_count": 53,
   "id": "e50b58c8-e705-46c7-86ee-7adb02be7111",
   "metadata": {},
   "outputs": [
    {
     "data": {
      "text/plain": [
       "Alcohol_Consumption\n",
       "Moderate    199890\n",
       "Heavy        66896\n",
       "Name: count, dtype: int64"
      ]
     },
     "execution_count": 53,
     "metadata": {},
     "output_type": "execute_result"
    }
   ],
   "source": [
    "# Check the results\n",
    "france_df['Alcohol_Consumption'].value_counts()"
   ]
  },
  {
   "cell_type": "code",
   "execution_count": 55,
   "id": "3e794067-6405-4382-afda-8145f73a882b",
   "metadata": {},
   "outputs": [
    {
     "data": {
      "text/plain": [
       "266786"
      ]
     },
     "execution_count": 55,
     "metadata": {},
     "output_type": "execute_result"
    }
   ],
   "source": [
    "# Check the results\n",
    "france_df['Alcohol_Consumption'].value_counts().sum()"
   ]
  },
  {
   "cell_type": "code",
   "execution_count": 57,
   "id": "4a794530-62e5-4f91-a142-9f35b4422fd6",
   "metadata": {},
   "outputs": [
    {
     "name": "stdout",
     "output_type": "stream",
     "text": [
      "<class 'pandas.core.frame.DataFrame'>\n",
      "RangeIndex: 266786 entries, 0 to 266785\n",
      "Data columns (total 26 columns):\n",
      " #   Column                   Non-Null Count   Dtype  \n",
      "---  ------                   --------------   -----  \n",
      " 0   Patient_ID               266786 non-null  int64  \n",
      " 1   Age                      266786 non-null  int64  \n",
      " 2   Sex                      266786 non-null  object \n",
      " 3   Weight_kg                266786 non-null  int32  \n",
      " 4   Height_cm                266786 non-null  int64  \n",
      " 5   BMI                      266786 non-null  float64\n",
      " 6   Cholesterol_Level        266786 non-null  int32  \n",
      " 7   Smoking_Status           266786 non-null  object \n",
      " 8   Alcohol_Consumption      266786 non-null  object \n",
      " 9   Physical_Activity_Hours  266786 non-null  float64\n",
      " 10  Diabetes                 266786 non-null  object \n",
      " 11  Family_History           266786 non-null  object \n",
      " 12  Diet_Type                266786 non-null  object \n",
      " 13  Stress_Level             266786 non-null  int64  \n",
      " 14  Heart_Rate               266786 non-null  int64  \n",
      " 15  Exercise_Induced_Pain    266786 non-null  object \n",
      " 16  Heart_Attack             266786 non-null  object \n",
      " 17  Age_Group                266786 non-null  object \n",
      " 18  Region                   266786 non-null  object \n",
      " 19  Air_Pollution_Level      266786 non-null  int64  \n",
      " 20  Income_Level             266786 non-null  object \n",
      " 21  Education_Level          266786 non-null  object \n",
      " 22  Health_Insurance         266786 non-null  object \n",
      " 23  Regular_Checkups         266786 non-null  object \n",
      " 24  Medication_Adherence     266786 non-null  object \n",
      " 25  Blood_Pressure           266786 non-null  int32  \n",
      "dtypes: float64(2), int32(3), int64(6), object(15)\n",
      "memory usage: 49.9+ MB\n"
     ]
    }
   ],
   "source": [
    "france_df.info()"
   ]
  },
  {
   "cell_type": "code",
   "execution_count": 59,
   "id": "738e38e0-0ca8-4fba-91c9-dab5208258e9",
   "metadata": {},
   "outputs": [
    {
     "data": {
      "text/html": [
       "<div>\n",
       "<style scoped>\n",
       "    .dataframe tbody tr th:only-of-type {\n",
       "        vertical-align: middle;\n",
       "    }\n",
       "\n",
       "    .dataframe tbody tr th {\n",
       "        vertical-align: top;\n",
       "    }\n",
       "\n",
       "    .dataframe thead th {\n",
       "        text-align: right;\n",
       "    }\n",
       "</style>\n",
       "<table border=\"1\" class=\"dataframe\">\n",
       "  <thead>\n",
       "    <tr style=\"text-align: right;\">\n",
       "      <th></th>\n",
       "      <th>Patient_ID</th>\n",
       "      <th>Age</th>\n",
       "      <th>Sex</th>\n",
       "      <th>Weight_kg</th>\n",
       "      <th>Height_cm</th>\n",
       "      <th>BMI</th>\n",
       "      <th>Cholesterol_Level</th>\n",
       "      <th>Smoking_Status</th>\n",
       "      <th>Alcohol_Consumption</th>\n",
       "      <th>Physical_Activity_Hours</th>\n",
       "      <th>...</th>\n",
       "      <th>Heart_Attack</th>\n",
       "      <th>Age_Group</th>\n",
       "      <th>Region</th>\n",
       "      <th>Air_Pollution_Level</th>\n",
       "      <th>Income_Level</th>\n",
       "      <th>Education_Level</th>\n",
       "      <th>Health_Insurance</th>\n",
       "      <th>Regular_Checkups</th>\n",
       "      <th>Medication_Adherence</th>\n",
       "      <th>Blood_Pressure</th>\n",
       "    </tr>\n",
       "  </thead>\n",
       "  <tbody>\n",
       "    <tr>\n",
       "      <th>0</th>\n",
       "      <td>1</td>\n",
       "      <td>56</td>\n",
       "      <td>Male</td>\n",
       "      <td>118</td>\n",
       "      <td>184</td>\n",
       "      <td>35.4</td>\n",
       "      <td>204</td>\n",
       "      <td>Ex-Smoker</td>\n",
       "      <td>Heavy</td>\n",
       "      <td>9.5</td>\n",
       "      <td>...</td>\n",
       "      <td>No</td>\n",
       "      <td>Adult</td>\n",
       "      <td>Central</td>\n",
       "      <td>67</td>\n",
       "      <td>Medium</td>\n",
       "      <td>College</td>\n",
       "      <td>Yes</td>\n",
       "      <td>Occasionally</td>\n",
       "      <td>Yes</td>\n",
       "      <td>95</td>\n",
       "    </tr>\n",
       "    <tr>\n",
       "      <th>1</th>\n",
       "      <td>2</td>\n",
       "      <td>46</td>\n",
       "      <td>Male</td>\n",
       "      <td>51</td>\n",
       "      <td>164</td>\n",
       "      <td>32.6</td>\n",
       "      <td>279</td>\n",
       "      <td>Non-Smoker</td>\n",
       "      <td>Heavy</td>\n",
       "      <td>3.3</td>\n",
       "      <td>...</td>\n",
       "      <td>Yes</td>\n",
       "      <td>Adult</td>\n",
       "      <td>North</td>\n",
       "      <td>16</td>\n",
       "      <td>Low</td>\n",
       "      <td>High School</td>\n",
       "      <td>Yes</td>\n",
       "      <td>Occasionally</td>\n",
       "      <td>Yes</td>\n",
       "      <td>89</td>\n",
       "    </tr>\n",
       "    <tr>\n",
       "      <th>2</th>\n",
       "      <td>3</td>\n",
       "      <td>32</td>\n",
       "      <td>Male</td>\n",
       "      <td>118</td>\n",
       "      <td>179</td>\n",
       "      <td>39.8</td>\n",
       "      <td>291</td>\n",
       "      <td>Current Smoker</td>\n",
       "      <td>Heavy</td>\n",
       "      <td>8.9</td>\n",
       "      <td>...</td>\n",
       "      <td>No</td>\n",
       "      <td>Adult</td>\n",
       "      <td>South</td>\n",
       "      <td>32</td>\n",
       "      <td>Medium</td>\n",
       "      <td>College</td>\n",
       "      <td>Yes</td>\n",
       "      <td>Frequently</td>\n",
       "      <td>Yes</td>\n",
       "      <td>108</td>\n",
       "    </tr>\n",
       "    <tr>\n",
       "      <th>3</th>\n",
       "      <td>4</td>\n",
       "      <td>60</td>\n",
       "      <td>Male</td>\n",
       "      <td>97</td>\n",
       "      <td>161</td>\n",
       "      <td>23.7</td>\n",
       "      <td>273</td>\n",
       "      <td>Non-Smoker</td>\n",
       "      <td>Moderate</td>\n",
       "      <td>5.5</td>\n",
       "      <td>...</td>\n",
       "      <td>No</td>\n",
       "      <td>Youth</td>\n",
       "      <td>East</td>\n",
       "      <td>86</td>\n",
       "      <td>Low</td>\n",
       "      <td>College</td>\n",
       "      <td>Yes</td>\n",
       "      <td>Occasionally</td>\n",
       "      <td>Yes</td>\n",
       "      <td>104</td>\n",
       "    </tr>\n",
       "    <tr>\n",
       "      <th>4</th>\n",
       "      <td>5</td>\n",
       "      <td>25</td>\n",
       "      <td>Male</td>\n",
       "      <td>54</td>\n",
       "      <td>169</td>\n",
       "      <td>24.4</td>\n",
       "      <td>290</td>\n",
       "      <td>Ex-Smoker</td>\n",
       "      <td>Moderate</td>\n",
       "      <td>3.1</td>\n",
       "      <td>...</td>\n",
       "      <td>No</td>\n",
       "      <td>Youth</td>\n",
       "      <td>South</td>\n",
       "      <td>15</td>\n",
       "      <td>Low</td>\n",
       "      <td>High School</td>\n",
       "      <td>Yes</td>\n",
       "      <td>Occasionally</td>\n",
       "      <td>No</td>\n",
       "      <td>107</td>\n",
       "    </tr>\n",
       "  </tbody>\n",
       "</table>\n",
       "<p>5 rows × 26 columns</p>\n",
       "</div>"
      ],
      "text/plain": [
       "   Patient_ID  Age   Sex  Weight_kg  Height_cm   BMI  Cholesterol_Level  \\\n",
       "0           1   56  Male        118        184  35.4                204   \n",
       "1           2   46  Male         51        164  32.6                279   \n",
       "2           3   32  Male        118        179  39.8                291   \n",
       "3           4   60  Male         97        161  23.7                273   \n",
       "4           5   25  Male         54        169  24.4                290   \n",
       "\n",
       "   Smoking_Status Alcohol_Consumption  Physical_Activity_Hours  ...  \\\n",
       "0       Ex-Smoker               Heavy                      9.5  ...   \n",
       "1      Non-Smoker               Heavy                      3.3  ...   \n",
       "2  Current Smoker               Heavy                      8.9  ...   \n",
       "3      Non-Smoker            Moderate                      5.5  ...   \n",
       "4       Ex-Smoker            Moderate                      3.1  ...   \n",
       "\n",
       "  Heart_Attack Age_Group   Region  Air_Pollution_Level  Income_Level  \\\n",
       "0           No     Adult  Central                   67        Medium   \n",
       "1          Yes     Adult    North                   16           Low   \n",
       "2           No     Adult    South                   32        Medium   \n",
       "3           No     Youth     East                   86           Low   \n",
       "4           No     Youth    South                   15           Low   \n",
       "\n",
       "  Education_Level Health_Insurance Regular_Checkups Medication_Adherence  \\\n",
       "0         College              Yes     Occasionally                  Yes   \n",
       "1     High School              Yes     Occasionally                  Yes   \n",
       "2         College              Yes       Frequently                  Yes   \n",
       "3         College              Yes     Occasionally                  Yes   \n",
       "4     High School              Yes     Occasionally                   No   \n",
       "\n",
       "   Blood_Pressure  \n",
       "0              95  \n",
       "1              89  \n",
       "2             108  \n",
       "3             104  \n",
       "4             107  \n",
       "\n",
       "[5 rows x 26 columns]"
      ]
     },
     "execution_count": 59,
     "metadata": {},
     "output_type": "execute_result"
    }
   ],
   "source": [
    "france_df.head()"
   ]
  },
  {
   "cell_type": "code",
   "execution_count": 63,
   "id": "a63c4a14-93e6-4448-becd-a8758b943e48",
   "metadata": {},
   "outputs": [],
   "source": [
    "france_df['Physical_Activity_Hours']=france_df['Physical_Activity_Hours'].astype(int)"
   ]
  },
  {
   "cell_type": "code",
   "execution_count": 69,
   "id": "0764da0b-0822-4023-a5eb-29870d9ef1fe",
   "metadata": {},
   "outputs": [
    {
     "data": {
      "text/plain": [
       "266786"
      ]
     },
     "execution_count": 69,
     "metadata": {},
     "output_type": "execute_result"
    }
   ],
   "source": [
    "france_df['Physical_Activity_Hours'].value_counts().sum()"
   ]
  },
  {
   "cell_type": "code",
   "execution_count": 73,
   "id": "98086c59-8e45-4fee-8fd6-a38f06131a57",
   "metadata": {},
   "outputs": [
    {
     "data": {
      "text/plain": [
       "Diabetes\n",
       "No     226827\n",
       "Yes     39959\n",
       "Name: count, dtype: int64"
      ]
     },
     "execution_count": 73,
     "metadata": {},
     "output_type": "execute_result"
    }
   ],
   "source": [
    "france_df['Diabetes'].value_counts()"
   ]
  },
  {
   "cell_type": "code",
   "execution_count": 75,
   "id": "d81a5ef7-e77c-4c09-bcca-ed0627116f1d",
   "metadata": {},
   "outputs": [
    {
     "data": {
      "text/plain": [
       "Family_History\n",
       "No     160078\n",
       "Yes    106708\n",
       "Name: count, dtype: int64"
      ]
     },
     "execution_count": 75,
     "metadata": {},
     "output_type": "execute_result"
    }
   ],
   "source": [
    "france_df['Family_History'].value_counts()"
   ]
  },
  {
   "cell_type": "code",
   "execution_count": 77,
   "id": "41292aff-1f0e-43fc-9db9-081c006c5457",
   "metadata": {},
   "outputs": [
    {
     "data": {
      "text/plain": [
       "Diet_Type\n",
       "Healthy      106507\n",
       "Unhealthy     80174\n",
       "Mixed         80105\n",
       "Name: count, dtype: int64"
      ]
     },
     "execution_count": 77,
     "metadata": {},
     "output_type": "execute_result"
    }
   ],
   "source": [
    "france_df['Diet_Type'].value_counts()"
   ]
  },
  {
   "cell_type": "code",
   "execution_count": 94,
   "id": "5f7035f3-c8a8-4d3b-8cc5-164e11795dba",
   "metadata": {},
   "outputs": [],
   "source": [
    "france_df.rename(columns={'Diet_Type': 'Diet_Quality'}, inplace=True)\n"
   ]
  },
  {
   "cell_type": "code",
   "execution_count": 96,
   "id": "88d93d7b-d183-4859-aa2e-2e8ff4e7207b",
   "metadata": {},
   "outputs": [
    {
     "data": {
      "text/plain": [
       "Diet_Quality\n",
       "Healthy      106507\n",
       "Unhealthy     80174\n",
       "Mixed         80105\n",
       "Name: count, dtype: int64"
      ]
     },
     "execution_count": 96,
     "metadata": {},
     "output_type": "execute_result"
    }
   ],
   "source": [
    "france_df['Diet_Quality'].value_counts()"
   ]
  },
  {
   "cell_type": "code",
   "execution_count": 98,
   "id": "3c2a30ba-8921-40cc-999a-89075f6f6cb4",
   "metadata": {},
   "outputs": [
    {
     "name": "stdout",
     "output_type": "stream",
     "text": [
      "<class 'pandas.core.frame.DataFrame'>\n",
      "RangeIndex: 266786 entries, 0 to 266785\n",
      "Data columns (total 26 columns):\n",
      " #   Column                   Non-Null Count   Dtype  \n",
      "---  ------                   --------------   -----  \n",
      " 0   Patient_ID               266786 non-null  int64  \n",
      " 1   Age                      266786 non-null  int64  \n",
      " 2   Sex                      266786 non-null  object \n",
      " 3   Weight_kg                266786 non-null  int32  \n",
      " 4   Height_cm                266786 non-null  int64  \n",
      " 5   BMI                      266786 non-null  float64\n",
      " 6   Cholesterol_Level        266786 non-null  int32  \n",
      " 7   Smoking_Status           266786 non-null  object \n",
      " 8   Alcohol_Consumption      266786 non-null  object \n",
      " 9   Physical_Activity_Hours  266786 non-null  int32  \n",
      " 10  Diabetes                 266786 non-null  object \n",
      " 11  Family_History           266786 non-null  object \n",
      " 12  Diet_Quality             266786 non-null  object \n",
      " 13  Stress_Level             266786 non-null  int64  \n",
      " 14  Heart_Rate               266786 non-null  int64  \n",
      " 15  Exercise_Induced_Pain    266786 non-null  object \n",
      " 16  Heart_Attack             266786 non-null  object \n",
      " 17  Age_Group                266786 non-null  object \n",
      " 18  Region                   266786 non-null  object \n",
      " 19  Air_Pollution_Level      266786 non-null  int64  \n",
      " 20  Income_Level             266786 non-null  object \n",
      " 21  Education_Level          266786 non-null  object \n",
      " 22  Health_Insurance         266786 non-null  object \n",
      " 23  Regular_Checkups         266786 non-null  object \n",
      " 24  Medication_Adherence     266786 non-null  object \n",
      " 25  Blood_Pressure           266786 non-null  int32  \n",
      "dtypes: float64(1), int32(4), int64(6), object(15)\n",
      "memory usage: 48.9+ MB\n"
     ]
    }
   ],
   "source": [
    "france_df.info()"
   ]
  },
  {
   "cell_type": "code",
   "execution_count": 100,
   "id": "71c63c60-9d66-41ff-9e21-e4d5906175a0",
   "metadata": {},
   "outputs": [
    {
     "data": {
      "text/plain": [
       "Stress_Level\n",
       "8     26980\n",
       "1     26908\n",
       "5     26739\n",
       "4     26718\n",
       "6     26697\n",
       "2     26683\n",
       "7     26642\n",
       "3     26612\n",
       "10    26494\n",
       "9     26313\n",
       "Name: count, dtype: int64"
      ]
     },
     "execution_count": 100,
     "metadata": {},
     "output_type": "execute_result"
    }
   ],
   "source": [
    "france_df['Stress_Level'].value_counts()"
   ]
  },
  {
   "cell_type": "code",
   "execution_count": 102,
   "id": "58e568d5-3a45-4b1a-ba6b-fb0cc1aac76b",
   "metadata": {},
   "outputs": [],
   "source": [
    "# Define the bins and labels\n",
    "bins = [0, 3, 6, float('inf')]  # Ensure all values are covered\n",
    "labels = ['Good', 'Moderate', 'Bad']\n",
    "\n",
    "\n",
    "\n",
    "\n"
   ]
  },
  {
   "cell_type": "code",
   "execution_count": 104,
   "id": "2acfbd17-150a-442a-a91e-1447d8d4da57",
   "metadata": {},
   "outputs": [],
   "source": [
    "# Categorize the stress levels\n",
    "france_df['Stress_Level'] = pd.cut(france_df['Stress_Level'], bins=bins, labels=labels, right=False)"
   ]
  },
  {
   "cell_type": "code",
   "execution_count": 140,
   "id": "394fe78f-484d-4db8-9389-e8441e8e1ea5",
   "metadata": {},
   "outputs": [],
   "source": [
    "france_df['Stress_Level']=france_df['Stress_Level'] .astype(str)"
   ]
  },
  {
   "cell_type": "code",
   "execution_count": 146,
   "id": "4c08a508-644f-4c5f-a85c-0570b4eef225",
   "metadata": {},
   "outputs": [
    {
     "name": "stdout",
     "output_type": "stream",
     "text": [
      "object\n"
     ]
    }
   ],
   "source": [
    "print(france_df['Stress_Level'].dtype)"
   ]
  },
  {
   "cell_type": "code",
   "execution_count": 108,
   "id": "1f7227a3-dc3e-4180-b3f4-4a9036188d82",
   "metadata": {},
   "outputs": [
    {
     "name": "stdout",
     "output_type": "stream",
     "text": [
      "Stress_Level\n",
      "Bad         133126\n",
      "Moderate     80069\n",
      "Good         53591\n",
      "Name: count, dtype: int64\n"
     ]
    }
   ],
   "source": [
    "# Check the result\n",
    "print(france_df['Stress_Level'].value_counts())"
   ]
  },
  {
   "cell_type": "code",
   "execution_count": 110,
   "id": "d34ebc74-206a-47c3-a197-0d34ff73a185",
   "metadata": {},
   "outputs": [],
   "source": [
    "france_df.rename(columns={'Physical_Activity_Hours': 'Physical_Activity'} , inplace = True)"
   ]
  },
  {
   "cell_type": "code",
   "execution_count": 112,
   "id": "fffa0df5-f0bc-45d0-8414-5730ce548152",
   "metadata": {},
   "outputs": [
    {
     "data": {
      "text/plain": [
       "Physical_Activity\n",
       "1     17937\n",
       "6     17927\n",
       "2     17921\n",
       "10    17880\n",
       "5     17848\n",
       "14    17836\n",
       "13    17802\n",
       "11    17791\n",
       "12    17776\n",
       "9     17774\n",
       "3     17759\n",
       "4     17623\n",
       "8     17597\n",
       "7     17509\n",
       "0     16901\n",
       "15      905\n",
       "Name: count, dtype: int64"
      ]
     },
     "execution_count": 112,
     "metadata": {},
     "output_type": "execute_result"
    }
   ],
   "source": [
    "france_df['Physical_Activity'].value_counts()"
   ]
  },
  {
   "cell_type": "code",
   "execution_count": 114,
   "id": "97defb07-ae1f-4a70-8f8d-8e890182d579",
   "metadata": {},
   "outputs": [
    {
     "data": {
      "text/plain": [
       "Heart_Rate\n",
       "81     3921\n",
       "62     3914\n",
       "118    3887\n",
       "58     3886\n",
       "69     3886\n",
       "       ... \n",
       "88     3713\n",
       "51     3709\n",
       "113    3708\n",
       "83     3697\n",
       "71     3680\n",
       "Name: count, Length: 70, dtype: int64"
      ]
     },
     "execution_count": 114,
     "metadata": {},
     "output_type": "execute_result"
    }
   ],
   "source": [
    "france_df['Heart_Rate'].value_counts()"
   ]
  },
  {
   "cell_type": "code",
   "execution_count": 116,
   "id": "f5bbebfa-a83d-41d6-a0d7-536603116408",
   "metadata": {},
   "outputs": [
    {
     "data": {
      "text/plain": [
       "Exercise_Induced_Pain\n",
       "No     240243\n",
       "Yes     26543\n",
       "Name: count, dtype: int64"
      ]
     },
     "execution_count": 116,
     "metadata": {},
     "output_type": "execute_result"
    }
   ],
   "source": [
    "france_df['Exercise_Induced_Pain'].value_counts()"
   ]
  },
  {
   "cell_type": "code",
   "execution_count": 118,
   "id": "c98fdaba-0907-4382-8cbf-ee9d708bc79b",
   "metadata": {},
   "outputs": [
    {
     "data": {
      "text/plain": [
       "Heart_Attack\n",
       "No     213313\n",
       "Yes     53473\n",
       "Name: count, dtype: int64"
      ]
     },
     "execution_count": 118,
     "metadata": {},
     "output_type": "execute_result"
    }
   ],
   "source": [
    "france_df['Heart_Attack'].value_counts()"
   ]
  },
  {
   "cell_type": "code",
   "execution_count": 120,
   "id": "eb182ee0-8a03-44e4-b687-6d0b88e3d1f2",
   "metadata": {},
   "outputs": [
    {
     "data": {
      "text/plain": [
       "Region\n",
       "North      53529\n",
       "Central    53472\n",
       "South      53381\n",
       "West       53345\n",
       "East       53059\n",
       "Name: count, dtype: int64"
      ]
     },
     "execution_count": 120,
     "metadata": {},
     "output_type": "execute_result"
    }
   ],
   "source": [
    "france_df['Region'].value_counts()"
   ]
  },
  {
   "cell_type": "code",
   "execution_count": 124,
   "id": "f48450bd-a237-4417-b90a-542a31aca9fc",
   "metadata": {},
   "outputs": [],
   "source": [
    "france_df.rename(columns = {'Region':'Region_Category'},inplace =True)"
   ]
  },
  {
   "cell_type": "code",
   "execution_count": 128,
   "id": "479b8374-c163-421d-843e-6057ec434ed3",
   "metadata": {},
   "outputs": [
    {
     "data": {
      "text/plain": [
       "Region_Category\n",
       "North      53529\n",
       "Central    53472\n",
       "South      53381\n",
       "West       53345\n",
       "East       53059\n",
       "Name: count, dtype: int64"
      ]
     },
     "execution_count": 128,
     "metadata": {},
     "output_type": "execute_result"
    }
   ],
   "source": [
    "france_df['Region_Category'].value_counts()"
   ]
  },
  {
   "cell_type": "code",
   "execution_count": 130,
   "id": "6343e612-a902-401f-80f9-1f49ac069dfe",
   "metadata": {},
   "outputs": [],
   "source": [
    "region_mapping = {\n",
    "    'North': 'France (North)',\n",
    "    'South': 'France (South)',\n",
    "    'West': 'France (West)',\n",
    "    'East': 'France (East)',\n",
    "    'Central': 'France (Central)'\n",
    "}"
   ]
  },
  {
   "cell_type": "code",
   "execution_count": 132,
   "id": "241ffce8-1dfa-47f1-aa70-d29c2edc52e0",
   "metadata": {},
   "outputs": [],
   "source": [
    "france_df['Region_Category'] = france_df['Region_Category'].replace(region_mapping)"
   ]
  },
  {
   "cell_type": "code",
   "execution_count": 134,
   "id": "0d179b91-0411-4ad4-8400-875f9ad5a577",
   "metadata": {},
   "outputs": [
    {
     "data": {
      "text/plain": [
       "Region_Category\n",
       "France (North)      53529\n",
       "France (Central)    53472\n",
       "France (South)      53381\n",
       "France (West)       53345\n",
       "France (East)       53059\n",
       "Name: count, dtype: int64"
      ]
     },
     "execution_count": 134,
     "metadata": {},
     "output_type": "execute_result"
    }
   ],
   "source": [
    "france_df['Region_Category'].value_counts()"
   ]
  },
  {
   "cell_type": "code",
   "execution_count": 148,
   "id": "c1204303-6b3d-40b1-92f8-70a94b0d214d",
   "metadata": {},
   "outputs": [
    {
     "name": "stdout",
     "output_type": "stream",
     "text": [
      "<class 'pandas.core.frame.DataFrame'>\n",
      "RangeIndex: 266786 entries, 0 to 266785\n",
      "Data columns (total 26 columns):\n",
      " #   Column                 Non-Null Count   Dtype  \n",
      "---  ------                 --------------   -----  \n",
      " 0   Patient_ID             266786 non-null  int64  \n",
      " 1   Age                    266786 non-null  int64  \n",
      " 2   Sex                    266786 non-null  object \n",
      " 3   Weight_kg              266786 non-null  int32  \n",
      " 4   Height_cm              266786 non-null  int64  \n",
      " 5   BMI                    266786 non-null  float64\n",
      " 6   Cholesterol_Level      266786 non-null  int32  \n",
      " 7   Smoking_Status         266786 non-null  object \n",
      " 8   Alcohol_Consumption    266786 non-null  object \n",
      " 9   Physical_Activity      266786 non-null  int32  \n",
      " 10  Diabetes               266786 non-null  object \n",
      " 11  Family_History         266786 non-null  object \n",
      " 12  Diet_Quality           266786 non-null  object \n",
      " 13  Stress_Level           266786 non-null  object \n",
      " 14  Heart_Rate             266786 non-null  int64  \n",
      " 15  Exercise_Induced_Pain  266786 non-null  object \n",
      " 16  Heart_Attack           266786 non-null  object \n",
      " 17  Age_Group              266786 non-null  object \n",
      " 18  Region_Category        266786 non-null  object \n",
      " 19  Air_Pollution_Level    266786 non-null  int64  \n",
      " 20  Income_Level           266786 non-null  object \n",
      " 21  Education_Level        266786 non-null  object \n",
      " 22  Health_Insurance       266786 non-null  object \n",
      " 23  Regular_Checkups       266786 non-null  object \n",
      " 24  Medication_Adherence   266786 non-null  object \n",
      " 25  Blood_Pressure         266786 non-null  int32  \n",
      "dtypes: float64(1), int32(4), int64(5), object(16)\n",
      "memory usage: 48.9+ MB\n"
     ]
    }
   ],
   "source": [
    "france_df.info()"
   ]
  },
  {
   "cell_type": "code",
   "execution_count": 150,
   "id": "1ce73658-b061-4ebf-820c-62ef8cb5ad20",
   "metadata": {},
   "outputs": [
    {
     "data": {
      "text/plain": [
       "Age_Group\n",
       "Adult    154970\n",
       "Youth    111816\n",
       "Name: count, dtype: int64"
      ]
     },
     "execution_count": 150,
     "metadata": {},
     "output_type": "execute_result"
    }
   ],
   "source": [
    "france_df['Age_Group'].value_counts()"
   ]
  },
  {
   "cell_type": "code",
   "execution_count": 183,
   "id": "81b8ea48-4bc4-4f95-96e6-60958f32050b",
   "metadata": {},
   "outputs": [
    {
     "data": {
      "text/plain": [
       "Air_Pollution_Level\n",
       "Moderate    133454\n",
       "Good        133332\n",
       "Bad              0\n",
       "Name: count, dtype: int64"
      ]
     },
     "execution_count": 183,
     "metadata": {},
     "output_type": "execute_result"
    }
   ],
   "source": [
    "france_df['Air_Pollution_Level'].value_counts()"
   ]
  },
  {
   "cell_type": "code",
   "execution_count": 185,
   "id": "96ea854d-57dd-44c9-9670-57e891e5d6ca",
   "metadata": {},
   "outputs": [
    {
     "name": "stdout",
     "output_type": "stream",
     "text": [
      "category\n"
     ]
    }
   ],
   "source": [
    "print(france_df['Air_Pollution_Level'].dtype)"
   ]
  },
  {
   "cell_type": "code",
   "execution_count": 187,
   "id": "4fffc678-9fd0-4191-b03e-fd3fb788dc61",
   "metadata": {},
   "outputs": [],
   "source": [
    "france_df['Air_Pollution_Level'] = france_df['Air_Pollution_Level'].cat.remove_categories('Bad')"
   ]
  },
  {
   "cell_type": "code",
   "execution_count": 193,
   "id": "8cb81cc8-c3a9-460b-b4a5-4ff9bc91f3f6",
   "metadata": {},
   "outputs": [
    {
     "data": {
      "text/plain": [
       "Air_Pollution_Level\n",
       "Moderate    133454\n",
       "Good        133332\n",
       "Name: count, dtype: int64"
      ]
     },
     "execution_count": 193,
     "metadata": {},
     "output_type": "execute_result"
    }
   ],
   "source": [
    "france_df['Air_Pollution_Level'].value_counts()"
   ]
  },
  {
   "cell_type": "code",
   "execution_count": 197,
   "id": "f065367f-800c-4789-a602-e6a5b6a421d5",
   "metadata": {},
   "outputs": [],
   "source": [
    "france_df['Air_Pollution_Level']=france_df['Air_Pollution_Level'].astype(str)"
   ]
  },
  {
   "cell_type": "code",
   "execution_count": 201,
   "id": "f0cc800c-06d4-4bc5-84f8-0deb093bfbde",
   "metadata": {},
   "outputs": [
    {
     "name": "stdout",
     "output_type": "stream",
     "text": [
      "object\n"
     ]
    }
   ],
   "source": [
    "print(france_df['Air_Pollution_Level'].dtype)"
   ]
  },
  {
   "cell_type": "code",
   "execution_count": 207,
   "id": "07f141ed-0e38-4bc1-94a8-38fcc9a7fe70",
   "metadata": {},
   "outputs": [
    {
     "data": {
      "text/plain": [
       "Income_Level\n",
       "Medium    106790\n",
       "Low       106396\n",
       "High       53600\n",
       "Name: count, dtype: int64"
      ]
     },
     "execution_count": 207,
     "metadata": {},
     "output_type": "execute_result"
    }
   ],
   "source": [
    "france_df['Income_Level'].value_counts()"
   ]
  },
  {
   "cell_type": "code",
   "execution_count": 209,
   "id": "d3cef7c4-d650-487d-89a7-43dba5ef510f",
   "metadata": {},
   "outputs": [
    {
     "data": {
      "text/plain": [
       "Education_Level\n",
       "College        107204\n",
       "High School    106778\n",
       "Graduate        52804\n",
       "Name: count, dtype: int64"
      ]
     },
     "execution_count": 209,
     "metadata": {},
     "output_type": "execute_result"
    }
   ],
   "source": [
    "france_df['Education_Level'].value_counts()"
   ]
  },
  {
   "cell_type": "code",
   "execution_count": 211,
   "id": "170d65ab-51c1-498e-b67a-58a4ac9c0f57",
   "metadata": {},
   "outputs": [
    {
     "data": {
      "text/plain": [
       "Health_Insurance\n",
       "Yes    213258\n",
       "No      53528\n",
       "Name: count, dtype: int64"
      ]
     },
     "execution_count": 211,
     "metadata": {},
     "output_type": "execute_result"
    }
   ],
   "source": [
    "france_df['Health_Insurance'].value_counts()"
   ]
  },
  {
   "cell_type": "code",
   "execution_count": 213,
   "id": "e3ea033b-a684-43cd-bd23-2607d6e2040b",
   "metadata": {},
   "outputs": [
    {
     "data": {
      "text/plain": [
       "Regular_Checkups\n",
       "Occasionally    133267\n",
       "Rarely           80330\n",
       "Frequently       53189\n",
       "Name: count, dtype: int64"
      ]
     },
     "execution_count": 213,
     "metadata": {},
     "output_type": "execute_result"
    }
   ],
   "source": [
    "france_df['Regular_Checkups'].value_counts()"
   ]
  },
  {
   "cell_type": "code",
   "execution_count": 215,
   "id": "26342f69-ce63-4531-9359-9c0916b9b948",
   "metadata": {},
   "outputs": [
    {
     "data": {
      "text/plain": [
       "Medication_Adherence\n",
       "Yes    240182\n",
       "No      26604\n",
       "Name: count, dtype: int64"
      ]
     },
     "execution_count": 215,
     "metadata": {},
     "output_type": "execute_result"
    }
   ],
   "source": [
    "france_df['Medication_Adherence'].value_counts()"
   ]
  },
  {
   "cell_type": "code",
   "execution_count": 217,
   "id": "047c1062-0a1e-4355-8d17-cfa5a4d1df84",
   "metadata": {},
   "outputs": [
    {
     "name": "stdout",
     "output_type": "stream",
     "text": [
      "<class 'pandas.core.frame.DataFrame'>\n",
      "RangeIndex: 266786 entries, 0 to 266785\n",
      "Data columns (total 26 columns):\n",
      " #   Column                 Non-Null Count   Dtype  \n",
      "---  ------                 --------------   -----  \n",
      " 0   Patient_ID             266786 non-null  int64  \n",
      " 1   Age                    266786 non-null  int64  \n",
      " 2   Sex                    266786 non-null  object \n",
      " 3   Weight_kg              266786 non-null  int32  \n",
      " 4   Height_cm              266786 non-null  int64  \n",
      " 5   BMI                    266786 non-null  float64\n",
      " 6   Cholesterol_Level      266786 non-null  int32  \n",
      " 7   Smoking_Status         266786 non-null  object \n",
      " 8   Alcohol_Consumption    266786 non-null  object \n",
      " 9   Physical_Activity      266786 non-null  int32  \n",
      " 10  Diabetes               266786 non-null  object \n",
      " 11  Family_History         266786 non-null  object \n",
      " 12  Diet_Quality           266786 non-null  object \n",
      " 13  Stress_Level           266786 non-null  object \n",
      " 14  Heart_Rate             266786 non-null  int64  \n",
      " 15  Exercise_Induced_Pain  266786 non-null  object \n",
      " 16  Heart_Attack           266786 non-null  object \n",
      " 17  Age_Group              266786 non-null  object \n",
      " 18  Region_Category        266786 non-null  object \n",
      " 19  Air_Pollution_Level    266786 non-null  object \n",
      " 20  Income_Level           266786 non-null  object \n",
      " 21  Education_Level        266786 non-null  object \n",
      " 22  Health_Insurance       266786 non-null  object \n",
      " 23  Regular_Checkups       266786 non-null  object \n",
      " 24  Medication_Adherence   266786 non-null  object \n",
      " 25  Blood_Pressure         266786 non-null  int32  \n",
      "dtypes: float64(1), int32(4), int64(4), object(17)\n",
      "memory usage: 48.9+ MB\n"
     ]
    }
   ],
   "source": [
    "france_df.info()"
   ]
  },
  {
   "cell_type": "code",
   "execution_count": 219,
   "id": "c54d3e61-5e9c-41cd-94b7-a4072c13070f",
   "metadata": {},
   "outputs": [],
   "source": [
    "france_df.to_csv('cleaned_france_dataset.csv', index=False)"
   ]
  },
  {
   "cell_type": "code",
   "execution_count": 221,
   "id": "48ccd541-3613-4274-9e64-503bc9d17f74",
   "metadata": {},
   "outputs": [],
   "source": [
    "loaded_df = pd.read_csv('cleaned_france_dataset.csv')"
   ]
  },
  {
   "cell_type": "code",
   "execution_count": 223,
   "id": "14803f74-c758-4fa3-a902-ae68928bea3c",
   "metadata": {},
   "outputs": [
    {
     "data": {
      "text/html": [
       "<div>\n",
       "<style scoped>\n",
       "    .dataframe tbody tr th:only-of-type {\n",
       "        vertical-align: middle;\n",
       "    }\n",
       "\n",
       "    .dataframe tbody tr th {\n",
       "        vertical-align: top;\n",
       "    }\n",
       "\n",
       "    .dataframe thead th {\n",
       "        text-align: right;\n",
       "    }\n",
       "</style>\n",
       "<table border=\"1\" class=\"dataframe\">\n",
       "  <thead>\n",
       "    <tr style=\"text-align: right;\">\n",
       "      <th></th>\n",
       "      <th>Patient_ID</th>\n",
       "      <th>Age</th>\n",
       "      <th>Sex</th>\n",
       "      <th>Weight_kg</th>\n",
       "      <th>Height_cm</th>\n",
       "      <th>BMI</th>\n",
       "      <th>Cholesterol_Level</th>\n",
       "      <th>Smoking_Status</th>\n",
       "      <th>Alcohol_Consumption</th>\n",
       "      <th>Physical_Activity</th>\n",
       "      <th>...</th>\n",
       "      <th>Heart_Attack</th>\n",
       "      <th>Age_Group</th>\n",
       "      <th>Region_Category</th>\n",
       "      <th>Air_Pollution_Level</th>\n",
       "      <th>Income_Level</th>\n",
       "      <th>Education_Level</th>\n",
       "      <th>Health_Insurance</th>\n",
       "      <th>Regular_Checkups</th>\n",
       "      <th>Medication_Adherence</th>\n",
       "      <th>Blood_Pressure</th>\n",
       "    </tr>\n",
       "  </thead>\n",
       "  <tbody>\n",
       "    <tr>\n",
       "      <th>0</th>\n",
       "      <td>1</td>\n",
       "      <td>56</td>\n",
       "      <td>Male</td>\n",
       "      <td>118</td>\n",
       "      <td>184</td>\n",
       "      <td>35.4</td>\n",
       "      <td>204</td>\n",
       "      <td>Ex-Smoker</td>\n",
       "      <td>Heavy</td>\n",
       "      <td>9</td>\n",
       "      <td>...</td>\n",
       "      <td>No</td>\n",
       "      <td>Adult</td>\n",
       "      <td>France (Central)</td>\n",
       "      <td>Moderate</td>\n",
       "      <td>Medium</td>\n",
       "      <td>College</td>\n",
       "      <td>Yes</td>\n",
       "      <td>Occasionally</td>\n",
       "      <td>Yes</td>\n",
       "      <td>95</td>\n",
       "    </tr>\n",
       "    <tr>\n",
       "      <th>1</th>\n",
       "      <td>2</td>\n",
       "      <td>46</td>\n",
       "      <td>Male</td>\n",
       "      <td>51</td>\n",
       "      <td>164</td>\n",
       "      <td>32.6</td>\n",
       "      <td>279</td>\n",
       "      <td>Non-Smoker</td>\n",
       "      <td>Heavy</td>\n",
       "      <td>3</td>\n",
       "      <td>...</td>\n",
       "      <td>Yes</td>\n",
       "      <td>Adult</td>\n",
       "      <td>France (North)</td>\n",
       "      <td>Good</td>\n",
       "      <td>Low</td>\n",
       "      <td>High School</td>\n",
       "      <td>Yes</td>\n",
       "      <td>Occasionally</td>\n",
       "      <td>Yes</td>\n",
       "      <td>89</td>\n",
       "    </tr>\n",
       "    <tr>\n",
       "      <th>2</th>\n",
       "      <td>3</td>\n",
       "      <td>32</td>\n",
       "      <td>Male</td>\n",
       "      <td>118</td>\n",
       "      <td>179</td>\n",
       "      <td>39.8</td>\n",
       "      <td>291</td>\n",
       "      <td>Current Smoker</td>\n",
       "      <td>Heavy</td>\n",
       "      <td>8</td>\n",
       "      <td>...</td>\n",
       "      <td>No</td>\n",
       "      <td>Adult</td>\n",
       "      <td>France (South)</td>\n",
       "      <td>Good</td>\n",
       "      <td>Medium</td>\n",
       "      <td>College</td>\n",
       "      <td>Yes</td>\n",
       "      <td>Frequently</td>\n",
       "      <td>Yes</td>\n",
       "      <td>108</td>\n",
       "    </tr>\n",
       "    <tr>\n",
       "      <th>3</th>\n",
       "      <td>4</td>\n",
       "      <td>60</td>\n",
       "      <td>Male</td>\n",
       "      <td>97</td>\n",
       "      <td>161</td>\n",
       "      <td>23.7</td>\n",
       "      <td>273</td>\n",
       "      <td>Non-Smoker</td>\n",
       "      <td>Moderate</td>\n",
       "      <td>5</td>\n",
       "      <td>...</td>\n",
       "      <td>No</td>\n",
       "      <td>Youth</td>\n",
       "      <td>France (East)</td>\n",
       "      <td>Moderate</td>\n",
       "      <td>Low</td>\n",
       "      <td>College</td>\n",
       "      <td>Yes</td>\n",
       "      <td>Occasionally</td>\n",
       "      <td>Yes</td>\n",
       "      <td>104</td>\n",
       "    </tr>\n",
       "    <tr>\n",
       "      <th>4</th>\n",
       "      <td>5</td>\n",
       "      <td>25</td>\n",
       "      <td>Male</td>\n",
       "      <td>54</td>\n",
       "      <td>169</td>\n",
       "      <td>24.4</td>\n",
       "      <td>290</td>\n",
       "      <td>Ex-Smoker</td>\n",
       "      <td>Moderate</td>\n",
       "      <td>3</td>\n",
       "      <td>...</td>\n",
       "      <td>No</td>\n",
       "      <td>Youth</td>\n",
       "      <td>France (South)</td>\n",
       "      <td>Good</td>\n",
       "      <td>Low</td>\n",
       "      <td>High School</td>\n",
       "      <td>Yes</td>\n",
       "      <td>Occasionally</td>\n",
       "      <td>No</td>\n",
       "      <td>107</td>\n",
       "    </tr>\n",
       "    <tr>\n",
       "      <th>...</th>\n",
       "      <td>...</td>\n",
       "      <td>...</td>\n",
       "      <td>...</td>\n",
       "      <td>...</td>\n",
       "      <td>...</td>\n",
       "      <td>...</td>\n",
       "      <td>...</td>\n",
       "      <td>...</td>\n",
       "      <td>...</td>\n",
       "      <td>...</td>\n",
       "      <td>...</td>\n",
       "      <td>...</td>\n",
       "      <td>...</td>\n",
       "      <td>...</td>\n",
       "      <td>...</td>\n",
       "      <td>...</td>\n",
       "      <td>...</td>\n",
       "      <td>...</td>\n",
       "      <td>...</td>\n",
       "      <td>...</td>\n",
       "      <td>...</td>\n",
       "    </tr>\n",
       "    <tr>\n",
       "      <th>266781</th>\n",
       "      <td>266782</td>\n",
       "      <td>33</td>\n",
       "      <td>Male</td>\n",
       "      <td>108</td>\n",
       "      <td>160</td>\n",
       "      <td>35.9</td>\n",
       "      <td>152</td>\n",
       "      <td>Ex-Smoker</td>\n",
       "      <td>Moderate</td>\n",
       "      <td>7</td>\n",
       "      <td>...</td>\n",
       "      <td>Yes</td>\n",
       "      <td>Youth</td>\n",
       "      <td>France (North)</td>\n",
       "      <td>Good</td>\n",
       "      <td>High</td>\n",
       "      <td>High School</td>\n",
       "      <td>Yes</td>\n",
       "      <td>Occasionally</td>\n",
       "      <td>Yes</td>\n",
       "      <td>111</td>\n",
       "    </tr>\n",
       "    <tr>\n",
       "      <th>266782</th>\n",
       "      <td>266783</td>\n",
       "      <td>33</td>\n",
       "      <td>Female</td>\n",
       "      <td>75</td>\n",
       "      <td>186</td>\n",
       "      <td>19.8</td>\n",
       "      <td>201</td>\n",
       "      <td>Non-Smoker</td>\n",
       "      <td>Moderate</td>\n",
       "      <td>3</td>\n",
       "      <td>...</td>\n",
       "      <td>Yes</td>\n",
       "      <td>Youth</td>\n",
       "      <td>France (South)</td>\n",
       "      <td>Good</td>\n",
       "      <td>Low</td>\n",
       "      <td>College</td>\n",
       "      <td>Yes</td>\n",
       "      <td>Occasionally</td>\n",
       "      <td>No</td>\n",
       "      <td>141</td>\n",
       "    </tr>\n",
       "    <tr>\n",
       "      <th>266783</th>\n",
       "      <td>266784</td>\n",
       "      <td>27</td>\n",
       "      <td>Female</td>\n",
       "      <td>56</td>\n",
       "      <td>198</td>\n",
       "      <td>34.7</td>\n",
       "      <td>160</td>\n",
       "      <td>Non-Smoker</td>\n",
       "      <td>Moderate</td>\n",
       "      <td>10</td>\n",
       "      <td>...</td>\n",
       "      <td>No</td>\n",
       "      <td>Adult</td>\n",
       "      <td>France (West)</td>\n",
       "      <td>Moderate</td>\n",
       "      <td>Medium</td>\n",
       "      <td>Graduate</td>\n",
       "      <td>Yes</td>\n",
       "      <td>Occasionally</td>\n",
       "      <td>Yes</td>\n",
       "      <td>116</td>\n",
       "    </tr>\n",
       "    <tr>\n",
       "      <th>266784</th>\n",
       "      <td>266785</td>\n",
       "      <td>26</td>\n",
       "      <td>Male</td>\n",
       "      <td>70</td>\n",
       "      <td>180</td>\n",
       "      <td>35.8</td>\n",
       "      <td>270</td>\n",
       "      <td>Current Smoker</td>\n",
       "      <td>Heavy</td>\n",
       "      <td>5</td>\n",
       "      <td>...</td>\n",
       "      <td>No</td>\n",
       "      <td>Adult</td>\n",
       "      <td>France (Central)</td>\n",
       "      <td>Good</td>\n",
       "      <td>Low</td>\n",
       "      <td>College</td>\n",
       "      <td>Yes</td>\n",
       "      <td>Rarely</td>\n",
       "      <td>Yes</td>\n",
       "      <td>125</td>\n",
       "    </tr>\n",
       "    <tr>\n",
       "      <th>266785</th>\n",
       "      <td>266786</td>\n",
       "      <td>43</td>\n",
       "      <td>Female</td>\n",
       "      <td>62</td>\n",
       "      <td>173</td>\n",
       "      <td>37.8</td>\n",
       "      <td>223</td>\n",
       "      <td>Non-Smoker</td>\n",
       "      <td>Moderate</td>\n",
       "      <td>9</td>\n",
       "      <td>...</td>\n",
       "      <td>No</td>\n",
       "      <td>Adult</td>\n",
       "      <td>France (North)</td>\n",
       "      <td>Moderate</td>\n",
       "      <td>High</td>\n",
       "      <td>College</td>\n",
       "      <td>Yes</td>\n",
       "      <td>Rarely</td>\n",
       "      <td>Yes</td>\n",
       "      <td>99</td>\n",
       "    </tr>\n",
       "  </tbody>\n",
       "</table>\n",
       "<p>266786 rows × 26 columns</p>\n",
       "</div>"
      ],
      "text/plain": [
       "        Patient_ID  Age     Sex  Weight_kg  Height_cm   BMI  \\\n",
       "0                1   56    Male        118        184  35.4   \n",
       "1                2   46    Male         51        164  32.6   \n",
       "2                3   32    Male        118        179  39.8   \n",
       "3                4   60    Male         97        161  23.7   \n",
       "4                5   25    Male         54        169  24.4   \n",
       "...            ...  ...     ...        ...        ...   ...   \n",
       "266781      266782   33    Male        108        160  35.9   \n",
       "266782      266783   33  Female         75        186  19.8   \n",
       "266783      266784   27  Female         56        198  34.7   \n",
       "266784      266785   26    Male         70        180  35.8   \n",
       "266785      266786   43  Female         62        173  37.8   \n",
       "\n",
       "        Cholesterol_Level  Smoking_Status Alcohol_Consumption  \\\n",
       "0                     204       Ex-Smoker               Heavy   \n",
       "1                     279      Non-Smoker               Heavy   \n",
       "2                     291  Current Smoker               Heavy   \n",
       "3                     273      Non-Smoker            Moderate   \n",
       "4                     290       Ex-Smoker            Moderate   \n",
       "...                   ...             ...                 ...   \n",
       "266781                152       Ex-Smoker            Moderate   \n",
       "266782                201      Non-Smoker            Moderate   \n",
       "266783                160      Non-Smoker            Moderate   \n",
       "266784                270  Current Smoker               Heavy   \n",
       "266785                223      Non-Smoker            Moderate   \n",
       "\n",
       "        Physical_Activity  ... Heart_Attack Age_Group   Region_Category  \\\n",
       "0                       9  ...           No     Adult  France (Central)   \n",
       "1                       3  ...          Yes     Adult    France (North)   \n",
       "2                       8  ...           No     Adult    France (South)   \n",
       "3                       5  ...           No     Youth     France (East)   \n",
       "4                       3  ...           No     Youth    France (South)   \n",
       "...                   ...  ...          ...       ...               ...   \n",
       "266781                  7  ...          Yes     Youth    France (North)   \n",
       "266782                  3  ...          Yes     Youth    France (South)   \n",
       "266783                 10  ...           No     Adult     France (West)   \n",
       "266784                  5  ...           No     Adult  France (Central)   \n",
       "266785                  9  ...           No     Adult    France (North)   \n",
       "\n",
       "       Air_Pollution_Level  Income_Level Education_Level Health_Insurance  \\\n",
       "0                 Moderate        Medium         College              Yes   \n",
       "1                     Good           Low     High School              Yes   \n",
       "2                     Good        Medium         College              Yes   \n",
       "3                 Moderate           Low         College              Yes   \n",
       "4                     Good           Low     High School              Yes   \n",
       "...                    ...           ...             ...              ...   \n",
       "266781                Good          High     High School              Yes   \n",
       "266782                Good           Low         College              Yes   \n",
       "266783            Moderate        Medium        Graduate              Yes   \n",
       "266784                Good           Low         College              Yes   \n",
       "266785            Moderate          High         College              Yes   \n",
       "\n",
       "       Regular_Checkups Medication_Adherence Blood_Pressure  \n",
       "0          Occasionally                  Yes             95  \n",
       "1          Occasionally                  Yes             89  \n",
       "2            Frequently                  Yes            108  \n",
       "3          Occasionally                  Yes            104  \n",
       "4          Occasionally                   No            107  \n",
       "...                 ...                  ...            ...  \n",
       "266781     Occasionally                  Yes            111  \n",
       "266782     Occasionally                   No            141  \n",
       "266783     Occasionally                  Yes            116  \n",
       "266784           Rarely                  Yes            125  \n",
       "266785           Rarely                  Yes             99  \n",
       "\n",
       "[266786 rows x 26 columns]"
      ]
     },
     "execution_count": 223,
     "metadata": {},
     "output_type": "execute_result"
    }
   ],
   "source": [
    "loaded_df"
   ]
  },
  {
   "cell_type": "code",
   "execution_count": null,
   "id": "8a820cf4-6faa-413d-b889-ee30e149d36a",
   "metadata": {},
   "outputs": [],
   "source": []
  }
 ],
 "metadata": {
  "kernelspec": {
   "display_name": "Python 3 (ipykernel)",
   "language": "python",
   "name": "python3"
  },
  "language_info": {
   "codemirror_mode": {
    "name": "ipython",
    "version": 3
   },
   "file_extension": ".py",
   "mimetype": "text/x-python",
   "name": "python",
   "nbconvert_exporter": "python",
   "pygments_lexer": "ipython3",
   "version": "3.12.4"
  }
 },
 "nbformat": 4,
 "nbformat_minor": 5
}
